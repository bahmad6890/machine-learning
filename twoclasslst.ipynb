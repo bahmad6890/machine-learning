{
 "cells": [
  {
   "cell_type": "code",
   "execution_count": 1,
   "metadata": {},
   "outputs": [],
   "source": [
    "#importing packages\n",
    "import pandas as pd\n",
    "import numpy as np"
   ]
  },
  {
   "cell_type": "code",
   "execution_count": 2,
   "metadata": {},
   "outputs": [],
   "source": [
    "X = pd.read_csv('HealtyNormalized.csv')\n",
    "# Importing the dataset\n",
    "X['Fault'] = 0\n",
    "\n",
    "y = pd.read_csv('combinedFault.csv')\n",
    "y['Fault'] = 1\n"
   ]
  },
  {
   "cell_type": "code",
   "execution_count": 3,
   "metadata": {},
   "outputs": [
    {
     "data": {
      "text/plain": [
       "(        vsH       vbH  Fault\n",
       " 0  0.000998 -0.000217      0\n",
       " 1  0.001001 -0.000185      0\n",
       " 2  0.001002 -0.000152      0\n",
       " 3  0.001007 -0.000185      0\n",
       " 4  0.001010 -0.000217      0,\n",
       "         vsC       vbC  Fault\n",
       " 0  0.039634  0.018847      1\n",
       " 1  0.039634  0.018847      1\n",
       " 2  0.039634  0.018518      1\n",
       " 3  3.632150  0.015887      1\n",
       " 4  4.148328  0.018518      1)"
      ]
     },
     "execution_count": 3,
     "metadata": {},
     "output_type": "execute_result"
    }
   ],
   "source": [
    "X.head(), y.head()"
   ]
  },
  {
   "cell_type": "code",
   "execution_count": 4,
   "metadata": {},
   "outputs": [],
   "source": [
    "X = X.rename(columns={\"vsH\": \"speed\", \"vbH\": \"vibration\"})\n",
    "y = y.rename(columns={\"vsC\": \"speed\", \"vbC\": \"vibration\"})"
   ]
  },
  {
   "cell_type": "code",
   "execution_count": 5,
   "metadata": {},
   "outputs": [
    {
     "data": {
      "text/plain": [
       "(      speed  vibration  Fault\n",
       " 0  0.000998  -0.000217      0\n",
       " 1  0.001001  -0.000185      0\n",
       " 2  0.001002  -0.000152      0\n",
       " 3  0.001007  -0.000185      0\n",
       " 4  0.001010  -0.000217      0,\n",
       "       speed  vibration  Fault\n",
       " 0  0.039634   0.018847      1\n",
       " 1  0.039634   0.018847      1\n",
       " 2  0.039634   0.018518      1\n",
       " 3  3.632150   0.015887      1\n",
       " 4  4.148328   0.018518      1)"
      ]
     },
     "execution_count": 5,
     "metadata": {},
     "output_type": "execute_result"
    }
   ],
   "source": [
    "X.head(), y.head()"
   ]
  },
  {
   "cell_type": "code",
   "execution_count": 6,
   "metadata": {},
   "outputs": [],
   "source": [
    "import seaborn as sb \n",
    "from pylab import rcParams"
   ]
  },
  {
   "cell_type": "code",
   "execution_count": 7,
   "metadata": {},
   "outputs": [
    {
     "data": {
      "text/plain": [
       "\"\\n\\n%matplotlib inline\\nrcParams['figure.figsize'] = 5,4\\nsb.set_style('whitegrid')\\nplt.rcParams['agg.path.chunksize'] = 20000000\\n\""
      ]
     },
     "execution_count": 7,
     "metadata": {},
     "output_type": "execute_result"
    }
   ],
   "source": [
    "\"\"\"\n",
    "\n",
    "%matplotlib inline\n",
    "rcParams['figure.figsize'] = 5,4\n",
    "sb.set_style('whitegrid')\n",
    "plt.rcParams['agg.path.chunksize'] = 20000000\n",
    "\"\"\""
   ]
  },
  {
   "cell_type": "code",
   "execution_count": 8,
   "metadata": {},
   "outputs": [
    {
     "name": "stderr",
     "output_type": "stream",
     "text": [
      "C:\\Users\\bahma\\.conda\\envs\\svm\\lib\\site-packages\\seaborn\\_decorators.py:36: FutureWarning: Pass the following variable as a keyword arg: x. From version 0.12, the only valid positional argument will be `data`, and passing other arguments without an explicit keyword will result in an error or misinterpretation.\n",
      "  warnings.warn(\n"
     ]
    },
    {
     "data": {
      "text/plain": [
       "<AxesSubplot:xlabel='vibration'>"
      ]
     },
     "execution_count": 8,
     "metadata": {},
     "output_type": "execute_result"
    },
    {
     "data": {
      "image/png": "[encoded data removed]",
      "text/plain": [
       "<Figure size 432x288 with 1 Axes>"
      ]
     },
     "metadata": {
      "needs_background": "light"
     },
     "output_type": "display_data"
    }
   ],
   "source": [
    "sb.boxplot(X['vibration'])"
   ]
  },
  {
   "cell_type": "code",
   "execution_count": 9,
   "metadata": {},
   "outputs": [],
   "source": [
    "def find_normal_boundaries(df, variable):    \n",
    "    # calculate the boundaries outside which lie the outliers for a Gaussian distribution    \n",
    "    upper_boundary = df[variable].mean() + 10 * df[variable].std()\n",
    "    lower_boundary = df[variable].mean() - 10 * df[variable].std()    \n",
    "    return upper_boundary, lower_boundary\n"
   ]
  },
  {
   "cell_type": "code",
   "execution_count": 10,
   "metadata": {},
   "outputs": [
    {
     "name": "stdout",
     "output_type": "stream",
     "text": [
      "0.0071039730976409105 -0.0070003626852839\n"
     ]
    }
   ],
   "source": [
    "upper_boundary, lower_boundary = find_normal_boundaries(X, 'vibration')\n",
    "print(upper_boundary, lower_boundary)"
   ]
  },
  {
   "cell_type": "code",
   "execution_count": 11,
   "metadata": {},
   "outputs": [
    {
     "name": "stderr",
     "output_type": "stream",
     "text": [
      "C:\\Users\\bahma\\.conda\\envs\\svm\\lib\\site-packages\\seaborn\\_decorators.py:36: FutureWarning: Pass the following variable as a keyword arg: x. From version 0.12, the only valid positional argument will be `data`, and passing other arguments without an explicit keyword will result in an error or misinterpretation.\n",
      "  warnings.warn(\n"
     ]
    },
    {
     "data": {
      "text/plain": [
       "<AxesSubplot:xlabel='vibration'>"
      ]
     },
     "execution_count": 11,
     "metadata": {},
     "output_type": "execute_result"
    },
    {
     "data": {
      "image/png": "[encoded data removed]",
      "text/plain": [
       "<Figure size 432x288 with 1 Axes>"
      ]
     },
     "metadata": {
      "needs_background": "light"
     },
     "output_type": "display_data"
    }
   ],
   "source": [
    "upper_boundary = 0.007\n",
    "lower_boundary = -0.003\n",
    "\n",
    "data2 = X[(X['vibration']<upper_boundary) & (X['vibration']>lower_boundary)]\n",
    "\n",
    "X = data2\n",
    "X.describe()\n",
    "\n",
    "sb.boxplot(X['vibration'])"
   ]
  },
  {
   "cell_type": "code",
   "execution_count": 12,
   "metadata": {},
   "outputs": [
    {
     "name": "stderr",
     "output_type": "stream",
     "text": [
      "C:\\Users\\bahma\\.conda\\envs\\svm\\lib\\site-packages\\seaborn\\_decorators.py:36: FutureWarning: Pass the following variable as a keyword arg: x. From version 0.12, the only valid positional argument will be `data`, and passing other arguments without an explicit keyword will result in an error or misinterpretation.\n",
      "  warnings.warn(\n"
     ]
    },
    {
     "data": {
      "text/plain": [
       "<AxesSubplot:xlabel='vibration'>"
      ]
     },
     "execution_count": 12,
     "metadata": {},
     "output_type": "execute_result"
    },
    {
     "data": {
      "image/png": "[encoded data removed]",
      "text/plain": [
       "<Figure size 432x288 with 1 Axes>"
      ]
     },
     "metadata": {
      "needs_background": "light"
     },
     "output_type": "display_data"
    }
   ],
   "source": [
    "upper_boundary = 0.003\n",
    "lower_boundary = -0.003\n",
    "\n",
    "data2 = X[(X['vibration']<upper_boundary) & (X['vibration']>lower_boundary)]\n",
    "\n",
    "X = data2\n",
    "X.describe()\n",
    "\n",
    "sb.boxplot(X['vibration'])"
   ]
  },
  {
   "cell_type": "code",
   "execution_count": 13,
   "metadata": {},
   "outputs": [
    {
     "name": "stderr",
     "output_type": "stream",
     "text": [
      "C:\\Users\\bahma\\.conda\\envs\\svm\\lib\\site-packages\\seaborn\\_decorators.py:36: FutureWarning: Pass the following variable as a keyword arg: x. From version 0.12, the only valid positional argument will be `data`, and passing other arguments without an explicit keyword will result in an error or misinterpretation.\n",
      "  warnings.warn(\n"
     ]
    },
    {
     "data": {
      "text/plain": [
       "<AxesSubplot:xlabel='vibration'>"
      ]
     },
     "execution_count": 13,
     "metadata": {},
     "output_type": "execute_result"
    },
    {
     "data": {
      "image/png": "[encoded data removed]",
      "text/plain": [
       "<Figure size 432x288 with 1 Axes>"
      ]
     },
     "metadata": {
      "needs_background": "light"
     },
     "output_type": "display_data"
    }
   ],
   "source": [
    "sb.boxplot(y['vibration'])"
   ]
  },
  {
   "cell_type": "code",
   "execution_count": 14,
   "metadata": {},
   "outputs": [
    {
     "name": "stdout",
     "output_type": "stream",
     "text": [
      "0.3326969678558227 -0.3299069979161344\n"
     ]
    }
   ],
   "source": [
    "upper_boundary, lower_boundary = find_normal_boundaries(y, 'vibration')\n",
    "print(upper_boundary, lower_boundary)"
   ]
  },
  {
   "cell_type": "code",
   "execution_count": 15,
   "metadata": {},
   "outputs": [
    {
     "name": "stderr",
     "output_type": "stream",
     "text": [
      "C:\\Users\\bahma\\.conda\\envs\\svm\\lib\\site-packages\\seaborn\\_decorators.py:36: FutureWarning: Pass the following variable as a keyword arg: x. From version 0.12, the only valid positional argument will be `data`, and passing other arguments without an explicit keyword will result in an error or misinterpretation.\n",
      "  warnings.warn(\n"
     ]
    },
    {
     "data": {
      "text/plain": [
       "<AxesSubplot:xlabel='vibration'>"
      ]
     },
     "execution_count": 15,
     "metadata": {},
     "output_type": "execute_result"
    },
    {
     "data": {
      "image/png": "[encoded data removed]",
      "text/plain": [
       "<Figure size 432x288 with 1 Axes>"
      ]
     },
     "metadata": {
      "needs_background": "light"
     },
     "output_type": "display_data"
    }
   ],
   "source": [
    "upper_boundary = 0.6\n",
    "lower_boundary = -0.6\n",
    "\n",
    "data2 = y[(y['vibration']<upper_boundary) & (y['vibration']>lower_boundary)]\n",
    "\n",
    "y = data2\n",
    "y.describe()\n",
    "\n",
    "sb.boxplot(y['vibration'])"
   ]
  },
  {
   "cell_type": "code",
   "execution_count": 16,
   "metadata": {},
   "outputs": [],
   "source": [
    "from sklearn.model_selection import train_test_split\n",
    "X_train, X_test = train_test_split(X, test_size = 0.2, random_state = 0)\n",
    "\n",
    "y_train, y_test = train_test_split(y, test_size = 0.2, random_state = 0)"
   ]
  },
  {
   "cell_type": "code",
   "execution_count": 17,
   "metadata": {},
   "outputs": [
    {
     "data": {
      "text/html": [
       "<div>\n",
       "<style scoped>\n",
       "    .dataframe tbody tr th:only-of-type {\n",
       "        vertical-align: middle;\n",
       "    }\n",
       "\n",
       "    .dataframe tbody tr th {\n",
       "        vertical-align: top;\n",
       "    }\n",
       "\n",
       "    .dataframe thead th {\n",
       "        text-align: right;\n",
       "    }\n",
       "</style>\n",
       "<table border=\"1\" class=\"dataframe\">\n",
       "  <thead>\n",
       "    <tr style=\"text-align: right;\">\n",
       "      <th></th>\n",
       "      <th>speed</th>\n",
       "      <th>vibration</th>\n",
       "      <th>Fault</th>\n",
       "    </tr>\n",
       "  </thead>\n",
       "  <tbody>\n",
       "    <tr>\n",
       "      <th>1361846</th>\n",
       "      <td>0.000009</td>\n",
       "      <td>0.000530</td>\n",
       "      <td>0</td>\n",
       "    </tr>\n",
       "    <tr>\n",
       "      <th>667065</th>\n",
       "      <td>0.000964</td>\n",
       "      <td>0.000595</td>\n",
       "      <td>0</td>\n",
       "    </tr>\n",
       "    <tr>\n",
       "      <th>460028</th>\n",
       "      <td>0.000009</td>\n",
       "      <td>0.001018</td>\n",
       "      <td>0</td>\n",
       "    </tr>\n",
       "    <tr>\n",
       "      <th>672935</th>\n",
       "      <td>0.000009</td>\n",
       "      <td>-0.000478</td>\n",
       "      <td>0</td>\n",
       "    </tr>\n",
       "    <tr>\n",
       "      <th>312581</th>\n",
       "      <td>0.001005</td>\n",
       "      <td>0.000043</td>\n",
       "      <td>0</td>\n",
       "    </tr>\n",
       "    <tr>\n",
       "      <th>...</th>\n",
       "      <td>...</td>\n",
       "      <td>...</td>\n",
       "      <td>...</td>\n",
       "    </tr>\n",
       "    <tr>\n",
       "      <th>152315</th>\n",
       "      <td>4.231508</td>\n",
       "      <td>0.008324</td>\n",
       "      <td>1</td>\n",
       "    </tr>\n",
       "    <tr>\n",
       "      <th>963398</th>\n",
       "      <td>0.039634</td>\n",
       "      <td>0.023451</td>\n",
       "      <td>1</td>\n",
       "    </tr>\n",
       "    <tr>\n",
       "      <th>117952</th>\n",
       "      <td>0.041935</td>\n",
       "      <td>-0.019957</td>\n",
       "      <td>1</td>\n",
       "    </tr>\n",
       "    <tr>\n",
       "      <th>1484420</th>\n",
       "      <td>0.039305</td>\n",
       "      <td>0.007666</td>\n",
       "      <td>1</td>\n",
       "    </tr>\n",
       "    <tr>\n",
       "      <th>305711</th>\n",
       "      <td>0.039634</td>\n",
       "      <td>-0.008776</td>\n",
       "      <td>1</td>\n",
       "    </tr>\n",
       "  </tbody>\n",
       "</table>\n",
       "<p>3109469 rows × 3 columns</p>\n",
       "</div>"
      ],
      "text/plain": [
       "            speed  vibration  Fault\n",
       "1361846  0.000009   0.000530      0\n",
       "667065   0.000964   0.000595      0\n",
       "460028   0.000009   0.001018      0\n",
       "672935   0.000009  -0.000478      0\n",
       "312581   0.001005   0.000043      0\n",
       "...           ...        ...    ...\n",
       "152315   4.231508   0.008324      1\n",
       "963398   0.039634   0.023451      1\n",
       "117952   0.041935  -0.019957      1\n",
       "1484420  0.039305   0.007666      1\n",
       "305711   0.039634  -0.008776      1\n",
       "\n",
       "[3109469 rows x 3 columns]"
      ]
     },
     "execution_count": 17,
     "metadata": {},
     "output_type": "execute_result"
    }
   ],
   "source": [
    "train = X_train.append(y_train)\n",
    "train"
   ]
  },
  {
   "cell_type": "code",
   "execution_count": 18,
   "metadata": {},
   "outputs": [
    {
     "data": {
      "text/html": [
       "<div>\n",
       "<style scoped>\n",
       "    .dataframe tbody tr th:only-of-type {\n",
       "        vertical-align: middle;\n",
       "    }\n",
       "\n",
       "    .dataframe tbody tr th {\n",
       "        vertical-align: top;\n",
       "    }\n",
       "\n",
       "    .dataframe thead th {\n",
       "        text-align: right;\n",
       "    }\n",
       "</style>\n",
       "<table border=\"1\" class=\"dataframe\">\n",
       "  <thead>\n",
       "    <tr style=\"text-align: right;\">\n",
       "      <th></th>\n",
       "      <th>speed</th>\n",
       "      <th>vibration</th>\n",
       "      <th>Fault</th>\n",
       "    </tr>\n",
       "  </thead>\n",
       "  <tbody>\n",
       "    <tr>\n",
       "      <th>1456698</th>\n",
       "      <td>0.000009</td>\n",
       "      <td>-0.000575</td>\n",
       "      <td>0</td>\n",
       "    </tr>\n",
       "    <tr>\n",
       "      <th>1704724</th>\n",
       "      <td>0.000009</td>\n",
       "      <td>-0.000022</td>\n",
       "      <td>0</td>\n",
       "    </tr>\n",
       "    <tr>\n",
       "      <th>850351</th>\n",
       "      <td>0.000990</td>\n",
       "      <td>0.000465</td>\n",
       "      <td>0</td>\n",
       "    </tr>\n",
       "    <tr>\n",
       "      <th>1821345</th>\n",
       "      <td>0.001003</td>\n",
       "      <td>0.001083</td>\n",
       "      <td>0</td>\n",
       "    </tr>\n",
       "    <tr>\n",
       "      <th>892141</th>\n",
       "      <td>0.000009</td>\n",
       "      <td>-0.000055</td>\n",
       "      <td>0</td>\n",
       "    </tr>\n",
       "    <tr>\n",
       "      <th>...</th>\n",
       "      <td>...</td>\n",
       "      <td>...</td>\n",
       "      <td>...</td>\n",
       "    </tr>\n",
       "    <tr>\n",
       "      <th>961532</th>\n",
       "      <td>4.250577</td>\n",
       "      <td>-0.017984</td>\n",
       "      <td>1</td>\n",
       "    </tr>\n",
       "    <tr>\n",
       "      <th>1653407</th>\n",
       "      <td>0.039634</td>\n",
       "      <td>0.034303</td>\n",
       "      <td>1</td>\n",
       "    </tr>\n",
       "    <tr>\n",
       "      <th>1122248</th>\n",
       "      <td>0.039305</td>\n",
       "      <td>-0.110061</td>\n",
       "      <td>1</td>\n",
       "    </tr>\n",
       "    <tr>\n",
       "      <th>856569</th>\n",
       "      <td>0.040291</td>\n",
       "      <td>-0.021273</td>\n",
       "      <td>1</td>\n",
       "    </tr>\n",
       "    <tr>\n",
       "      <th>1316853</th>\n",
       "      <td>4.109532</td>\n",
       "      <td>0.018847</td>\n",
       "      <td>1</td>\n",
       "    </tr>\n",
       "  </tbody>\n",
       "</table>\n",
       "<p>777368 rows × 3 columns</p>\n",
       "</div>"
      ],
      "text/plain": [
       "            speed  vibration  Fault\n",
       "1456698  0.000009  -0.000575      0\n",
       "1704724  0.000009  -0.000022      0\n",
       "850351   0.000990   0.000465      0\n",
       "1821345  0.001003   0.001083      0\n",
       "892141   0.000009  -0.000055      0\n",
       "...           ...        ...    ...\n",
       "961532   4.250577  -0.017984      1\n",
       "1653407  0.039634   0.034303      1\n",
       "1122248  0.039305  -0.110061      1\n",
       "856569   0.040291  -0.021273      1\n",
       "1316853  4.109532   0.018847      1\n",
       "\n",
       "[777368 rows x 3 columns]"
      ]
     },
     "execution_count": 18,
     "metadata": {},
     "output_type": "execute_result"
    }
   ],
   "source": [
    "test = X_test.append(y_test)\n",
    "test"
   ]
  },
  {
   "cell_type": "code",
   "execution_count": 19,
   "metadata": {},
   "outputs": [],
   "source": [
    "from sklearn.preprocessing import MinMaxScaler\n",
    "scaler = MinMaxScaler()\n",
    "train = pd.DataFrame(scaler.fit_transform(train))\n",
    "train.sample(frac=1)\n",
    "\n",
    "test = pd.DataFrame(scaler.transform(test))"
   ]
  },
  {
   "cell_type": "code",
   "execution_count": 20,
   "metadata": {},
   "outputs": [
    {
     "data": {
      "text/plain": [
       "(3109469, 3)"
      ]
     },
     "execution_count": 20,
     "metadata": {},
     "output_type": "execute_result"
    }
   ],
   "source": [
    "train.shape"
   ]
  },
  {
   "cell_type": "code",
   "execution_count": 21,
   "metadata": {},
   "outputs": [
    {
     "data": {
      "text/plain": [
       "(777368, 3)"
      ]
     },
     "execution_count": 21,
     "metadata": {},
     "output_type": "execute_result"
    }
   ],
   "source": [
    "test.shape"
   ]
  },
  {
   "cell_type": "code",
   "execution_count": 22,
   "metadata": {},
   "outputs": [],
   "source": [
    "train = train.values.reshape(-1, 1, 3)"
   ]
  },
  {
   "cell_type": "code",
   "execution_count": 23,
   "metadata": {},
   "outputs": [],
   "source": [
    "test  = test.values.reshape(-1, 1, 3)"
   ]
  },
  {
   "cell_type": "code",
   "execution_count": 24,
   "metadata": {},
   "outputs": [
    {
     "data": {
      "text/plain": [
       "(3109469, 1, 3)"
      ]
     },
     "execution_count": 24,
     "metadata": {},
     "output_type": "execute_result"
    }
   ],
   "source": [
    "#pip install keras\n",
    "train.shape"
   ]
  },
  {
   "cell_type": "code",
   "execution_count": 25,
   "metadata": {},
   "outputs": [
    {
     "data": {
      "text/plain": [
       "(777368, 1, 3)"
      ]
     },
     "execution_count": 25,
     "metadata": {},
     "output_type": "execute_result"
    }
   ],
   "source": [
    "test.shape"
   ]
  },
  {
   "cell_type": "code",
   "execution_count": 26,
   "metadata": {},
   "outputs": [],
   "source": [
    "from keras.layers import Input, Dropout, Dense, LSTM, RepeatVector, TimeDistributed\n",
    "from keras.models import Model, Sequential, load_model\n",
    "from keras import regularizers"
   ]
  },
  {
   "cell_type": "code",
   "execution_count": 27,
   "metadata": {},
   "outputs": [
    {
     "name": "stdout",
     "output_type": "stream",
     "text": [
      "Model: \"sequential\"\n",
      "_________________________________________________________________\n",
      "Layer (type)                 Output Shape              Param #   \n",
      "=================================================================\n",
      "lstm (LSTM)                  (None, 32)                4608      \n",
      "_________________________________________________________________\n",
      "dropout (Dropout)            (None, 32)                0         \n",
      "_________________________________________________________________\n",
      "repeat_vector (RepeatVector) (None, 1, 32)             0         \n",
      "_________________________________________________________________\n",
      "lstm_1 (LSTM)                (None, 1, 32)             8320      \n",
      "_________________________________________________________________\n",
      "dropout_1 (Dropout)          (None, 1, 32)             0         \n",
      "_________________________________________________________________\n",
      "time_distributed (TimeDistri (None, 1, 3)              99        \n",
      "=================================================================\n",
      "Total params: 13,027\n",
      "Trainable params: 13,027\n",
      "Non-trainable params: 0\n",
      "_________________________________________________________________\n"
     ]
    }
   ],
   "source": [
    "# Input layer:\n",
    "model=Sequential([\n",
    "    LSTM(32, activation='relu', input_shape=(train.shape[1],train.shape[2])),\n",
    "    Dropout(0.2),\n",
    "    RepeatVector(train.shape[1]),\n",
    "    LSTM(32, activation='relu', return_sequences=True),\n",
    "    Dropout(0.2),\n",
    "    TimeDistributed(Dense(train.shape[2]))\n",
    "])\n",
    "\n",
    "model.compile(loss='mse',optimizer='adam', metrics=['accuracy'])\n",
    "model.summary()"
   ]
  },
  {
   "cell_type": "code",
   "execution_count": 28,
   "metadata": {
    "scrolled": true
   },
   "outputs": [
    {
     "name": "stdout",
     "output_type": "stream",
     "text": [
      "Epoch 1/100\n",
      "2799/2799 [==============================] - 12s 4ms/step - loss: 0.0137 - accuracy: 0.9230 - val_loss: 3.9322e-04 - val_accuracy: 0.9995\n",
      "Epoch 2/100\n",
      "2799/2799 [==============================] - 12s 4ms/step - loss: 0.0032 - accuracy: 0.9332 - val_loss: 3.6430e-04 - val_accuracy: 0.9995\n",
      "Epoch 3/100\n",
      "2799/2799 [==============================] - 12s 4ms/step - loss: 0.0030 - accuracy: 0.9355 - val_loss: 3.2022e-04 - val_accuracy: 0.9995\n",
      "Epoch 4/100\n",
      "2799/2799 [==============================] - 15s 5ms/step - loss: 0.0030 - accuracy: 0.9353 - val_loss: 3.2735e-04 - val_accuracy: 0.9995\n",
      "Epoch 5/100\n",
      "2799/2799 [==============================] - 14s 5ms/step - loss: 0.0030 - accuracy: 0.9355 - val_loss: 3.0433e-04 - val_accuracy: 0.9995\n",
      "Epoch 6/100\n",
      "2799/2799 [==============================] - 12s 4ms/step - loss: 0.0030 - accuracy: 0.9354 - val_loss: 2.8766e-04 - val_accuracy: 0.9995\n",
      "Epoch 7/100\n",
      "2799/2799 [==============================] - 12s 4ms/step - loss: 0.0030 - accuracy: 0.9357 - val_loss: 2.8010e-04 - val_accuracy: 0.9995\n",
      "Epoch 8/100\n",
      "2799/2799 [==============================] - 12s 4ms/step - loss: 0.0030 - accuracy: 0.9357 - val_loss: 2.7303e-04 - val_accuracy: 0.9995\n",
      "Epoch 9/100\n",
      "2799/2799 [==============================] - 12s 4ms/step - loss: 0.0030 - accuracy: 0.9354 - val_loss: 2.9938e-04 - val_accuracy: 0.9995\n",
      "Epoch 10/100\n",
      "2799/2799 [==============================] - 12s 4ms/step - loss: 0.0030 - accuracy: 0.9355 - val_loss: 2.7972e-04 - val_accuracy: 0.9995\n",
      "Epoch 11/100\n",
      "2799/2799 [==============================] - 12s 4ms/step - loss: 0.0030 - accuracy: 0.9350 - val_loss: 3.3692e-04 - val_accuracy: 0.9995\n",
      "Epoch 12/100\n",
      "2799/2799 [==============================] - 12s 4ms/step - loss: 0.0030 - accuracy: 0.9350 - val_loss: 3.2325e-04 - val_accuracy: 0.9995\n",
      "Epoch 13/100\n",
      "2799/2799 [==============================] - 12s 4ms/step - loss: 0.0030 - accuracy: 0.9349 - val_loss: 2.8583e-04 - val_accuracy: 0.9995\n",
      "Epoch 14/100\n",
      "2799/2799 [==============================] - 13s 5ms/step - loss: 0.0030 - accuracy: 0.9346 - val_loss: 2.8093e-04 - val_accuracy: 0.9995\n",
      "Epoch 15/100\n",
      "2799/2799 [==============================] - 13s 5ms/step - loss: 0.0030 - accuracy: 0.9348 - val_loss: 2.8261e-04 - val_accuracy: 0.9995\n",
      "Epoch 16/100\n",
      "2799/2799 [==============================] - 12s 4ms/step - loss: 0.0030 - accuracy: 0.9346 - val_loss: 2.7875e-04 - val_accuracy: 0.9995\n",
      "Epoch 17/100\n",
      "2799/2799 [==============================] - 12s 4ms/step - loss: 0.0030 - accuracy: 0.9345 - val_loss: 2.6414e-04 - val_accuracy: 0.9995\n",
      "Epoch 18/100\n",
      "2799/2799 [==============================] - 12s 4ms/step - loss: 0.0030 - accuracy: 0.9344 - val_loss: 2.7440e-04 - val_accuracy: 0.9995\n",
      "Epoch 19/100\n",
      "2799/2799 [==============================] - 12s 4ms/step - loss: 0.0030 - accuracy: 0.9348 - val_loss: 2.7753e-04 - val_accuracy: 0.9995\n",
      "Epoch 20/100\n",
      "2799/2799 [==============================] - 12s 4ms/step - loss: 0.0030 - accuracy: 0.9347 - val_loss: 2.7757e-04 - val_accuracy: 0.9995\n",
      "Epoch 21/100\n",
      "2799/2799 [==============================] - 12s 4ms/step - loss: 0.0030 - accuracy: 0.9347 - val_loss: 2.7671e-04 - val_accuracy: 0.9995\n",
      "Epoch 22/100\n",
      "2799/2799 [==============================] - 12s 4ms/step - loss: 0.0030 - accuracy: 0.9347 - val_loss: 2.8693e-04 - val_accuracy: 0.9995\n",
      "Epoch 23/100\n",
      "2799/2799 [==============================] - 12s 4ms/step - loss: 0.0030 - accuracy: 0.9345 - val_loss: 2.7372e-04 - val_accuracy: 0.9995\n",
      "Epoch 24/100\n",
      "2799/2799 [==============================] - 12s 4ms/step - loss: 0.0030 - accuracy: 0.9345 - val_loss: 2.9806e-04 - val_accuracy: 0.9995\n",
      "Epoch 25/100\n",
      "2799/2799 [==============================] - 12s 4ms/step - loss: 0.0030 - accuracy: 0.9345 - val_loss: 3.4862e-04 - val_accuracy: 0.9995\n",
      "Epoch 26/100\n",
      "2799/2799 [==============================] - 12s 4ms/step - loss: 0.0030 - accuracy: 0.9345 - val_loss: 2.7838e-04 - val_accuracy: 0.9995\n",
      "Epoch 27/100\n",
      "2799/2799 [==============================] - 13s 5ms/step - loss: 0.0030 - accuracy: 0.9343 - val_loss: 3.7329e-04 - val_accuracy: 0.9995\n",
      "Epoch 28/100\n",
      "2799/2799 [==============================] - 14s 5ms/step - loss: 0.0030 - accuracy: 0.9344 - val_loss: 3.1464e-04 - val_accuracy: 0.9995\n",
      "Epoch 29/100\n",
      "2799/2799 [==============================] - 13s 5ms/step - loss: 0.0030 - accuracy: 0.9343 - val_loss: 2.8445e-04 - val_accuracy: 0.9995\n",
      "Epoch 30/100\n",
      "2799/2799 [==============================] - 13s 5ms/step - loss: 0.0030 - accuracy: 0.9343 - val_loss: 2.6874e-04 - val_accuracy: 0.9995\n",
      "Epoch 31/100\n",
      "2799/2799 [==============================] - 14s 5ms/step - loss: 0.0030 - accuracy: 0.9343 - val_loss: 2.9210e-04 - val_accuracy: 0.9995\n",
      "Epoch 32/100\n",
      "2799/2799 [==============================] - 13s 5ms/step - loss: 0.0030 - accuracy: 0.9340 - val_loss: 3.0233e-04 - val_accuracy: 0.9995\n",
      "Epoch 33/100\n",
      "2799/2799 [==============================] - 12s 4ms/step - loss: 0.0030 - accuracy: 0.9343 - val_loss: 2.9706e-04 - val_accuracy: 0.9995\n",
      "Epoch 34/100\n",
      "2799/2799 [==============================] - 13s 5ms/step - loss: 0.0030 - accuracy: 0.9344 - val_loss: 3.1580e-04 - val_accuracy: 0.9995\n",
      "Epoch 35/100\n",
      "2799/2799 [==============================] - 13s 5ms/step - loss: 0.0030 - accuracy: 0.9341 - val_loss: 2.9555e-04 - val_accuracy: 0.9995\n",
      "Epoch 36/100\n",
      "2799/2799 [==============================] - 14s 5ms/step - loss: 0.0030 - accuracy: 0.9344 - val_loss: 2.9059e-04 - val_accuracy: 0.9995\n",
      "Epoch 37/100\n",
      "2799/2799 [==============================] - 13s 5ms/step - loss: 0.0030 - accuracy: 0.9343 - val_loss: 2.7976e-04 - val_accuracy: 0.9995\n",
      "Epoch 38/100\n",
      "2799/2799 [==============================] - 13s 5ms/step - loss: 0.0030 - accuracy: 0.9344 - val_loss: 2.7790e-04 - val_accuracy: 0.9995\n",
      "Epoch 39/100\n",
      "2799/2799 [==============================] - 13s 5ms/step - loss: 0.0030 - accuracy: 0.9344 - val_loss: 3.0816e-04 - val_accuracy: 0.9995\n",
      "Epoch 40/100\n",
      "2799/2799 [==============================] - 13s 5ms/step - loss: 0.0030 - accuracy: 0.9343 - val_loss: 2.8907e-04 - val_accuracy: 0.9995\n",
      "Epoch 41/100\n",
      "2799/2799 [==============================] - 13s 5ms/step - loss: 0.0030 - accuracy: 0.9343 - val_loss: 2.7011e-04 - val_accuracy: 0.9995\n",
      "Epoch 42/100\n",
      "2799/2799 [==============================] - 14s 5ms/step - loss: 0.0030 - accuracy: 0.9344 - val_loss: 2.8540e-04 - val_accuracy: 0.9995\n",
      "Epoch 43/100\n",
      "2799/2799 [==============================] - 14s 5ms/step - loss: 0.0030 - accuracy: 0.9345 - val_loss: 3.2872e-04 - val_accuracy: 0.9995\n",
      "Epoch 44/100\n",
      "2799/2799 [==============================] - 14s 5ms/step - loss: 0.0030 - accuracy: 0.9345 - val_loss: 2.9468e-04 - val_accuracy: 0.9995\n",
      "Epoch 45/100\n",
      "2799/2799 [==============================] - 14s 5ms/step - loss: 0.0030 - accuracy: 0.9344 - val_loss: 2.7403e-04 - val_accuracy: 0.9995\n",
      "Epoch 46/100\n",
      "2799/2799 [==============================] - 14s 5ms/step - loss: 0.0030 - accuracy: 0.9347 - val_loss: 2.8244e-04 - val_accuracy: 0.9995\n",
      "Epoch 47/100\n",
      "2799/2799 [==============================] - 14s 5ms/step - loss: 0.0030 - accuracy: 0.9345 - val_loss: 2.8409e-04 - val_accuracy: 0.9995\n",
      "Epoch 48/100\n",
      "2799/2799 [==============================] - 14s 5ms/step - loss: 0.0030 - accuracy: 0.9347 - val_loss: 2.6597e-04 - val_accuracy: 0.9995\n",
      "Epoch 49/100\n",
      "2799/2799 [==============================] - 14s 5ms/step - loss: 0.0030 - accuracy: 0.9346 - val_loss: 3.0404e-04 - val_accuracy: 0.9995\n",
      "Epoch 50/100\n",
      "2799/2799 [==============================] - 14s 5ms/step - loss: 0.0030 - accuracy: 0.9346 - val_loss: 2.8870e-04 - val_accuracy: 0.9995\n",
      "Epoch 51/100\n",
      "2799/2799 [==============================] - 16s 6ms/step - loss: 0.0030 - accuracy: 0.9346 - val_loss: 2.7314e-04 - val_accuracy: 0.9995\n",
      "Epoch 52/100\n",
      "2799/2799 [==============================] - 15s 5ms/step - loss: 0.0030 - accuracy: 0.9344 - val_loss: 2.7530e-04 - val_accuracy: 0.9995\n",
      "Epoch 53/100\n",
      "2799/2799 [==============================] - 13s 5ms/step - loss: 0.0030 - accuracy: 0.9343 - val_loss: 2.9579e-04 - val_accuracy: 0.9995\n",
      "Epoch 54/100\n",
      "2799/2799 [==============================] - 14s 5ms/step - loss: 0.0030 - accuracy: 0.9344 - val_loss: 2.6578e-04 - val_accuracy: 0.9995\n",
      "Epoch 55/100\n",
      "2799/2799 [==============================] - 13s 5ms/step - loss: 0.0030 - accuracy: 0.9343 - val_loss: 2.7002e-04 - val_accuracy: 0.9995\n",
      "Epoch 56/100\n",
      "2799/2799 [==============================] - 14s 5ms/step - loss: 0.0030 - accuracy: 0.9345 - val_loss: 3.1172e-04 - val_accuracy: 0.9995\n",
      "Epoch 57/100\n",
      "2799/2799 [==============================] - 14s 5ms/step - loss: 0.0030 - accuracy: 0.9346 - val_loss: 2.6520e-04 - val_accuracy: 0.9995\n",
      "Epoch 58/100\n",
      "2799/2799 [==============================] - 14s 5ms/step - loss: 0.0030 - accuracy: 0.9345 - val_loss: 3.0796e-04 - val_accuracy: 0.9995\n",
      "Epoch 59/100\n",
      "2799/2799 [==============================] - 13s 5ms/step - loss: 0.0030 - accuracy: 0.9344 - val_loss: 2.8055e-04 - val_accuracy: 0.9995\n",
      "Epoch 60/100\n",
      "2799/2799 [==============================] - 13s 5ms/step - loss: 0.0030 - accuracy: 0.9343 - val_loss: 2.7997e-04 - val_accuracy: 0.9995\n",
      "Epoch 61/100\n",
      "2799/2799 [==============================] - 13s 5ms/step - loss: 0.0030 - accuracy: 0.9345 - val_loss: 3.0714e-04 - val_accuracy: 0.9995\n",
      "Epoch 62/100\n",
      "2799/2799 [==============================] - 14s 5ms/step - loss: 0.0030 - accuracy: 0.9343 - val_loss: 3.0326e-04 - val_accuracy: 0.9995\n",
      "Epoch 63/100\n",
      "2799/2799 [==============================] - 14s 5ms/step - loss: 0.0030 - accuracy: 0.9341 - val_loss: 2.8295e-04 - val_accuracy: 0.9995\n",
      "Epoch 64/100\n",
      "2799/2799 [==============================] - 13s 5ms/step - loss: 0.0030 - accuracy: 0.9343 - val_loss: 2.9586e-04 - val_accuracy: 0.9995\n",
      "Epoch 65/100\n",
      "2799/2799 [==============================] - 13s 5ms/step - loss: 0.0030 - accuracy: 0.9342 - val_loss: 3.2145e-04 - val_accuracy: 0.9995\n",
      "Epoch 66/100\n",
      "2799/2799 [==============================] - 13s 5ms/step - loss: 0.0030 - accuracy: 0.9342 - val_loss: 3.0759e-04 - val_accuracy: 0.9995\n",
      "Epoch 67/100\n",
      "2799/2799 [==============================] - 14s 5ms/step - loss: 0.0030 - accuracy: 0.9343 - val_loss: 3.0166e-04 - val_accuracy: 0.9995\n",
      "Epoch 68/100\n",
      "2799/2799 [==============================] - 14s 5ms/step - loss: 0.0030 - accuracy: 0.9343 - val_loss: 3.4438e-04 - val_accuracy: 0.9995\n",
      "Epoch 69/100\n",
      "2799/2799 [==============================] - 14s 5ms/step - loss: 0.0030 - accuracy: 0.9343 - val_loss: 2.7838e-04 - val_accuracy: 0.9995\n",
      "Epoch 70/100\n",
      "2799/2799 [==============================] - 13s 5ms/step - loss: 0.0030 - accuracy: 0.9344 - val_loss: 3.1693e-04 - val_accuracy: 0.9995\n",
      "Epoch 71/100\n",
      "2799/2799 [==============================] - 14s 5ms/step - loss: 0.0030 - accuracy: 0.9341 - val_loss: 2.8484e-04 - val_accuracy: 0.9995\n",
      "Epoch 72/100\n",
      "2799/2799 [==============================] - 13s 5ms/step - loss: 0.0030 - accuracy: 0.9343 - val_loss: 3.1647e-04 - val_accuracy: 0.9995\n",
      "Epoch 73/100\n",
      "2799/2799 [==============================] - 12s 4ms/step - loss: 0.0030 - accuracy: 0.9345 - val_loss: 3.1544e-04 - val_accuracy: 0.9995\n",
      "Epoch 74/100\n",
      "2799/2799 [==============================] - 12s 4ms/step - loss: 0.0030 - accuracy: 0.9344 - val_loss: 2.9058e-04 - val_accuracy: 0.9995\n",
      "Epoch 75/100\n",
      "2799/2799 [==============================] - 12s 4ms/step - loss: 0.0030 - accuracy: 0.9344 - val_loss: 2.9655e-04 - val_accuracy: 0.9995\n",
      "Epoch 76/100\n",
      "2799/2799 [==============================] - 13s 5ms/step - loss: 0.0030 - accuracy: 0.9343 - val_loss: 2.9612e-04 - val_accuracy: 0.9995\n",
      "Epoch 77/100\n",
      "2799/2799 [==============================] - 13s 5ms/step - loss: 0.0030 - accuracy: 0.9342 - val_loss: 3.0394e-04 - val_accuracy: 0.9995\n",
      "Epoch 78/100\n",
      "2799/2799 [==============================] - 12s 4ms/step - loss: 0.0030 - accuracy: 0.9341 - val_loss: 2.9747e-04 - val_accuracy: 0.9995\n",
      "Epoch 79/100\n",
      "2799/2799 [==============================] - 13s 4ms/step - loss: 0.0030 - accuracy: 0.9342 - val_loss: 2.9720e-04 - val_accuracy: 0.9995\n",
      "Epoch 80/100\n",
      "2799/2799 [==============================] - 12s 4ms/step - loss: 0.0030 - accuracy: 0.9342 - val_loss: 2.9147e-04 - val_accuracy: 0.9995\n",
      "Epoch 81/100\n",
      "2799/2799 [==============================] - 12s 4ms/step - loss: 0.0030 - accuracy: 0.9342 - val_loss: 3.0970e-04 - val_accuracy: 0.9995\n",
      "Epoch 82/100\n",
      "2799/2799 [==============================] - 12s 4ms/step - loss: 0.0030 - accuracy: 0.9344 - val_loss: 3.0628e-04 - val_accuracy: 0.9995\n",
      "Epoch 83/100\n",
      "2799/2799 [==============================] - 12s 4ms/step - loss: 0.0030 - accuracy: 0.9346 - val_loss: 3.2248e-04 - val_accuracy: 0.9995\n",
      "Epoch 84/100\n",
      "2799/2799 [==============================] - 12s 4ms/step - loss: 0.0030 - accuracy: 0.9345 - val_loss: 3.3036e-04 - val_accuracy: 0.9995\n",
      "Epoch 85/100\n",
      "2799/2799 [==============================] - 13s 5ms/step - loss: 0.0030 - accuracy: 0.9347 - val_loss: 3.2577e-04 - val_accuracy: 0.9995\n",
      "Epoch 86/100\n",
      "2799/2799 [==============================] - 12s 4ms/step - loss: 0.0030 - accuracy: 0.9345 - val_loss: 3.7446e-04 - val_accuracy: 0.9995\n",
      "Epoch 87/100\n",
      "2799/2799 [==============================] - 12s 4ms/step - loss: 0.0030 - accuracy: 0.9347 - val_loss: 3.0496e-04 - val_accuracy: 0.9995\n",
      "Epoch 88/100\n",
      "2799/2799 [==============================] - 12s 4ms/step - loss: 0.0030 - accuracy: 0.9345 - val_loss: 3.2277e-04 - val_accuracy: 0.9995\n",
      "Epoch 89/100\n",
      "2799/2799 [==============================] - 13s 5ms/step - loss: 0.0030 - accuracy: 0.9346 - val_loss: 3.2506e-04 - val_accuracy: 0.9995\n",
      "Epoch 90/100\n",
      "2799/2799 [==============================] - 13s 5ms/step - loss: 0.0030 - accuracy: 0.9347 - val_loss: 3.4045e-04 - val_accuracy: 0.9995\n",
      "Epoch 91/100\n",
      "2799/2799 [==============================] - 12s 4ms/step - loss: 0.0030 - accuracy: 0.9346 - val_loss: 3.0955e-04 - val_accuracy: 0.9995\n",
      "Epoch 92/100\n",
      "2799/2799 [==============================] - 12s 4ms/step - loss: 0.0030 - accuracy: 0.9344 - val_loss: 3.3499e-04 - val_accuracy: 0.9995\n",
      "Epoch 93/100\n",
      "2799/2799 [==============================] - 12s 4ms/step - loss: 0.0030 - accuracy: 0.9344 - val_loss: 3.3504e-04 - val_accuracy: 0.9995\n",
      "Epoch 94/100\n",
      "2799/2799 [==============================] - 12s 4ms/step - loss: 0.0030 - accuracy: 0.9348 - val_loss: 3.3116e-04 - val_accuracy: 0.9995\n",
      "Epoch 95/100\n",
      "2799/2799 [==============================] - 12s 4ms/step - loss: 0.0030 - accuracy: 0.9348 - val_loss: 3.3595e-04 - val_accuracy: 0.9995\n",
      "Epoch 96/100\n",
      "2799/2799 [==============================] - 12s 4ms/step - loss: 0.0030 - accuracy: 0.9347 - val_loss: 3.1935e-04 - val_accuracy: 0.9995\n",
      "Epoch 97/100\n",
      "2799/2799 [==============================] - 13s 5ms/step - loss: 0.0030 - accuracy: 0.9348 - val_loss: 3.1642e-04 - val_accuracy: 0.9995\n",
      "Epoch 98/100\n",
      "2799/2799 [==============================] - 14s 5ms/step - loss: 0.0030 - accuracy: 0.9349 - val_loss: 3.4244e-04 - val_accuracy: 0.9995\n",
      "Epoch 99/100\n",
      "2799/2799 [==============================] - 16s 6ms/step - loss: 0.0030 - accuracy: 0.9349 - val_loss: 3.6032e-04 - val_accuracy: 0.9995\n",
      "Epoch 100/100\n",
      "2799/2799 [==============================] - 14s 5ms/step - loss: 0.0030 - accuracy: 0.9346 - val_loss: 3.4561e-04 - val_accuracy: 0.9995\n"
     ]
    }
   ],
   "source": [
    "# Train model for 100 epochs, batch size of 1000: \n",
    "NUM_EPOCHS=100\n",
    "BATCH_SIZE=1000\n",
    "\n",
    "history=model.fit(train,train, \n",
    "                  batch_size=BATCH_SIZE, \n",
    "                  epochs=NUM_EPOCHS,\n",
    "                  validation_split=0.1,\n",
    "                  shuffle=True)"
   ]
  },
  {
   "cell_type": "code",
   "execution_count": 29,
   "metadata": {},
   "outputs": [
    {
     "data": {
      "image/png": "[encoded data removed]",
      "text/plain": [
       "<Figure size 432x288 with 1 Axes>"
      ]
     },
     "metadata": {
      "needs_background": "light"
     },
     "output_type": "display_data"
    }
   ],
   "source": [
    "import matplotlib.pyplot as plt\n",
    "\n",
    "plt.plot(history.history['loss'], label='Training loss')\n",
    "plt.plot(history.history['val_loss'], label='Validation loss')\n",
    "plt.legend(loc='upper right')\n",
    "plt.xlabel('Epochs')\n",
    "plt.ylabel('Loss [mse]')\n",
    "plt.show()"
   ]
  },
  {
   "cell_type": "code",
   "execution_count": 30,
   "metadata": {},
   "outputs": [],
   "source": [
    "pred_train = model.predict(train)"
   ]
  },
  {
   "cell_type": "code",
   "execution_count": 31,
   "metadata": {},
   "outputs": [],
   "source": [
    "pred_train = pred_train.reshape(pred_train.shape[0],pred_train.shape[2])\n",
    "train = train.reshape(train.shape[0],train.shape[2])"
   ]
  },
  {
   "cell_type": "code",
   "execution_count": 32,
   "metadata": {},
   "outputs": [
    {
     "name": "stderr",
     "output_type": "stream",
     "text": [
      "C:\\Users\\bahma\\.conda\\envs\\svm\\lib\\site-packages\\seaborn\\distributions.py:2557: FutureWarning: `distplot` is a deprecated function and will be removed in a future version. Please adapt your code to use either `displot` (a figure-level function with similar flexibility) or `histplot` (an axes-level function for histograms).\n",
      "  warnings.warn(msg, FutureWarning)\n"
     ]
    },
    {
     "data": {
      "image/png": "[encoded data removed]",
      "text/plain": [
       "<Figure size 432x288 with 1 Axes>"
      ]
     },
     "metadata": {
      "needs_background": "light"
     },
     "output_type": "display_data"
    }
   ],
   "source": [
    "import seaborn as sns\n",
    "\n",
    "scored = np.mean(np.abs(pred_train-train), axis = 1)\n",
    "plt.figure()\n",
    "g = sns.distplot(scored, bins = 50, kde= True, color = 'blue');\n",
    "plt.title('Loss Distribution')\n",
    "plt.xlabel('Loss (MAE)')\n",
    "plt.show()"
   ]
  },
  {
   "cell_type": "code",
   "execution_count": 33,
   "metadata": {},
   "outputs": [],
   "source": [
    "TH = 0.1\n",
    "pred_train = pd.DataFrame(pred_train)\n",
    "scored_train = pd.DataFrame()\n",
    "scored_train['Loss_mae'] = np.mean(np.abs(pred_train-train), axis = 1)\n",
    "scored_train['Threshold'] = TH\n",
    "scored_train['Anomaly'] = scored_train['Loss_mae'] > scored_train['Threshold']"
   ]
  },
  {
   "cell_type": "code",
   "execution_count": 34,
   "metadata": {},
   "outputs": [
    {
     "data": {
      "text/plain": [
       "0.00802673927319749"
      ]
     },
     "execution_count": 34,
     "metadata": {},
     "output_type": "execute_result"
    }
   ],
   "source": [
    "scored_train['Loss_mae'].mean()"
   ]
  },
  {
   "cell_type": "code",
   "execution_count": 35,
   "metadata": {},
   "outputs": [
    {
     "data": {
      "text/plain": [
       "Text(0, 0.5, 'Loss (MAE)')"
      ]
     },
     "execution_count": 35,
     "metadata": {},
     "output_type": "execute_result"
    },
    {
     "data": {
      "image/png": "[encoded data removed]",
      "text/plain": [
       "<Figure size 1152x288 with 1 Axes>"
      ]
     },
     "metadata": {
      "needs_background": "light"
     },
     "output_type": "display_data"
    }
   ],
   "source": [
    "scored_train.plot(logy=True,  figsize = (16,4), xlim =[0,len(scored_train)])\n",
    "plt.xlabel('Data points')\n",
    "plt.ylabel('Loss (MAE)')"
   ]
  },
  {
   "cell_type": "code",
   "execution_count": 36,
   "metadata": {},
   "outputs": [
    {
     "data": {
      "text/html": [
       "<div>\n",
       "<style scoped>\n",
       "    .dataframe tbody tr th:only-of-type {\n",
       "        vertical-align: middle;\n",
       "    }\n",
       "\n",
       "    .dataframe tbody tr th {\n",
       "        vertical-align: top;\n",
       "    }\n",
       "\n",
       "    .dataframe thead th {\n",
       "        text-align: right;\n",
       "    }\n",
       "</style>\n",
       "<table border=\"1\" class=\"dataframe\">\n",
       "  <thead>\n",
       "    <tr style=\"text-align: right;\">\n",
       "      <th></th>\n",
       "      <th>Loss_mae</th>\n",
       "      <th>Threshold</th>\n",
       "      <th>Anomaly</th>\n",
       "    </tr>\n",
       "  </thead>\n",
       "  <tbody>\n",
       "    <tr>\n",
       "      <th>0</th>\n",
       "      <td>0.005740</td>\n",
       "      <td>0.1</td>\n",
       "      <td>False</td>\n",
       "    </tr>\n",
       "    <tr>\n",
       "      <th>1</th>\n",
       "      <td>0.005687</td>\n",
       "      <td>0.1</td>\n",
       "      <td>False</td>\n",
       "    </tr>\n",
       "    <tr>\n",
       "      <th>2</th>\n",
       "      <td>0.005877</td>\n",
       "      <td>0.1</td>\n",
       "      <td>False</td>\n",
       "    </tr>\n",
       "    <tr>\n",
       "      <th>3</th>\n",
       "      <td>0.005818</td>\n",
       "      <td>0.1</td>\n",
       "      <td>False</td>\n",
       "    </tr>\n",
       "    <tr>\n",
       "      <th>4</th>\n",
       "      <td>0.005600</td>\n",
       "      <td>0.1</td>\n",
       "      <td>False</td>\n",
       "    </tr>\n",
       "    <tr>\n",
       "      <th>...</th>\n",
       "      <td>...</td>\n",
       "      <td>...</td>\n",
       "      <td>...</td>\n",
       "    </tr>\n",
       "    <tr>\n",
       "      <th>3109464</th>\n",
       "      <td>0.005566</td>\n",
       "      <td>0.1</td>\n",
       "      <td>False</td>\n",
       "    </tr>\n",
       "    <tr>\n",
       "      <th>3109465</th>\n",
       "      <td>0.013154</td>\n",
       "      <td>0.1</td>\n",
       "      <td>False</td>\n",
       "    </tr>\n",
       "    <tr>\n",
       "      <th>3109466</th>\n",
       "      <td>0.013111</td>\n",
       "      <td>0.1</td>\n",
       "      <td>False</td>\n",
       "    </tr>\n",
       "    <tr>\n",
       "      <th>3109467</th>\n",
       "      <td>0.008869</td>\n",
       "      <td>0.1</td>\n",
       "      <td>False</td>\n",
       "    </tr>\n",
       "    <tr>\n",
       "      <th>3109468</th>\n",
       "      <td>0.010054</td>\n",
       "      <td>0.1</td>\n",
       "      <td>False</td>\n",
       "    </tr>\n",
       "  </tbody>\n",
       "</table>\n",
       "<p>3109469 rows × 3 columns</p>\n",
       "</div>"
      ],
      "text/plain": [
       "         Loss_mae  Threshold  Anomaly\n",
       "0        0.005740        0.1    False\n",
       "1        0.005687        0.1    False\n",
       "2        0.005877        0.1    False\n",
       "3        0.005818        0.1    False\n",
       "4        0.005600        0.1    False\n",
       "...           ...        ...      ...\n",
       "3109464  0.005566        0.1    False\n",
       "3109465  0.013154        0.1    False\n",
       "3109466  0.013111        0.1    False\n",
       "3109467  0.008869        0.1    False\n",
       "3109468  0.010054        0.1    False\n",
       "\n",
       "[3109469 rows x 3 columns]"
      ]
     },
     "execution_count": 36,
     "metadata": {},
     "output_type": "execute_result"
    }
   ],
   "source": [
    "scored_train"
   ]
  },
  {
   "cell_type": "code",
   "execution_count": 37,
   "metadata": {},
   "outputs": [
    {
     "name": "stdout",
     "output_type": "stream",
     "text": [
      "         Loss_mae  Threshold  Anomaly\n",
      "1599011  0.101566        0.1     True\n",
      "1599207  0.137643        0.1     True\n",
      "1602148  0.108409        0.1     True\n",
      "1603254  0.160986        0.1     True\n",
      "1604847  0.158354        0.1     True\n",
      "...           ...        ...      ...\n",
      "3101021  0.163162        0.1     True\n",
      "3101134  0.112440        0.1     True\n",
      "3103913  0.108719        0.1     True\n",
      "3107396  0.128036        0.1     True\n",
      "3108760  0.116737        0.1     True\n",
      "\n",
      "[1474 rows x 3 columns]\n",
      "(1474, 3)\n"
     ]
    }
   ],
   "source": [
    "anomalies = scored_train[scored_train['Anomaly'] == True]\n",
    "print(anomalies)\n",
    "print(anomalies.shape)"
   ]
  },
  {
   "cell_type": "code",
   "execution_count": 38,
   "metadata": {},
   "outputs": [
    {
     "data": {
      "image/png": "[encoded data removed]",
      "text/plain": [
       "<Figure size 1152x288 with 1 Axes>"
      ]
     },
     "metadata": {
      "needs_background": "light"
     },
     "output_type": "display_data"
    }
   ],
   "source": [
    "f, (ax1) = plt.subplots(figsize=(16, 4))\n",
    "ax1.plot(scored_train.index, scored_train.Loss_mae, label='Loss(MAE)');\n",
    "ax1.plot(scored_train.index, scored_train.Threshold, label='Threshold')\n",
    "g = sns.scatterplot(x=anomalies.index , y=anomalies.Loss_mae, label='anomaly', color='red')\n",
    "g.set(xlim = (0, len(scored_train.index)))\n",
    "plt.title('Anomalies')\n",
    "plt.xlabel('Data points')\n",
    "plt.ylabel('Loss (MAE)')\n",
    "plt.legend();"
   ]
  },
  {
   "cell_type": "code",
   "execution_count": 39,
   "metadata": {},
   "outputs": [],
   "source": [
    "pred_test = model.predict(test)"
   ]
  },
  {
   "cell_type": "code",
   "execution_count": 40,
   "metadata": {},
   "outputs": [
    {
     "name": "stdout",
     "output_type": "stream",
     "text": [
      "    1/24293 [..............................] - ETA: 0s - loss: 5.4640e-05 - accuracy: 1.0000WARNING:tensorflow:Callbacks method `on_test_batch_end` is slow compared to the batch time (batch time: 0.0000s vs `on_test_batch_end` time: 0.0010s). Check your callbacks.\n",
      "24293/24293 [==============================] - 22s 920us/step - loss: 1.9456e-04 - accuracy: 0.9998\n"
     ]
    },
    {
     "data": {
      "text/plain": [
       "[0.00019456482550594956, 0.9997555613517761]"
      ]
     },
     "execution_count": 40,
     "metadata": {},
     "output_type": "execute_result"
    }
   ],
   "source": [
    "score = model.evaluate(test,test)\n",
    "score"
   ]
  },
  {
   "cell_type": "code",
   "execution_count": 41,
   "metadata": {},
   "outputs": [],
   "source": [
    "pred_test = pred_test.reshape(pred_test.shape[0],pred_test.shape[2])\n",
    "test = test.reshape(test.shape[0],test.shape[2])"
   ]
  },
  {
   "cell_type": "code",
   "execution_count": 42,
   "metadata": {},
   "outputs": [
    {
     "name": "stderr",
     "output_type": "stream",
     "text": [
      "C:\\Users\\bahma\\.conda\\envs\\svm\\lib\\site-packages\\seaborn\\distributions.py:2557: FutureWarning: `distplot` is a deprecated function and will be removed in a future version. Please adapt your code to use either `displot` (a figure-level function with similar flexibility) or `histplot` (an axes-level function for histograms).\n",
      "  warnings.warn(msg, FutureWarning)\n"
     ]
    },
    {
     "data": {
      "image/png": "[encoded data removed]",
      "text/plain": [
       "<Figure size 432x288 with 1 Axes>"
      ]
     },
     "metadata": {
      "needs_background": "light"
     },
     "output_type": "display_data"
    }
   ],
   "source": [
    "import seaborn as sns\n",
    "\n",
    "scored_test = np.mean(np.abs(pred_test-test), axis = 1)\n",
    "plt.figure()\n",
    "g = sns.distplot(scored_test, bins = 10, kde= True);\n",
    "plt.title('Loss Distribution')\n",
    "plt.xlabel('Loss (MAE)')\n",
    "plt.show()"
   ]
  },
  {
   "cell_type": "code",
   "execution_count": 43,
   "metadata": {},
   "outputs": [
    {
     "data": {
      "text/html": [
       "<div>\n",
       "<style scoped>\n",
       "    .dataframe tbody tr th:only-of-type {\n",
       "        vertical-align: middle;\n",
       "    }\n",
       "\n",
       "    .dataframe tbody tr th {\n",
       "        vertical-align: top;\n",
       "    }\n",
       "\n",
       "    .dataframe thead th {\n",
       "        text-align: right;\n",
       "    }\n",
       "</style>\n",
       "<table border=\"1\" class=\"dataframe\">\n",
       "  <thead>\n",
       "    <tr style=\"text-align: right;\">\n",
       "      <th></th>\n",
       "      <th>Loss_mae</th>\n",
       "      <th>Threshold</th>\n",
       "      <th>Anomaly</th>\n",
       "    </tr>\n",
       "  </thead>\n",
       "  <tbody>\n",
       "    <tr>\n",
       "      <th>0</th>\n",
       "      <td>0.005845</td>\n",
       "      <td>0.1</td>\n",
       "      <td>False</td>\n",
       "    </tr>\n",
       "    <tr>\n",
       "      <th>1</th>\n",
       "      <td>0.005692</td>\n",
       "      <td>0.1</td>\n",
       "      <td>False</td>\n",
       "    </tr>\n",
       "    <tr>\n",
       "      <th>2</th>\n",
       "      <td>0.005649</td>\n",
       "      <td>0.1</td>\n",
       "      <td>False</td>\n",
       "    </tr>\n",
       "    <tr>\n",
       "      <th>3</th>\n",
       "      <td>0.005821</td>\n",
       "      <td>0.1</td>\n",
       "      <td>False</td>\n",
       "    </tr>\n",
       "    <tr>\n",
       "      <th>4</th>\n",
       "      <td>0.005701</td>\n",
       "      <td>0.1</td>\n",
       "      <td>False</td>\n",
       "    </tr>\n",
       "    <tr>\n",
       "      <th>...</th>\n",
       "      <td>...</td>\n",
       "      <td>...</td>\n",
       "      <td>...</td>\n",
       "    </tr>\n",
       "    <tr>\n",
       "      <th>777363</th>\n",
       "      <td>0.010283</td>\n",
       "      <td>0.1</td>\n",
       "      <td>False</td>\n",
       "    </tr>\n",
       "    <tr>\n",
       "      <th>777364</th>\n",
       "      <td>0.016112</td>\n",
       "      <td>0.1</td>\n",
       "      <td>False</td>\n",
       "    </tr>\n",
       "    <tr>\n",
       "      <th>777365</th>\n",
       "      <td>0.038794</td>\n",
       "      <td>0.1</td>\n",
       "      <td>False</td>\n",
       "    </tr>\n",
       "    <tr>\n",
       "      <th>777366</th>\n",
       "      <td>0.013563</td>\n",
       "      <td>0.1</td>\n",
       "      <td>False</td>\n",
       "    </tr>\n",
       "    <tr>\n",
       "      <th>777367</th>\n",
       "      <td>0.007186</td>\n",
       "      <td>0.1</td>\n",
       "      <td>False</td>\n",
       "    </tr>\n",
       "  </tbody>\n",
       "</table>\n",
       "<p>777368 rows × 3 columns</p>\n",
       "</div>"
      ],
      "text/plain": [
       "        Loss_mae  Threshold  Anomaly\n",
       "0       0.005845        0.1    False\n",
       "1       0.005692        0.1    False\n",
       "2       0.005649        0.1    False\n",
       "3       0.005821        0.1    False\n",
       "4       0.005701        0.1    False\n",
       "...          ...        ...      ...\n",
       "777363  0.010283        0.1    False\n",
       "777364  0.016112        0.1    False\n",
       "777365  0.038794        0.1    False\n",
       "777366  0.013563        0.1    False\n",
       "777367  0.007186        0.1    False\n",
       "\n",
       "[777368 rows x 3 columns]"
      ]
     },
     "execution_count": 43,
     "metadata": {},
     "output_type": "execute_result"
    }
   ],
   "source": [
    "scored_test = pd.DataFrame()\n",
    "scored_test['Loss_mae'] = np.mean(np.abs(pred_test-test), axis = 1)\n",
    "scored_test['Threshold'] = TH\n",
    "scored_test['Anomaly'] = scored_test['Loss_mae'] > scored_test['Threshold']\n",
    "\n",
    "scored_test"
   ]
  },
  {
   "cell_type": "code",
   "execution_count": 44,
   "metadata": {},
   "outputs": [
    {
     "data": {
      "text/plain": [
       "0.008021894125127426"
      ]
     },
     "execution_count": 44,
     "metadata": {},
     "output_type": "execute_result"
    }
   ],
   "source": [
    "scored_test['Loss_mae'].mean()"
   ]
  },
  {
   "cell_type": "code",
   "execution_count": 45,
   "metadata": {},
   "outputs": [
    {
     "data": {
      "text/plain": [
       "Text(0, 0.5, 'Loss (MAE)')"
      ]
     },
     "execution_count": 45,
     "metadata": {},
     "output_type": "execute_result"
    },
    {
     "data": {
      "image/png": "[encoded data removed]",
      "text/plain": [
       "<Figure size 1152x288 with 1 Axes>"
      ]
     },
     "metadata": {
      "needs_background": "light"
     },
     "output_type": "display_data"
    }
   ],
   "source": [
    "scored_test.plot(logy=True,  figsize = (16,4), xlim =[0,len(scored_test)])\n",
    "plt.xlabel('Data points')\n",
    "plt.ylabel('Loss (MAE)')"
   ]
  },
  {
   "cell_type": "code",
   "execution_count": 46,
   "metadata": {},
   "outputs": [
    {
     "name": "stdout",
     "output_type": "stream",
     "text": [
      "        Loss_mae  Threshold  Anomaly\n",
      "399642  0.103615        0.1     True\n",
      "401331  0.111130        0.1     True\n",
      "402154  0.128573        0.1     True\n",
      "402248  0.118275        0.1     True\n",
      "404069  0.131392        0.1     True\n",
      "...          ...        ...      ...\n",
      "766496  0.101459        0.1     True\n",
      "767392  0.103361        0.1     True\n",
      "773811  0.113023        0.1     True\n",
      "773929  0.115230        0.1     True\n",
      "775902  0.115230        0.1     True\n",
      "\n",
      "[356 rows x 3 columns]\n",
      "(356, 3)\n"
     ]
    }
   ],
   "source": [
    "IR_anomalies = scored_test[scored_test['Anomaly'] == True]\n",
    "print(IR_anomalies)\n",
    "print(IR_anomalies.shape)"
   ]
  },
  {
   "cell_type": "code",
   "execution_count": 47,
   "metadata": {},
   "outputs": [
    {
     "data": {
      "image/png": "[encoded data removed]",
      "text/plain": [
       "<Figure size 1296x432 with 1 Axes>"
      ]
     },
     "metadata": {
      "needs_background": "light"
     },
     "output_type": "display_data"
    }
   ],
   "source": [
    "f, (ax2) = plt.subplots(figsize=(18, 6))\n",
    "ax2.plot(scored_test.index, scored_test.Loss_mae, label='Loss(MAE)');\n",
    "ax2.plot(scored_test.index, scored_test.Threshold, label='Threshold')\n",
    "g = sns.scatterplot(x=IR_anomalies.index , y=IR_anomalies.Loss_mae, label='anomaly', color='red')\n",
    "g.set(xlim = (0, len(scored_test.index)))\n",
    "plt.title('Anomalies')\n",
    "plt.xlabel('Data points')\n",
    "plt.ylabel('Loss (MAE)')\n",
    "plt.legend();"
   ]
  },
  {
   "cell_type": "code",
   "execution_count": 48,
   "metadata": {},
   "outputs": [
    {
     "name": "stdout",
     "output_type": "stream",
     "text": [
      "0.9997555613517761\n"
     ]
    }
   ],
   "source": [
    "print(score[1])"
   ]
  },
  {
   "cell_type": "code",
   "execution_count": 49,
   "metadata": {},
   "outputs": [
    {
     "name": "stdout",
     "output_type": "stream",
     "text": [
      "Accuracy: 99.98%\n"
     ]
    }
   ],
   "source": [
    "print(\"Accuracy: {:.2f}%\".format(score[1]*100))"
   ]
  },
  {
   "cell_type": "code",
   "execution_count": 50,
   "metadata": {},
   "outputs": [
    {
     "name": "stdout",
     "output_type": "stream",
     "text": [
      "Anomalies: 356\n"
     ]
    }
   ],
   "source": [
    "print(\"Anomalies: {}\".format(IR_anomalies['Anomaly'].count()))"
   ]
  },
  {
   "cell_type": "code",
   "execution_count": 51,
   "metadata": {},
   "outputs": [],
   "source": [
    "# Seperating Normal and Faulty dataset\n",
    "x = scored_test['Anomaly'].count() / 2"
   ]
  },
  {
   "cell_type": "code",
   "execution_count": 52,
   "metadata": {},
   "outputs": [
    {
     "data": {
      "text/html": [
       "<div>\n",
       "<style scoped>\n",
       "    .dataframe tbody tr th:only-of-type {\n",
       "        vertical-align: middle;\n",
       "    }\n",
       "\n",
       "    .dataframe tbody tr th {\n",
       "        vertical-align: top;\n",
       "    }\n",
       "\n",
       "    .dataframe thead th {\n",
       "        text-align: right;\n",
       "    }\n",
       "</style>\n",
       "<table border=\"1\" class=\"dataframe\">\n",
       "  <thead>\n",
       "    <tr style=\"text-align: right;\">\n",
       "      <th></th>\n",
       "      <th>Loss_mae</th>\n",
       "      <th>Threshold</th>\n",
       "      <th>Anomaly</th>\n",
       "    </tr>\n",
       "  </thead>\n",
       "  <tbody>\n",
       "    <tr>\n",
       "      <th>0</th>\n",
       "      <td>0.005845</td>\n",
       "      <td>0.1</td>\n",
       "      <td>False</td>\n",
       "    </tr>\n",
       "    <tr>\n",
       "      <th>1</th>\n",
       "      <td>0.005692</td>\n",
       "      <td>0.1</td>\n",
       "      <td>False</td>\n",
       "    </tr>\n",
       "    <tr>\n",
       "      <th>2</th>\n",
       "      <td>0.005649</td>\n",
       "      <td>0.1</td>\n",
       "      <td>False</td>\n",
       "    </tr>\n",
       "    <tr>\n",
       "      <th>3</th>\n",
       "      <td>0.005821</td>\n",
       "      <td>0.1</td>\n",
       "      <td>False</td>\n",
       "    </tr>\n",
       "    <tr>\n",
       "      <th>4</th>\n",
       "      <td>0.005701</td>\n",
       "      <td>0.1</td>\n",
       "      <td>False</td>\n",
       "    </tr>\n",
       "    <tr>\n",
       "      <th>...</th>\n",
       "      <td>...</td>\n",
       "      <td>...</td>\n",
       "      <td>...</td>\n",
       "    </tr>\n",
       "    <tr>\n",
       "      <th>388679</th>\n",
       "      <td>0.005638</td>\n",
       "      <td>0.1</td>\n",
       "      <td>False</td>\n",
       "    </tr>\n",
       "    <tr>\n",
       "      <th>388680</th>\n",
       "      <td>0.005791</td>\n",
       "      <td>0.1</td>\n",
       "      <td>False</td>\n",
       "    </tr>\n",
       "    <tr>\n",
       "      <th>388681</th>\n",
       "      <td>0.005593</td>\n",
       "      <td>0.1</td>\n",
       "      <td>False</td>\n",
       "    </tr>\n",
       "    <tr>\n",
       "      <th>388682</th>\n",
       "      <td>0.005620</td>\n",
       "      <td>0.1</td>\n",
       "      <td>False</td>\n",
       "    </tr>\n",
       "    <tr>\n",
       "      <th>388683</th>\n",
       "      <td>0.005695</td>\n",
       "      <td>0.1</td>\n",
       "      <td>False</td>\n",
       "    </tr>\n",
       "  </tbody>\n",
       "</table>\n",
       "<p>388684 rows × 3 columns</p>\n",
       "</div>"
      ],
      "text/plain": [
       "        Loss_mae  Threshold  Anomaly\n",
       "0       0.005845        0.1    False\n",
       "1       0.005692        0.1    False\n",
       "2       0.005649        0.1    False\n",
       "3       0.005821        0.1    False\n",
       "4       0.005701        0.1    False\n",
       "...          ...        ...      ...\n",
       "388679  0.005638        0.1    False\n",
       "388680  0.005791        0.1    False\n",
       "388681  0.005593        0.1    False\n",
       "388682  0.005620        0.1    False\n",
       "388683  0.005695        0.1    False\n",
       "\n",
       "[388684 rows x 3 columns]"
      ]
     },
     "execution_count": 52,
     "metadata": {},
     "output_type": "execute_result"
    }
   ],
   "source": [
    "normal_test = scored_test[scored_test.index < x]\n",
    "normal_test"
   ]
  },
  {
   "cell_type": "code",
   "execution_count": 53,
   "metadata": {},
   "outputs": [
    {
     "data": {
      "text/html": [
       "<div>\n",
       "<style scoped>\n",
       "    .dataframe tbody tr th:only-of-type {\n",
       "        vertical-align: middle;\n",
       "    }\n",
       "\n",
       "    .dataframe tbody tr th {\n",
       "        vertical-align: top;\n",
       "    }\n",
       "\n",
       "    .dataframe thead th {\n",
       "        text-align: right;\n",
       "    }\n",
       "</style>\n",
       "<table border=\"1\" class=\"dataframe\">\n",
       "  <thead>\n",
       "    <tr style=\"text-align: right;\">\n",
       "      <th></th>\n",
       "      <th>Loss_mae</th>\n",
       "      <th>Threshold</th>\n",
       "      <th>Anomaly</th>\n",
       "    </tr>\n",
       "  </thead>\n",
       "  <tbody>\n",
       "    <tr>\n",
       "      <th>388684</th>\n",
       "      <td>0.005666</td>\n",
       "      <td>0.1</td>\n",
       "      <td>False</td>\n",
       "    </tr>\n",
       "    <tr>\n",
       "      <th>388685</th>\n",
       "      <td>0.005737</td>\n",
       "      <td>0.1</td>\n",
       "      <td>False</td>\n",
       "    </tr>\n",
       "    <tr>\n",
       "      <th>388686</th>\n",
       "      <td>0.005686</td>\n",
       "      <td>0.1</td>\n",
       "      <td>False</td>\n",
       "    </tr>\n",
       "    <tr>\n",
       "      <th>388687</th>\n",
       "      <td>0.006031</td>\n",
       "      <td>0.1</td>\n",
       "      <td>False</td>\n",
       "    </tr>\n",
       "    <tr>\n",
       "      <th>388688</th>\n",
       "      <td>0.005970</td>\n",
       "      <td>0.1</td>\n",
       "      <td>False</td>\n",
       "    </tr>\n",
       "    <tr>\n",
       "      <th>...</th>\n",
       "      <td>...</td>\n",
       "      <td>...</td>\n",
       "      <td>...</td>\n",
       "    </tr>\n",
       "    <tr>\n",
       "      <th>777363</th>\n",
       "      <td>0.010283</td>\n",
       "      <td>0.1</td>\n",
       "      <td>False</td>\n",
       "    </tr>\n",
       "    <tr>\n",
       "      <th>777364</th>\n",
       "      <td>0.016112</td>\n",
       "      <td>0.1</td>\n",
       "      <td>False</td>\n",
       "    </tr>\n",
       "    <tr>\n",
       "      <th>777365</th>\n",
       "      <td>0.038794</td>\n",
       "      <td>0.1</td>\n",
       "      <td>False</td>\n",
       "    </tr>\n",
       "    <tr>\n",
       "      <th>777366</th>\n",
       "      <td>0.013563</td>\n",
       "      <td>0.1</td>\n",
       "      <td>False</td>\n",
       "    </tr>\n",
       "    <tr>\n",
       "      <th>777367</th>\n",
       "      <td>0.007186</td>\n",
       "      <td>0.1</td>\n",
       "      <td>False</td>\n",
       "    </tr>\n",
       "  </tbody>\n",
       "</table>\n",
       "<p>388684 rows × 3 columns</p>\n",
       "</div>"
      ],
      "text/plain": [
       "        Loss_mae  Threshold  Anomaly\n",
       "388684  0.005666        0.1    False\n",
       "388685  0.005737        0.1    False\n",
       "388686  0.005686        0.1    False\n",
       "388687  0.006031        0.1    False\n",
       "388688  0.005970        0.1    False\n",
       "...          ...        ...      ...\n",
       "777363  0.010283        0.1    False\n",
       "777364  0.016112        0.1    False\n",
       "777365  0.038794        0.1    False\n",
       "777366  0.013563        0.1    False\n",
       "777367  0.007186        0.1    False\n",
       "\n",
       "[388684 rows x 3 columns]"
      ]
     },
     "execution_count": 53,
     "metadata": {},
     "output_type": "execute_result"
    }
   ],
   "source": [
    "IR_test = scored_test[scored_test.index >= x]\n",
    "IR_test"
   ]
  },
  {
   "cell_type": "code",
   "execution_count": 54,
   "metadata": {},
   "outputs": [
    {
     "name": "stdout",
     "output_type": "stream",
     "text": [
      "True Positives: 388684\n",
      "False Positives: 0\n",
      "True Negatives: 356\n",
      "False Negatives: 388328\n"
     ]
    }
   ],
   "source": [
    "TP = normal_test[normal_test['Anomaly'] == False]\n",
    "TP = TP['Anomaly'].count()\n",
    "print(\"True Positives: {}\".format(TP))\n",
    "\n",
    "FP = normal_test[normal_test['Anomaly'] == True]\n",
    "FP = FP['Anomaly'].count()\n",
    "print(\"False Positives: {}\".format(FP))\n",
    "\n",
    "TN = IR_test[IR_test['Anomaly'] == True]\n",
    "TN = TN['Anomaly'].count()\n",
    "print(\"True Negatives: {}\".format(TN))\n",
    "\n",
    "FN = IR_test[IR_test['Anomaly'] == False]\n",
    "FN = FN['Anomaly'].count()\n",
    "print(\"False Negatives: {}\".format(FN))"
   ]
  },
  {
   "cell_type": "code",
   "execution_count": 55,
   "metadata": {},
   "outputs": [
    {
     "name": "stdout",
     "output_type": "stream",
     "text": [
      "Precision: 100.00%\n",
      "Recall: 50.023%\n",
      "F1 Score: 66.69%\n",
      "Accuracy: 50.05%\n"
     ]
    }
   ],
   "source": [
    "Precision = TP / (TP + FP)\n",
    "print(\"Precision: {:.2f}%\".format(Precision*100))\n",
    "\n",
    "Recall = TP / (TP + FN)\n",
    "print(\"Recall: {:.3f}%\".format(Recall*100))\n",
    "\n",
    "F1Score = (2*Precision*Recall)/(Precision+Recall)\n",
    "print(\"F1 Score: {:.2f}%\".format(F1Score*100))\n",
    "\n",
    "Accuracy = ( TP + TN ) / ( TP + TN + FN + FP )\n",
    "print(\"Accuracy: {:.2f}%\".format(Accuracy*100))"
   ]
  },
  {
   "cell_type": "code",
   "execution_count": null,
   "metadata": {},
   "outputs": [],
   "source": []
  }
 ],
 "metadata": {
  "kernelspec": {
   "display_name": "Python 3",
   "language": "python",
   "name": "python3"
  },
  "language_info": {
   "codemirror_mode": {
    "name": "ipython",
    "version": 3
   },
   "file_extension": ".py",
   "mimetype": "text/x-python",
   "name": "python",
   "nbconvert_exporter": "python",
   "pygments_lexer": "ipython3",
   "version": "3.8.5"
  }
 },
 "nbformat": 4,
 "nbformat_minor": 4
}
