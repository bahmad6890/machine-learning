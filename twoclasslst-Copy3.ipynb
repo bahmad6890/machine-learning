{
 "cells": [
  {
   "cell_type": "raw",
   "metadata": {},
   "source": [
    "# By increasing the test data to 30% and reduce dense layer to 10 from 32 also add two more parameters (use_bias = True , bias_initializer = 'zero') in model test accuracy improved to 72 %"
   ]
  },
  {
   "cell_type": "code",
   "execution_count": 1,
   "metadata": {},
   "outputs": [],
   "source": [
    "#importing packages\n",
    "import pandas as pd\n",
    "import numpy as np"
   ]
  },
  {
   "cell_type": "code",
   "execution_count": 2,
   "metadata": {},
   "outputs": [],
   "source": [
    "X = pd.read_csv('HealtyNormalized.csv')\n",
    "# Importing the dataset\n",
    "X['Fault'] = 0\n",
    "\n",
    "y = pd.read_csv('combinedFault.csv')\n",
    "y['Fault'] = 1\n"
   ]
  },
  {
   "cell_type": "code",
   "execution_count": 3,
   "metadata": {},
   "outputs": [
    {
     "data": {
      "text/plain": [
       "(        vsH       vbH  Fault\n",
       " 0  0.000998 -0.000217      0\n",
       " 1  0.001001 -0.000185      0\n",
       " 2  0.001002 -0.000152      0\n",
       " 3  0.001007 -0.000185      0\n",
       " 4  0.001010 -0.000217      0,\n",
       "         vsC       vbC  Fault\n",
       " 0  0.039634  0.018847      1\n",
       " 1  0.039634  0.018847      1\n",
       " 2  0.039634  0.018518      1\n",
       " 3  3.632150  0.015887      1\n",
       " 4  4.148328  0.018518      1)"
      ]
     },
     "execution_count": 3,
     "metadata": {},
     "output_type": "execute_result"
    }
   ],
   "source": [
    "X.head(), y.head()"
   ]
  },
  {
   "cell_type": "code",
   "execution_count": 4,
   "metadata": {},
   "outputs": [],
   "source": [
    "X = X.rename(columns={\"vsH\": \"speed\", \"vbH\": \"vibration\"})\n",
    "y = y.rename(columns={\"vsC\": \"speed\", \"vbC\": \"vibration\"})"
   ]
  },
  {
   "cell_type": "code",
   "execution_count": 5,
   "metadata": {},
   "outputs": [
    {
     "data": {
      "text/plain": [
       "(      speed  vibration  Fault\n",
       " 0  0.000998  -0.000217      0\n",
       " 1  0.001001  -0.000185      0\n",
       " 2  0.001002  -0.000152      0\n",
       " 3  0.001007  -0.000185      0\n",
       " 4  0.001010  -0.000217      0,\n",
       "       speed  vibration  Fault\n",
       " 0  0.039634   0.018847      1\n",
       " 1  0.039634   0.018847      1\n",
       " 2  0.039634   0.018518      1\n",
       " 3  3.632150   0.015887      1\n",
       " 4  4.148328   0.018518      1)"
      ]
     },
     "execution_count": 5,
     "metadata": {},
     "output_type": "execute_result"
    }
   ],
   "source": [
    "X.head(), y.head()"
   ]
  },
  {
   "cell_type": "code",
   "execution_count": 6,
   "metadata": {},
   "outputs": [],
   "source": [
    "import seaborn as sb \n",
    "from pylab import rcParams"
   ]
  },
  {
   "cell_type": "code",
   "execution_count": 7,
   "metadata": {},
   "outputs": [
    {
     "data": {
      "text/plain": [
       "\"\\n\\n%matplotlib inline\\nrcParams['figure.figsize'] = 5,4\\nsb.set_style('whitegrid')\\nplt.rcParams['agg.path.chunksize'] = 20000000\\n\""
      ]
     },
     "execution_count": 7,
     "metadata": {},
     "output_type": "execute_result"
    }
   ],
   "source": [
    "\"\"\"\n",
    "\n",
    "%matplotlib inline\n",
    "rcParams['figure.figsize'] = 5,4\n",
    "sb.set_style('whitegrid')\n",
    "plt.rcParams['agg.path.chunksize'] = 20000000\n",
    "\"\"\""
   ]
  },
  {
   "cell_type": "code",
   "execution_count": 8,
   "metadata": {},
   "outputs": [
    {
     "name": "stderr",
     "output_type": "stream",
     "text": [
      "C:\\Users\\bahma\\.conda\\envs\\svm\\lib\\site-packages\\seaborn\\_decorators.py:36: FutureWarning: Pass the following variable as a keyword arg: x. From version 0.12, the only valid positional argument will be `data`, and passing other arguments without an explicit keyword will result in an error or misinterpretation.\n",
      "  warnings.warn(\n"
     ]
    },
    {
     "data": {
      "text/plain": [
       "<AxesSubplot:xlabel='vibration'>"
      ]
     },
     "execution_count": 8,
     "metadata": {},
     "output_type": "execute_result"
    },
    {
     "data": {
      "image/png": "[encoded data removed]",
      "text/plain": [
       "<Figure size 432x288 with 1 Axes>"
      ]
     },
     "metadata": {
      "needs_background": "light"
     },
     "output_type": "display_data"
    }
   ],
   "source": [
    "sb.boxplot(X['vibration'])"
   ]
  },
  {
   "cell_type": "code",
   "execution_count": 9,
   "metadata": {},
   "outputs": [],
   "source": [
    "def find_normal_boundaries(df, variable):    \n",
    "    # calculate the boundaries outside which lie the outliers for a Gaussian distribution    \n",
    "    upper_boundary = df[variable].mean() + 10 * df[variable].std()\n",
    "    lower_boundary = df[variable].mean() - 10 * df[variable].std()    \n",
    "    return upper_boundary, lower_boundary\n"
   ]
  },
  {
   "cell_type": "code",
   "execution_count": 10,
   "metadata": {},
   "outputs": [
    {
     "name": "stdout",
     "output_type": "stream",
     "text": [
      "0.0071039730976409105 -0.0070003626852839\n"
     ]
    }
   ],
   "source": [
    "upper_boundary, lower_boundary = find_normal_boundaries(X, 'vibration')\n",
    "print(upper_boundary, lower_boundary)"
   ]
  },
  {
   "cell_type": "code",
   "execution_count": 11,
   "metadata": {},
   "outputs": [
    {
     "name": "stderr",
     "output_type": "stream",
     "text": [
      "C:\\Users\\bahma\\.conda\\envs\\svm\\lib\\site-packages\\seaborn\\_decorators.py:36: FutureWarning: Pass the following variable as a keyword arg: x. From version 0.12, the only valid positional argument will be `data`, and passing other arguments without an explicit keyword will result in an error or misinterpretation.\n",
      "  warnings.warn(\n"
     ]
    },
    {
     "data": {
      "text/plain": [
       "<AxesSubplot:xlabel='vibration'>"
      ]
     },
     "execution_count": 11,
     "metadata": {},
     "output_type": "execute_result"
    },
    {
     "data": {
      "image/png": "[encoded data removed]",
      "text/plain": [
       "<Figure size 432x288 with 1 Axes>"
      ]
     },
     "metadata": {
      "needs_background": "light"
     },
     "output_type": "display_data"
    }
   ],
   "source": [
    "upper_boundary = 0.007\n",
    "lower_boundary = -0.003\n",
    "\n",
    "data2 = X[(X['vibration']<upper_boundary) & (X['vibration']>lower_boundary)]\n",
    "\n",
    "X = data2\n",
    "X.describe()\n",
    "\n",
    "sb.boxplot(X['vibration'])"
   ]
  },
  {
   "cell_type": "code",
   "execution_count": 12,
   "metadata": {},
   "outputs": [
    {
     "name": "stderr",
     "output_type": "stream",
     "text": [
      "C:\\Users\\bahma\\.conda\\envs\\svm\\lib\\site-packages\\seaborn\\_decorators.py:36: FutureWarning: Pass the following variable as a keyword arg: x. From version 0.12, the only valid positional argument will be `data`, and passing other arguments without an explicit keyword will result in an error or misinterpretation.\n",
      "  warnings.warn(\n"
     ]
    },
    {
     "data": {
      "text/plain": [
       "<AxesSubplot:xlabel='vibration'>"
      ]
     },
     "execution_count": 12,
     "metadata": {},
     "output_type": "execute_result"
    },
    {
     "data": {
      "image/png": "[encoded data removed]",
      "text/plain": [
       "<Figure size 432x288 with 1 Axes>"
      ]
     },
     "metadata": {
      "needs_background": "light"
     },
     "output_type": "display_data"
    }
   ],
   "source": [
    "upper_boundary = 0.003\n",
    "lower_boundary = -0.003\n",
    "\n",
    "data2 = X[(X['vibration']<upper_boundary) & (X['vibration']>lower_boundary)]\n",
    "\n",
    "X = data2\n",
    "X.describe()\n",
    "\n",
    "sb.boxplot(X['vibration'])"
   ]
  },
  {
   "cell_type": "code",
   "execution_count": 13,
   "metadata": {},
   "outputs": [
    {
     "name": "stderr",
     "output_type": "stream",
     "text": [
      "C:\\Users\\bahma\\.conda\\envs\\svm\\lib\\site-packages\\seaborn\\_decorators.py:36: FutureWarning: Pass the following variable as a keyword arg: x. From version 0.12, the only valid positional argument will be `data`, and passing other arguments without an explicit keyword will result in an error or misinterpretation.\n",
      "  warnings.warn(\n"
     ]
    },
    {
     "data": {
      "text/plain": [
       "<AxesSubplot:xlabel='vibration'>"
      ]
     },
     "execution_count": 13,
     "metadata": {},
     "output_type": "execute_result"
    },
    {
     "data": {
      "image/png": "[encoded data removed]",
      "text/plain": [
       "<Figure size 432x288 with 1 Axes>"
      ]
     },
     "metadata": {
      "needs_background": "light"
     },
     "output_type": "display_data"
    }
   ],
   "source": [
    "sb.boxplot(y['vibration'])"
   ]
  },
  {
   "cell_type": "code",
   "execution_count": 14,
   "metadata": {},
   "outputs": [
    {
     "name": "stdout",
     "output_type": "stream",
     "text": [
      "0.3326969678558227 -0.3299069979161344\n"
     ]
    }
   ],
   "source": [
    "upper_boundary, lower_boundary = find_normal_boundaries(y, 'vibration')\n",
    "print(upper_boundary, lower_boundary)"
   ]
  },
  {
   "cell_type": "code",
   "execution_count": 15,
   "metadata": {},
   "outputs": [
    {
     "name": "stderr",
     "output_type": "stream",
     "text": [
      "C:\\Users\\bahma\\.conda\\envs\\svm\\lib\\site-packages\\seaborn\\_decorators.py:36: FutureWarning: Pass the following variable as a keyword arg: x. From version 0.12, the only valid positional argument will be `data`, and passing other arguments without an explicit keyword will result in an error or misinterpretation.\n",
      "  warnings.warn(\n"
     ]
    },
    {
     "data": {
      "text/plain": [
       "<AxesSubplot:xlabel='vibration'>"
      ]
     },
     "execution_count": 15,
     "metadata": {},
     "output_type": "execute_result"
    },
    {
     "data": {
      "image/png": "[encoded data removed]",
      "text/plain": [
       "<Figure size 432x288 with 1 Axes>"
      ]
     },
     "metadata": {
      "needs_background": "light"
     },
     "output_type": "display_data"
    }
   ],
   "source": [
    "upper_boundary = 0.6\n",
    "lower_boundary = -0.6\n",
    "\n",
    "data2 = y[(y['vibration']<upper_boundary) & (y['vibration']>lower_boundary)]\n",
    "\n",
    "y = data2\n",
    "y.describe()\n",
    "\n",
    "sb.boxplot(y['vibration'])"
   ]
  },
  {
   "cell_type": "code",
   "execution_count": 16,
   "metadata": {},
   "outputs": [],
   "source": [
    "from sklearn.model_selection import train_test_split\n",
    "X_train, X_test = train_test_split(X, test_size = 0.33, random_state = 0)\n",
    "\n",
    "y_train, y_test = train_test_split(y, test_size = 0.33, random_state = 0)"
   ]
  },
  {
   "cell_type": "code",
   "execution_count": 17,
   "metadata": {},
   "outputs": [
    {
     "data": {
      "text/html": [
       "<div>\n",
       "<style scoped>\n",
       "    .dataframe tbody tr th:only-of-type {\n",
       "        vertical-align: middle;\n",
       "    }\n",
       "\n",
       "    .dataframe tbody tr th {\n",
       "        vertical-align: top;\n",
       "    }\n",
       "\n",
       "    .dataframe thead th {\n",
       "        text-align: right;\n",
       "    }\n",
       "</style>\n",
       "<table border=\"1\" class=\"dataframe\">\n",
       "  <thead>\n",
       "    <tr style=\"text-align: right;\">\n",
       "      <th></th>\n",
       "      <th>speed</th>\n",
       "      <th>vibration</th>\n",
       "      <th>Fault</th>\n",
       "    </tr>\n",
       "  </thead>\n",
       "  <tbody>\n",
       "    <tr>\n",
       "      <th>572012</th>\n",
       "      <td>0.000009</td>\n",
       "      <td>-0.000445</td>\n",
       "      <td>0</td>\n",
       "    </tr>\n",
       "    <tr>\n",
       "      <th>1435082</th>\n",
       "      <td>0.000955</td>\n",
       "      <td>-0.000705</td>\n",
       "      <td>0</td>\n",
       "    </tr>\n",
       "    <tr>\n",
       "      <th>1803224</th>\n",
       "      <td>0.001022</td>\n",
       "      <td>-0.000250</td>\n",
       "      <td>0</td>\n",
       "    </tr>\n",
       "    <tr>\n",
       "      <th>615049</th>\n",
       "      <td>0.000998</td>\n",
       "      <td>-0.000315</td>\n",
       "      <td>0</td>\n",
       "    </tr>\n",
       "    <tr>\n",
       "      <th>1558947</th>\n",
       "      <td>0.000009</td>\n",
       "      <td>0.001408</td>\n",
       "      <td>0</td>\n",
       "    </tr>\n",
       "    <tr>\n",
       "      <th>...</th>\n",
       "      <td>...</td>\n",
       "      <td>...</td>\n",
       "      <td>...</td>\n",
       "    </tr>\n",
       "    <tr>\n",
       "      <th>152315</th>\n",
       "      <td>4.231508</td>\n",
       "      <td>0.008324</td>\n",
       "      <td>1</td>\n",
       "    </tr>\n",
       "    <tr>\n",
       "      <th>963398</th>\n",
       "      <td>0.039634</td>\n",
       "      <td>0.023451</td>\n",
       "      <td>1</td>\n",
       "    </tr>\n",
       "    <tr>\n",
       "      <th>117952</th>\n",
       "      <td>0.041935</td>\n",
       "      <td>-0.019957</td>\n",
       "      <td>1</td>\n",
       "    </tr>\n",
       "    <tr>\n",
       "      <th>1484420</th>\n",
       "      <td>0.039305</td>\n",
       "      <td>0.007666</td>\n",
       "      <td>1</td>\n",
       "    </tr>\n",
       "    <tr>\n",
       "      <th>305711</th>\n",
       "      <td>0.039634</td>\n",
       "      <td>-0.008776</td>\n",
       "      <td>1</td>\n",
       "    </tr>\n",
       "  </tbody>\n",
       "</table>\n",
       "<p>2604180 rows × 3 columns</p>\n",
       "</div>"
      ],
      "text/plain": [
       "            speed  vibration  Fault\n",
       "572012   0.000009  -0.000445      0\n",
       "1435082  0.000955  -0.000705      0\n",
       "1803224  0.001022  -0.000250      0\n",
       "615049   0.000998  -0.000315      0\n",
       "1558947  0.000009   0.001408      0\n",
       "...           ...        ...    ...\n",
       "152315   4.231508   0.008324      1\n",
       "963398   0.039634   0.023451      1\n",
       "117952   0.041935  -0.019957      1\n",
       "1484420  0.039305   0.007666      1\n",
       "305711   0.039634  -0.008776      1\n",
       "\n",
       "[2604180 rows x 3 columns]"
      ]
     },
     "execution_count": 17,
     "metadata": {},
     "output_type": "execute_result"
    }
   ],
   "source": [
    "train = X_train.append(y_train)\n",
    "train"
   ]
  },
  {
   "cell_type": "code",
   "execution_count": 18,
   "metadata": {},
   "outputs": [
    {
     "data": {
      "text/html": [
       "<div>\n",
       "<style scoped>\n",
       "    .dataframe tbody tr th:only-of-type {\n",
       "        vertical-align: middle;\n",
       "    }\n",
       "\n",
       "    .dataframe tbody tr th {\n",
       "        vertical-align: top;\n",
       "    }\n",
       "\n",
       "    .dataframe thead th {\n",
       "        text-align: right;\n",
       "    }\n",
       "</style>\n",
       "<table border=\"1\" class=\"dataframe\">\n",
       "  <thead>\n",
       "    <tr style=\"text-align: right;\">\n",
       "      <th></th>\n",
       "      <th>speed</th>\n",
       "      <th>vibration</th>\n",
       "      <th>Fault</th>\n",
       "    </tr>\n",
       "  </thead>\n",
       "  <tbody>\n",
       "    <tr>\n",
       "      <th>1456698</th>\n",
       "      <td>0.000009</td>\n",
       "      <td>-0.000575</td>\n",
       "      <td>0</td>\n",
       "    </tr>\n",
       "    <tr>\n",
       "      <th>1704724</th>\n",
       "      <td>0.000009</td>\n",
       "      <td>-0.000022</td>\n",
       "      <td>0</td>\n",
       "    </tr>\n",
       "    <tr>\n",
       "      <th>850351</th>\n",
       "      <td>0.000990</td>\n",
       "      <td>0.000465</td>\n",
       "      <td>0</td>\n",
       "    </tr>\n",
       "    <tr>\n",
       "      <th>1821345</th>\n",
       "      <td>0.001003</td>\n",
       "      <td>0.001083</td>\n",
       "      <td>0</td>\n",
       "    </tr>\n",
       "    <tr>\n",
       "      <th>892141</th>\n",
       "      <td>0.000009</td>\n",
       "      <td>-0.000055</td>\n",
       "      <td>0</td>\n",
       "    </tr>\n",
       "    <tr>\n",
       "      <th>...</th>\n",
       "      <td>...</td>\n",
       "      <td>...</td>\n",
       "      <td>...</td>\n",
       "    </tr>\n",
       "    <tr>\n",
       "      <th>1606811</th>\n",
       "      <td>3.977035</td>\n",
       "      <td>-0.096579</td>\n",
       "      <td>1</td>\n",
       "    </tr>\n",
       "    <tr>\n",
       "      <th>1209632</th>\n",
       "      <td>0.039634</td>\n",
       "      <td>-0.021930</td>\n",
       "      <td>1</td>\n",
       "    </tr>\n",
       "    <tr>\n",
       "      <th>228475</th>\n",
       "      <td>4.257481</td>\n",
       "      <td>0.009639</td>\n",
       "      <td>1</td>\n",
       "    </tr>\n",
       "    <tr>\n",
       "      <th>261846</th>\n",
       "      <td>0.039634</td>\n",
       "      <td>0.007008</td>\n",
       "      <td>1</td>\n",
       "    </tr>\n",
       "    <tr>\n",
       "      <th>703317</th>\n",
       "      <td>0.039634</td>\n",
       "      <td>0.022793</td>\n",
       "      <td>1</td>\n",
       "    </tr>\n",
       "  </tbody>\n",
       "</table>\n",
       "<p>1282657 rows × 3 columns</p>\n",
       "</div>"
      ],
      "text/plain": [
       "            speed  vibration  Fault\n",
       "1456698  0.000009  -0.000575      0\n",
       "1704724  0.000009  -0.000022      0\n",
       "850351   0.000990   0.000465      0\n",
       "1821345  0.001003   0.001083      0\n",
       "892141   0.000009  -0.000055      0\n",
       "...           ...        ...    ...\n",
       "1606811  3.977035  -0.096579      1\n",
       "1209632  0.039634  -0.021930      1\n",
       "228475   4.257481   0.009639      1\n",
       "261846   0.039634   0.007008      1\n",
       "703317   0.039634   0.022793      1\n",
       "\n",
       "[1282657 rows x 3 columns]"
      ]
     },
     "execution_count": 18,
     "metadata": {},
     "output_type": "execute_result"
    }
   ],
   "source": [
    "test = X_test.append(y_test)\n",
    "test"
   ]
  },
  {
   "cell_type": "code",
   "execution_count": 19,
   "metadata": {},
   "outputs": [],
   "source": [
    "from sklearn.preprocessing import MinMaxScaler\n",
    "scaler = MinMaxScaler()\n",
    "train = pd.DataFrame(scaler.fit_transform(train))\n",
    "train.sample(frac=1)\n",
    "\n",
    "test = pd.DataFrame(scaler.transform(test))"
   ]
  },
  {
   "cell_type": "code",
   "execution_count": 20,
   "metadata": {},
   "outputs": [
    {
     "data": {
      "text/plain": [
       "(2604180, 3)"
      ]
     },
     "execution_count": 20,
     "metadata": {},
     "output_type": "execute_result"
    }
   ],
   "source": [
    "train.shape"
   ]
  },
  {
   "cell_type": "code",
   "execution_count": 21,
   "metadata": {},
   "outputs": [
    {
     "data": {
      "text/plain": [
       "(1282657, 3)"
      ]
     },
     "execution_count": 21,
     "metadata": {},
     "output_type": "execute_result"
    }
   ],
   "source": [
    "test.shape"
   ]
  },
  {
   "cell_type": "code",
   "execution_count": 22,
   "metadata": {},
   "outputs": [],
   "source": [
    "train = train.values.reshape(-1, 1, 3)"
   ]
  },
  {
   "cell_type": "code",
   "execution_count": 23,
   "metadata": {},
   "outputs": [],
   "source": [
    "test  = test.values.reshape(-1, 1, 3)"
   ]
  },
  {
   "cell_type": "code",
   "execution_count": 24,
   "metadata": {},
   "outputs": [
    {
     "data": {
      "text/plain": [
       "(2604180, 1, 3)"
      ]
     },
     "execution_count": 24,
     "metadata": {},
     "output_type": "execute_result"
    }
   ],
   "source": [
    "#pip install keras\n",
    "train.shape"
   ]
  },
  {
   "cell_type": "code",
   "execution_count": 25,
   "metadata": {},
   "outputs": [
    {
     "data": {
      "text/plain": [
       "(1282657, 1, 3)"
      ]
     },
     "execution_count": 25,
     "metadata": {},
     "output_type": "execute_result"
    }
   ],
   "source": [
    "test.shape"
   ]
  },
  {
   "cell_type": "code",
   "execution_count": 26,
   "metadata": {},
   "outputs": [],
   "source": [
    "from keras.layers import Input, Dropout, Dense, LSTM, RepeatVector, TimeDistributed\n",
    "from keras.models import Model, Sequential, load_model\n",
    "from keras import regularizers"
   ]
  },
  {
   "cell_type": "code",
   "execution_count": 27,
   "metadata": {},
   "outputs": [
    {
     "data": {
      "text/plain": [
       "\" # Input layer:\\nmodel=Sequential([\\n    LSTM(32, activation='relu', input_shape=(train.shape[1],train.shape[2])),\\n    Dropout(0.2),\\n    RepeatVector(train.shape[1]),\\n    LSTM(32, activation='relu', return_sequences=True),\\n    Dropout(0.2),\\n    TimeDistributed(Dense(train.shape[2]))\\n])\\n\\nmodel.compile(loss='mse',optimizer='adam', metrics=['accuracy'])\\nmodel.summary()\""
      ]
     },
     "execution_count": 27,
     "metadata": {},
     "output_type": "execute_result"
    }
   ],
   "source": [
    "\"\"\" # Input layer:\n",
    "model=Sequential([\n",
    "    LSTM(32, activation='relu', input_shape=(train.shape[1],train.shape[2])),\n",
    "    Dropout(0.2),\n",
    "    RepeatVector(train.shape[1]),\n",
    "    LSTM(32, activation='relu', return_sequences=True),\n",
    "    Dropout(0.2),\n",
    "    TimeDistributed(Dense(train.shape[2]))\n",
    "])\n",
    "\n",
    "model.compile(loss='mse',optimizer='adam', metrics=['accuracy'])\n",
    "model.summary()\"\"\""
   ]
  },
  {
   "cell_type": "code",
   "execution_count": 28,
   "metadata": {},
   "outputs": [
    {
     "name": "stdout",
     "output_type": "stream",
     "text": [
      "Model: \"sequential\"\n",
      "_________________________________________________________________\n",
      "Layer (type)                 Output Shape              Param #   \n",
      "=================================================================\n",
      "lstm (LSTM)                  (None, 10)                560       \n",
      "_________________________________________________________________\n",
      "dropout (Dropout)            (None, 10)                0         \n",
      "_________________________________________________________________\n",
      "repeat_vector (RepeatVector) (None, 1, 10)             0         \n",
      "_________________________________________________________________\n",
      "lstm_1 (LSTM)                (None, 1, 10)             840       \n",
      "_________________________________________________________________\n",
      "dropout_1 (Dropout)          (None, 1, 10)             0         \n",
      "_________________________________________________________________\n",
      "time_distributed (TimeDistri (None, 1, 3)              33        \n",
      "=================================================================\n",
      "Total params: 1,433\n",
      "Trainable params: 1,433\n",
      "Non-trainable params: 0\n",
      "_________________________________________________________________\n"
     ]
    }
   ],
   "source": [
    "# Input layer:\n",
    "model=Sequential([\n",
    "    LSTM(10, activation='relu', input_shape=(train.shape[1],train.shape[2]),use_bias = True , bias_initializer = 'zeros'),\n",
    "    Dropout(0.2),\n",
    "    RepeatVector(train.shape[1]),\n",
    "    LSTM(10, activation='relu', return_sequences=True),\n",
    "    Dropout(0.2),\n",
    "    TimeDistributed(Dense(train.shape[2]))\n",
    "])\n",
    "\n",
    "model.compile(loss='mse',optimizer='adam', metrics=['accuracy'])\n",
    "model.summary()"
   ]
  },
  {
   "cell_type": "code",
   "execution_count": 29,
   "metadata": {
    "scrolled": true
   },
   "outputs": [
    {
     "name": "stdout",
     "output_type": "stream",
     "text": [
      "Epoch 1/150\n",
      "2344/2344 [==============================] - 5s 2ms/step - loss: 0.0573 - accuracy: 0.8577 - val_loss: 0.0068 - val_accuracy: 0.9995\n",
      "Epoch 2/150\n",
      "2344/2344 [==============================] - 5s 2ms/step - loss: 0.0259 - accuracy: 0.9436 - val_loss: 0.0073 - val_accuracy: 0.9995\n",
      "Epoch 3/150\n",
      "2344/2344 [==============================] - 5s 2ms/step - loss: 0.0232 - accuracy: 0.9586 - val_loss: 0.0019 - val_accuracy: 0.9993\n",
      "Epoch 4/150\n",
      "2344/2344 [==============================] - 5s 2ms/step - loss: 0.0223 - accuracy: 0.8999 - val_loss: 0.0035 - val_accuracy: 0.9995\n",
      "Epoch 5/150\n",
      "2344/2344 [==============================] - 5s 2ms/step - loss: 0.0211 - accuracy: 0.9175 - val_loss: 0.0026 - val_accuracy: 0.9995\n",
      "Epoch 6/150\n",
      "2344/2344 [==============================] - 5s 2ms/step - loss: 0.0197 - accuracy: 0.9395 - val_loss: 0.0051 - val_accuracy: 0.9995\n",
      "Epoch 7/150\n",
      "2344/2344 [==============================] - 5s 2ms/step - loss: 0.0192 - accuracy: 0.9358 - val_loss: 0.0062 - val_accuracy: 0.9995\n",
      "Epoch 8/150\n",
      "2344/2344 [==============================] - 5s 2ms/step - loss: 0.0189 - accuracy: 0.9263 - val_loss: 0.0057 - val_accuracy: 0.9995\n",
      "Epoch 9/150\n",
      "2344/2344 [==============================] - 5s 2ms/step - loss: 0.0190 - accuracy: 0.9238 - val_loss: 0.0059 - val_accuracy: 0.9995\n",
      "Epoch 10/150\n",
      "2344/2344 [==============================] - 5s 2ms/step - loss: 0.0188 - accuracy: 0.9240 - val_loss: 0.0075 - val_accuracy: 0.9995\n",
      "Epoch 11/150\n",
      "2344/2344 [==============================] - 5s 2ms/step - loss: 0.0189 - accuracy: 0.9236 - val_loss: 0.0080 - val_accuracy: 0.9995\n",
      "Epoch 12/150\n",
      "2344/2344 [==============================] - 5s 2ms/step - loss: 0.0189 - accuracy: 0.9231 - val_loss: 0.0091 - val_accuracy: 0.9995\n",
      "Epoch 13/150\n",
      "2344/2344 [==============================] - 5s 2ms/step - loss: 0.0185 - accuracy: 0.9197 - val_loss: 0.0080 - val_accuracy: 0.9995\n",
      "Epoch 14/150\n",
      "2344/2344 [==============================] - 5s 2ms/step - loss: 0.0183 - accuracy: 0.9312 - val_loss: 0.0106 - val_accuracy: 0.9995\n",
      "Epoch 15/150\n",
      "2344/2344 [==============================] - 5s 2ms/step - loss: 0.0182 - accuracy: 0.9358 - val_loss: 0.0126 - val_accuracy: 0.9995\n",
      "Epoch 16/150\n",
      "2344/2344 [==============================] - 5s 2ms/step - loss: 0.0181 - accuracy: 0.9366 - val_loss: 0.0141 - val_accuracy: 0.9995\n",
      "Epoch 17/150\n",
      "2344/2344 [==============================] - 5s 2ms/step - loss: 0.0182 - accuracy: 0.9366 - val_loss: 0.0161 - val_accuracy: 0.9995\n",
      "Epoch 18/150\n",
      "2344/2344 [==============================] - 5s 2ms/step - loss: 0.0182 - accuracy: 0.9365 - val_loss: 0.0185 - val_accuracy: 0.9995\n",
      "Epoch 19/150\n",
      "2344/2344 [==============================] - 5s 2ms/step - loss: 0.0181 - accuracy: 0.9372 - val_loss: 0.0214 - val_accuracy: 0.9995\n",
      "Epoch 20/150\n",
      "2344/2344 [==============================] - 6s 3ms/step - loss: 0.0181 - accuracy: 0.9359 - val_loss: 0.0243 - val_accuracy: 0.9995\n",
      "Epoch 21/150\n",
      "2344/2344 [==============================] - 6s 3ms/step - loss: 0.0181 - accuracy: 0.9349 - val_loss: 0.0242 - val_accuracy: 0.9995\n",
      "Epoch 22/150\n",
      "2344/2344 [==============================] - 5s 2ms/step - loss: 0.0181 - accuracy: 0.9334 - val_loss: 0.0261 - val_accuracy: 0.9995\n",
      "Epoch 23/150\n",
      "2344/2344 [==============================] - 5s 2ms/step - loss: 0.0181 - accuracy: 0.9324 - val_loss: 0.0283 - val_accuracy: 0.9995\n",
      "Epoch 24/150\n",
      "2344/2344 [==============================] - 5s 2ms/step - loss: 0.0181 - accuracy: 0.9331 - val_loss: 0.0313 - val_accuracy: 0.9995\n",
      "Epoch 25/150\n",
      "2344/2344 [==============================] - 5s 2ms/step - loss: 0.0181 - accuracy: 0.9333 - val_loss: 0.0338 - val_accuracy: 0.9995\n",
      "Epoch 26/150\n",
      "2344/2344 [==============================] - 5s 2ms/step - loss: 0.0181 - accuracy: 0.9278 - val_loss: 0.0359 - val_accuracy: 0.9995\n",
      "Epoch 27/150\n",
      "2344/2344 [==============================] - 5s 2ms/step - loss: 0.0180 - accuracy: 0.9264 - val_loss: 0.0390 - val_accuracy: 0.9995\n",
      "Epoch 28/150\n",
      "2344/2344 [==============================] - 5s 2ms/step - loss: 0.0180 - accuracy: 0.9243 - val_loss: 0.0407 - val_accuracy: 0.9995\n",
      "Epoch 29/150\n",
      "2344/2344 [==============================] - 5s 2ms/step - loss: 0.0180 - accuracy: 0.9255 - val_loss: 0.0417 - val_accuracy: 0.9995\n",
      "Epoch 30/150\n",
      "2344/2344 [==============================] - 5s 2ms/step - loss: 0.0180 - accuracy: 0.9256 - val_loss: 0.0447 - val_accuracy: 0.9995\n",
      "Epoch 31/150\n",
      "2344/2344 [==============================] - 5s 2ms/step - loss: 0.0180 - accuracy: 0.9263 - val_loss: 0.0450 - val_accuracy: 0.9995\n",
      "Epoch 32/150\n",
      "2344/2344 [==============================] - 5s 2ms/step - loss: 0.0180 - accuracy: 0.9264 - val_loss: 0.0475 - val_accuracy: 0.9995\n",
      "Epoch 33/150\n",
      "2344/2344 [==============================] - 5s 2ms/step - loss: 0.0180 - accuracy: 0.9247 - val_loss: 0.0524 - val_accuracy: 0.9995\n",
      "Epoch 34/150\n",
      "2344/2344 [==============================] - 5s 2ms/step - loss: 0.0180 - accuracy: 0.9240 - val_loss: 0.0499 - val_accuracy: 0.9995\n",
      "Epoch 35/150\n",
      "2344/2344 [==============================] - 5s 2ms/step - loss: 0.0180 - accuracy: 0.9240 - val_loss: 0.0510 - val_accuracy: 0.9995\n",
      "Epoch 36/150\n",
      "2344/2344 [==============================] - 5s 2ms/step - loss: 0.0180 - accuracy: 0.9223 - val_loss: 0.0499 - val_accuracy: 0.9995\n",
      "Epoch 37/150\n",
      "2344/2344 [==============================] - 5s 2ms/step - loss: 0.0179 - accuracy: 0.9239 - val_loss: 0.0568 - val_accuracy: 0.9995\n",
      "Epoch 38/150\n",
      "2344/2344 [==============================] - 5s 2ms/step - loss: 0.0181 - accuracy: 0.9219 - val_loss: 0.0545 - val_accuracy: 0.9995\n",
      "Epoch 39/150\n",
      "2344/2344 [==============================] - 5s 2ms/step - loss: 0.0180 - accuracy: 0.9230 - val_loss: 0.0558 - val_accuracy: 0.9995\n",
      "Epoch 40/150\n",
      "2344/2344 [==============================] - 5s 2ms/step - loss: 0.0180 - accuracy: 0.9221 - val_loss: 0.0574 - val_accuracy: 0.9995\n",
      "Epoch 41/150\n",
      "2344/2344 [==============================] - 5s 2ms/step - loss: 0.0180 - accuracy: 0.9208 - val_loss: 0.0585 - val_accuracy: 0.9995\n",
      "Epoch 42/150\n",
      "2344/2344 [==============================] - 5s 2ms/step - loss: 0.0180 - accuracy: 0.9212 - val_loss: 0.0608 - val_accuracy: 0.9995\n",
      "Epoch 43/150\n",
      "2344/2344 [==============================] - 5s 2ms/step - loss: 0.0180 - accuracy: 0.9221 - val_loss: 0.0623 - val_accuracy: 0.9995\n",
      "Epoch 44/150\n",
      "2344/2344 [==============================] - 5s 2ms/step - loss: 0.0180 - accuracy: 0.9224 - val_loss: 0.0624 - val_accuracy: 0.9995\n",
      "Epoch 45/150\n",
      "2344/2344 [==============================] - 5s 2ms/step - loss: 0.0180 - accuracy: 0.9203 - val_loss: 0.0636 - val_accuracy: 0.9995\n",
      "Epoch 46/150\n",
      "2344/2344 [==============================] - 5s 2ms/step - loss: 0.0179 - accuracy: 0.9191 - val_loss: 0.0677 - val_accuracy: 0.9995\n",
      "Epoch 47/150\n",
      "2344/2344 [==============================] - 6s 2ms/step - loss: 0.0180 - accuracy: 0.9209 - val_loss: 0.0683 - val_accuracy: 0.9995\n",
      "Epoch 48/150\n",
      "2344/2344 [==============================] - 6s 2ms/step - loss: 0.0179 - accuracy: 0.9219 - val_loss: 0.0665 - val_accuracy: 0.9995\n",
      "Epoch 49/150\n",
      "2344/2344 [==============================] - 6s 2ms/step - loss: 0.0180 - accuracy: 0.9207 - val_loss: 0.0658 - val_accuracy: 0.9995\n",
      "Epoch 50/150\n",
      "2344/2344 [==============================] - 6s 2ms/step - loss: 0.0180 - accuracy: 0.9196 - val_loss: 0.0746 - val_accuracy: 0.9995\n",
      "Epoch 51/150\n",
      "2344/2344 [==============================] - 6s 2ms/step - loss: 0.0180 - accuracy: 0.9207 - val_loss: 0.0715 - val_accuracy: 0.9995\n",
      "Epoch 52/150\n",
      "2344/2344 [==============================] - 6s 2ms/step - loss: 0.0180 - accuracy: 0.9189 - val_loss: 0.0714 - val_accuracy: 0.9995\n",
      "Epoch 53/150\n",
      "2344/2344 [==============================] - 6s 2ms/step - loss: 0.0180 - accuracy: 0.9190 - val_loss: 0.0783 - val_accuracy: 0.9995\n",
      "Epoch 54/150\n",
      "2344/2344 [==============================] - 6s 2ms/step - loss: 0.0180 - accuracy: 0.9181 - val_loss: 0.0756 - val_accuracy: 0.9995\n",
      "Epoch 55/150\n",
      "2344/2344 [==============================] - 6s 2ms/step - loss: 0.0180 - accuracy: 0.9192 - val_loss: 0.0801 - val_accuracy: 0.9995\n",
      "Epoch 56/150\n",
      "2344/2344 [==============================] - 6s 2ms/step - loss: 0.0179 - accuracy: 0.9188 - val_loss: 0.0756 - val_accuracy: 0.9995\n",
      "Epoch 57/150\n"
     ]
    },
    {
     "name": "stdout",
     "output_type": "stream",
     "text": [
      "2344/2344 [==============================] - 6s 2ms/step - loss: 0.0181 - accuracy: 0.9183 - val_loss: 0.0782 - val_accuracy: 0.9995\n",
      "Epoch 58/150\n",
      "2344/2344 [==============================] - 6s 2ms/step - loss: 0.0179 - accuracy: 0.9190 - val_loss: 0.0822 - val_accuracy: 0.9995\n",
      "Epoch 59/150\n",
      "2344/2344 [==============================] - 6s 2ms/step - loss: 0.0180 - accuracy: 0.9190 - val_loss: 0.0797 - val_accuracy: 0.9995\n",
      "Epoch 60/150\n",
      "2344/2344 [==============================] - 6s 2ms/step - loss: 0.0180 - accuracy: 0.9192 - val_loss: 0.0835 - val_accuracy: 0.9995\n",
      "Epoch 61/150\n",
      "2344/2344 [==============================] - 6s 2ms/step - loss: 0.0180 - accuracy: 0.9197 - val_loss: 0.0868 - val_accuracy: 0.9995\n",
      "Epoch 62/150\n",
      "2344/2344 [==============================] - 6s 2ms/step - loss: 0.0180 - accuracy: 0.9183 - val_loss: 0.0861 - val_accuracy: 0.9995\n",
      "Epoch 63/150\n",
      "2344/2344 [==============================] - 6s 2ms/step - loss: 0.0180 - accuracy: 0.9181 - val_loss: 0.0861 - val_accuracy: 0.9995\n",
      "Epoch 64/150\n",
      "2344/2344 [==============================] - 6s 2ms/step - loss: 0.0180 - accuracy: 0.9175 - val_loss: 0.0877 - val_accuracy: 0.9995\n",
      "Epoch 65/150\n",
      "2344/2344 [==============================] - 6s 2ms/step - loss: 0.0179 - accuracy: 0.9169 - val_loss: 0.0868 - val_accuracy: 0.9995\n",
      "Epoch 66/150\n",
      "2344/2344 [==============================] - 6s 2ms/step - loss: 0.0180 - accuracy: 0.9176 - val_loss: 0.0867 - val_accuracy: 0.9995\n",
      "Epoch 67/150\n",
      "2344/2344 [==============================] - 6s 2ms/step - loss: 0.0179 - accuracy: 0.9183 - val_loss: 0.0869 - val_accuracy: 0.9995\n",
      "Epoch 68/150\n",
      "2344/2344 [==============================] - 6s 2ms/step - loss: 0.0180 - accuracy: 0.9174 - val_loss: 0.0944 - val_accuracy: 0.9995\n",
      "Epoch 69/150\n",
      "2344/2344 [==============================] - 6s 2ms/step - loss: 0.0180 - accuracy: 0.9178 - val_loss: 0.0913 - val_accuracy: 0.9995\n",
      "Epoch 70/150\n",
      "2344/2344 [==============================] - 6s 2ms/step - loss: 0.0180 - accuracy: 0.9173 - val_loss: 0.0918 - val_accuracy: 0.9995\n",
      "Epoch 71/150\n",
      "2344/2344 [==============================] - 6s 2ms/step - loss: 0.0180 - accuracy: 0.9173 - val_loss: 0.0961 - val_accuracy: 0.9995\n",
      "Epoch 72/150\n",
      "2344/2344 [==============================] - 6s 2ms/step - loss: 0.0179 - accuracy: 0.9175 - val_loss: 0.0960 - val_accuracy: 0.9995\n",
      "Epoch 73/150\n",
      "2344/2344 [==============================] - 6s 2ms/step - loss: 0.0180 - accuracy: 0.9168 - val_loss: 0.0958 - val_accuracy: 0.9995\n",
      "Epoch 74/150\n",
      "2344/2344 [==============================] - 6s 2ms/step - loss: 0.0180 - accuracy: 0.9167 - val_loss: 0.0947 - val_accuracy: 0.9995\n",
      "Epoch 75/150\n",
      "2344/2344 [==============================] - 6s 2ms/step - loss: 0.0180 - accuracy: 0.9165 - val_loss: 0.0983 - val_accuracy: 0.9995\n",
      "Epoch 76/150\n",
      "2344/2344 [==============================] - 6s 2ms/step - loss: 0.0180 - accuracy: 0.9180 - val_loss: 0.1010 - val_accuracy: 0.9995\n",
      "Epoch 77/150\n",
      "2344/2344 [==============================] - 6s 2ms/step - loss: 0.0179 - accuracy: 0.9168 - val_loss: 0.1009 - val_accuracy: 0.9995\n",
      "Epoch 78/150\n",
      "2344/2344 [==============================] - 6s 2ms/step - loss: 0.0180 - accuracy: 0.9164 - val_loss: 0.1031 - val_accuracy: 0.9995\n",
      "Epoch 79/150\n",
      "2344/2344 [==============================] - 6s 2ms/step - loss: 0.0180 - accuracy: 0.9173 - val_loss: 0.1033 - val_accuracy: 0.9995\n",
      "Epoch 80/150\n",
      "2344/2344 [==============================] - 6s 2ms/step - loss: 0.0180 - accuracy: 0.9165 - val_loss: 0.1000 - val_accuracy: 0.9995\n",
      "Epoch 81/150\n",
      "2344/2344 [==============================] - 6s 2ms/step - loss: 0.0180 - accuracy: 0.9162 - val_loss: 0.1081 - val_accuracy: 0.9995\n",
      "Epoch 82/150\n",
      "2344/2344 [==============================] - 6s 2ms/step - loss: 0.0179 - accuracy: 0.9164 - val_loss: 0.1036 - val_accuracy: 0.9995\n",
      "Epoch 83/150\n",
      "2344/2344 [==============================] - 6s 2ms/step - loss: 0.0180 - accuracy: 0.9166 - val_loss: 0.1046 - val_accuracy: 0.9995\n",
      "Epoch 84/150\n",
      "2344/2344 [==============================] - 6s 2ms/step - loss: 0.0180 - accuracy: 0.9171 - val_loss: 0.1042 - val_accuracy: 0.9995\n",
      "Epoch 85/150\n",
      "2344/2344 [==============================] - 6s 2ms/step - loss: 0.0180 - accuracy: 0.9176 - val_loss: 0.1058 - val_accuracy: 0.9995\n",
      "Epoch 86/150\n",
      "2344/2344 [==============================] - 7s 3ms/step - loss: 0.0180 - accuracy: 0.9166 - val_loss: 0.1103 - val_accuracy: 0.9995\n",
      "Epoch 87/150\n",
      "2344/2344 [==============================] - 6s 3ms/step - loss: 0.0180 - accuracy: 0.9163 - val_loss: 0.1133 - val_accuracy: 0.9995\n",
      "Epoch 88/150\n",
      "2344/2344 [==============================] - 6s 2ms/step - loss: 0.0180 - accuracy: 0.9175 - val_loss: 0.1142 - val_accuracy: 0.9995\n",
      "Epoch 89/150\n",
      "2344/2344 [==============================] - 6s 2ms/step - loss: 0.0179 - accuracy: 0.9175 - val_loss: 0.1069 - val_accuracy: 0.9995\n",
      "Epoch 90/150\n",
      "2344/2344 [==============================] - 6s 2ms/step - loss: 0.0179 - accuracy: 0.9162 - val_loss: 0.1161 - val_accuracy: 0.9995\n",
      "Epoch 91/150\n",
      "2344/2344 [==============================] - 6s 2ms/step - loss: 0.0177 - accuracy: 0.9169 - val_loss: 0.1208 - val_accuracy: 0.9995\n",
      "Epoch 92/150\n",
      "2344/2344 [==============================] - 6s 2ms/step - loss: 0.0175 - accuracy: 0.9185 - val_loss: 0.1167 - val_accuracy: 0.9995\n",
      "Epoch 93/150\n",
      "2344/2344 [==============================] - 6s 2ms/step - loss: 0.0175 - accuracy: 0.9195 - val_loss: 0.1206 - val_accuracy: 0.9995\n",
      "Epoch 94/150\n",
      "2344/2344 [==============================] - 6s 2ms/step - loss: 0.0174 - accuracy: 0.9201 - val_loss: 0.1248 - val_accuracy: 0.9995\n",
      "Epoch 95/150\n",
      "2344/2344 [==============================] - 6s 2ms/step - loss: 0.0174 - accuracy: 0.9181 - val_loss: 0.1254 - val_accuracy: 0.9995\n",
      "Epoch 96/150\n",
      "2344/2344 [==============================] - 6s 2ms/step - loss: 0.0175 - accuracy: 0.9195 - val_loss: 0.1224 - val_accuracy: 0.9995\n",
      "Epoch 97/150\n",
      "2344/2344 [==============================] - 6s 2ms/step - loss: 0.0174 - accuracy: 0.9200 - val_loss: 0.1186 - val_accuracy: 0.9995\n",
      "Epoch 98/150\n",
      "2344/2344 [==============================] - 6s 2ms/step - loss: 0.0175 - accuracy: 0.9203 - val_loss: 0.1303 - val_accuracy: 0.9995\n",
      "Epoch 99/150\n",
      "2344/2344 [==============================] - 6s 2ms/step - loss: 0.0174 - accuracy: 0.9196 - val_loss: 0.1265 - val_accuracy: 0.9995\n",
      "Epoch 100/150\n",
      "2344/2344 [==============================] - 6s 2ms/step - loss: 0.0172 - accuracy: 0.9176 - val_loss: 0.0974 - val_accuracy: 0.9995\n",
      "Epoch 101/150\n",
      "2344/2344 [==============================] - 6s 2ms/step - loss: 0.0152 - accuracy: 0.9199 - val_loss: 0.1077 - val_accuracy: 0.9995\n",
      "Epoch 102/150\n",
      "2344/2344 [==============================] - 6s 2ms/step - loss: 0.0148 - accuracy: 0.9220 - val_loss: 0.1343 - val_accuracy: 0.9995\n",
      "Epoch 103/150\n",
      "2344/2344 [==============================] - 6s 2ms/step - loss: 0.0146 - accuracy: 0.9223 - val_loss: 0.1440 - val_accuracy: 0.9995\n",
      "Epoch 104/150\n",
      "2344/2344 [==============================] - 6s 2ms/step - loss: 0.0145 - accuracy: 0.9213 - val_loss: 0.1527 - val_accuracy: 0.9995\n",
      "Epoch 105/150\n",
      "2344/2344 [==============================] - 6s 2ms/step - loss: 0.0144 - accuracy: 0.9205 - val_loss: 0.1473 - val_accuracy: 0.9995\n",
      "Epoch 106/150\n",
      "2344/2344 [==============================] - 6s 2ms/step - loss: 0.0144 - accuracy: 0.9202 - val_loss: 0.1487 - val_accuracy: 0.9995\n",
      "Epoch 107/150\n",
      "2344/2344 [==============================] - 6s 2ms/step - loss: 0.0144 - accuracy: 0.9195 - val_loss: 0.1559 - val_accuracy: 0.9995\n",
      "Epoch 108/150\n",
      "2344/2344 [==============================] - 6s 2ms/step - loss: 0.0144 - accuracy: 0.9189 - val_loss: 0.1512 - val_accuracy: 0.9995\n",
      "Epoch 109/150\n",
      "2344/2344 [==============================] - 6s 2ms/step - loss: 0.0143 - accuracy: 0.9186 - val_loss: 0.1566 - val_accuracy: 0.9995\n",
      "Epoch 110/150\n",
      "2344/2344 [==============================] - 6s 2ms/step - loss: 0.0143 - accuracy: 0.9186 - val_loss: 0.1529 - val_accuracy: 0.9995\n",
      "Epoch 111/150\n",
      "2344/2344 [==============================] - 6s 2ms/step - loss: 0.0143 - accuracy: 0.9189 - val_loss: 0.1551 - val_accuracy: 0.9995\n",
      "Epoch 112/150\n",
      "2344/2344 [==============================] - 6s 2ms/step - loss: 0.0143 - accuracy: 0.9187 - val_loss: 0.1600 - val_accuracy: 0.9995\n",
      "Epoch 113/150\n"
     ]
    },
    {
     "name": "stdout",
     "output_type": "stream",
     "text": [
      "2344/2344 [==============================] - 6s 2ms/step - loss: 0.0143 - accuracy: 0.9183 - val_loss: 0.1520 - val_accuracy: 0.9995\n",
      "Epoch 114/150\n",
      "2344/2344 [==============================] - 6s 2ms/step - loss: 0.0143 - accuracy: 0.9182 - val_loss: 0.1586 - val_accuracy: 0.9995\n",
      "Epoch 115/150\n",
      "2344/2344 [==============================] - 5s 2ms/step - loss: 0.0143 - accuracy: 0.9187 - val_loss: 0.1547 - val_accuracy: 0.9995\n",
      "Epoch 116/150\n",
      "2344/2344 [==============================] - 5s 2ms/step - loss: 0.0143 - accuracy: 0.9182 - val_loss: 0.1600 - val_accuracy: 0.9995\n",
      "Epoch 117/150\n",
      "2344/2344 [==============================] - 5s 2ms/step - loss: 0.0143 - accuracy: 0.9186 - val_loss: 0.1615 - val_accuracy: 0.9995\n",
      "Epoch 118/150\n",
      "2344/2344 [==============================] - 5s 2ms/step - loss: 0.0143 - accuracy: 0.9182 - val_loss: 0.1634 - val_accuracy: 0.9995\n",
      "Epoch 119/150\n",
      "2344/2344 [==============================] - 6s 2ms/step - loss: 0.0143 - accuracy: 0.9183 - val_loss: 0.1665 - val_accuracy: 0.9995\n",
      "Epoch 120/150\n",
      "2344/2344 [==============================] - 5s 2ms/step - loss: 0.0143 - accuracy: 0.9184 - val_loss: 0.1765 - val_accuracy: 0.9995\n",
      "Epoch 121/150\n",
      "2344/2344 [==============================] - 5s 2ms/step - loss: 0.0142 - accuracy: 0.9187 - val_loss: 0.1647 - val_accuracy: 0.9995\n",
      "Epoch 122/150\n",
      "2344/2344 [==============================] - 6s 2ms/step - loss: 0.0142 - accuracy: 0.9184 - val_loss: 0.1626 - val_accuracy: 0.9995\n",
      "Epoch 123/150\n",
      "2344/2344 [==============================] - 6s 2ms/step - loss: 0.0143 - accuracy: 0.9181 - val_loss: 0.1647 - val_accuracy: 0.9995\n",
      "Epoch 124/150\n",
      "2344/2344 [==============================] - 5s 2ms/step - loss: 0.0143 - accuracy: 0.9178 - val_loss: 0.1697 - val_accuracy: 0.9995\n",
      "Epoch 125/150\n",
      "2344/2344 [==============================] - 5s 2ms/step - loss: 0.0143 - accuracy: 0.9179 - val_loss: 0.1674 - val_accuracy: 0.9995\n",
      "Epoch 126/150\n",
      "2344/2344 [==============================] - 5s 2ms/step - loss: 0.0143 - accuracy: 0.9181 - val_loss: 0.1760 - val_accuracy: 0.9995\n",
      "Epoch 127/150\n",
      "2344/2344 [==============================] - 5s 2ms/step - loss: 0.0143 - accuracy: 0.9177 - val_loss: 0.1679 - val_accuracy: 0.9995\n",
      "Epoch 128/150\n",
      "2344/2344 [==============================] - 5s 2ms/step - loss: 0.0143 - accuracy: 0.9182 - val_loss: 0.1687 - val_accuracy: 0.9995\n",
      "Epoch 129/150\n",
      "2344/2344 [==============================] - 5s 2ms/step - loss: 0.0143 - accuracy: 0.9178 - val_loss: 0.1676 - val_accuracy: 0.9995\n",
      "Epoch 130/150\n",
      "2344/2344 [==============================] - 7s 3ms/step - loss: 0.0143 - accuracy: 0.9176 - val_loss: 0.1665 - val_accuracy: 0.9995\n",
      "Epoch 131/150\n",
      "2344/2344 [==============================] - 7s 3ms/step - loss: 0.0143 - accuracy: 0.9180 - val_loss: 0.1688 - val_accuracy: 0.9995\n",
      "Epoch 132/150\n",
      "2344/2344 [==============================] - 5s 2ms/step - loss: 0.0143 - accuracy: 0.9177 - val_loss: 0.1773 - val_accuracy: 0.9995\n",
      "Epoch 133/150\n",
      "2344/2344 [==============================] - 5s 2ms/step - loss: 0.0143 - accuracy: 0.9181 - val_loss: 0.1738 - val_accuracy: 0.9995\n",
      "Epoch 134/150\n",
      "2344/2344 [==============================] - 5s 2ms/step - loss: 0.0143 - accuracy: 0.9177 - val_loss: 0.1776 - val_accuracy: 0.9995\n",
      "Epoch 135/150\n",
      "2344/2344 [==============================] - 5s 2ms/step - loss: 0.0143 - accuracy: 0.9173 - val_loss: 0.1829 - val_accuracy: 0.9995\n",
      "Epoch 136/150\n",
      "2344/2344 [==============================] - 5s 2ms/step - loss: 0.0143 - accuracy: 0.9177 - val_loss: 0.1841 - val_accuracy: 0.9995\n",
      "Epoch 137/150\n",
      "2344/2344 [==============================] - 5s 2ms/step - loss: 0.0142 - accuracy: 0.9181 - val_loss: 0.1825 - val_accuracy: 0.9995\n",
      "Epoch 138/150\n",
      "2344/2344 [==============================] - 5s 2ms/step - loss: 0.0143 - accuracy: 0.9178 - val_loss: 0.1850 - val_accuracy: 0.9995\n",
      "Epoch 139/150\n",
      "2344/2344 [==============================] - 5s 2ms/step - loss: 0.0143 - accuracy: 0.9178 - val_loss: 0.1880 - val_accuracy: 0.9995\n",
      "Epoch 140/150\n",
      "2344/2344 [==============================] - 5s 2ms/step - loss: 0.0143 - accuracy: 0.9177 - val_loss: 0.1845 - val_accuracy: 0.9995\n",
      "Epoch 141/150\n",
      "2344/2344 [==============================] - 5s 2ms/step - loss: 0.0143 - accuracy: 0.9172 - val_loss: 0.1951 - val_accuracy: 0.9995\n",
      "Epoch 142/150\n",
      "2344/2344 [==============================] - 5s 2ms/step - loss: 0.0143 - accuracy: 0.9178 - val_loss: 0.1845 - val_accuracy: 0.9995\n",
      "Epoch 143/150\n",
      "2344/2344 [==============================] - 5s 2ms/step - loss: 0.0143 - accuracy: 0.9175 - val_loss: 0.1882 - val_accuracy: 0.9995\n",
      "Epoch 144/150\n",
      "2344/2344 [==============================] - 5s 2ms/step - loss: 0.0143 - accuracy: 0.9175 - val_loss: 0.1905 - val_accuracy: 0.9995\n",
      "Epoch 145/150\n",
      "2344/2344 [==============================] - 5s 2ms/step - loss: 0.0142 - accuracy: 0.9178 - val_loss: 0.1913 - val_accuracy: 0.9995\n",
      "Epoch 146/150\n",
      "2344/2344 [==============================] - 5s 2ms/step - loss: 0.0143 - accuracy: 0.9177 - val_loss: 0.1945 - val_accuracy: 0.9995\n",
      "Epoch 147/150\n",
      "2344/2344 [==============================] - 5s 2ms/step - loss: 0.0143 - accuracy: 0.9177 - val_loss: 0.1931 - val_accuracy: 0.9995\n",
      "Epoch 148/150\n",
      "2344/2344 [==============================] - 5s 2ms/step - loss: 0.0142 - accuracy: 0.9175 - val_loss: 0.1972 - val_accuracy: 0.9995\n",
      "Epoch 149/150\n",
      "2344/2344 [==============================] - 5s 2ms/step - loss: 0.0143 - accuracy: 0.9179 - val_loss: 0.1929 - val_accuracy: 0.9995\n",
      "Epoch 150/150\n",
      "2344/2344 [==============================] - 5s 2ms/step - loss: 0.0143 - accuracy: 0.9175 - val_loss: 0.2064 - val_accuracy: 0.9995\n"
     ]
    }
   ],
   "source": [
    "# Train model for 100 epochs, batch size of 1000: \n",
    "NUM_EPOCHS=150\n",
    "BATCH_SIZE=1000\n",
    "\n",
    "history=model.fit(train,train, \n",
    "                  batch_size=BATCH_SIZE, \n",
    "                  epochs=NUM_EPOCHS,\n",
    "                  validation_split=0.1,\n",
    "                  shuffle=True)"
   ]
  },
  {
   "cell_type": "code",
   "execution_count": 30,
   "metadata": {},
   "outputs": [
    {
     "data": {
      "image/png": "[encoded data removed]",
      "text/plain": [
       "<Figure size 432x288 with 1 Axes>"
      ]
     },
     "metadata": {
      "needs_background": "light"
     },
     "output_type": "display_data"
    }
   ],
   "source": [
    "import matplotlib.pyplot as plt\n",
    "\n",
    "plt.plot(history.history['loss'], label='Training loss')\n",
    "plt.plot(history.history['val_loss'], label='Validation loss')\n",
    "plt.legend(loc='upper right')\n",
    "plt.xlabel('Epochs')\n",
    "plt.ylabel('Loss [mse]')\n",
    "plt.show()"
   ]
  },
  {
   "cell_type": "code",
   "execution_count": 31,
   "metadata": {},
   "outputs": [
    {
     "data": {
      "image/png": "[encoded data removed]",
      "text/plain": [
       "<Figure size 432x288 with 1 Axes>"
      ]
     },
     "metadata": {
      "needs_background": "light"
     },
     "output_type": "display_data"
    }
   ],
   "source": [
    "loss = history.history['loss']\n",
    "val_loss = history.history['val_loss']\n",
    "epochs = range(1, len(loss) + 1)\n",
    "plt.plot(epochs, loss, 'y', label='Training loss')\n",
    "plt.plot(epochs, val_loss, 'r', label='Validation loss')\n",
    "plt.title('Training and validation loss')\n",
    "plt.xlabel('Epochs')\n",
    "plt.ylabel('Loss')\n",
    "plt.legend()\n",
    "plt.show()"
   ]
  },
  {
   "cell_type": "code",
   "execution_count": 32,
   "metadata": {},
   "outputs": [
    {
     "data": {
      "image/png": "[encoded data removed]",
      "text/plain": [
       "<Figure size 432x288 with 1 Axes>"
      ]
     },
     "metadata": {
      "needs_background": "light"
     },
     "output_type": "display_data"
    }
   ],
   "source": [
    "acc = history.history['accuracy']\n",
    "val_acc = history.history['val_accuracy']\n",
    "plt.plot(epochs, acc, 'y', label='Training acc')\n",
    "plt.plot(epochs, val_acc, 'r', label='Validation acc')\n",
    "plt.title('Training and validation accuracy')\n",
    "plt.xlabel('Epochs')\n",
    "plt.ylabel('Accuracy')\n",
    "plt.legend()\n",
    "plt.show()"
   ]
  },
  {
   "cell_type": "code",
   "execution_count": 33,
   "metadata": {},
   "outputs": [],
   "source": [
    "pred_train = model.predict(train)"
   ]
  },
  {
   "cell_type": "code",
   "execution_count": 34,
   "metadata": {},
   "outputs": [],
   "source": [
    "pred_train = pred_train.reshape(pred_train.shape[0],pred_train.shape[2])\n",
    "train = train.reshape(train.shape[0],train.shape[2])"
   ]
  },
  {
   "cell_type": "code",
   "execution_count": 35,
   "metadata": {},
   "outputs": [
    {
     "name": "stderr",
     "output_type": "stream",
     "text": [
      "C:\\Users\\bahma\\.conda\\envs\\svm\\lib\\site-packages\\seaborn\\distributions.py:2557: FutureWarning: `distplot` is a deprecated function and will be removed in a future version. Please adapt your code to use either `displot` (a figure-level function with similar flexibility) or `histplot` (an axes-level function for histograms).\n",
      "  warnings.warn(msg, FutureWarning)\n"
     ]
    },
    {
     "data": {
      "image/png": "[encoded data removed]",
      "text/plain": [
       "<Figure size 432x288 with 1 Axes>"
      ]
     },
     "metadata": {
      "needs_background": "light"
     },
     "output_type": "display_data"
    }
   ],
   "source": [
    "import seaborn as sns\n",
    "\n",
    "scored = np.mean(np.abs(pred_train-train), axis = 1)\n",
    "plt.figure()\n",
    "g = sns.distplot(scored, bins = 50, kde= True, color = 'blue');\n",
    "plt.title('Loss Distribution')\n",
    "plt.xlabel('Loss (MAE)')\n",
    "plt.show()"
   ]
  },
  {
   "cell_type": "code",
   "execution_count": 36,
   "metadata": {},
   "outputs": [],
   "source": [
    "TH = 0.1\n",
    "pred_train = pd.DataFrame(pred_train)\n",
    "scored_train = pd.DataFrame()\n",
    "scored_train['Loss_mae'] = np.mean(np.abs(pred_train-train), axis = 1)\n",
    "scored_train['Threshold'] = TH\n",
    "scored_train['Anomaly'] = scored_train['Loss_mae'] > scored_train['Threshold']"
   ]
  },
  {
   "cell_type": "code",
   "execution_count": 37,
   "metadata": {},
   "outputs": [
    {
     "data": {
      "text/plain": [
       "0.1553902402482121"
      ]
     },
     "execution_count": 37,
     "metadata": {},
     "output_type": "execute_result"
    }
   ],
   "source": [
    "scored_train['Loss_mae'].mean()"
   ]
  },
  {
   "cell_type": "code",
   "execution_count": 38,
   "metadata": {},
   "outputs": [
    {
     "data": {
      "text/plain": [
       "Text(0, 0.5, 'Loss (MAE)')"
      ]
     },
     "execution_count": 38,
     "metadata": {},
     "output_type": "execute_result"
    },
    {
     "data": {
      "image/png": "[encoded data removed]",
      "text/plain": [
       "<Figure size 1152x288 with 1 Axes>"
      ]
     },
     "metadata": {
      "needs_background": "light"
     },
     "output_type": "display_data"
    }
   ],
   "source": [
    "scored_train.plot(logy=True,  figsize = (16,4), xlim =[0,len(scored_train)])\n",
    "plt.xlabel('Data points')\n",
    "plt.ylabel('Loss (MAE)')"
   ]
  },
  {
   "cell_type": "code",
   "execution_count": 39,
   "metadata": {},
   "outputs": [
    {
     "data": {
      "text/html": [
       "<div>\n",
       "<style scoped>\n",
       "    .dataframe tbody tr th:only-of-type {\n",
       "        vertical-align: middle;\n",
       "    }\n",
       "\n",
       "    .dataframe tbody tr th {\n",
       "        vertical-align: top;\n",
       "    }\n",
       "\n",
       "    .dataframe thead th {\n",
       "        text-align: right;\n",
       "    }\n",
       "</style>\n",
       "<table border=\"1\" class=\"dataframe\">\n",
       "  <thead>\n",
       "    <tr style=\"text-align: right;\">\n",
       "      <th></th>\n",
       "      <th>Loss_mae</th>\n",
       "      <th>Threshold</th>\n",
       "      <th>Anomaly</th>\n",
       "    </tr>\n",
       "  </thead>\n",
       "  <tbody>\n",
       "    <tr>\n",
       "      <th>0</th>\n",
       "      <td>0.021498</td>\n",
       "      <td>0.1</td>\n",
       "      <td>False</td>\n",
       "    </tr>\n",
       "    <tr>\n",
       "      <th>1</th>\n",
       "      <td>0.021352</td>\n",
       "      <td>0.1</td>\n",
       "      <td>False</td>\n",
       "    </tr>\n",
       "    <tr>\n",
       "      <th>2</th>\n",
       "      <td>0.021473</td>\n",
       "      <td>0.1</td>\n",
       "      <td>False</td>\n",
       "    </tr>\n",
       "    <tr>\n",
       "      <th>3</th>\n",
       "      <td>0.021457</td>\n",
       "      <td>0.1</td>\n",
       "      <td>False</td>\n",
       "    </tr>\n",
       "    <tr>\n",
       "      <th>4</th>\n",
       "      <td>0.022013</td>\n",
       "      <td>0.1</td>\n",
       "      <td>False</td>\n",
       "    </tr>\n",
       "    <tr>\n",
       "      <th>...</th>\n",
       "      <td>...</td>\n",
       "      <td>...</td>\n",
       "      <td>...</td>\n",
       "    </tr>\n",
       "    <tr>\n",
       "      <th>2604175</th>\n",
       "      <td>0.219851</td>\n",
       "      <td>0.1</td>\n",
       "      <td>True</td>\n",
       "    </tr>\n",
       "    <tr>\n",
       "      <th>2604176</th>\n",
       "      <td>0.366576</td>\n",
       "      <td>0.1</td>\n",
       "      <td>True</td>\n",
       "    </tr>\n",
       "    <tr>\n",
       "      <th>2604177</th>\n",
       "      <td>0.365470</td>\n",
       "      <td>0.1</td>\n",
       "      <td>True</td>\n",
       "    </tr>\n",
       "    <tr>\n",
       "      <th>2604178</th>\n",
       "      <td>0.362166</td>\n",
       "      <td>0.1</td>\n",
       "      <td>True</td>\n",
       "    </tr>\n",
       "    <tr>\n",
       "      <th>2604179</th>\n",
       "      <td>0.362507</td>\n",
       "      <td>0.1</td>\n",
       "      <td>True</td>\n",
       "    </tr>\n",
       "  </tbody>\n",
       "</table>\n",
       "<p>2604180 rows × 3 columns</p>\n",
       "</div>"
      ],
      "text/plain": [
       "         Loss_mae  Threshold  Anomaly\n",
       "0        0.021498        0.1    False\n",
       "1        0.021352        0.1    False\n",
       "2        0.021473        0.1    False\n",
       "3        0.021457        0.1    False\n",
       "4        0.022013        0.1    False\n",
       "...           ...        ...      ...\n",
       "2604175  0.219851        0.1     True\n",
       "2604176  0.366576        0.1     True\n",
       "2604177  0.365470        0.1     True\n",
       "2604178  0.362166        0.1     True\n",
       "2604179  0.362507        0.1     True\n",
       "\n",
       "[2604180 rows x 3 columns]"
      ]
     },
     "execution_count": 39,
     "metadata": {},
     "output_type": "execute_result"
    }
   ],
   "source": [
    "scored_train"
   ]
  },
  {
   "cell_type": "code",
   "execution_count": 40,
   "metadata": {},
   "outputs": [
    {
     "name": "stdout",
     "output_type": "stream",
     "text": [
      "         Loss_mae  Threshold  Anomaly\n",
      "1338428  0.223830        0.1     True\n",
      "1338429  0.361897        0.1     True\n",
      "1338430  0.361928        0.1     True\n",
      "1338431  0.363933        0.1     True\n",
      "1338432  0.360766        0.1     True\n",
      "...           ...        ...      ...\n",
      "2604175  0.219851        0.1     True\n",
      "2604176  0.366576        0.1     True\n",
      "2604177  0.365470        0.1     True\n",
      "2604178  0.362166        0.1     True\n",
      "2604179  0.362507        0.1     True\n",
      "\n",
      "[1265752 rows x 3 columns]\n",
      "(1265752, 3)\n"
     ]
    }
   ],
   "source": [
    "anomalies = scored_train[scored_train['Anomaly'] == True]\n",
    "print(anomalies)\n",
    "print(anomalies.shape)"
   ]
  },
  {
   "cell_type": "code",
   "execution_count": 41,
   "metadata": {},
   "outputs": [
    {
     "data": {
      "image/png": "[encoded data removed]",
      "text/plain": [
       "<Figure size 1152x288 with 1 Axes>"
      ]
     },
     "metadata": {
      "needs_background": "light"
     },
     "output_type": "display_data"
    }
   ],
   "source": [
    "f, (ax1) = plt.subplots(figsize=(16, 4))\n",
    "ax1.plot(scored_train.index, scored_train.Loss_mae, label='Loss(MAE)');\n",
    "ax1.plot(scored_train.index, scored_train.Threshold, label='Threshold')\n",
    "g = sns.scatterplot(x=anomalies.index , y=anomalies.Loss_mae, label='anomaly', color='red')\n",
    "g.set(xlim = (0, len(scored_train.index)))\n",
    "plt.title('Anomalies')\n",
    "plt.xlabel('Data points')\n",
    "plt.ylabel('Loss (MAE)')\n",
    "plt.legend();"
   ]
  },
  {
   "cell_type": "code",
   "execution_count": 42,
   "metadata": {},
   "outputs": [],
   "source": [
    "pred_test = model.predict(test)"
   ]
  },
  {
   "cell_type": "code",
   "execution_count": 43,
   "metadata": {},
   "outputs": [
    {
     "name": "stdout",
     "output_type": "stream",
     "text": [
      "40084/40084 [==============================] - 20s 507us/step - loss: 0.1006 - accuracy: 0.9998\n"
     ]
    },
    {
     "data": {
      "text/plain": [
       "[0.10055975615978241, 0.999763011932373]"
      ]
     },
     "execution_count": 43,
     "metadata": {},
     "output_type": "execute_result"
    }
   ],
   "source": [
    "score = model.evaluate(test,test)\n",
    "score"
   ]
  },
  {
   "cell_type": "code",
   "execution_count": 44,
   "metadata": {},
   "outputs": [],
   "source": [
    "pred_test = pred_test.reshape(pred_test.shape[0],pred_test.shape[2])\n",
    "test = test.reshape(test.shape[0],test.shape[2])"
   ]
  },
  {
   "cell_type": "code",
   "execution_count": 45,
   "metadata": {},
   "outputs": [
    {
     "name": "stderr",
     "output_type": "stream",
     "text": [
      "C:\\Users\\bahma\\.conda\\envs\\svm\\lib\\site-packages\\seaborn\\distributions.py:2557: FutureWarning: `distplot` is a deprecated function and will be removed in a future version. Please adapt your code to use either `displot` (a figure-level function with similar flexibility) or `histplot` (an axes-level function for histograms).\n",
      "  warnings.warn(msg, FutureWarning)\n"
     ]
    },
    {
     "data": {
      "image/png": "[encoded data removed]",
      "text/plain": [
       "<Figure size 432x288 with 1 Axes>"
      ]
     },
     "metadata": {
      "needs_background": "light"
     },
     "output_type": "display_data"
    }
   ],
   "source": [
    "import seaborn as sns\n",
    "\n",
    "scored_test = np.mean(np.abs(pred_test-test), axis = 1)\n",
    "plt.figure()\n",
    "g = sns.distplot(scored_test, bins = 10, kde= True);\n",
    "plt.title('Loss Distribution')\n",
    "plt.xlabel('Loss (MAE)')\n",
    "plt.show()"
   ]
  },
  {
   "cell_type": "code",
   "execution_count": 46,
   "metadata": {},
   "outputs": [
    {
     "data": {
      "text/html": [
       "<div>\n",
       "<style scoped>\n",
       "    .dataframe tbody tr th:only-of-type {\n",
       "        vertical-align: middle;\n",
       "    }\n",
       "\n",
       "    .dataframe tbody tr th {\n",
       "        vertical-align: top;\n",
       "    }\n",
       "\n",
       "    .dataframe thead th {\n",
       "        text-align: right;\n",
       "    }\n",
       "</style>\n",
       "<table border=\"1\" class=\"dataframe\">\n",
       "  <thead>\n",
       "    <tr style=\"text-align: right;\">\n",
       "      <th></th>\n",
       "      <th>Loss_mae</th>\n",
       "      <th>Threshold</th>\n",
       "      <th>Anomaly</th>\n",
       "    </tr>\n",
       "  </thead>\n",
       "  <tbody>\n",
       "    <tr>\n",
       "      <th>0</th>\n",
       "      <td>0.021462</td>\n",
       "      <td>0.1</td>\n",
       "      <td>False</td>\n",
       "    </tr>\n",
       "    <tr>\n",
       "      <th>1</th>\n",
       "      <td>0.021615</td>\n",
       "      <td>0.1</td>\n",
       "      <td>False</td>\n",
       "    </tr>\n",
       "    <tr>\n",
       "      <th>2</th>\n",
       "      <td>0.021674</td>\n",
       "      <td>0.1</td>\n",
       "      <td>False</td>\n",
       "    </tr>\n",
       "    <tr>\n",
       "      <th>3</th>\n",
       "      <td>0.021845</td>\n",
       "      <td>0.1</td>\n",
       "      <td>False</td>\n",
       "    </tr>\n",
       "    <tr>\n",
       "      <th>4</th>\n",
       "      <td>0.021606</td>\n",
       "      <td>0.1</td>\n",
       "      <td>False</td>\n",
       "    </tr>\n",
       "    <tr>\n",
       "      <th>...</th>\n",
       "      <td>...</td>\n",
       "      <td>...</td>\n",
       "      <td>...</td>\n",
       "    </tr>\n",
       "    <tr>\n",
       "      <th>1282652</th>\n",
       "      <td>0.242046</td>\n",
       "      <td>0.1</td>\n",
       "      <td>True</td>\n",
       "    </tr>\n",
       "    <tr>\n",
       "      <th>1282653</th>\n",
       "      <td>0.366155</td>\n",
       "      <td>0.1</td>\n",
       "      <td>True</td>\n",
       "    </tr>\n",
       "    <tr>\n",
       "      <th>1282654</th>\n",
       "      <td>0.220555</td>\n",
       "      <td>0.1</td>\n",
       "      <td>True</td>\n",
       "    </tr>\n",
       "    <tr>\n",
       "      <th>1282655</th>\n",
       "      <td>0.361962</td>\n",
       "      <td>0.1</td>\n",
       "      <td>True</td>\n",
       "    </tr>\n",
       "    <tr>\n",
       "      <th>1282656</th>\n",
       "      <td>0.366390</td>\n",
       "      <td>0.1</td>\n",
       "      <td>True</td>\n",
       "    </tr>\n",
       "  </tbody>\n",
       "</table>\n",
       "<p>1282657 rows × 3 columns</p>\n",
       "</div>"
      ],
      "text/plain": [
       "         Loss_mae  Threshold  Anomaly\n",
       "0        0.021462        0.1    False\n",
       "1        0.021615        0.1    False\n",
       "2        0.021674        0.1    False\n",
       "3        0.021845        0.1    False\n",
       "4        0.021606        0.1    False\n",
       "...           ...        ...      ...\n",
       "1282652  0.242046        0.1     True\n",
       "1282653  0.366155        0.1     True\n",
       "1282654  0.220555        0.1     True\n",
       "1282655  0.361962        0.1     True\n",
       "1282656  0.366390        0.1     True\n",
       "\n",
       "[1282657 rows x 3 columns]"
      ]
     },
     "execution_count": 46,
     "metadata": {},
     "output_type": "execute_result"
    }
   ],
   "source": [
    "scored_test = pd.DataFrame()\n",
    "scored_test['Loss_mae'] = np.mean(np.abs(pred_test-test), axis = 1)\n",
    "scored_test['Threshold'] = TH\n",
    "scored_test['Anomaly'] = scored_test['Loss_mae'] > scored_test['Threshold']\n",
    "\n",
    "scored_test"
   ]
  },
  {
   "cell_type": "code",
   "execution_count": 47,
   "metadata": {},
   "outputs": [
    {
     "data": {
      "text/plain": [
       "0.1553433579761782"
      ]
     },
     "execution_count": 47,
     "metadata": {},
     "output_type": "execute_result"
    }
   ],
   "source": [
    "scored_test['Loss_mae'].mean()"
   ]
  },
  {
   "cell_type": "code",
   "execution_count": 48,
   "metadata": {},
   "outputs": [
    {
     "data": {
      "text/plain": [
       "Text(0, 0.5, 'Loss (MAE)')"
      ]
     },
     "execution_count": 48,
     "metadata": {},
     "output_type": "execute_result"
    },
    {
     "data": {
      "image/png": "[encoded data removed]",
      "text/plain": [
       "<Figure size 1152x288 with 1 Axes>"
      ]
     },
     "metadata": {
      "needs_background": "light"
     },
     "output_type": "display_data"
    }
   ],
   "source": [
    "scored_test.plot(logy=True,  figsize = (16,4), xlim =[0,len(scored_test)])\n",
    "plt.xlabel('Data points')\n",
    "plt.ylabel('Loss (MAE)')"
   ]
  },
  {
   "cell_type": "code",
   "execution_count": 49,
   "metadata": {},
   "outputs": [
    {
     "name": "stdout",
     "output_type": "stream",
     "text": [
      "         Loss_mae  Threshold  Anomaly\n",
      "659226   0.219799        0.1     True\n",
      "659227   0.362719        0.1     True\n",
      "659228   0.365171        0.1     True\n",
      "659229   0.365281        0.1     True\n",
      "659230   0.221115        0.1     True\n",
      "...           ...        ...      ...\n",
      "1282652  0.242046        0.1     True\n",
      "1282653  0.366155        0.1     True\n",
      "1282654  0.220555        0.1     True\n",
      "1282655  0.361962        0.1     True\n",
      "1282656  0.366390        0.1     True\n",
      "\n",
      "[623431 rows x 3 columns]\n",
      "(623431, 3)\n"
     ]
    }
   ],
   "source": [
    "IR_anomalies = scored_test[scored_test['Anomaly'] == True]\n",
    "print(IR_anomalies)\n",
    "print(IR_anomalies.shape)"
   ]
  },
  {
   "cell_type": "code",
   "execution_count": 50,
   "metadata": {},
   "outputs": [
    {
     "data": {
      "image/png": "[encoded data removed]",
      "text/plain": [
       "<Figure size 1296x432 with 1 Axes>"
      ]
     },
     "metadata": {
      "needs_background": "light"
     },
     "output_type": "display_data"
    }
   ],
   "source": [
    "f, (ax2) = plt.subplots(figsize=(18, 6))\n",
    "ax2.plot(scored_test.index, scored_test.Loss_mae, label='Loss(MAE)');\n",
    "ax2.plot(scored_test.index, scored_test.Threshold, label='Threshold')\n",
    "g = sns.scatterplot(x=IR_anomalies.index , y=IR_anomalies.Loss_mae, label='anomaly', color='red')\n",
    "g.set(xlim = (0, len(scored_test.index)))\n",
    "plt.title('Anomalies')\n",
    "plt.xlabel('Data points')\n",
    "plt.ylabel('Loss (MAE)')\n",
    "plt.legend();"
   ]
  },
  {
   "cell_type": "code",
   "execution_count": 51,
   "metadata": {},
   "outputs": [
    {
     "name": "stdout",
     "output_type": "stream",
     "text": [
      "0.999763011932373\n"
     ]
    }
   ],
   "source": [
    "print(score[1])"
   ]
  },
  {
   "cell_type": "code",
   "execution_count": 52,
   "metadata": {},
   "outputs": [
    {
     "name": "stdout",
     "output_type": "stream",
     "text": [
      "Accuracy: 99.98%\n"
     ]
    }
   ],
   "source": [
    "print(\"Accuracy: {:.2f}%\".format(score[1]*100))"
   ]
  },
  {
   "cell_type": "code",
   "execution_count": 53,
   "metadata": {},
   "outputs": [
    {
     "name": "stdout",
     "output_type": "stream",
     "text": [
      "Anomalies: 623431\n"
     ]
    }
   ],
   "source": [
    "print(\"Anomalies: {}\".format(IR_anomalies['Anomaly'].count()))"
   ]
  },
  {
   "cell_type": "code",
   "execution_count": 54,
   "metadata": {},
   "outputs": [],
   "source": [
    "# Seperating Normal and Faulty dataset\n",
    "x = scored_test['Anomaly'].count() / 2"
   ]
  },
  {
   "cell_type": "code",
   "execution_count": 55,
   "metadata": {},
   "outputs": [
    {
     "data": {
      "text/html": [
       "<div>\n",
       "<style scoped>\n",
       "    .dataframe tbody tr th:only-of-type {\n",
       "        vertical-align: middle;\n",
       "    }\n",
       "\n",
       "    .dataframe tbody tr th {\n",
       "        vertical-align: top;\n",
       "    }\n",
       "\n",
       "    .dataframe thead th {\n",
       "        text-align: right;\n",
       "    }\n",
       "</style>\n",
       "<table border=\"1\" class=\"dataframe\">\n",
       "  <thead>\n",
       "    <tr style=\"text-align: right;\">\n",
       "      <th></th>\n",
       "      <th>Loss_mae</th>\n",
       "      <th>Threshold</th>\n",
       "      <th>Anomaly</th>\n",
       "    </tr>\n",
       "  </thead>\n",
       "  <tbody>\n",
       "    <tr>\n",
       "      <th>0</th>\n",
       "      <td>0.021462</td>\n",
       "      <td>0.1</td>\n",
       "      <td>False</td>\n",
       "    </tr>\n",
       "    <tr>\n",
       "      <th>1</th>\n",
       "      <td>0.021615</td>\n",
       "      <td>0.1</td>\n",
       "      <td>False</td>\n",
       "    </tr>\n",
       "    <tr>\n",
       "      <th>2</th>\n",
       "      <td>0.021674</td>\n",
       "      <td>0.1</td>\n",
       "      <td>False</td>\n",
       "    </tr>\n",
       "    <tr>\n",
       "      <th>3</th>\n",
       "      <td>0.021845</td>\n",
       "      <td>0.1</td>\n",
       "      <td>False</td>\n",
       "    </tr>\n",
       "    <tr>\n",
       "      <th>4</th>\n",
       "      <td>0.021606</td>\n",
       "      <td>0.1</td>\n",
       "      <td>False</td>\n",
       "    </tr>\n",
       "    <tr>\n",
       "      <th>...</th>\n",
       "      <td>...</td>\n",
       "      <td>...</td>\n",
       "      <td>...</td>\n",
       "    </tr>\n",
       "    <tr>\n",
       "      <th>641324</th>\n",
       "      <td>0.021628</td>\n",
       "      <td>0.1</td>\n",
       "      <td>False</td>\n",
       "    </tr>\n",
       "    <tr>\n",
       "      <th>641325</th>\n",
       "      <td>0.021478</td>\n",
       "      <td>0.1</td>\n",
       "      <td>False</td>\n",
       "    </tr>\n",
       "    <tr>\n",
       "      <th>641326</th>\n",
       "      <td>0.021787</td>\n",
       "      <td>0.1</td>\n",
       "      <td>False</td>\n",
       "    </tr>\n",
       "    <tr>\n",
       "      <th>641327</th>\n",
       "      <td>0.021308</td>\n",
       "      <td>0.1</td>\n",
       "      <td>False</td>\n",
       "    </tr>\n",
       "    <tr>\n",
       "      <th>641328</th>\n",
       "      <td>0.021411</td>\n",
       "      <td>0.1</td>\n",
       "      <td>False</td>\n",
       "    </tr>\n",
       "  </tbody>\n",
       "</table>\n",
       "<p>641329 rows × 3 columns</p>\n",
       "</div>"
      ],
      "text/plain": [
       "        Loss_mae  Threshold  Anomaly\n",
       "0       0.021462        0.1    False\n",
       "1       0.021615        0.1    False\n",
       "2       0.021674        0.1    False\n",
       "3       0.021845        0.1    False\n",
       "4       0.021606        0.1    False\n",
       "...          ...        ...      ...\n",
       "641324  0.021628        0.1    False\n",
       "641325  0.021478        0.1    False\n",
       "641326  0.021787        0.1    False\n",
       "641327  0.021308        0.1    False\n",
       "641328  0.021411        0.1    False\n",
       "\n",
       "[641329 rows x 3 columns]"
      ]
     },
     "execution_count": 55,
     "metadata": {},
     "output_type": "execute_result"
    }
   ],
   "source": [
    "normal_test = scored_test[scored_test.index < x]\n",
    "normal_test"
   ]
  },
  {
   "cell_type": "code",
   "execution_count": 56,
   "metadata": {},
   "outputs": [
    {
     "data": {
      "text/html": [
       "<div>\n",
       "<style scoped>\n",
       "    .dataframe tbody tr th:only-of-type {\n",
       "        vertical-align: middle;\n",
       "    }\n",
       "\n",
       "    .dataframe tbody tr th {\n",
       "        vertical-align: top;\n",
       "    }\n",
       "\n",
       "    .dataframe thead th {\n",
       "        text-align: right;\n",
       "    }\n",
       "</style>\n",
       "<table border=\"1\" class=\"dataframe\">\n",
       "  <thead>\n",
       "    <tr style=\"text-align: right;\">\n",
       "      <th></th>\n",
       "      <th>Loss_mae</th>\n",
       "      <th>Threshold</th>\n",
       "      <th>Anomaly</th>\n",
       "    </tr>\n",
       "  </thead>\n",
       "  <tbody>\n",
       "    <tr>\n",
       "      <th>641329</th>\n",
       "      <td>0.021561</td>\n",
       "      <td>0.1</td>\n",
       "      <td>False</td>\n",
       "    </tr>\n",
       "    <tr>\n",
       "      <th>641330</th>\n",
       "      <td>0.021764</td>\n",
       "      <td>0.1</td>\n",
       "      <td>False</td>\n",
       "    </tr>\n",
       "    <tr>\n",
       "      <th>641331</th>\n",
       "      <td>0.021238</td>\n",
       "      <td>0.1</td>\n",
       "      <td>False</td>\n",
       "    </tr>\n",
       "    <tr>\n",
       "      <th>641332</th>\n",
       "      <td>0.021651</td>\n",
       "      <td>0.1</td>\n",
       "      <td>False</td>\n",
       "    </tr>\n",
       "    <tr>\n",
       "      <th>641333</th>\n",
       "      <td>0.021474</td>\n",
       "      <td>0.1</td>\n",
       "      <td>False</td>\n",
       "    </tr>\n",
       "    <tr>\n",
       "      <th>...</th>\n",
       "      <td>...</td>\n",
       "      <td>...</td>\n",
       "      <td>...</td>\n",
       "    </tr>\n",
       "    <tr>\n",
       "      <th>1282652</th>\n",
       "      <td>0.242046</td>\n",
       "      <td>0.1</td>\n",
       "      <td>True</td>\n",
       "    </tr>\n",
       "    <tr>\n",
       "      <th>1282653</th>\n",
       "      <td>0.366155</td>\n",
       "      <td>0.1</td>\n",
       "      <td>True</td>\n",
       "    </tr>\n",
       "    <tr>\n",
       "      <th>1282654</th>\n",
       "      <td>0.220555</td>\n",
       "      <td>0.1</td>\n",
       "      <td>True</td>\n",
       "    </tr>\n",
       "    <tr>\n",
       "      <th>1282655</th>\n",
       "      <td>0.361962</td>\n",
       "      <td>0.1</td>\n",
       "      <td>True</td>\n",
       "    </tr>\n",
       "    <tr>\n",
       "      <th>1282656</th>\n",
       "      <td>0.366390</td>\n",
       "      <td>0.1</td>\n",
       "      <td>True</td>\n",
       "    </tr>\n",
       "  </tbody>\n",
       "</table>\n",
       "<p>641328 rows × 3 columns</p>\n",
       "</div>"
      ],
      "text/plain": [
       "         Loss_mae  Threshold  Anomaly\n",
       "641329   0.021561        0.1    False\n",
       "641330   0.021764        0.1    False\n",
       "641331   0.021238        0.1    False\n",
       "641332   0.021651        0.1    False\n",
       "641333   0.021474        0.1    False\n",
       "...           ...        ...      ...\n",
       "1282652  0.242046        0.1     True\n",
       "1282653  0.366155        0.1     True\n",
       "1282654  0.220555        0.1     True\n",
       "1282655  0.361962        0.1     True\n",
       "1282656  0.366390        0.1     True\n",
       "\n",
       "[641328 rows x 3 columns]"
      ]
     },
     "execution_count": 56,
     "metadata": {},
     "output_type": "execute_result"
    }
   ],
   "source": [
    "IR_test = scored_test[scored_test.index >= x]\n",
    "IR_test"
   ]
  },
  {
   "cell_type": "code",
   "execution_count": 57,
   "metadata": {},
   "outputs": [
    {
     "name": "stdout",
     "output_type": "stream",
     "text": [
      "True Positives: 641329\n",
      "False Positives: 0\n",
      "True Negatives: 623431\n",
      "False Negatives: 17897\n"
     ]
    }
   ],
   "source": [
    "TP = normal_test[normal_test['Anomaly'] == False]\n",
    "TP = TP['Anomaly'].count()\n",
    "print(\"True Positives: {}\".format(TP))\n",
    "\n",
    "FP = normal_test[normal_test['Anomaly'] == True]\n",
    "FP = FP['Anomaly'].count()\n",
    "print(\"False Positives: {}\".format(FP))\n",
    "\n",
    "TN = IR_test[IR_test['Anomaly'] == True]\n",
    "TN = TN['Anomaly'].count()\n",
    "print(\"True Negatives: {}\".format(TN))\n",
    "\n",
    "FN = IR_test[IR_test['Anomaly'] == False]\n",
    "FN = FN['Anomaly'].count()\n",
    "print(\"False Negatives: {}\".format(FN))"
   ]
  },
  {
   "cell_type": "code",
   "execution_count": 58,
   "metadata": {},
   "outputs": [
    {
     "name": "stdout",
     "output_type": "stream",
     "text": [
      "Precision: 100.00%\n",
      "Recall: 97.285%\n",
      "F1 Score: 98.62%\n",
      "Accuracy: 98.60%\n"
     ]
    }
   ],
   "source": [
    "Precision = TP / (TP + FP)\n",
    "print(\"Precision: {:.2f}%\".format(Precision*100))\n",
    "\n",
    "Recall = TP / (TP + FN)\n",
    "print(\"Recall: {:.3f}%\".format(Recall*100))\n",
    "\n",
    "F1Score = (2*Precision*Recall)/(Precision+Recall)\n",
    "print(\"F1 Score: {:.2f}%\".format(F1Score*100))\n",
    "\n",
    "Accuracy = ( TP + TN ) / ( TP + TN + FN + FP )\n",
    "print(\"Accuracy: {:.2f}%\".format(Accuracy*100))"
   ]
  },
  {
   "cell_type": "code",
   "execution_count": null,
   "metadata": {},
   "outputs": [],
   "source": []
  }
 ],
 "metadata": {
  "kernelspec": {
   "display_name": "Python 3",
   "language": "python",
   "name": "python3"
  },
  "language_info": {
   "codemirror_mode": {
    "name": "ipython",
    "version": 3
   },
   "file_extension": ".py",
   "mimetype": "text/x-python",
   "name": "python",
   "nbconvert_exporter": "python",
   "pygments_lexer": "ipython3",
   "version": "3.8.5"
  }
 },
 "nbformat": 4,
 "nbformat_minor": 4
}
