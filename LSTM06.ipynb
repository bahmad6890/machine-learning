{
 "cells": [
  {
   "cell_type": "code",
   "execution_count": 1,
   "metadata": {},
   "outputs": [],
   "source": [
    "#importing packages\n",
    "import pandas as pd\n",
    "import numpy as np"
   ]
  },
  {
   "cell_type": "code",
   "execution_count": 2,
   "metadata": {},
   "outputs": [],
   "source": [
    "# Importing the dataset\n",
    "X = pd.read_csv('HealtyNormalized.csv')"
   ]
  },
  {
   "cell_type": "code",
   "execution_count": 3,
   "metadata": {},
   "outputs": [],
   "source": [
    "from sklearn.model_selection import train_test_split\n",
    "X_train, X_test = train_test_split(X, test_size = 0.2, random_state = 0)"
   ]
  },
  {
   "cell_type": "code",
   "execution_count": 4,
   "metadata": {},
   "outputs": [
    {
     "data": {
      "text/html": [
       "<div>\n",
       "<style scoped>\n",
       "    .dataframe tbody tr th:only-of-type {\n",
       "        vertical-align: middle;\n",
       "    }\n",
       "\n",
       "    .dataframe tbody tr th {\n",
       "        vertical-align: top;\n",
       "    }\n",
       "\n",
       "    .dataframe thead th {\n",
       "        text-align: right;\n",
       "    }\n",
       "</style>\n",
       "<table border=\"1\" class=\"dataframe\">\n",
       "  <thead>\n",
       "    <tr style=\"text-align: right;\">\n",
       "      <th></th>\n",
       "      <th>vsH</th>\n",
       "      <th>vbH</th>\n",
       "    </tr>\n",
       "  </thead>\n",
       "  <tbody>\n",
       "    <tr>\n",
       "      <th>1545950</th>\n",
       "      <td>0.000327</td>\n",
       "      <td>0.000465</td>\n",
       "    </tr>\n",
       "    <tr>\n",
       "      <th>842508</th>\n",
       "      <td>0.001032</td>\n",
       "      <td>0.000628</td>\n",
       "    </tr>\n",
       "    <tr>\n",
       "      <th>1689121</th>\n",
       "      <td>0.001009</td>\n",
       "      <td>-0.001388</td>\n",
       "    </tr>\n",
       "    <tr>\n",
       "      <th>1722866</th>\n",
       "      <td>0.000992</td>\n",
       "      <td>0.000238</td>\n",
       "    </tr>\n",
       "    <tr>\n",
       "      <th>1756169</th>\n",
       "      <td>0.000009</td>\n",
       "      <td>-0.000250</td>\n",
       "    </tr>\n",
       "    <tr>\n",
       "      <th>...</th>\n",
       "      <td>...</td>\n",
       "      <td>...</td>\n",
       "    </tr>\n",
       "    <tr>\n",
       "      <th>152315</th>\n",
       "      <td>0.000009</td>\n",
       "      <td>0.000726</td>\n",
       "    </tr>\n",
       "    <tr>\n",
       "      <th>963395</th>\n",
       "      <td>0.001020</td>\n",
       "      <td>0.000888</td>\n",
       "    </tr>\n",
       "    <tr>\n",
       "      <th>117952</th>\n",
       "      <td>0.000009</td>\n",
       "      <td>-0.000152</td>\n",
       "    </tr>\n",
       "    <tr>\n",
       "      <th>1484405</th>\n",
       "      <td>0.000008</td>\n",
       "      <td>-0.000348</td>\n",
       "    </tr>\n",
       "    <tr>\n",
       "      <th>305711</th>\n",
       "      <td>0.000009</td>\n",
       "      <td>0.000075</td>\n",
       "    </tr>\n",
       "  </tbody>\n",
       "</table>\n",
       "<p>1599954 rows × 2 columns</p>\n",
       "</div>"
      ],
      "text/plain": [
       "              vsH       vbH\n",
       "1545950  0.000327  0.000465\n",
       "842508   0.001032  0.000628\n",
       "1689121  0.001009 -0.001388\n",
       "1722866  0.000992  0.000238\n",
       "1756169  0.000009 -0.000250\n",
       "...           ...       ...\n",
       "152315   0.000009  0.000726\n",
       "963395   0.001020  0.000888\n",
       "117952   0.000009 -0.000152\n",
       "1484405  0.000008 -0.000348\n",
       "305711   0.000009  0.000075\n",
       "\n",
       "[1599954 rows x 2 columns]"
      ]
     },
     "execution_count": 4,
     "metadata": {},
     "output_type": "execute_result"
    }
   ],
   "source": [
    "train = X_train\n",
    "train"
   ]
  },
  {
   "cell_type": "code",
   "execution_count": 5,
   "metadata": {},
   "outputs": [
    {
     "data": {
      "text/html": [
       "<div>\n",
       "<style scoped>\n",
       "    .dataframe tbody tr th:only-of-type {\n",
       "        vertical-align: middle;\n",
       "    }\n",
       "\n",
       "    .dataframe tbody tr th {\n",
       "        vertical-align: top;\n",
       "    }\n",
       "\n",
       "    .dataframe thead th {\n",
       "        text-align: right;\n",
       "    }\n",
       "</style>\n",
       "<table border=\"1\" class=\"dataframe\">\n",
       "  <thead>\n",
       "    <tr style=\"text-align: right;\">\n",
       "      <th></th>\n",
       "      <th>vsH</th>\n",
       "      <th>vbH</th>\n",
       "    </tr>\n",
       "  </thead>\n",
       "  <tbody>\n",
       "    <tr>\n",
       "      <th>1563010</th>\n",
       "      <td>0.000009</td>\n",
       "      <td>0.000010</td>\n",
       "    </tr>\n",
       "    <tr>\n",
       "      <th>1144975</th>\n",
       "      <td>0.000725</td>\n",
       "      <td>0.000660</td>\n",
       "    </tr>\n",
       "    <tr>\n",
       "      <th>356424</th>\n",
       "      <td>0.000995</td>\n",
       "      <td>0.000173</td>\n",
       "    </tr>\n",
       "    <tr>\n",
       "      <th>247169</th>\n",
       "      <td>0.000009</td>\n",
       "      <td>-0.000022</td>\n",
       "    </tr>\n",
       "    <tr>\n",
       "      <th>1659074</th>\n",
       "      <td>0.001001</td>\n",
       "      <td>0.000010</td>\n",
       "    </tr>\n",
       "    <tr>\n",
       "      <th>...</th>\n",
       "      <td>...</td>\n",
       "      <td>...</td>\n",
       "    </tr>\n",
       "    <tr>\n",
       "      <th>1508691</th>\n",
       "      <td>0.000009</td>\n",
       "      <td>0.000823</td>\n",
       "    </tr>\n",
       "    <tr>\n",
       "      <th>167734</th>\n",
       "      <td>0.000009</td>\n",
       "      <td>0.000498</td>\n",
       "    </tr>\n",
       "    <tr>\n",
       "      <th>1374343</th>\n",
       "      <td>0.001003</td>\n",
       "      <td>-0.001258</td>\n",
       "    </tr>\n",
       "    <tr>\n",
       "      <th>384688</th>\n",
       "      <td>0.001022</td>\n",
       "      <td>0.000108</td>\n",
       "    </tr>\n",
       "    <tr>\n",
       "      <th>59376</th>\n",
       "      <td>0.000009</td>\n",
       "      <td>0.000400</td>\n",
       "    </tr>\n",
       "  </tbody>\n",
       "</table>\n",
       "<p>399989 rows × 2 columns</p>\n",
       "</div>"
      ],
      "text/plain": [
       "              vsH       vbH\n",
       "1563010  0.000009  0.000010\n",
       "1144975  0.000725  0.000660\n",
       "356424   0.000995  0.000173\n",
       "247169   0.000009 -0.000022\n",
       "1659074  0.001001  0.000010\n",
       "...           ...       ...\n",
       "1508691  0.000009  0.000823\n",
       "167734   0.000009  0.000498\n",
       "1374343  0.001003 -0.001258\n",
       "384688   0.001022  0.000108\n",
       "59376    0.000009  0.000400\n",
       "\n",
       "[399989 rows x 2 columns]"
      ]
     },
     "execution_count": 5,
     "metadata": {},
     "output_type": "execute_result"
    }
   ],
   "source": [
    "test = X_test\n",
    "test"
   ]
  },
  {
   "cell_type": "code",
   "execution_count": 6,
   "metadata": {},
   "outputs": [],
   "source": [
    "from sklearn.preprocessing import MinMaxScaler\n",
    "scaler = MinMaxScaler()\n",
    "train = pd.DataFrame(scaler.fit_transform(train))\n",
    "train.sample(frac=1)\n",
    "\n",
    "test = pd.DataFrame(scaler.transform(test))"
   ]
  },
  {
   "cell_type": "code",
   "execution_count": 7,
   "metadata": {},
   "outputs": [
    {
     "data": {
      "text/plain": [
       "(1599954, 2)"
      ]
     },
     "execution_count": 7,
     "metadata": {},
     "output_type": "execute_result"
    }
   ],
   "source": [
    "train.shape"
   ]
  },
  {
   "cell_type": "code",
   "execution_count": 8,
   "metadata": {},
   "outputs": [
    {
     "data": {
      "text/plain": [
       "(399989, 2)"
      ]
     },
     "execution_count": 8,
     "metadata": {},
     "output_type": "execute_result"
    }
   ],
   "source": [
    "test.shape"
   ]
  },
  {
   "cell_type": "code",
   "execution_count": 9,
   "metadata": {},
   "outputs": [],
   "source": [
    "train = train.values.reshape(-1, 1, 2)"
   ]
  },
  {
   "cell_type": "code",
   "execution_count": 10,
   "metadata": {},
   "outputs": [],
   "source": [
    "test  = test.values.reshape(-1, 1, 2)"
   ]
  },
  {
   "cell_type": "code",
   "execution_count": 11,
   "metadata": {},
   "outputs": [
    {
     "data": {
      "text/plain": [
       "(1599954, 1, 2)"
      ]
     },
     "execution_count": 11,
     "metadata": {},
     "output_type": "execute_result"
    }
   ],
   "source": [
    "#pip install keras\n",
    "train.shape"
   ]
  },
  {
   "cell_type": "code",
   "execution_count": 12,
   "metadata": {},
   "outputs": [
    {
     "data": {
      "text/plain": [
       "(399989, 1, 2)"
      ]
     },
     "execution_count": 12,
     "metadata": {},
     "output_type": "execute_result"
    }
   ],
   "source": [
    "test.shape"
   ]
  },
  {
   "cell_type": "code",
   "execution_count": 13,
   "metadata": {},
   "outputs": [],
   "source": [
    "from keras.layers import Input, Dropout, Dense, LSTM, RepeatVector, TimeDistributed\n",
    "from keras.models import Model, Sequential, load_model\n",
    "from keras import regularizers"
   ]
  },
  {
   "cell_type": "code",
   "execution_count": 14,
   "metadata": {},
   "outputs": [
    {
     "name": "stdout",
     "output_type": "stream",
     "text": [
      "Model: \"sequential\"\n",
      "_________________________________________________________________\n",
      "Layer (type)                 Output Shape              Param #   \n",
      "=================================================================\n",
      "lstm (LSTM)                  (None, 32)                4480      \n",
      "_________________________________________________________________\n",
      "dropout (Dropout)            (None, 32)                0         \n",
      "_________________________________________________________________\n",
      "repeat_vector (RepeatVector) (None, 1, 32)             0         \n",
      "_________________________________________________________________\n",
      "lstm_1 (LSTM)                (None, 1, 32)             8320      \n",
      "_________________________________________________________________\n",
      "dropout_1 (Dropout)          (None, 1, 32)             0         \n",
      "_________________________________________________________________\n",
      "time_distributed (TimeDistri (None, 1, 2)              66        \n",
      "=================================================================\n",
      "Total params: 12,866\n",
      "Trainable params: 12,866\n",
      "Non-trainable params: 0\n",
      "_________________________________________________________________\n"
     ]
    }
   ],
   "source": [
    "# Input layer:\n",
    "model=Sequential([\n",
    "    LSTM(32, activation='relu', input_shape=(train.shape[1],train.shape[2])),\n",
    "    Dropout(0.2),\n",
    "    RepeatVector(train.shape[1]),\n",
    "    LSTM(32, activation='relu', return_sequences=True),\n",
    "    Dropout(0.2),\n",
    "    TimeDistributed(Dense(train.shape[2]))\n",
    "])\n",
    "\n",
    "model.compile(loss='mse',optimizer='adam', metrics=['accuracy'])\n",
    "model.summary()"
   ]
  },
  {
   "cell_type": "code",
   "execution_count": 15,
   "metadata": {
    "scrolled": true
   },
   "outputs": [
    {
     "name": "stdout",
     "output_type": "stream",
     "text": [
      "Epoch 1/100\n",
      "1440/1440 [==============================] - 7s 5ms/step - loss: 0.0350 - accuracy: 0.9476 - val_loss: 0.0037 - val_accuracy: 0.9973\n",
      "Epoch 2/100\n",
      "1440/1440 [==============================] - 6s 4ms/step - loss: 0.0072 - accuracy: 0.9947 - val_loss: 0.0026 - val_accuracy: 0.9975\n",
      "Epoch 3/100\n",
      "1440/1440 [==============================] - 6s 4ms/step - loss: 0.0049 - accuracy: 0.9949 - val_loss: 0.0018 - val_accuracy: 0.9982\n",
      "Epoch 4/100\n",
      "1440/1440 [==============================] - 6s 4ms/step - loss: 0.0041 - accuracy: 0.9933 - val_loss: 0.0013 - val_accuracy: 0.9990\n",
      "Epoch 5/100\n",
      "1440/1440 [==============================] - 7s 5ms/step - loss: 0.0039 - accuracy: 0.9928 - val_loss: 0.0015 - val_accuracy: 0.9993\n",
      "Epoch 6/100\n",
      "1440/1440 [==============================] - 7s 5ms/step - loss: 0.0039 - accuracy: 0.9928 - val_loss: 0.0014 - val_accuracy: 0.9996\n",
      "Epoch 7/100\n",
      "1440/1440 [==============================] - 8s 6ms/step - loss: 0.0038 - accuracy: 0.9929 - val_loss: 0.0019 - val_accuracy: 0.9998\n",
      "Epoch 8/100\n",
      "1440/1440 [==============================] - 8s 6ms/step - loss: 0.0038 - accuracy: 0.9929 - val_loss: 0.0019 - val_accuracy: 0.9997\n",
      "Epoch 9/100\n",
      "1440/1440 [==============================] - 7s 5ms/step - loss: 0.0038 - accuracy: 0.9929 - val_loss: 0.0021 - val_accuracy: 0.9997\n",
      "Epoch 10/100\n",
      "1440/1440 [==============================] - 7s 5ms/step - loss: 0.0038 - accuracy: 0.9931 - val_loss: 0.0020 - val_accuracy: 0.9998\n",
      "Epoch 11/100\n",
      "1440/1440 [==============================] - 6s 4ms/step - loss: 0.0038 - accuracy: 0.9931 - val_loss: 0.0021 - val_accuracy: 0.9997\n",
      "Epoch 12/100\n",
      "1440/1440 [==============================] - 6s 4ms/step - loss: 0.0038 - accuracy: 0.9931 - val_loss: 0.0020 - val_accuracy: 0.9995\n",
      "Epoch 13/100\n",
      "1440/1440 [==============================] - 7s 5ms/step - loss: 0.0038 - accuracy: 0.9929 - val_loss: 0.0024 - val_accuracy: 0.9994\n",
      "Epoch 14/100\n",
      "1440/1440 [==============================] - 6s 4ms/step - loss: 0.0038 - accuracy: 0.9930 - val_loss: 0.0020 - val_accuracy: 0.9994\n",
      "Epoch 15/100\n",
      "1440/1440 [==============================] - 7s 5ms/step - loss: 0.0038 - accuracy: 0.9929 - val_loss: 0.0021 - val_accuracy: 0.9994\n",
      "Epoch 16/100\n",
      "1440/1440 [==============================] - 6s 4ms/step - loss: 0.0038 - accuracy: 0.9929 - val_loss: 0.0020 - val_accuracy: 0.9993\n",
      "Epoch 17/100\n",
      "1440/1440 [==============================] - 6s 4ms/step - loss: 0.0038 - accuracy: 0.9931 - val_loss: 0.0024 - val_accuracy: 0.9989\n",
      "Epoch 18/100\n",
      "1440/1440 [==============================] - 6s 4ms/step - loss: 0.0038 - accuracy: 0.9931 - val_loss: 0.0022 - val_accuracy: 0.9990\n",
      "Epoch 19/100\n",
      "1440/1440 [==============================] - 6s 4ms/step - loss: 0.0038 - accuracy: 0.9938 - val_loss: 0.0019 - val_accuracy: 0.9994\n",
      "Epoch 20/100\n",
      "1440/1440 [==============================] - 6s 4ms/step - loss: 0.0037 - accuracy: 0.9944 - val_loss: 0.0017 - val_accuracy: 0.9994\n",
      "Epoch 21/100\n",
      "1440/1440 [==============================] - 6s 4ms/step - loss: 0.0037 - accuracy: 0.9939 - val_loss: 0.0018 - val_accuracy: 0.9996\n",
      "Epoch 22/100\n",
      "1440/1440 [==============================] - 6s 4ms/step - loss: 0.0037 - accuracy: 0.9939 - val_loss: 0.0018 - val_accuracy: 0.9996\n",
      "Epoch 23/100\n",
      "1440/1440 [==============================] - 6s 4ms/step - loss: 0.0036 - accuracy: 0.9939 - val_loss: 0.0018 - val_accuracy: 0.9993\n",
      "Epoch 24/100\n",
      "1440/1440 [==============================] - 6s 4ms/step - loss: 0.0036 - accuracy: 0.9940 - val_loss: 0.0020 - val_accuracy: 0.9993\n",
      "Epoch 25/100\n",
      "1440/1440 [==============================] - 6s 4ms/step - loss: 0.0036 - accuracy: 0.9940 - val_loss: 0.0017 - val_accuracy: 0.9994\n",
      "Epoch 26/100\n",
      "1440/1440 [==============================] - 6s 4ms/step - loss: 0.0036 - accuracy: 0.9941 - val_loss: 0.0018 - val_accuracy: 0.9994\n",
      "Epoch 27/100\n",
      "1440/1440 [==============================] - 6s 4ms/step - loss: 0.0036 - accuracy: 0.9941 - val_loss: 0.0022 - val_accuracy: 0.9991\n",
      "Epoch 28/100\n",
      "1440/1440 [==============================] - 6s 4ms/step - loss: 0.0036 - accuracy: 0.9942 - val_loss: 0.0017 - val_accuracy: 0.9992\n",
      "Epoch 29/100\n",
      "1440/1440 [==============================] - 6s 4ms/step - loss: 0.0036 - accuracy: 0.9941 - val_loss: 0.0018 - val_accuracy: 0.9992\n",
      "Epoch 30/100\n",
      "1440/1440 [==============================] - 6s 4ms/step - loss: 0.0036 - accuracy: 0.9941 - val_loss: 0.0018 - val_accuracy: 0.9992\n",
      "Epoch 31/100\n",
      "1440/1440 [==============================] - 6s 4ms/step - loss: 0.0036 - accuracy: 0.9941 - val_loss: 0.0016 - val_accuracy: 0.9994\n",
      "Epoch 32/100\n",
      "1440/1440 [==============================] - 6s 4ms/step - loss: 0.0036 - accuracy: 0.9942 - val_loss: 0.0019 - val_accuracy: 0.9990\n",
      "Epoch 33/100\n",
      "1440/1440 [==============================] - 7s 5ms/step - loss: 0.0036 - accuracy: 0.9941 - val_loss: 0.0017 - val_accuracy: 0.9993\n",
      "Epoch 34/100\n",
      "1440/1440 [==============================] - 7s 5ms/step - loss: 0.0036 - accuracy: 0.9940 - val_loss: 0.0019 - val_accuracy: 0.9991\n",
      "Epoch 35/100\n",
      "1440/1440 [==============================] - 6s 4ms/step - loss: 0.0036 - accuracy: 0.9941 - val_loss: 0.0018 - val_accuracy: 0.9995\n",
      "Epoch 36/100\n",
      "1440/1440 [==============================] - 6s 4ms/step - loss: 0.0036 - accuracy: 0.9940 - val_loss: 0.0020 - val_accuracy: 0.9993\n",
      "Epoch 37/100\n",
      "1440/1440 [==============================] - 6s 4ms/step - loss: 0.0036 - accuracy: 0.9940 - val_loss: 0.0019 - val_accuracy: 0.9995\n",
      "Epoch 38/100\n",
      "1440/1440 [==============================] - 6s 4ms/step - loss: 0.0035 - accuracy: 0.9941 - val_loss: 0.0019 - val_accuracy: 0.9993\n",
      "Epoch 39/100\n",
      "1440/1440 [==============================] - 6s 4ms/step - loss: 0.0035 - accuracy: 0.9940 - val_loss: 0.0013 - val_accuracy: 0.9996\n",
      "Epoch 40/100\n",
      "1440/1440 [==============================] - 6s 4ms/step - loss: 0.0035 - accuracy: 0.9941 - val_loss: 0.0020 - val_accuracy: 0.9991\n",
      "Epoch 41/100\n",
      "1440/1440 [==============================] - 6s 4ms/step - loss: 0.0035 - accuracy: 0.9941 - val_loss: 0.0018 - val_accuracy: 0.9992\n",
      "Epoch 42/100\n",
      "1440/1440 [==============================] - 6s 4ms/step - loss: 0.0035 - accuracy: 0.9941 - val_loss: 0.0018 - val_accuracy: 0.9992\n",
      "Epoch 43/100\n",
      "1440/1440 [==============================] - 6s 4ms/step - loss: 0.0035 - accuracy: 0.9940 - val_loss: 0.0020 - val_accuracy: 0.9988\n",
      "Epoch 44/100\n",
      "1440/1440 [==============================] - 6s 4ms/step - loss: 0.0035 - accuracy: 0.9941 - val_loss: 0.0021 - val_accuracy: 0.9992\n",
      "Epoch 45/100\n",
      "1440/1440 [==============================] - 6s 4ms/step - loss: 0.0035 - accuracy: 0.9940 - val_loss: 0.0017 - val_accuracy: 0.9993\n",
      "Epoch 46/100\n",
      "1440/1440 [==============================] - 6s 4ms/step - loss: 0.0035 - accuracy: 0.9941 - val_loss: 0.0016 - val_accuracy: 0.9993\n",
      "Epoch 47/100\n",
      "1440/1440 [==============================] - 6s 4ms/step - loss: 0.0035 - accuracy: 0.9941 - val_loss: 0.0021 - val_accuracy: 0.9993\n",
      "Epoch 48/100\n",
      "1440/1440 [==============================] - 7s 5ms/step - loss: 0.0035 - accuracy: 0.9940 - val_loss: 0.0020 - val_accuracy: 0.9994\n",
      "Epoch 49/100\n",
      "1440/1440 [==============================] - 7s 5ms/step - loss: 0.0035 - accuracy: 0.9940 - val_loss: 0.0019 - val_accuracy: 0.9994\n",
      "Epoch 50/100\n",
      "1440/1440 [==============================] - 7s 5ms/step - loss: 0.0035 - accuracy: 0.9941 - val_loss: 0.0017 - val_accuracy: 0.9996\n",
      "Epoch 51/100\n",
      "1440/1440 [==============================] - 7s 5ms/step - loss: 0.0035 - accuracy: 0.9940 - val_loss: 0.0020 - val_accuracy: 0.9993\n",
      "Epoch 52/100\n",
      "1440/1440 [==============================] - 7s 5ms/step - loss: 0.0035 - accuracy: 0.9940 - val_loss: 0.0018 - val_accuracy: 0.9996\n",
      "Epoch 53/100\n",
      "1440/1440 [==============================] - 7s 5ms/step - loss: 0.0035 - accuracy: 0.9942 - val_loss: 0.0022 - val_accuracy: 0.9992\n",
      "Epoch 54/100\n",
      "1440/1440 [==============================] - 6s 4ms/step - loss: 0.0035 - accuracy: 0.9940 - val_loss: 0.0019 - val_accuracy: 0.9996\n",
      "Epoch 55/100\n",
      "1440/1440 [==============================] - 6s 4ms/step - loss: 0.0035 - accuracy: 0.9941 - val_loss: 0.0020 - val_accuracy: 0.9996\n",
      "Epoch 56/100\n",
      "1440/1440 [==============================] - 6s 4ms/step - loss: 0.0035 - accuracy: 0.9941 - val_loss: 0.0020 - val_accuracy: 0.9996\n",
      "Epoch 57/100\n"
     ]
    },
    {
     "name": "stdout",
     "output_type": "stream",
     "text": [
      "1440/1440 [==============================] - 6s 4ms/step - loss: 0.0035 - accuracy: 0.9942 - val_loss: 0.0019 - val_accuracy: 0.9996\n",
      "Epoch 58/100\n",
      "1440/1440 [==============================] - 7s 5ms/step - loss: 0.0035 - accuracy: 0.9941 - val_loss: 0.0020 - val_accuracy: 0.9996\n",
      "Epoch 59/100\n",
      "1440/1440 [==============================] - 7s 5ms/step - loss: 0.0035 - accuracy: 0.9942 - val_loss: 0.0020 - val_accuracy: 0.9996\n",
      "Epoch 60/100\n",
      "1440/1440 [==============================] - 7s 5ms/step - loss: 0.0035 - accuracy: 0.9942 - val_loss: 0.0018 - val_accuracy: 0.9998\n",
      "Epoch 61/100\n",
      "1440/1440 [==============================] - 7s 5ms/step - loss: 0.0035 - accuracy: 0.9941 - val_loss: 0.0022 - val_accuracy: 0.9993\n",
      "Epoch 62/100\n",
      "1440/1440 [==============================] - 6s 4ms/step - loss: 0.0035 - accuracy: 0.9940 - val_loss: 0.0019 - val_accuracy: 0.9996\n",
      "Epoch 63/100\n",
      "1440/1440 [==============================] - 6s 4ms/step - loss: 0.0035 - accuracy: 0.9942 - val_loss: 0.0018 - val_accuracy: 0.9995\n",
      "Epoch 64/100\n",
      "1440/1440 [==============================] - 6s 4ms/step - loss: 0.0035 - accuracy: 0.9942 - val_loss: 0.0019 - val_accuracy: 0.9996\n",
      "Epoch 65/100\n",
      "1440/1440 [==============================] - 6s 4ms/step - loss: 0.0035 - accuracy: 0.9942 - val_loss: 0.0021 - val_accuracy: 0.9997\n",
      "Epoch 66/100\n",
      "1440/1440 [==============================] - 7s 5ms/step - loss: 0.0035 - accuracy: 0.9941 - val_loss: 0.0018 - val_accuracy: 0.9996\n",
      "Epoch 67/100\n",
      "1440/1440 [==============================] - 7s 5ms/step - loss: 0.0035 - accuracy: 0.9942 - val_loss: 0.0022 - val_accuracy: 0.9995\n",
      "Epoch 68/100\n",
      "1440/1440 [==============================] - 8s 5ms/step - loss: 0.0035 - accuracy: 0.9941 - val_loss: 0.0024 - val_accuracy: 0.9992\n",
      "Epoch 69/100\n",
      "1440/1440 [==============================] - 7s 5ms/step - loss: 0.0035 - accuracy: 0.9942 - val_loss: 0.0019 - val_accuracy: 0.9998\n",
      "Epoch 70/100\n",
      "1440/1440 [==============================] - 8s 6ms/step - loss: 0.0035 - accuracy: 0.9941 - val_loss: 0.0020 - val_accuracy: 0.9996\n",
      "Epoch 71/100\n",
      "1440/1440 [==============================] - 7s 5ms/step - loss: 0.0035 - accuracy: 0.9941 - val_loss: 0.0020 - val_accuracy: 0.9997\n",
      "Epoch 72/100\n",
      "1440/1440 [==============================] - 7s 5ms/step - loss: 0.0035 - accuracy: 0.9942 - val_loss: 0.0019 - val_accuracy: 0.9996\n",
      "Epoch 73/100\n",
      "1440/1440 [==============================] - 6s 4ms/step - loss: 0.0035 - accuracy: 0.9942 - val_loss: 0.0022 - val_accuracy: 0.9996\n",
      "Epoch 74/100\n",
      "1440/1440 [==============================] - 6s 4ms/step - loss: 0.0035 - accuracy: 0.9941 - val_loss: 0.0016 - val_accuracy: 0.9998\n",
      "Epoch 75/100\n",
      "1440/1440 [==============================] - 6s 4ms/step - loss: 0.0035 - accuracy: 0.9942 - val_loss: 0.0021 - val_accuracy: 0.9997\n",
      "Epoch 76/100\n",
      "1440/1440 [==============================] - 7s 5ms/step - loss: 0.0035 - accuracy: 0.9941 - val_loss: 0.0021 - val_accuracy: 0.9997\n",
      "Epoch 77/100\n",
      "1440/1440 [==============================] - 7s 5ms/step - loss: 0.0035 - accuracy: 0.9942 - val_loss: 0.0018 - val_accuracy: 0.9995\n",
      "Epoch 78/100\n",
      "1440/1440 [==============================] - 6s 4ms/step - loss: 0.0035 - accuracy: 0.9942 - val_loss: 0.0018 - val_accuracy: 0.9998\n",
      "Epoch 79/100\n",
      "1440/1440 [==============================] - 7s 5ms/step - loss: 0.0035 - accuracy: 0.9941 - val_loss: 0.0019 - val_accuracy: 0.9997\n",
      "Epoch 80/100\n",
      "1440/1440 [==============================] - 7s 5ms/step - loss: 0.0035 - accuracy: 0.9941 - val_loss: 0.0019 - val_accuracy: 0.9996\n",
      "Epoch 81/100\n",
      "1440/1440 [==============================] - 7s 5ms/step - loss: 0.0035 - accuracy: 0.9941 - val_loss: 0.0022 - val_accuracy: 0.9996\n",
      "Epoch 82/100\n",
      "1440/1440 [==============================] - 7s 5ms/step - loss: 0.0035 - accuracy: 0.9942 - val_loss: 0.0020 - val_accuracy: 0.9997\n",
      "Epoch 83/100\n",
      "1440/1440 [==============================] - 7s 5ms/step - loss: 0.0035 - accuracy: 0.9941 - val_loss: 0.0018 - val_accuracy: 0.9996\n",
      "Epoch 84/100\n",
      "1440/1440 [==============================] - 7s 5ms/step - loss: 0.0035 - accuracy: 0.9941 - val_loss: 0.0019 - val_accuracy: 0.9997\n",
      "Epoch 85/100\n",
      "1440/1440 [==============================] - 7s 5ms/step - loss: 0.0035 - accuracy: 0.9942 - val_loss: 0.0024 - val_accuracy: 0.9996\n",
      "Epoch 86/100\n",
      "1440/1440 [==============================] - 7s 5ms/step - loss: 0.0035 - accuracy: 0.9942 - val_loss: 0.0021 - val_accuracy: 0.9997\n",
      "Epoch 87/100\n",
      "1440/1440 [==============================] - 7s 5ms/step - loss: 0.0035 - accuracy: 0.9941 - val_loss: 0.0021 - val_accuracy: 0.9996\n",
      "Epoch 88/100\n",
      "1440/1440 [==============================] - 7s 5ms/step - loss: 0.0035 - accuracy: 0.9942 - val_loss: 0.0020 - val_accuracy: 0.9996\n",
      "Epoch 89/100\n",
      "1440/1440 [==============================] - 7s 5ms/step - loss: 0.0035 - accuracy: 0.9942 - val_loss: 0.0022 - val_accuracy: 0.9995\n",
      "Epoch 90/100\n",
      "1440/1440 [==============================] - 7s 5ms/step - loss: 0.0035 - accuracy: 0.9943 - val_loss: 0.0019 - val_accuracy: 0.9996\n",
      "Epoch 91/100\n",
      "1440/1440 [==============================] - 7s 5ms/step - loss: 0.0035 - accuracy: 0.9941 - val_loss: 0.0021 - val_accuracy: 0.9997\n",
      "Epoch 92/100\n",
      "1440/1440 [==============================] - 6s 4ms/step - loss: 0.0035 - accuracy: 0.9940 - val_loss: 0.0019 - val_accuracy: 0.9996\n",
      "Epoch 93/100\n",
      "1440/1440 [==============================] - 7s 5ms/step - loss: 0.0035 - accuracy: 0.9941 - val_loss: 0.0021 - val_accuracy: 0.9995\n",
      "Epoch 94/100\n",
      "1440/1440 [==============================] - 7s 5ms/step - loss: 0.0035 - accuracy: 0.9942 - val_loss: 0.0020 - val_accuracy: 0.9996\n",
      "Epoch 95/100\n",
      "1440/1440 [==============================] - 7s 5ms/step - loss: 0.0035 - accuracy: 0.9942 - val_loss: 0.0023 - val_accuracy: 0.9995\n",
      "Epoch 96/100\n",
      "1440/1440 [==============================] - 8s 5ms/step - loss: 0.0035 - accuracy: 0.9941 - val_loss: 0.0022 - val_accuracy: 0.9995\n",
      "Epoch 97/100\n",
      "1440/1440 [==============================] - 8s 5ms/step - loss: 0.0035 - accuracy: 0.9942 - val_loss: 0.0024 - val_accuracy: 0.9993\n",
      "Epoch 98/100\n",
      "1440/1440 [==============================] - 6s 4ms/step - loss: 0.0035 - accuracy: 0.9942 - val_loss: 0.0022 - val_accuracy: 0.9995\n",
      "Epoch 99/100\n",
      "1440/1440 [==============================] - 7s 5ms/step - loss: 0.0035 - accuracy: 0.9941 - val_loss: 0.0023 - val_accuracy: 0.9995\n",
      "Epoch 100/100\n",
      "1440/1440 [==============================] - 7s 5ms/step - loss: 0.0035 - accuracy: 0.9942 - val_loss: 0.0021 - val_accuracy: 0.9995\n"
     ]
    }
   ],
   "source": [
    "# Train model for 100 epochs, batch size of 1000: \n",
    "NUM_EPOCHS=100\n",
    "BATCH_SIZE=1000\n",
    "\n",
    "history=model.fit(train,train, \n",
    "                  batch_size=BATCH_SIZE, \n",
    "                  epochs=NUM_EPOCHS,\n",
    "                  validation_split=0.1,\n",
    "                  shuffle=True)"
   ]
  },
  {
   "cell_type": "code",
   "execution_count": 16,
   "metadata": {},
   "outputs": [
    {
     "data": {
      "image/png": "[encoded data removed]",
      "text/plain": [
       "<Figure size 432x288 with 1 Axes>"
      ]
     },
     "metadata": {
      "needs_background": "light"
     },
     "output_type": "display_data"
    }
   ],
   "source": [
    "import matplotlib.pyplot as plt\n",
    "\n",
    "plt.plot(history.history['loss'], label='Training loss')\n",
    "plt.plot(history.history['val_loss'], label='Validation loss')\n",
    "plt.legend(loc='upper right')\n",
    "plt.xlabel('Epochs')\n",
    "plt.ylabel('Loss [mse]')\n",
    "plt.show()"
   ]
  },
  {
   "cell_type": "code",
   "execution_count": 17,
   "metadata": {},
   "outputs": [],
   "source": [
    "pred_train = model.predict(train)"
   ]
  },
  {
   "cell_type": "code",
   "execution_count": 18,
   "metadata": {},
   "outputs": [],
   "source": [
    "pred_train = pred_train.reshape(pred_train.shape[0],pred_train.shape[2])\n",
    "train = train.reshape(train.shape[0],train.shape[2])"
   ]
  },
  {
   "cell_type": "code",
   "execution_count": 19,
   "metadata": {},
   "outputs": [
    {
     "name": "stderr",
     "output_type": "stream",
     "text": [
      "C:\\Users\\bahma\\.conda\\envs\\svm\\lib\\site-packages\\seaborn\\distributions.py:2557: FutureWarning: `distplot` is a deprecated function and will be removed in a future version. Please adapt your code to use either `displot` (a figure-level function with similar flexibility) or `histplot` (an axes-level function for histograms).\n",
      "  warnings.warn(msg, FutureWarning)\n"
     ]
    },
    {
     "data": {
      "image/png": "[encoded data removed]",
      "text/plain": [
       "<Figure size 432x288 with 1 Axes>"
      ]
     },
     "metadata": {
      "needs_background": "light"
     },
     "output_type": "display_data"
    }
   ],
   "source": [
    "import seaborn as sns\n",
    "\n",
    "scored = np.mean(np.abs(pred_train-train), axis = 1)\n",
    "plt.figure()\n",
    "g = sns.distplot(scored, bins = 50, kde= True, color = 'blue');\n",
    "plt.title('Loss Distribution')\n",
    "plt.xlabel('Loss (MAE)')\n",
    "plt.show()"
   ]
  },
  {
   "cell_type": "code",
   "execution_count": 20,
   "metadata": {},
   "outputs": [],
   "source": [
    "TH = 0.06\n",
    "pred_train = pd.DataFrame(pred_train)\n",
    "scored_train = pd.DataFrame()\n",
    "scored_train['Loss_mae'] = np.mean(np.abs(pred_train-train), axis = 1)\n",
    "scored_train['Threshold'] = TH\n",
    "scored_train['Anomaly'] = scored_train['Loss_mae'] > scored_train['Threshold']"
   ]
  },
  {
   "cell_type": "code",
   "execution_count": 21,
   "metadata": {},
   "outputs": [
    {
     "data": {
      "text/plain": [
       "0.03084403514321522"
      ]
     },
     "execution_count": 21,
     "metadata": {},
     "output_type": "execute_result"
    }
   ],
   "source": [
    "scored_train['Loss_mae'].mean()"
   ]
  },
  {
   "cell_type": "code",
   "execution_count": 22,
   "metadata": {},
   "outputs": [
    {
     "data": {
      "text/plain": [
       "Text(0, 0.5, 'Loss (MAE)')"
      ]
     },
     "execution_count": 22,
     "metadata": {},
     "output_type": "execute_result"
    },
    {
     "data": {
      "image/png": "[encoded data removed]",
      "text/plain": [
       "<Figure size 1152x288 with 1 Axes>"
      ]
     },
     "metadata": {
      "needs_background": "light"
     },
     "output_type": "display_data"
    }
   ],
   "source": [
    "scored_train.plot(logy=True,  figsize = (16,4), xlim =[0,len(scored_train)])\n",
    "plt.xlabel('Data points')\n",
    "plt.ylabel('Loss (MAE)')"
   ]
  },
  {
   "cell_type": "code",
   "execution_count": 23,
   "metadata": {},
   "outputs": [
    {
     "data": {
      "text/html": [
       "<div>\n",
       "<style scoped>\n",
       "    .dataframe tbody tr th:only-of-type {\n",
       "        vertical-align: middle;\n",
       "    }\n",
       "\n",
       "    .dataframe tbody tr th {\n",
       "        vertical-align: top;\n",
       "    }\n",
       "\n",
       "    .dataframe thead th {\n",
       "        text-align: right;\n",
       "    }\n",
       "</style>\n",
       "<table border=\"1\" class=\"dataframe\">\n",
       "  <thead>\n",
       "    <tr style=\"text-align: right;\">\n",
       "      <th></th>\n",
       "      <th>Loss_mae</th>\n",
       "      <th>Threshold</th>\n",
       "      <th>Anomaly</th>\n",
       "    </tr>\n",
       "  </thead>\n",
       "  <tbody>\n",
       "    <tr>\n",
       "      <th>0</th>\n",
       "      <td>0.003687</td>\n",
       "      <td>0.06</td>\n",
       "      <td>False</td>\n",
       "    </tr>\n",
       "    <tr>\n",
       "      <th>1</th>\n",
       "      <td>0.057633</td>\n",
       "      <td>0.06</td>\n",
       "      <td>False</td>\n",
       "    </tr>\n",
       "    <tr>\n",
       "      <th>2</th>\n",
       "      <td>0.051598</td>\n",
       "      <td>0.06</td>\n",
       "      <td>False</td>\n",
       "    </tr>\n",
       "    <tr>\n",
       "      <th>3</th>\n",
       "      <td>0.042569</td>\n",
       "      <td>0.06</td>\n",
       "      <td>False</td>\n",
       "    </tr>\n",
       "    <tr>\n",
       "      <th>4</th>\n",
       "      <td>0.013193</td>\n",
       "      <td>0.06</td>\n",
       "      <td>False</td>\n",
       "    </tr>\n",
       "    <tr>\n",
       "      <th>...</th>\n",
       "      <td>...</td>\n",
       "      <td>...</td>\n",
       "      <td>...</td>\n",
       "    </tr>\n",
       "    <tr>\n",
       "      <th>1599949</th>\n",
       "      <td>0.012339</td>\n",
       "      <td>0.06</td>\n",
       "      <td>False</td>\n",
       "    </tr>\n",
       "    <tr>\n",
       "      <th>1599950</th>\n",
       "      <td>0.054127</td>\n",
       "      <td>0.06</td>\n",
       "      <td>False</td>\n",
       "    </tr>\n",
       "    <tr>\n",
       "      <th>1599951</th>\n",
       "      <td>0.012287</td>\n",
       "      <td>0.06</td>\n",
       "      <td>False</td>\n",
       "    </tr>\n",
       "    <tr>\n",
       "      <th>1599952</th>\n",
       "      <td>0.013183</td>\n",
       "      <td>0.06</td>\n",
       "      <td>False</td>\n",
       "    </tr>\n",
       "    <tr>\n",
       "      <th>1599953</th>\n",
       "      <td>0.006639</td>\n",
       "      <td>0.06</td>\n",
       "      <td>False</td>\n",
       "    </tr>\n",
       "  </tbody>\n",
       "</table>\n",
       "<p>1599954 rows × 3 columns</p>\n",
       "</div>"
      ],
      "text/plain": [
       "         Loss_mae  Threshold  Anomaly\n",
       "0        0.003687       0.06    False\n",
       "1        0.057633       0.06    False\n",
       "2        0.051598       0.06    False\n",
       "3        0.042569       0.06    False\n",
       "4        0.013193       0.06    False\n",
       "...           ...        ...      ...\n",
       "1599949  0.012339       0.06    False\n",
       "1599950  0.054127       0.06    False\n",
       "1599951  0.012287       0.06    False\n",
       "1599952  0.013183       0.06    False\n",
       "1599953  0.006639       0.06    False\n",
       "\n",
       "[1599954 rows x 3 columns]"
      ]
     },
     "execution_count": 23,
     "metadata": {},
     "output_type": "execute_result"
    }
   ],
   "source": [
    "scored_train"
   ]
  },
  {
   "cell_type": "code",
   "execution_count": 24,
   "metadata": {},
   "outputs": [
    {
     "name": "stdout",
     "output_type": "stream",
     "text": [
      "         Loss_mae  Threshold  Anomaly\n",
      "27       0.064069       0.06     True\n",
      "34       0.069690       0.06     True\n",
      "80       0.065741       0.06     True\n",
      "106      0.066479       0.06     True\n",
      "164      0.063139       0.06     True\n",
      "...           ...        ...      ...\n",
      "1599838  0.062134       0.06     True\n",
      "1599843  0.061010       0.06     True\n",
      "1599863  0.063919       0.06     True\n",
      "1599905  0.062341       0.06     True\n",
      "1599948  0.063046       0.06     True\n",
      "\n",
      "[69184 rows x 3 columns]\n",
      "(69184, 3)\n"
     ]
    }
   ],
   "source": [
    "anomalies = scored_train[scored_train['Anomaly'] == True]\n",
    "print(anomalies)\n",
    "print(anomalies.shape)"
   ]
  },
  {
   "cell_type": "code",
   "execution_count": 25,
   "metadata": {},
   "outputs": [
    {
     "name": "stderr",
     "output_type": "stream",
     "text": [
      "C:\\Users\\bahma\\.conda\\envs\\svm\\lib\\site-packages\\IPython\\core\\pylabtools.py:132: UserWarning: Creating legend with loc=\"best\" can be slow with large amounts of data.\n",
      "  fig.canvas.print_figure(bytes_io, **kw)\n"
     ]
    },
    {
     "data": {
      "image/png": "[encoded data removed]",
      "text/plain": [
       "<Figure size 1152x288 with 1 Axes>"
      ]
     },
     "metadata": {
      "needs_background": "light"
     },
     "output_type": "display_data"
    }
   ],
   "source": [
    "f, (ax1) = plt.subplots(figsize=(16, 4))\n",
    "ax1.plot(scored_train.index, scored_train.Loss_mae, label='Loss(MAE)');\n",
    "ax1.plot(scored_train.index, scored_train.Threshold, label='Threshold')\n",
    "g = sns.scatterplot(x=anomalies.index , y=anomalies.Loss_mae, label='anomaly', color='red')\n",
    "g.set(xlim = (0, len(scored_train.index)))\n",
    "plt.title('Anomalies')\n",
    "plt.xlabel('Data points')\n",
    "plt.ylabel('Loss (MAE)')\n",
    "plt.legend();"
   ]
  },
  {
   "cell_type": "code",
   "execution_count": 26,
   "metadata": {},
   "outputs": [],
   "source": [
    "pred_test = model.predict(test)"
   ]
  },
  {
   "cell_type": "code",
   "execution_count": 27,
   "metadata": {},
   "outputs": [
    {
     "name": "stdout",
     "output_type": "stream",
     "text": [
      "12500/12500 [==============================] - 12s 921us/step - loss: 0.0021 - accuracy: 0.9995\n"
     ]
    },
    {
     "data": {
      "text/plain": [
       "[0.0021082099992781878, 0.999459981918335]"
      ]
     },
     "execution_count": 27,
     "metadata": {},
     "output_type": "execute_result"
    }
   ],
   "source": [
    "score = model.evaluate(test,test)\n",
    "score"
   ]
  },
  {
   "cell_type": "code",
   "execution_count": 28,
   "metadata": {},
   "outputs": [],
   "source": [
    "pred_test = pred_test.reshape(pred_test.shape[0],pred_test.shape[2])\n",
    "test = test.reshape(test.shape[0],test.shape[2])"
   ]
  },
  {
   "cell_type": "code",
   "execution_count": 29,
   "metadata": {},
   "outputs": [
    {
     "name": "stderr",
     "output_type": "stream",
     "text": [
      "C:\\Users\\bahma\\.conda\\envs\\svm\\lib\\site-packages\\seaborn\\distributions.py:2557: FutureWarning: `distplot` is a deprecated function and will be removed in a future version. Please adapt your code to use either `displot` (a figure-level function with similar flexibility) or `histplot` (an axes-level function for histograms).\n",
      "  warnings.warn(msg, FutureWarning)\n"
     ]
    },
    {
     "data": {
      "image/png": "[encoded data removed]",
      "text/plain": [
       "<Figure size 432x288 with 1 Axes>"
      ]
     },
     "metadata": {
      "needs_background": "light"
     },
     "output_type": "display_data"
    }
   ],
   "source": [
    "import seaborn as sns\n",
    "\n",
    "scored_test = np.mean(np.abs(pred_test-test), axis = 1)\n",
    "plt.figure()\n",
    "g = sns.distplot(scored_test, bins = 10, kde= True);\n",
    "plt.title('Loss Distribution')\n",
    "plt.xlabel('Loss (MAE)')\n",
    "plt.show()"
   ]
  },
  {
   "cell_type": "code",
   "execution_count": 30,
   "metadata": {},
   "outputs": [
    {
     "data": {
      "text/html": [
       "<div>\n",
       "<style scoped>\n",
       "    .dataframe tbody tr th:only-of-type {\n",
       "        vertical-align: middle;\n",
       "    }\n",
       "\n",
       "    .dataframe tbody tr th {\n",
       "        vertical-align: top;\n",
       "    }\n",
       "\n",
       "    .dataframe thead th {\n",
       "        text-align: right;\n",
       "    }\n",
       "</style>\n",
       "<table border=\"1\" class=\"dataframe\">\n",
       "  <thead>\n",
       "    <tr style=\"text-align: right;\">\n",
       "      <th></th>\n",
       "      <th>Loss_mae</th>\n",
       "      <th>Threshold</th>\n",
       "      <th>Anomaly</th>\n",
       "    </tr>\n",
       "  </thead>\n",
       "  <tbody>\n",
       "    <tr>\n",
       "      <th>0</th>\n",
       "      <td>0.007300</td>\n",
       "      <td>0.06</td>\n",
       "      <td>False</td>\n",
       "    </tr>\n",
       "    <tr>\n",
       "      <th>1</th>\n",
       "      <td>0.015774</td>\n",
       "      <td>0.06</td>\n",
       "      <td>False</td>\n",
       "    </tr>\n",
       "    <tr>\n",
       "      <th>2</th>\n",
       "      <td>0.042072</td>\n",
       "      <td>0.06</td>\n",
       "      <td>False</td>\n",
       "    </tr>\n",
       "    <tr>\n",
       "      <th>3</th>\n",
       "      <td>0.008253</td>\n",
       "      <td>0.06</td>\n",
       "      <td>False</td>\n",
       "    </tr>\n",
       "    <tr>\n",
       "      <th>4</th>\n",
       "      <td>0.043318</td>\n",
       "      <td>0.06</td>\n",
       "      <td>False</td>\n",
       "    </tr>\n",
       "    <tr>\n",
       "      <th>...</th>\n",
       "      <td>...</td>\n",
       "      <td>...</td>\n",
       "      <td>...</td>\n",
       "    </tr>\n",
       "    <tr>\n",
       "      <th>399984</th>\n",
       "      <td>0.013759</td>\n",
       "      <td>0.06</td>\n",
       "      <td>False</td>\n",
       "    </tr>\n",
       "    <tr>\n",
       "      <th>399985</th>\n",
       "      <td>0.010419</td>\n",
       "      <td>0.06</td>\n",
       "      <td>False</td>\n",
       "    </tr>\n",
       "    <tr>\n",
       "      <th>399986</th>\n",
       "      <td>0.051438</td>\n",
       "      <td>0.06</td>\n",
       "      <td>False</td>\n",
       "    </tr>\n",
       "    <tr>\n",
       "      <th>399987</th>\n",
       "      <td>0.047746</td>\n",
       "      <td>0.06</td>\n",
       "      <td>False</td>\n",
       "    </tr>\n",
       "    <tr>\n",
       "      <th>399988</th>\n",
       "      <td>0.009957</td>\n",
       "      <td>0.06</td>\n",
       "      <td>False</td>\n",
       "    </tr>\n",
       "  </tbody>\n",
       "</table>\n",
       "<p>399989 rows × 3 columns</p>\n",
       "</div>"
      ],
      "text/plain": [
       "        Loss_mae  Threshold  Anomaly\n",
       "0       0.007300       0.06    False\n",
       "1       0.015774       0.06    False\n",
       "2       0.042072       0.06    False\n",
       "3       0.008253       0.06    False\n",
       "4       0.043318       0.06    False\n",
       "...          ...        ...      ...\n",
       "399984  0.013759       0.06    False\n",
       "399985  0.010419       0.06    False\n",
       "399986  0.051438       0.06    False\n",
       "399987  0.047746       0.06    False\n",
       "399988  0.009957       0.06    False\n",
       "\n",
       "[399989 rows x 3 columns]"
      ]
     },
     "execution_count": 30,
     "metadata": {},
     "output_type": "execute_result"
    }
   ],
   "source": [
    "scored_test = pd.DataFrame()\n",
    "scored_test['Loss_mae'] = np.mean(np.abs(pred_test-test), axis = 1)\n",
    "scored_test['Threshold'] = TH\n",
    "scored_test['Anomaly'] = scored_test['Loss_mae'] > scored_test['Threshold']\n",
    "\n",
    "scored_test"
   ]
  },
  {
   "cell_type": "code",
   "execution_count": 31,
   "metadata": {},
   "outputs": [
    {
     "data": {
      "text/plain": [
       "0.030776084338037416"
      ]
     },
     "execution_count": 31,
     "metadata": {},
     "output_type": "execute_result"
    }
   ],
   "source": [
    "scored_test['Loss_mae'].mean()"
   ]
  },
  {
   "cell_type": "code",
   "execution_count": 32,
   "metadata": {},
   "outputs": [
    {
     "data": {
      "text/plain": [
       "Text(0, 0.5, 'Loss (MAE)')"
      ]
     },
     "execution_count": 32,
     "metadata": {},
     "output_type": "execute_result"
    },
    {
     "data": {
      "image/png": "[encoded data removed]",
      "text/plain": [
       "<Figure size 1152x288 with 1 Axes>"
      ]
     },
     "metadata": {
      "needs_background": "light"
     },
     "output_type": "display_data"
    }
   ],
   "source": [
    "scored_test.plot(logy=True,  figsize = (16,4), xlim =[0,len(scored_test)])\n",
    "plt.xlabel('Data points')\n",
    "plt.ylabel('Loss (MAE)')"
   ]
  },
  {
   "cell_type": "code",
   "execution_count": 33,
   "metadata": {},
   "outputs": [
    {
     "name": "stdout",
     "output_type": "stream",
     "text": [
      "        Loss_mae  Threshold  Anomaly\n",
      "9       0.063379       0.06     True\n",
      "14      0.062465       0.06     True\n",
      "52      0.072184       0.06     True\n",
      "66      0.060411       0.06     True\n",
      "70      0.060070       0.06     True\n",
      "...          ...        ...      ...\n",
      "399889  0.064876       0.06     True\n",
      "399942  0.062655       0.06     True\n",
      "399948  0.061208       0.06     True\n",
      "399961  0.063807       0.06     True\n",
      "399972  0.063484       0.06     True\n",
      "\n",
      "[17119 rows x 3 columns]\n",
      "(17119, 3)\n"
     ]
    }
   ],
   "source": [
    "IR_anomalies = scored_test[scored_test['Anomaly'] == True]\n",
    "print(IR_anomalies)\n",
    "print(IR_anomalies.shape)"
   ]
  },
  {
   "cell_type": "code",
   "execution_count": 34,
   "metadata": {},
   "outputs": [
    {
     "data": {
      "image/png": "[encoded data removed]",
      "text/plain": [
       "<Figure size 1296x432 with 1 Axes>"
      ]
     },
     "metadata": {
      "needs_background": "light"
     },
     "output_type": "display_data"
    }
   ],
   "source": [
    "f, (ax2) = plt.subplots(figsize=(18, 6))\n",
    "ax2.plot(scored_test.index, scored_test.Loss_mae, label='Loss(MAE)');\n",
    "ax2.plot(scored_test.index, scored_test.Threshold, label='Threshold')\n",
    "g = sns.scatterplot(x=IR_anomalies.index , y=IR_anomalies.Loss_mae, label='anomaly', color='red')\n",
    "g.set(xlim = (0, len(scored_test.index)))\n",
    "plt.title('Anomalies')\n",
    "plt.xlabel('Data points')\n",
    "plt.ylabel('Loss (MAE)')\n",
    "plt.legend();"
   ]
  },
  {
   "cell_type": "code",
   "execution_count": 35,
   "metadata": {},
   "outputs": [
    {
     "name": "stdout",
     "output_type": "stream",
     "text": [
      "0.999459981918335\n"
     ]
    }
   ],
   "source": [
    "print(score[1])"
   ]
  },
  {
   "cell_type": "code",
   "execution_count": 36,
   "metadata": {},
   "outputs": [
    {
     "name": "stdout",
     "output_type": "stream",
     "text": [
      "Accuracy: 99.95%\n"
     ]
    }
   ],
   "source": [
    "print(\"Accuracy: {:.2f}%\".format(score[1]*100))"
   ]
  },
  {
   "cell_type": "code",
   "execution_count": 37,
   "metadata": {},
   "outputs": [
    {
     "name": "stdout",
     "output_type": "stream",
     "text": [
      "Anomalies: 17119\n"
     ]
    }
   ],
   "source": [
    "print(\"Anomalies: {}\".format(IR_anomalies['Anomaly'].count()))"
   ]
  },
  {
   "cell_type": "code",
   "execution_count": 38,
   "metadata": {},
   "outputs": [],
   "source": [
    "# Seperating Normal and Faulty dataset\n",
    "x = scored_test['Anomaly'].count() / 2"
   ]
  },
  {
   "cell_type": "code",
   "execution_count": 39,
   "metadata": {},
   "outputs": [
    {
     "data": {
      "text/html": [
       "<div>\n",
       "<style scoped>\n",
       "    .dataframe tbody tr th:only-of-type {\n",
       "        vertical-align: middle;\n",
       "    }\n",
       "\n",
       "    .dataframe tbody tr th {\n",
       "        vertical-align: top;\n",
       "    }\n",
       "\n",
       "    .dataframe thead th {\n",
       "        text-align: right;\n",
       "    }\n",
       "</style>\n",
       "<table border=\"1\" class=\"dataframe\">\n",
       "  <thead>\n",
       "    <tr style=\"text-align: right;\">\n",
       "      <th></th>\n",
       "      <th>Loss_mae</th>\n",
       "      <th>Threshold</th>\n",
       "      <th>Anomaly</th>\n",
       "    </tr>\n",
       "  </thead>\n",
       "  <tbody>\n",
       "    <tr>\n",
       "      <th>0</th>\n",
       "      <td>0.007300</td>\n",
       "      <td>0.06</td>\n",
       "      <td>False</td>\n",
       "    </tr>\n",
       "    <tr>\n",
       "      <th>1</th>\n",
       "      <td>0.015774</td>\n",
       "      <td>0.06</td>\n",
       "      <td>False</td>\n",
       "    </tr>\n",
       "    <tr>\n",
       "      <th>2</th>\n",
       "      <td>0.042072</td>\n",
       "      <td>0.06</td>\n",
       "      <td>False</td>\n",
       "    </tr>\n",
       "    <tr>\n",
       "      <th>3</th>\n",
       "      <td>0.008253</td>\n",
       "      <td>0.06</td>\n",
       "      <td>False</td>\n",
       "    </tr>\n",
       "    <tr>\n",
       "      <th>4</th>\n",
       "      <td>0.043318</td>\n",
       "      <td>0.06</td>\n",
       "      <td>False</td>\n",
       "    </tr>\n",
       "    <tr>\n",
       "      <th>...</th>\n",
       "      <td>...</td>\n",
       "      <td>...</td>\n",
       "      <td>...</td>\n",
       "    </tr>\n",
       "    <tr>\n",
       "      <th>199990</th>\n",
       "      <td>0.047778</td>\n",
       "      <td>0.06</td>\n",
       "      <td>False</td>\n",
       "    </tr>\n",
       "    <tr>\n",
       "      <th>199991</th>\n",
       "      <td>0.049295</td>\n",
       "      <td>0.06</td>\n",
       "      <td>False</td>\n",
       "    </tr>\n",
       "    <tr>\n",
       "      <th>199992</th>\n",
       "      <td>0.010531</td>\n",
       "      <td>0.06</td>\n",
       "      <td>False</td>\n",
       "    </tr>\n",
       "    <tr>\n",
       "      <th>199993</th>\n",
       "      <td>0.007107</td>\n",
       "      <td>0.06</td>\n",
       "      <td>False</td>\n",
       "    </tr>\n",
       "    <tr>\n",
       "      <th>199994</th>\n",
       "      <td>0.007771</td>\n",
       "      <td>0.06</td>\n",
       "      <td>False</td>\n",
       "    </tr>\n",
       "  </tbody>\n",
       "</table>\n",
       "<p>199995 rows × 3 columns</p>\n",
       "</div>"
      ],
      "text/plain": [
       "        Loss_mae  Threshold  Anomaly\n",
       "0       0.007300       0.06    False\n",
       "1       0.015774       0.06    False\n",
       "2       0.042072       0.06    False\n",
       "3       0.008253       0.06    False\n",
       "4       0.043318       0.06    False\n",
       "...          ...        ...      ...\n",
       "199990  0.047778       0.06    False\n",
       "199991  0.049295       0.06    False\n",
       "199992  0.010531       0.06    False\n",
       "199993  0.007107       0.06    False\n",
       "199994  0.007771       0.06    False\n",
       "\n",
       "[199995 rows x 3 columns]"
      ]
     },
     "execution_count": 39,
     "metadata": {},
     "output_type": "execute_result"
    }
   ],
   "source": [
    "normal_test = scored_test[scored_test.index < x]\n",
    "normal_test"
   ]
  },
  {
   "cell_type": "code",
   "execution_count": 40,
   "metadata": {},
   "outputs": [
    {
     "data": {
      "text/html": [
       "<div>\n",
       "<style scoped>\n",
       "    .dataframe tbody tr th:only-of-type {\n",
       "        vertical-align: middle;\n",
       "    }\n",
       "\n",
       "    .dataframe tbody tr th {\n",
       "        vertical-align: top;\n",
       "    }\n",
       "\n",
       "    .dataframe thead th {\n",
       "        text-align: right;\n",
       "    }\n",
       "</style>\n",
       "<table border=\"1\" class=\"dataframe\">\n",
       "  <thead>\n",
       "    <tr style=\"text-align: right;\">\n",
       "      <th></th>\n",
       "      <th>Loss_mae</th>\n",
       "      <th>Threshold</th>\n",
       "      <th>Anomaly</th>\n",
       "    </tr>\n",
       "  </thead>\n",
       "  <tbody>\n",
       "    <tr>\n",
       "      <th>199995</th>\n",
       "      <td>0.046021</td>\n",
       "      <td>0.06</td>\n",
       "      <td>False</td>\n",
       "    </tr>\n",
       "    <tr>\n",
       "      <th>199996</th>\n",
       "      <td>0.007435</td>\n",
       "      <td>0.06</td>\n",
       "      <td>False</td>\n",
       "    </tr>\n",
       "    <tr>\n",
       "      <th>199997</th>\n",
       "      <td>0.012843</td>\n",
       "      <td>0.06</td>\n",
       "      <td>False</td>\n",
       "    </tr>\n",
       "    <tr>\n",
       "      <th>199998</th>\n",
       "      <td>0.050731</td>\n",
       "      <td>0.06</td>\n",
       "      <td>False</td>\n",
       "    </tr>\n",
       "    <tr>\n",
       "      <th>199999</th>\n",
       "      <td>0.044420</td>\n",
       "      <td>0.06</td>\n",
       "      <td>False</td>\n",
       "    </tr>\n",
       "    <tr>\n",
       "      <th>...</th>\n",
       "      <td>...</td>\n",
       "      <td>...</td>\n",
       "      <td>...</td>\n",
       "    </tr>\n",
       "    <tr>\n",
       "      <th>399984</th>\n",
       "      <td>0.013759</td>\n",
       "      <td>0.06</td>\n",
       "      <td>False</td>\n",
       "    </tr>\n",
       "    <tr>\n",
       "      <th>399985</th>\n",
       "      <td>0.010419</td>\n",
       "      <td>0.06</td>\n",
       "      <td>False</td>\n",
       "    </tr>\n",
       "    <tr>\n",
       "      <th>399986</th>\n",
       "      <td>0.051438</td>\n",
       "      <td>0.06</td>\n",
       "      <td>False</td>\n",
       "    </tr>\n",
       "    <tr>\n",
       "      <th>399987</th>\n",
       "      <td>0.047746</td>\n",
       "      <td>0.06</td>\n",
       "      <td>False</td>\n",
       "    </tr>\n",
       "    <tr>\n",
       "      <th>399988</th>\n",
       "      <td>0.009957</td>\n",
       "      <td>0.06</td>\n",
       "      <td>False</td>\n",
       "    </tr>\n",
       "  </tbody>\n",
       "</table>\n",
       "<p>199994 rows × 3 columns</p>\n",
       "</div>"
      ],
      "text/plain": [
       "        Loss_mae  Threshold  Anomaly\n",
       "199995  0.046021       0.06    False\n",
       "199996  0.007435       0.06    False\n",
       "199997  0.012843       0.06    False\n",
       "199998  0.050731       0.06    False\n",
       "199999  0.044420       0.06    False\n",
       "...          ...        ...      ...\n",
       "399984  0.013759       0.06    False\n",
       "399985  0.010419       0.06    False\n",
       "399986  0.051438       0.06    False\n",
       "399987  0.047746       0.06    False\n",
       "399988  0.009957       0.06    False\n",
       "\n",
       "[199994 rows x 3 columns]"
      ]
     },
     "execution_count": 40,
     "metadata": {},
     "output_type": "execute_result"
    }
   ],
   "source": [
    "IR_test = scored_test[scored_test.index >= x]\n",
    "IR_test"
   ]
  },
  {
   "cell_type": "code",
   "execution_count": 41,
   "metadata": {},
   "outputs": [
    {
     "name": "stdout",
     "output_type": "stream",
     "text": [
      "True Positives: 191431\n",
      "False Positives: 8564\n",
      "True Negatives: 8555\n",
      "False Negatives: 191439\n"
     ]
    }
   ],
   "source": [
    "TP = normal_test[normal_test['Anomaly'] == False]\n",
    "TP = TP['Anomaly'].count()\n",
    "print(\"True Positives: {}\".format(TP))\n",
    "\n",
    "FP = normal_test[normal_test['Anomaly'] == True]\n",
    "FP = FP['Anomaly'].count()\n",
    "print(\"False Positives: {}\".format(FP))\n",
    "\n",
    "TN = IR_test[IR_test['Anomaly'] == True]\n",
    "TN = TN['Anomaly'].count()\n",
    "print(\"True Negatives: {}\".format(TN))\n",
    "\n",
    "FN = IR_test[IR_test['Anomaly'] == False]\n",
    "FN = FN['Anomaly'].count()\n",
    "print(\"False Negatives: {}\".format(FN))"
   ]
  },
  {
   "cell_type": "code",
   "execution_count": 42,
   "metadata": {},
   "outputs": [
    {
     "name": "stdout",
     "output_type": "stream",
     "text": [
      "Precision: 95.72%\n",
      "Recall: 49.999%\n",
      "F1 Score: 65.69%\n",
      "Accuracy: 50.00%\n"
     ]
    }
   ],
   "source": [
    "Precision = TP / (TP + FP)\n",
    "print(\"Precision: {:.2f}%\".format(Precision*100))\n",
    "\n",
    "Recall = TP / (TP + FN)\n",
    "print(\"Recall: {:.3f}%\".format(Recall*100))\n",
    "\n",
    "F1Score = (2*Precision*Recall)/(Precision+Recall)\n",
    "print(\"F1 Score: {:.2f}%\".format(F1Score*100))\n",
    "\n",
    "Accuracy = ( TP + TN ) / ( TP + TN + FN + FP )\n",
    "print(\"Accuracy: {:.2f}%\".format(Accuracy*100))"
   ]
  },
  {
   "cell_type": "code",
   "execution_count": null,
   "metadata": {},
   "outputs": [],
   "source": []
  }
 ],
 "metadata": {
  "kernelspec": {
   "display_name": "Python 3",
   "language": "python",
   "name": "python3"
  },
  "language_info": {
   "codemirror_mode": {
    "name": "ipython",
    "version": 3
   },
   "file_extension": ".py",
   "mimetype": "text/x-python",
   "name": "python",
   "nbconvert_exporter": "python",
   "pygments_lexer": "ipython3",
   "version": "3.8.5"
  }
 },
 "nbformat": 4,
 "nbformat_minor": 4
}
