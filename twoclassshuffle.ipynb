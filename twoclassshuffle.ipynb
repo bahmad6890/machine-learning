{
 "cells": [
  {
   "cell_type": "code",
   "execution_count": 1,
   "metadata": {},
   "outputs": [],
   "source": [
    "#importing packages\n",
    "import pandas as pd\n",
    "import numpy as np"
   ]
  },
  {
   "cell_type": "code",
   "execution_count": 2,
   "metadata": {},
   "outputs": [],
   "source": [
    "X = pd.read_csv('HealtyNormalized.csv')\n",
    "# Importing the dataset\n",
    "X['Fault'] = 0\n",
    "\n",
    "y = pd.read_csv('combinedFault.csv')\n",
    "y['Fault'] = 1\n"
   ]
  },
  {
   "cell_type": "code",
   "execution_count": 3,
   "metadata": {},
   "outputs": [
    {
     "data": {
      "text/plain": [
       "(        vsH       vbH  Fault\n",
       " 0  0.000998 -0.000217      0\n",
       " 1  0.001001 -0.000185      0\n",
       " 2  0.001002 -0.000152      0\n",
       " 3  0.001007 -0.000185      0\n",
       " 4  0.001010 -0.000217      0,\n",
       "         vsC       vbC  Fault\n",
       " 0  0.039634  0.018847      1\n",
       " 1  0.039634  0.018847      1\n",
       " 2  0.039634  0.018518      1\n",
       " 3  3.632150  0.015887      1\n",
       " 4  4.148328  0.018518      1)"
      ]
     },
     "execution_count": 3,
     "metadata": {},
     "output_type": "execute_result"
    }
   ],
   "source": [
    "X.head(), y.head()"
   ]
  },
  {
   "cell_type": "code",
   "execution_count": 4,
   "metadata": {},
   "outputs": [],
   "source": [
    "X = X.rename(columns={\"vsH\": \"speed\", \"vbH\": \"vibration\"})\n",
    "y = y.rename(columns={\"vsC\": \"speed\", \"vbC\": \"vibration\"})"
   ]
  },
  {
   "cell_type": "code",
   "execution_count": 5,
   "metadata": {},
   "outputs": [
    {
     "data": {
      "text/plain": [
       "(      speed  vibration  Fault\n",
       " 0  0.000998  -0.000217      0\n",
       " 1  0.001001  -0.000185      0\n",
       " 2  0.001002  -0.000152      0\n",
       " 3  0.001007  -0.000185      0\n",
       " 4  0.001010  -0.000217      0,\n",
       "       speed  vibration  Fault\n",
       " 0  0.039634   0.018847      1\n",
       " 1  0.039634   0.018847      1\n",
       " 2  0.039634   0.018518      1\n",
       " 3  3.632150   0.015887      1\n",
       " 4  4.148328   0.018518      1)"
      ]
     },
     "execution_count": 5,
     "metadata": {},
     "output_type": "execute_result"
    }
   ],
   "source": [
    "X.head(), y.head()"
   ]
  },
  {
   "cell_type": "code",
   "execution_count": 6,
   "metadata": {},
   "outputs": [],
   "source": [
    "import seaborn as sb \n",
    "from pylab import rcParams"
   ]
  },
  {
   "cell_type": "code",
   "execution_count": 7,
   "metadata": {},
   "outputs": [
    {
     "data": {
      "text/plain": [
       "\"\\n\\n%matplotlib inline\\nrcParams['figure.figsize'] = 5,4\\nsb.set_style('whitegrid')\\nplt.rcParams['agg.path.chunksize'] = 20000000\\n\""
      ]
     },
     "execution_count": 7,
     "metadata": {},
     "output_type": "execute_result"
    }
   ],
   "source": [
    "\"\"\"\n",
    "\n",
    "%matplotlib inline\n",
    "rcParams['figure.figsize'] = 5,4\n",
    "sb.set_style('whitegrid')\n",
    "plt.rcParams['agg.path.chunksize'] = 20000000\n",
    "\"\"\""
   ]
  },
  {
   "cell_type": "code",
   "execution_count": 7,
   "metadata": {},
   "outputs": [
    {
     "name": "stderr",
     "output_type": "stream",
     "text": [
      "C:\\Users\\bahma\\.conda\\envs\\svm\\lib\\site-packages\\seaborn\\_decorators.py:36: FutureWarning: Pass the following variable as a keyword arg: x. From version 0.12, the only valid positional argument will be `data`, and passing other arguments without an explicit keyword will result in an error or misinterpretation.\n",
      "  warnings.warn(\n"
     ]
    },
    {
     "data": {
      "text/plain": [
       "<AxesSubplot:xlabel='vibration'>"
      ]
     },
     "execution_count": 7,
     "metadata": {},
     "output_type": "execute_result"
    },
    {
     "data": {
      "image/png": "[encoded data removed]",
      "text/plain": [
       "<Figure size 432x288 with 1 Axes>"
      ]
     },
     "metadata": {
      "needs_background": "light"
     },
     "output_type": "display_data"
    }
   ],
   "source": [
    "sb.boxplot(X['vibration'])"
   ]
  },
  {
   "cell_type": "code",
   "execution_count": 8,
   "metadata": {},
   "outputs": [],
   "source": [
    "def find_normal_boundaries(df, variable):    \n",
    "    # calculate the boundaries outside which lie the outliers for a Gaussian distribution    \n",
    "    upper_boundary = df[variable].mean() + 10 * df[variable].std()\n",
    "    lower_boundary = df[variable].mean() - 10 * df[variable].std()    \n",
    "    return upper_boundary, lower_boundary\n"
   ]
  },
  {
   "cell_type": "code",
   "execution_count": 9,
   "metadata": {},
   "outputs": [
    {
     "name": "stdout",
     "output_type": "stream",
     "text": [
      "0.0071039730976409105 -0.0070003626852839\n"
     ]
    }
   ],
   "source": [
    "upper_boundary, lower_boundary = find_normal_boundaries(X, 'vibration')\n",
    "print(upper_boundary, lower_boundary)"
   ]
  },
  {
   "cell_type": "code",
   "execution_count": 10,
   "metadata": {},
   "outputs": [
    {
     "name": "stderr",
     "output_type": "stream",
     "text": [
      "C:\\Users\\bahma\\.conda\\envs\\svm\\lib\\site-packages\\seaborn\\_decorators.py:36: FutureWarning: Pass the following variable as a keyword arg: x. From version 0.12, the only valid positional argument will be `data`, and passing other arguments without an explicit keyword will result in an error or misinterpretation.\n",
      "  warnings.warn(\n"
     ]
    },
    {
     "data": {
      "text/plain": [
       "<AxesSubplot:xlabel='vibration'>"
      ]
     },
     "execution_count": 10,
     "metadata": {},
     "output_type": "execute_result"
    },
    {
     "data": {
      "image/png": "[encoded data removed]",
      "text/plain": [
       "<Figure size 432x288 with 1 Axes>"
      ]
     },
     "metadata": {
      "needs_background": "light"
     },
     "output_type": "display_data"
    }
   ],
   "source": [
    "upper_boundary = 0.007\n",
    "lower_boundary = -0.003\n",
    "\n",
    "data2 = X[(X['vibration']<upper_boundary) & (X['vibration']>lower_boundary)]\n",
    "\n",
    "X = data2\n",
    "X.describe()\n",
    "\n",
    "sb.boxplot(X['vibration'])"
   ]
  },
  {
   "cell_type": "code",
   "execution_count": 11,
   "metadata": {},
   "outputs": [
    {
     "name": "stderr",
     "output_type": "stream",
     "text": [
      "C:\\Users\\bahma\\.conda\\envs\\svm\\lib\\site-packages\\seaborn\\_decorators.py:36: FutureWarning: Pass the following variable as a keyword arg: x. From version 0.12, the only valid positional argument will be `data`, and passing other arguments without an explicit keyword will result in an error or misinterpretation.\n",
      "  warnings.warn(\n"
     ]
    },
    {
     "data": {
      "text/plain": [
       "<AxesSubplot:xlabel='vibration'>"
      ]
     },
     "execution_count": 11,
     "metadata": {},
     "output_type": "execute_result"
    },
    {
     "data": {
      "image/png": "[encoded data removed]",
      "text/plain": [
       "<Figure size 432x288 with 1 Axes>"
      ]
     },
     "metadata": {
      "needs_background": "light"
     },
     "output_type": "display_data"
    }
   ],
   "source": [
    "upper_boundary = 0.003\n",
    "lower_boundary = -0.003\n",
    "\n",
    "data2 = X[(X['vibration']<upper_boundary) & (X['vibration']>lower_boundary)]\n",
    "\n",
    "X = data2\n",
    "X.describe()\n",
    "\n",
    "sb.boxplot(X['vibration'])"
   ]
  },
  {
   "cell_type": "code",
   "execution_count": 12,
   "metadata": {},
   "outputs": [
    {
     "name": "stderr",
     "output_type": "stream",
     "text": [
      "C:\\Users\\bahma\\.conda\\envs\\svm\\lib\\site-packages\\seaborn\\_decorators.py:36: FutureWarning: Pass the following variable as a keyword arg: x. From version 0.12, the only valid positional argument will be `data`, and passing other arguments without an explicit keyword will result in an error or misinterpretation.\n",
      "  warnings.warn(\n"
     ]
    },
    {
     "data": {
      "text/plain": [
       "<AxesSubplot:xlabel='vibration'>"
      ]
     },
     "execution_count": 12,
     "metadata": {},
     "output_type": "execute_result"
    },
    {
     "data": {
      "image/png": "[encoded data removed]",
      "text/plain": [
       "<Figure size 432x288 with 1 Axes>"
      ]
     },
     "metadata": {
      "needs_background": "light"
     },
     "output_type": "display_data"
    }
   ],
   "source": [
    "sb.boxplot(y['vibration'])"
   ]
  },
  {
   "cell_type": "code",
   "execution_count": 13,
   "metadata": {},
   "outputs": [
    {
     "name": "stdout",
     "output_type": "stream",
     "text": [
      "0.3326969678558227 -0.3299069979161344\n"
     ]
    }
   ],
   "source": [
    "upper_boundary, lower_boundary = find_normal_boundaries(y, 'vibration')\n",
    "print(upper_boundary, lower_boundary)"
   ]
  },
  {
   "cell_type": "code",
   "execution_count": 14,
   "metadata": {},
   "outputs": [
    {
     "name": "stderr",
     "output_type": "stream",
     "text": [
      "C:\\Users\\bahma\\.conda\\envs\\svm\\lib\\site-packages\\seaborn\\_decorators.py:36: FutureWarning: Pass the following variable as a keyword arg: x. From version 0.12, the only valid positional argument will be `data`, and passing other arguments without an explicit keyword will result in an error or misinterpretation.\n",
      "  warnings.warn(\n"
     ]
    },
    {
     "data": {
      "text/plain": [
       "<AxesSubplot:xlabel='vibration'>"
      ]
     },
     "execution_count": 14,
     "metadata": {},
     "output_type": "execute_result"
    },
    {
     "data": {
      "image/png": "[encoded data removed]",
      "text/plain": [
       "<Figure size 432x288 with 1 Axes>"
      ]
     },
     "metadata": {
      "needs_background": "light"
     },
     "output_type": "display_data"
    }
   ],
   "source": [
    "upper_boundary = 0.6\n",
    "lower_boundary = -0.6\n",
    "\n",
    "data2 = y[(y['vibration']<upper_boundary) & (y['vibration']>lower_boundary)]\n",
    "\n",
    "y = data2\n",
    "y.describe()\n",
    "\n",
    "sb.boxplot(y['vibration'])"
   ]
  },
  {
   "cell_type": "code",
   "execution_count": 21,
   "metadata": {},
   "outputs": [],
   "source": [
    "from sklearn.model_selection import train_test_split\n",
    "X_train, X_test = train_test_split(X, test_size = 0.2, random_state = 0)\n",
    "\n",
    "y_train, y_test = train_test_split(y, test_size = 0.2, random_state = 0)"
   ]
  },
  {
   "cell_type": "code",
   "execution_count": 23,
   "metadata": {},
   "outputs": [
    {
     "data": {
      "text/plain": [
       "((1598123, 3), (1511346, 3))"
      ]
     },
     "execution_count": 23,
     "metadata": {},
     "output_type": "execute_result"
    }
   ],
   "source": [
    "X_train.shape , y_train.shape "
   ]
  },
  {
   "cell_type": "code",
   "execution_count": 22,
   "metadata": {},
   "outputs": [
    {
     "data": {
      "text/html": [
       "<div>\n",
       "<style scoped>\n",
       "    .dataframe tbody tr th:only-of-type {\n",
       "        vertical-align: middle;\n",
       "    }\n",
       "\n",
       "    .dataframe tbody tr th {\n",
       "        vertical-align: top;\n",
       "    }\n",
       "\n",
       "    .dataframe thead th {\n",
       "        text-align: right;\n",
       "    }\n",
       "</style>\n",
       "<table border=\"1\" class=\"dataframe\">\n",
       "  <thead>\n",
       "    <tr style=\"text-align: right;\">\n",
       "      <th></th>\n",
       "      <th>speed</th>\n",
       "      <th>vibration</th>\n",
       "      <th>Fault</th>\n",
       "    </tr>\n",
       "  </thead>\n",
       "  <tbody>\n",
       "    <tr>\n",
       "      <th>1361846</th>\n",
       "      <td>0.000009</td>\n",
       "      <td>0.000530</td>\n",
       "      <td>0</td>\n",
       "    </tr>\n",
       "    <tr>\n",
       "      <th>667065</th>\n",
       "      <td>0.000964</td>\n",
       "      <td>0.000595</td>\n",
       "      <td>0</td>\n",
       "    </tr>\n",
       "    <tr>\n",
       "      <th>460028</th>\n",
       "      <td>0.000009</td>\n",
       "      <td>0.001018</td>\n",
       "      <td>0</td>\n",
       "    </tr>\n",
       "    <tr>\n",
       "      <th>672935</th>\n",
       "      <td>0.000009</td>\n",
       "      <td>-0.000478</td>\n",
       "      <td>0</td>\n",
       "    </tr>\n",
       "    <tr>\n",
       "      <th>312581</th>\n",
       "      <td>0.001005</td>\n",
       "      <td>0.000043</td>\n",
       "      <td>0</td>\n",
       "    </tr>\n",
       "    <tr>\n",
       "      <th>...</th>\n",
       "      <td>...</td>\n",
       "      <td>...</td>\n",
       "      <td>...</td>\n",
       "    </tr>\n",
       "    <tr>\n",
       "      <th>152315</th>\n",
       "      <td>4.231508</td>\n",
       "      <td>0.008324</td>\n",
       "      <td>1</td>\n",
       "    </tr>\n",
       "    <tr>\n",
       "      <th>963398</th>\n",
       "      <td>0.039634</td>\n",
       "      <td>0.023451</td>\n",
       "      <td>1</td>\n",
       "    </tr>\n",
       "    <tr>\n",
       "      <th>117952</th>\n",
       "      <td>0.041935</td>\n",
       "      <td>-0.019957</td>\n",
       "      <td>1</td>\n",
       "    </tr>\n",
       "    <tr>\n",
       "      <th>1484420</th>\n",
       "      <td>0.039305</td>\n",
       "      <td>0.007666</td>\n",
       "      <td>1</td>\n",
       "    </tr>\n",
       "    <tr>\n",
       "      <th>305711</th>\n",
       "      <td>0.039634</td>\n",
       "      <td>-0.008776</td>\n",
       "      <td>1</td>\n",
       "    </tr>\n",
       "  </tbody>\n",
       "</table>\n",
       "<p>3109469 rows × 3 columns</p>\n",
       "</div>"
      ],
      "text/plain": [
       "            speed  vibration  Fault\n",
       "1361846  0.000009   0.000530      0\n",
       "667065   0.000964   0.000595      0\n",
       "460028   0.000009   0.001018      0\n",
       "672935   0.000009  -0.000478      0\n",
       "312581   0.001005   0.000043      0\n",
       "...           ...        ...    ...\n",
       "152315   4.231508   0.008324      1\n",
       "963398   0.039634   0.023451      1\n",
       "117952   0.041935  -0.019957      1\n",
       "1484420  0.039305   0.007666      1\n",
       "305711   0.039634  -0.008776      1\n",
       "\n",
       "[3109469 rows x 3 columns]"
      ]
     },
     "execution_count": 22,
     "metadata": {},
     "output_type": "execute_result"
    }
   ],
   "source": [
    "train = X_train.append(y_train)\n",
    "train"
   ]
  },
  {
   "cell_type": "code",
   "execution_count": 25,
   "metadata": {},
   "outputs": [
    {
     "data": {
      "text/html": [
       "<div>\n",
       "<style scoped>\n",
       "    .dataframe tbody tr th:only-of-type {\n",
       "        vertical-align: middle;\n",
       "    }\n",
       "\n",
       "    .dataframe tbody tr th {\n",
       "        vertical-align: top;\n",
       "    }\n",
       "\n",
       "    .dataframe thead th {\n",
       "        text-align: right;\n",
       "    }\n",
       "</style>\n",
       "<table border=\"1\" class=\"dataframe\">\n",
       "  <thead>\n",
       "    <tr style=\"text-align: right;\">\n",
       "      <th></th>\n",
       "      <th>speed</th>\n",
       "      <th>vibration</th>\n",
       "      <th>Fault</th>\n",
       "    </tr>\n",
       "  </thead>\n",
       "  <tbody>\n",
       "    <tr>\n",
       "      <th>1093107</th>\n",
       "      <td>4.210138</td>\n",
       "      <td>-0.029823</td>\n",
       "      <td>1</td>\n",
       "    </tr>\n",
       "    <tr>\n",
       "      <th>307755</th>\n",
       "      <td>0.000009</td>\n",
       "      <td>-0.000413</td>\n",
       "      <td>0</td>\n",
       "    </tr>\n",
       "    <tr>\n",
       "      <th>1234155</th>\n",
       "      <td>0.001003</td>\n",
       "      <td>-0.000315</td>\n",
       "      <td>0</td>\n",
       "    </tr>\n",
       "    <tr>\n",
       "      <th>1588545</th>\n",
       "      <td>4.045092</td>\n",
       "      <td>0.019504</td>\n",
       "      <td>1</td>\n",
       "    </tr>\n",
       "    <tr>\n",
       "      <th>1911755</th>\n",
       "      <td>0.000009</td>\n",
       "      <td>-0.002071</td>\n",
       "      <td>0</td>\n",
       "    </tr>\n",
       "    <tr>\n",
       "      <th>...</th>\n",
       "      <td>...</td>\n",
       "      <td>...</td>\n",
       "      <td>...</td>\n",
       "    </tr>\n",
       "    <tr>\n",
       "      <th>128065</th>\n",
       "      <td>0.039634</td>\n",
       "      <td>0.016216</td>\n",
       "      <td>1</td>\n",
       "    </tr>\n",
       "    <tr>\n",
       "      <th>271066</th>\n",
       "      <td>0.001004</td>\n",
       "      <td>0.000270</td>\n",
       "      <td>0</td>\n",
       "    </tr>\n",
       "    <tr>\n",
       "      <th>1195897</th>\n",
       "      <td>0.039634</td>\n",
       "      <td>-0.001871</td>\n",
       "      <td>1</td>\n",
       "    </tr>\n",
       "    <tr>\n",
       "      <th>72364</th>\n",
       "      <td>0.000009</td>\n",
       "      <td>0.000986</td>\n",
       "      <td>0</td>\n",
       "    </tr>\n",
       "    <tr>\n",
       "      <th>914996</th>\n",
       "      <td>0.039305</td>\n",
       "      <td>0.001089</td>\n",
       "      <td>1</td>\n",
       "    </tr>\n",
       "  </tbody>\n",
       "</table>\n",
       "<p>3109469 rows × 3 columns</p>\n",
       "</div>"
      ],
      "text/plain": [
       "            speed  vibration  Fault\n",
       "1093107  4.210138  -0.029823      1\n",
       "307755   0.000009  -0.000413      0\n",
       "1234155  0.001003  -0.000315      0\n",
       "1588545  4.045092   0.019504      1\n",
       "1911755  0.000009  -0.002071      0\n",
       "...           ...        ...    ...\n",
       "128065   0.039634   0.016216      1\n",
       "271066   0.001004   0.000270      0\n",
       "1195897  0.039634  -0.001871      1\n",
       "72364    0.000009   0.000986      0\n",
       "914996   0.039305   0.001089      1\n",
       "\n",
       "[3109469 rows x 3 columns]"
      ]
     },
     "execution_count": 25,
     "metadata": {},
     "output_type": "execute_result"
    }
   ],
   "source": [
    "#shuffling dataset\n",
    "train = train.sample(frac = 1)\n",
    "train"
   ]
  },
  {
   "cell_type": "code",
   "execution_count": 27,
   "metadata": {},
   "outputs": [
    {
     "data": {
      "text/html": [
       "<div>\n",
       "<style scoped>\n",
       "    .dataframe tbody tr th:only-of-type {\n",
       "        vertical-align: middle;\n",
       "    }\n",
       "\n",
       "    .dataframe tbody tr th {\n",
       "        vertical-align: top;\n",
       "    }\n",
       "\n",
       "    .dataframe thead th {\n",
       "        text-align: right;\n",
       "    }\n",
       "</style>\n",
       "<table border=\"1\" class=\"dataframe\">\n",
       "  <thead>\n",
       "    <tr style=\"text-align: right;\">\n",
       "      <th></th>\n",
       "      <th>speed</th>\n",
       "      <th>vibration</th>\n",
       "      <th>Fault</th>\n",
       "    </tr>\n",
       "  </thead>\n",
       "  <tbody>\n",
       "    <tr>\n",
       "      <th>1456698</th>\n",
       "      <td>0.000009</td>\n",
       "      <td>-0.000575</td>\n",
       "      <td>0</td>\n",
       "    </tr>\n",
       "    <tr>\n",
       "      <th>1704724</th>\n",
       "      <td>0.000009</td>\n",
       "      <td>-0.000022</td>\n",
       "      <td>0</td>\n",
       "    </tr>\n",
       "    <tr>\n",
       "      <th>850351</th>\n",
       "      <td>0.000990</td>\n",
       "      <td>0.000465</td>\n",
       "      <td>0</td>\n",
       "    </tr>\n",
       "    <tr>\n",
       "      <th>1821345</th>\n",
       "      <td>0.001003</td>\n",
       "      <td>0.001083</td>\n",
       "      <td>0</td>\n",
       "    </tr>\n",
       "    <tr>\n",
       "      <th>892141</th>\n",
       "      <td>0.000009</td>\n",
       "      <td>-0.000055</td>\n",
       "      <td>0</td>\n",
       "    </tr>\n",
       "    <tr>\n",
       "      <th>...</th>\n",
       "      <td>...</td>\n",
       "      <td>...</td>\n",
       "      <td>...</td>\n",
       "    </tr>\n",
       "    <tr>\n",
       "      <th>961532</th>\n",
       "      <td>4.250577</td>\n",
       "      <td>-0.017984</td>\n",
       "      <td>1</td>\n",
       "    </tr>\n",
       "    <tr>\n",
       "      <th>1653407</th>\n",
       "      <td>0.039634</td>\n",
       "      <td>0.034303</td>\n",
       "      <td>1</td>\n",
       "    </tr>\n",
       "    <tr>\n",
       "      <th>1122248</th>\n",
       "      <td>0.039305</td>\n",
       "      <td>-0.110061</td>\n",
       "      <td>1</td>\n",
       "    </tr>\n",
       "    <tr>\n",
       "      <th>856569</th>\n",
       "      <td>0.040291</td>\n",
       "      <td>-0.021273</td>\n",
       "      <td>1</td>\n",
       "    </tr>\n",
       "    <tr>\n",
       "      <th>1316853</th>\n",
       "      <td>4.109532</td>\n",
       "      <td>0.018847</td>\n",
       "      <td>1</td>\n",
       "    </tr>\n",
       "  </tbody>\n",
       "</table>\n",
       "<p>777368 rows × 3 columns</p>\n",
       "</div>"
      ],
      "text/plain": [
       "            speed  vibration  Fault\n",
       "1456698  0.000009  -0.000575      0\n",
       "1704724  0.000009  -0.000022      0\n",
       "850351   0.000990   0.000465      0\n",
       "1821345  0.001003   0.001083      0\n",
       "892141   0.000009  -0.000055      0\n",
       "...           ...        ...    ...\n",
       "961532   4.250577  -0.017984      1\n",
       "1653407  0.039634   0.034303      1\n",
       "1122248  0.039305  -0.110061      1\n",
       "856569   0.040291  -0.021273      1\n",
       "1316853  4.109532   0.018847      1\n",
       "\n",
       "[777368 rows x 3 columns]"
      ]
     },
     "execution_count": 27,
     "metadata": {},
     "output_type": "execute_result"
    }
   ],
   "source": [
    "test = X_test.append(y_test)\n",
    "test"
   ]
  },
  {
   "cell_type": "code",
   "execution_count": 28,
   "metadata": {},
   "outputs": [
    {
     "data": {
      "text/html": [
       "<div>\n",
       "<style scoped>\n",
       "    .dataframe tbody tr th:only-of-type {\n",
       "        vertical-align: middle;\n",
       "    }\n",
       "\n",
       "    .dataframe tbody tr th {\n",
       "        vertical-align: top;\n",
       "    }\n",
       "\n",
       "    .dataframe thead th {\n",
       "        text-align: right;\n",
       "    }\n",
       "</style>\n",
       "<table border=\"1\" class=\"dataframe\">\n",
       "  <thead>\n",
       "    <tr style=\"text-align: right;\">\n",
       "      <th></th>\n",
       "      <th>speed</th>\n",
       "      <th>vibration</th>\n",
       "      <th>Fault</th>\n",
       "    </tr>\n",
       "  </thead>\n",
       "  <tbody>\n",
       "    <tr>\n",
       "      <th>371271</th>\n",
       "      <td>4.212439</td>\n",
       "      <td>0.004049</td>\n",
       "      <td>1</td>\n",
       "    </tr>\n",
       "    <tr>\n",
       "      <th>1819129</th>\n",
       "      <td>0.000997</td>\n",
       "      <td>0.000758</td>\n",
       "      <td>0</td>\n",
       "    </tr>\n",
       "    <tr>\n",
       "      <th>1233001</th>\n",
       "      <td>0.000009</td>\n",
       "      <td>-0.000608</td>\n",
       "      <td>0</td>\n",
       "    </tr>\n",
       "    <tr>\n",
       "      <th>457294</th>\n",
       "      <td>0.001001</td>\n",
       "      <td>0.000498</td>\n",
       "      <td>0</td>\n",
       "    </tr>\n",
       "    <tr>\n",
       "      <th>844227</th>\n",
       "      <td>0.038318</td>\n",
       "      <td>-0.014367</td>\n",
       "      <td>1</td>\n",
       "    </tr>\n",
       "    <tr>\n",
       "      <th>...</th>\n",
       "      <td>...</td>\n",
       "      <td>...</td>\n",
       "      <td>...</td>\n",
       "    </tr>\n",
       "    <tr>\n",
       "      <th>1272490</th>\n",
       "      <td>4.208822</td>\n",
       "      <td>0.006679</td>\n",
       "      <td>1</td>\n",
       "    </tr>\n",
       "    <tr>\n",
       "      <th>50709</th>\n",
       "      <td>0.031743</td>\n",
       "      <td>-0.003186</td>\n",
       "      <td>1</td>\n",
       "    </tr>\n",
       "    <tr>\n",
       "      <th>903192</th>\n",
       "      <td>0.001011</td>\n",
       "      <td>-0.001193</td>\n",
       "      <td>0</td>\n",
       "    </tr>\n",
       "    <tr>\n",
       "      <th>1157851</th>\n",
       "      <td>0.039305</td>\n",
       "      <td>0.087576</td>\n",
       "      <td>1</td>\n",
       "    </tr>\n",
       "    <tr>\n",
       "      <th>560602</th>\n",
       "      <td>4.204548</td>\n",
       "      <td>0.001418</td>\n",
       "      <td>1</td>\n",
       "    </tr>\n",
       "  </tbody>\n",
       "</table>\n",
       "<p>777368 rows × 3 columns</p>\n",
       "</div>"
      ],
      "text/plain": [
       "            speed  vibration  Fault\n",
       "371271   4.212439   0.004049      1\n",
       "1819129  0.000997   0.000758      0\n",
       "1233001  0.000009  -0.000608      0\n",
       "457294   0.001001   0.000498      0\n",
       "844227   0.038318  -0.014367      1\n",
       "...           ...        ...    ...\n",
       "1272490  4.208822   0.006679      1\n",
       "50709    0.031743  -0.003186      1\n",
       "903192   0.001011  -0.001193      0\n",
       "1157851  0.039305   0.087576      1\n",
       "560602   4.204548   0.001418      1\n",
       "\n",
       "[777368 rows x 3 columns]"
      ]
     },
     "execution_count": 28,
     "metadata": {},
     "output_type": "execute_result"
    }
   ],
   "source": [
    "test= test.sample(frac = 1)\n",
    "test"
   ]
  },
  {
   "cell_type": "code",
   "execution_count": 29,
   "metadata": {},
   "outputs": [],
   "source": [
    "from sklearn.preprocessing import MinMaxScaler\n",
    "scaler = MinMaxScaler()\n",
    "train = pd.DataFrame(scaler.fit_transform(train))\n",
    "train.sample(frac=1)\n",
    "\n",
    "test = pd.DataFrame(scaler.transform(test))"
   ]
  },
  {
   "cell_type": "code",
   "execution_count": 30,
   "metadata": {},
   "outputs": [
    {
     "data": {
      "text/html": [
       "<div>\n",
       "<style scoped>\n",
       "    .dataframe tbody tr th:only-of-type {\n",
       "        vertical-align: middle;\n",
       "    }\n",
       "\n",
       "    .dataframe tbody tr th {\n",
       "        vertical-align: top;\n",
       "    }\n",
       "\n",
       "    .dataframe thead th {\n",
       "        text-align: right;\n",
       "    }\n",
       "</style>\n",
       "<table border=\"1\" class=\"dataframe\">\n",
       "  <thead>\n",
       "    <tr style=\"text-align: right;\">\n",
       "      <th></th>\n",
       "      <th>0</th>\n",
       "      <th>1</th>\n",
       "      <th>2</th>\n",
       "    </tr>\n",
       "  </thead>\n",
       "  <tbody>\n",
       "    <tr>\n",
       "      <th>0</th>\n",
       "      <td>0.983412</td>\n",
       "      <td>0.475055</td>\n",
       "      <td>1.0</td>\n",
       "    </tr>\n",
       "    <tr>\n",
       "      <th>1</th>\n",
       "      <td>0.000007</td>\n",
       "      <td>0.499571</td>\n",
       "      <td>0.0</td>\n",
       "    </tr>\n",
       "    <tr>\n",
       "      <th>2</th>\n",
       "      <td>0.000239</td>\n",
       "      <td>0.499652</td>\n",
       "      <td>0.0</td>\n",
       "    </tr>\n",
       "    <tr>\n",
       "      <th>3</th>\n",
       "      <td>0.944861</td>\n",
       "      <td>0.516173</td>\n",
       "      <td>1.0</td>\n",
       "    </tr>\n",
       "    <tr>\n",
       "      <th>4</th>\n",
       "      <td>0.000007</td>\n",
       "      <td>0.498188</td>\n",
       "      <td>0.0</td>\n",
       "    </tr>\n",
       "    <tr>\n",
       "      <th>...</th>\n",
       "      <td>...</td>\n",
       "      <td>...</td>\n",
       "      <td>...</td>\n",
       "    </tr>\n",
       "    <tr>\n",
       "      <th>3109464</th>\n",
       "      <td>0.009262</td>\n",
       "      <td>0.513432</td>\n",
       "      <td>1.0</td>\n",
       "    </tr>\n",
       "    <tr>\n",
       "      <th>3109465</th>\n",
       "      <td>0.000239</td>\n",
       "      <td>0.500140</td>\n",
       "      <td>0.0</td>\n",
       "    </tr>\n",
       "    <tr>\n",
       "      <th>3109466</th>\n",
       "      <td>0.009262</td>\n",
       "      <td>0.498355</td>\n",
       "      <td>1.0</td>\n",
       "    </tr>\n",
       "    <tr>\n",
       "      <th>3109467</th>\n",
       "      <td>0.000007</td>\n",
       "      <td>0.500736</td>\n",
       "      <td>0.0</td>\n",
       "    </tr>\n",
       "    <tr>\n",
       "      <th>3109468</th>\n",
       "      <td>0.009185</td>\n",
       "      <td>0.500822</td>\n",
       "      <td>1.0</td>\n",
       "    </tr>\n",
       "  </tbody>\n",
       "</table>\n",
       "<p>3109469 rows × 3 columns</p>\n",
       "</div>"
      ],
      "text/plain": [
       "                0         1    2\n",
       "0        0.983412  0.475055  1.0\n",
       "1        0.000007  0.499571  0.0\n",
       "2        0.000239  0.499652  0.0\n",
       "3        0.944861  0.516173  1.0\n",
       "4        0.000007  0.498188  0.0\n",
       "...           ...       ...  ...\n",
       "3109464  0.009262  0.513432  1.0\n",
       "3109465  0.000239  0.500140  0.0\n",
       "3109466  0.009262  0.498355  1.0\n",
       "3109467  0.000007  0.500736  0.0\n",
       "3109468  0.009185  0.500822  1.0\n",
       "\n",
       "[3109469 rows x 3 columns]"
      ]
     },
     "execution_count": 30,
     "metadata": {},
     "output_type": "execute_result"
    }
   ],
   "source": [
    "train"
   ]
  },
  {
   "cell_type": "code",
   "execution_count": 31,
   "metadata": {},
   "outputs": [
    {
     "data": {
      "text/plain": [
       "(3109469, 3)"
      ]
     },
     "execution_count": 31,
     "metadata": {},
     "output_type": "execute_result"
    }
   ],
   "source": [
    "train.shape"
   ]
  },
  {
   "cell_type": "code",
   "execution_count": 32,
   "metadata": {},
   "outputs": [
    {
     "data": {
      "text/plain": [
       "(777368, 3)"
      ]
     },
     "execution_count": 32,
     "metadata": {},
     "output_type": "execute_result"
    }
   ],
   "source": [
    "test.shape"
   ]
  },
  {
   "cell_type": "code",
   "execution_count": 33,
   "metadata": {},
   "outputs": [],
   "source": [
    "train = train.values.reshape(-1, 1, 3)"
   ]
  },
  {
   "cell_type": "code",
   "execution_count": 34,
   "metadata": {},
   "outputs": [],
   "source": [
    "test  = test.values.reshape(-1, 1, 3)"
   ]
  },
  {
   "cell_type": "code",
   "execution_count": 35,
   "metadata": {},
   "outputs": [
    {
     "data": {
      "text/plain": [
       "(3109469, 1, 3)"
      ]
     },
     "execution_count": 35,
     "metadata": {},
     "output_type": "execute_result"
    }
   ],
   "source": [
    "#pip install keras\n",
    "train.shape"
   ]
  },
  {
   "cell_type": "code",
   "execution_count": 36,
   "metadata": {},
   "outputs": [
    {
     "data": {
      "text/plain": [
       "(777368, 1, 3)"
      ]
     },
     "execution_count": 36,
     "metadata": {},
     "output_type": "execute_result"
    }
   ],
   "source": [
    "test.shape"
   ]
  },
  {
   "cell_type": "code",
   "execution_count": 37,
   "metadata": {},
   "outputs": [],
   "source": [
    "from keras.layers import Input, Dropout, Dense, LSTM, RepeatVector, TimeDistributed\n",
    "from keras.models import Model, Sequential, load_model\n",
    "from keras import regularizers"
   ]
  },
  {
   "cell_type": "code",
   "execution_count": 38,
   "metadata": {},
   "outputs": [
    {
     "name": "stdout",
     "output_type": "stream",
     "text": [
      "Model: \"sequential\"\n",
      "_________________________________________________________________\n",
      "Layer (type)                 Output Shape              Param #   \n",
      "=================================================================\n",
      "lstm (LSTM)                  (None, 32)                4608      \n",
      "_________________________________________________________________\n",
      "dropout (Dropout)            (None, 32)                0         \n",
      "_________________________________________________________________\n",
      "repeat_vector (RepeatVector) (None, 1, 32)             0         \n",
      "_________________________________________________________________\n",
      "lstm_1 (LSTM)                (None, 1, 32)             8320      \n",
      "_________________________________________________________________\n",
      "dropout_1 (Dropout)          (None, 1, 32)             0         \n",
      "_________________________________________________________________\n",
      "time_distributed (TimeDistri (None, 1, 3)              99        \n",
      "=================================================================\n",
      "Total params: 13,027\n",
      "Trainable params: 13,027\n",
      "Non-trainable params: 0\n",
      "_________________________________________________________________\n"
     ]
    }
   ],
   "source": [
    "# Input layer:\n",
    "model=Sequential([\n",
    "    LSTM(32, activation='relu', input_shape=(train.shape[1],train.shape[2])),\n",
    "    Dropout(0.2),\n",
    "    RepeatVector(train.shape[1]),\n",
    "    LSTM(32, activation='relu', return_sequences=True),\n",
    "    Dropout(0.2),\n",
    "    TimeDistributed(Dense(train.shape[2]))\n",
    "])\n",
    "\n",
    "model.compile(loss='mse',optimizer='adam', metrics=['accuracy'])\n",
    "model.summary()"
   ]
  },
  {
   "cell_type": "code",
   "execution_count": 39,
   "metadata": {
    "scrolled": true
   },
   "outputs": [
    {
     "name": "stdout",
     "output_type": "stream",
     "text": [
      "Epoch 1/100\n",
      "2799/2799 [==============================] - 12s 4ms/step - loss: 0.0178 - accuracy: 0.8995 - val_loss: 2.6946e-04 - val_accuracy: 0.9997\n",
      "Epoch 2/100\n",
      "2799/2799 [==============================] - 12s 4ms/step - loss: 0.0040 - accuracy: 0.9237 - val_loss: 2.1132e-04 - val_accuracy: 0.9997\n",
      "Epoch 3/100\n",
      "2799/2799 [==============================] - 12s 4ms/step - loss: 0.0037 - accuracy: 0.9249 - val_loss: 1.6666e-04 - val_accuracy: 0.9997\n",
      "Epoch 4/100\n",
      "2799/2799 [==============================] - 12s 4ms/step - loss: 0.0037 - accuracy: 0.9264 - val_loss: 1.6494e-04 - val_accuracy: 0.9997\n",
      "Epoch 5/100\n",
      "2799/2799 [==============================] - 12s 4ms/step - loss: 0.0037 - accuracy: 0.9267 - val_loss: 1.7796e-04 - val_accuracy: 0.9997\n",
      "Epoch 6/100\n",
      "2799/2799 [==============================] - 14s 5ms/step - loss: 0.0036 - accuracy: 0.9264 - val_loss: 1.6085e-04 - val_accuracy: 0.9997\n",
      "Epoch 7/100\n",
      "2799/2799 [==============================] - 16s 6ms/step - loss: 0.0036 - accuracy: 0.9261 - val_loss: 1.6951e-04 - val_accuracy: 0.9997\n",
      "Epoch 8/100\n",
      "2799/2799 [==============================] - 14s 5ms/step - loss: 0.0036 - accuracy: 0.9265 - val_loss: 1.6034e-04 - val_accuracy: 0.9997\n",
      "Epoch 9/100\n",
      "2799/2799 [==============================] - 14s 5ms/step - loss: 0.0036 - accuracy: 0.9267 - val_loss: 1.5272e-04 - val_accuracy: 0.9997\n",
      "Epoch 10/100\n",
      "2799/2799 [==============================] - 13s 5ms/step - loss: 0.0036 - accuracy: 0.9274 - val_loss: 1.6901e-04 - val_accuracy: 0.9997\n",
      "Epoch 11/100\n",
      "2799/2799 [==============================] - 13s 5ms/step - loss: 0.0036 - accuracy: 0.9268 - val_loss: 1.5252e-04 - val_accuracy: 0.9997\n",
      "Epoch 12/100\n",
      "2799/2799 [==============================] - 13s 5ms/step - loss: 0.0036 - accuracy: 0.9269 - val_loss: 1.6730e-04 - val_accuracy: 0.9997\n",
      "Epoch 13/100\n",
      "2799/2799 [==============================] - 12s 4ms/step - loss: 0.0036 - accuracy: 0.9269 - val_loss: 1.5703e-04 - val_accuracy: 0.9997\n",
      "Epoch 14/100\n",
      "2799/2799 [==============================] - 12s 4ms/step - loss: 0.0036 - accuracy: 0.9266 - val_loss: 1.6508e-04 - val_accuracy: 0.9997\n",
      "Epoch 15/100\n",
      "2799/2799 [==============================] - 12s 4ms/step - loss: 0.0036 - accuracy: 0.9264 - val_loss: 1.6455e-04 - val_accuracy: 0.9997\n",
      "Epoch 16/100\n",
      "2799/2799 [==============================] - 12s 4ms/step - loss: 0.0036 - accuracy: 0.9266 - val_loss: 1.5624e-04 - val_accuracy: 0.9997\n",
      "Epoch 17/100\n",
      "2799/2799 [==============================] - 12s 4ms/step - loss: 0.0036 - accuracy: 0.9264 - val_loss: 1.5883e-04 - val_accuracy: 0.9997\n",
      "Epoch 18/100\n",
      "2799/2799 [==============================] - 13s 5ms/step - loss: 0.0036 - accuracy: 0.9266 - val_loss: 2.4663e-04 - val_accuracy: 0.9997\n",
      "Epoch 19/100\n",
      "2799/2799 [==============================] - 13s 5ms/step - loss: 0.0036 - accuracy: 0.9260 - val_loss: 1.5936e-04 - val_accuracy: 0.9997\n",
      "Epoch 20/100\n",
      "2799/2799 [==============================] - 13s 5ms/step - loss: 0.0036 - accuracy: 0.9260 - val_loss: 1.9074e-04 - val_accuracy: 0.9997\n",
      "Epoch 21/100\n",
      "2799/2799 [==============================] - 14s 5ms/step - loss: 0.0036 - accuracy: 0.9258 - val_loss: 1.6596e-04 - val_accuracy: 0.9997\n",
      "Epoch 22/100\n",
      "2799/2799 [==============================] - 13s 5ms/step - loss: 0.0036 - accuracy: 0.9255 - val_loss: 1.5950e-04 - val_accuracy: 0.9997\n",
      "Epoch 23/100\n",
      "2799/2799 [==============================] - 13s 5ms/step - loss: 0.0036 - accuracy: 0.9256 - val_loss: 1.7345e-04 - val_accuracy: 0.9997\n",
      "Epoch 24/100\n",
      "2799/2799 [==============================] - 13s 4ms/step - loss: 0.0036 - accuracy: 0.9255 - val_loss: 1.8151e-04 - val_accuracy: 0.9997\n",
      "Epoch 25/100\n",
      "2799/2799 [==============================] - 13s 5ms/step - loss: 0.0036 - accuracy: 0.9256 - val_loss: 1.5755e-04 - val_accuracy: 0.9997\n",
      "Epoch 26/100\n",
      "2799/2799 [==============================] - 14s 5ms/step - loss: 0.0036 - accuracy: 0.9250 - val_loss: 1.7471e-04 - val_accuracy: 0.9997\n",
      "Epoch 27/100\n",
      "2799/2799 [==============================] - 13s 5ms/step - loss: 0.0036 - accuracy: 0.9255 - val_loss: 1.5539e-04 - val_accuracy: 0.9997\n",
      "Epoch 28/100\n",
      "2799/2799 [==============================] - 13s 5ms/step - loss: 0.0036 - accuracy: 0.9256 - val_loss: 1.7024e-04 - val_accuracy: 0.9997\n",
      "Epoch 29/100\n",
      "2799/2799 [==============================] - 12s 4ms/step - loss: 0.0036 - accuracy: 0.9254 - val_loss: 1.8718e-04 - val_accuracy: 0.9997\n",
      "Epoch 30/100\n",
      "2799/2799 [==============================] - 12s 4ms/step - loss: 0.0036 - accuracy: 0.9256 - val_loss: 1.6543e-04 - val_accuracy: 0.9997\n",
      "Epoch 31/100\n",
      "2799/2799 [==============================] - 12s 4ms/step - loss: 0.0036 - accuracy: 0.9261 - val_loss: 1.7514e-04 - val_accuracy: 0.9997\n",
      "Epoch 32/100\n",
      "2799/2799 [==============================] - 13s 4ms/step - loss: 0.0036 - accuracy: 0.9260 - val_loss: 1.7143e-04 - val_accuracy: 0.9997\n",
      "Epoch 33/100\n",
      "2799/2799 [==============================] - 12s 4ms/step - loss: 0.0036 - accuracy: 0.9259 - val_loss: 1.7036e-04 - val_accuracy: 0.9997\n",
      "Epoch 34/100\n",
      "2799/2799 [==============================] - 12s 4ms/step - loss: 0.0036 - accuracy: 0.9257 - val_loss: 1.5857e-04 - val_accuracy: 0.9997\n",
      "Epoch 35/100\n",
      "2799/2799 [==============================] - 12s 4ms/step - loss: 0.0036 - accuracy: 0.9260 - val_loss: 1.7381e-04 - val_accuracy: 0.9997\n",
      "Epoch 36/100\n",
      "2799/2799 [==============================] - 12s 4ms/step - loss: 0.0036 - accuracy: 0.9257 - val_loss: 1.6404e-04 - val_accuracy: 0.9997\n",
      "Epoch 37/100\n",
      "2799/2799 [==============================] - 13s 5ms/step - loss: 0.0036 - accuracy: 0.9261 - val_loss: 1.7409e-04 - val_accuracy: 0.9997\n",
      "Epoch 38/100\n",
      "2799/2799 [==============================] - 12s 4ms/step - loss: 0.0036 - accuracy: 0.9262 - val_loss: 1.6928e-04 - val_accuracy: 0.9997\n",
      "Epoch 39/100\n",
      "2799/2799 [==============================] - 12s 4ms/step - loss: 0.0036 - accuracy: 0.9258 - val_loss: 1.6747e-04 - val_accuracy: 0.9997\n",
      "Epoch 40/100\n",
      "2799/2799 [==============================] - 12s 4ms/step - loss: 0.0036 - accuracy: 0.9258 - val_loss: 1.7978e-04 - val_accuracy: 0.9997\n",
      "Epoch 41/100\n",
      "2799/2799 [==============================] - 12s 4ms/step - loss: 0.0036 - accuracy: 0.9264 - val_loss: 2.0462e-04 - val_accuracy: 0.9997\n",
      "Epoch 42/100\n",
      "2799/2799 [==============================] - 12s 4ms/step - loss: 0.0036 - accuracy: 0.9261 - val_loss: 1.9979e-04 - val_accuracy: 0.9997\n",
      "Epoch 43/100\n",
      "2799/2799 [==============================] - 12s 4ms/step - loss: 0.0036 - accuracy: 0.9263 - val_loss: 1.6416e-04 - val_accuracy: 0.9997\n",
      "Epoch 44/100\n",
      "2799/2799 [==============================] - 12s 4ms/step - loss: 0.0036 - accuracy: 0.9261 - val_loss: 1.9092e-04 - val_accuracy: 0.9997\n",
      "Epoch 45/100\n",
      "2799/2799 [==============================] - 12s 4ms/step - loss: 0.0036 - accuracy: 0.9260 - val_loss: 1.9116e-04 - val_accuracy: 0.9997\n",
      "Epoch 46/100\n",
      "2799/2799 [==============================] - 12s 4ms/step - loss: 0.0036 - accuracy: 0.9262 - val_loss: 1.7427e-04 - val_accuracy: 0.9997\n",
      "Epoch 47/100\n",
      "2799/2799 [==============================] - 13s 5ms/step - loss: 0.0036 - accuracy: 0.9263 - val_loss: 1.9883e-04 - val_accuracy: 0.9997\n",
      "Epoch 48/100\n",
      "2799/2799 [==============================] - 12s 4ms/step - loss: 0.0036 - accuracy: 0.9260 - val_loss: 1.7962e-04 - val_accuracy: 0.9997\n",
      "Epoch 49/100\n",
      "2799/2799 [==============================] - 12s 4ms/step - loss: 0.0036 - accuracy: 0.9255 - val_loss: 1.8986e-04 - val_accuracy: 0.9997\n",
      "Epoch 50/100\n",
      "2799/2799 [==============================] - 12s 4ms/step - loss: 0.0036 - accuracy: 0.9259 - val_loss: 1.8931e-04 - val_accuracy: 0.9997\n",
      "Epoch 51/100\n",
      "2799/2799 [==============================] - 12s 4ms/step - loss: 0.0036 - accuracy: 0.9263 - val_loss: 1.7709e-04 - val_accuracy: 0.9997\n",
      "Epoch 52/100\n",
      "2799/2799 [==============================] - 12s 4ms/step - loss: 0.0036 - accuracy: 0.9264 - val_loss: 1.9387e-04 - val_accuracy: 0.9997\n",
      "Epoch 53/100\n",
      "2799/2799 [==============================] - 13s 4ms/step - loss: 0.0036 - accuracy: 0.9264 - val_loss: 1.9440e-04 - val_accuracy: 0.9997\n",
      "Epoch 54/100\n",
      "2799/2799 [==============================] - 14s 5ms/step - loss: 0.0036 - accuracy: 0.9269 - val_loss: 2.1297e-04 - val_accuracy: 0.9997\n",
      "Epoch 55/100\n"
     ]
    },
    {
     "name": "stdout",
     "output_type": "stream",
     "text": [
      "2799/2799 [==============================] - 14s 5ms/step - loss: 0.0036 - accuracy: 0.9266 - val_loss: 2.0136e-04 - val_accuracy: 0.9997\n",
      "Epoch 56/100\n",
      "2799/2799 [==============================] - 12s 4ms/step - loss: 0.0036 - accuracy: 0.9266 - val_loss: 2.2046e-04 - val_accuracy: 0.9997\n",
      "Epoch 57/100\n",
      "2799/2799 [==============================] - 12s 4ms/step - loss: 0.0036 - accuracy: 0.9264 - val_loss: 2.2819e-04 - val_accuracy: 0.9997\n",
      "Epoch 58/100\n",
      "2799/2799 [==============================] - 12s 4ms/step - loss: 0.0036 - accuracy: 0.9265 - val_loss: 2.2199e-04 - val_accuracy: 0.9997\n",
      "Epoch 59/100\n",
      "2799/2799 [==============================] - 12s 4ms/step - loss: 0.0036 - accuracy: 0.9265 - val_loss: 1.9288e-04 - val_accuracy: 0.9997\n",
      "Epoch 60/100\n",
      "2799/2799 [==============================] - 12s 4ms/step - loss: 0.0036 - accuracy: 0.9266 - val_loss: 2.4938e-04 - val_accuracy: 0.9997\n",
      "Epoch 61/100\n",
      "2799/2799 [==============================] - 12s 4ms/step - loss: 0.0036 - accuracy: 0.9268 - val_loss: 2.3833e-04 - val_accuracy: 0.9997\n",
      "Epoch 62/100\n",
      "2799/2799 [==============================] - 12s 4ms/step - loss: 0.0036 - accuracy: 0.9267 - val_loss: 2.2433e-04 - val_accuracy: 0.9997\n",
      "Epoch 63/100\n",
      "2799/2799 [==============================] - 12s 4ms/step - loss: 0.0036 - accuracy: 0.9268 - val_loss: 2.4308e-04 - val_accuracy: 0.9997\n",
      "Epoch 64/100\n",
      "2799/2799 [==============================] - 12s 4ms/step - loss: 0.0036 - accuracy: 0.9269 - val_loss: 2.5351e-04 - val_accuracy: 0.9997\n",
      "Epoch 65/100\n",
      "2799/2799 [==============================] - 13s 4ms/step - loss: 0.0036 - accuracy: 0.9273 - val_loss: 2.3898e-04 - val_accuracy: 0.9997\n",
      "Epoch 66/100\n",
      "2799/2799 [==============================] - 13s 4ms/step - loss: 0.0036 - accuracy: 0.9271 - val_loss: 2.5744e-04 - val_accuracy: 0.9997\n",
      "Epoch 67/100\n",
      "2799/2799 [==============================] - 12s 4ms/step - loss: 0.0036 - accuracy: 0.9272 - val_loss: 2.5511e-04 - val_accuracy: 0.9997\n",
      "Epoch 68/100\n",
      "2799/2799 [==============================] - 13s 5ms/step - loss: 0.0036 - accuracy: 0.9276 - val_loss: 2.6935e-04 - val_accuracy: 0.9997\n",
      "Epoch 69/100\n",
      "2799/2799 [==============================] - 12s 4ms/step - loss: 0.0036 - accuracy: 0.9279 - val_loss: 2.5292e-04 - val_accuracy: 0.9997\n",
      "Epoch 70/100\n",
      "2799/2799 [==============================] - 12s 4ms/step - loss: 0.0036 - accuracy: 0.9278 - val_loss: 2.5356e-04 - val_accuracy: 0.9997\n",
      "Epoch 71/100\n",
      "2799/2799 [==============================] - 12s 4ms/step - loss: 0.0036 - accuracy: 0.9279 - val_loss: 2.8332e-04 - val_accuracy: 0.9997\n",
      "Epoch 72/100\n",
      "2799/2799 [==============================] - 13s 4ms/step - loss: 0.0036 - accuracy: 0.9280 - val_loss: 3.0674e-04 - val_accuracy: 0.9997\n",
      "Epoch 73/100\n",
      "2799/2799 [==============================] - 13s 5ms/step - loss: 0.0036 - accuracy: 0.9282 - val_loss: 3.0788e-04 - val_accuracy: 0.9997\n",
      "Epoch 74/100\n",
      "2799/2799 [==============================] - 13s 5ms/step - loss: 0.0036 - accuracy: 0.9278 - val_loss: 2.8518e-04 - val_accuracy: 0.9997\n",
      "Epoch 75/100\n",
      "2799/2799 [==============================] - 13s 5ms/step - loss: 0.0036 - accuracy: 0.9279 - val_loss: 2.8058e-04 - val_accuracy: 0.9997\n",
      "Epoch 76/100\n",
      "2799/2799 [==============================] - 12s 4ms/step - loss: 0.0036 - accuracy: 0.9281 - val_loss: 3.1648e-04 - val_accuracy: 0.9997\n",
      "Epoch 77/100\n",
      "2799/2799 [==============================] - 13s 5ms/step - loss: 0.0036 - accuracy: 0.9284 - val_loss: 3.1611e-04 - val_accuracy: 0.9997\n",
      "Epoch 78/100\n",
      "2799/2799 [==============================] - 13s 5ms/step - loss: 0.0036 - accuracy: 0.9283 - val_loss: 3.1909e-04 - val_accuracy: 0.9997\n",
      "Epoch 79/100\n",
      "2799/2799 [==============================] - 13s 5ms/step - loss: 0.0036 - accuracy: 0.9285 - val_loss: 3.2332e-04 - val_accuracy: 0.9997\n",
      "Epoch 80/100\n",
      "2799/2799 [==============================] - 13s 5ms/step - loss: 0.0036 - accuracy: 0.9284 - val_loss: 3.3012e-04 - val_accuracy: 0.9997\n",
      "Epoch 81/100\n",
      "2799/2799 [==============================] - 13s 5ms/step - loss: 0.0036 - accuracy: 0.9285 - val_loss: 3.8230e-04 - val_accuracy: 0.9997\n",
      "Epoch 82/100\n",
      "2799/2799 [==============================] - 14s 5ms/step - loss: 0.0036 - accuracy: 0.9284 - val_loss: 3.0773e-04 - val_accuracy: 0.9997\n",
      "Epoch 83/100\n",
      "2799/2799 [==============================] - 13s 5ms/step - loss: 0.0036 - accuracy: 0.9281 - val_loss: 3.7275e-04 - val_accuracy: 0.9997\n",
      "Epoch 84/100\n",
      "2799/2799 [==============================] - 13s 5ms/step - loss: 0.0036 - accuracy: 0.9283 - val_loss: 3.6964e-04 - val_accuracy: 0.9997\n",
      "Epoch 85/100\n",
      "2799/2799 [==============================] - 12s 4ms/step - loss: 0.0036 - accuracy: 0.9286 - val_loss: 3.7136e-04 - val_accuracy: 0.9997\n",
      "Epoch 86/100\n",
      "2799/2799 [==============================] - 13s 4ms/step - loss: 0.0036 - accuracy: 0.9287 - val_loss: 3.7759e-04 - val_accuracy: 0.9997\n",
      "Epoch 87/100\n",
      "2799/2799 [==============================] - 12s 4ms/step - loss: 0.0036 - accuracy: 0.9287 - val_loss: 3.7502e-04 - val_accuracy: 0.9997\n",
      "Epoch 88/100\n",
      "2799/2799 [==============================] - 13s 4ms/step - loss: 0.0036 - accuracy: 0.9287 - val_loss: 3.4785e-04 - val_accuracy: 0.9997\n",
      "Epoch 89/100\n",
      "2799/2799 [==============================] - 13s 5ms/step - loss: 0.0036 - accuracy: 0.9288 - val_loss: 3.2206e-04 - val_accuracy: 0.9997\n",
      "Epoch 90/100\n",
      "2799/2799 [==============================] - 13s 5ms/step - loss: 0.0036 - accuracy: 0.9285 - val_loss: 4.1131e-04 - val_accuracy: 0.9997\n",
      "Epoch 91/100\n",
      "2799/2799 [==============================] - 13s 4ms/step - loss: 0.0036 - accuracy: 0.9282 - val_loss: 3.5268e-04 - val_accuracy: 0.9997\n",
      "Epoch 92/100\n",
      "2799/2799 [==============================] - 12s 4ms/step - loss: 0.0036 - accuracy: 0.9283 - val_loss: 3.9904e-04 - val_accuracy: 0.9997\n",
      "Epoch 93/100\n",
      "2799/2799 [==============================] - 13s 5ms/step - loss: 0.0036 - accuracy: 0.9284 - val_loss: 3.9361e-04 - val_accuracy: 0.9997\n",
      "Epoch 94/100\n",
      "2799/2799 [==============================] - 13s 5ms/step - loss: 0.0036 - accuracy: 0.9283 - val_loss: 4.0315e-04 - val_accuracy: 0.9997\n",
      "Epoch 95/100\n",
      "2799/2799 [==============================] - 12s 4ms/step - loss: 0.0036 - accuracy: 0.9289 - val_loss: 3.5592e-04 - val_accuracy: 0.9997\n",
      "Epoch 96/100\n",
      "2799/2799 [==============================] - 13s 5ms/step - loss: 0.0036 - accuracy: 0.9284 - val_loss: 3.8517e-04 - val_accuracy: 0.9997\n",
      "Epoch 97/100\n",
      "2799/2799 [==============================] - 13s 5ms/step - loss: 0.0036 - accuracy: 0.9284 - val_loss: 3.6205e-04 - val_accuracy: 0.9997\n",
      "Epoch 98/100\n",
      "2799/2799 [==============================] - 13s 5ms/step - loss: 0.0036 - accuracy: 0.9280 - val_loss: 3.3155e-04 - val_accuracy: 0.9997\n",
      "Epoch 99/100\n",
      "2799/2799 [==============================] - 13s 5ms/step - loss: 0.0036 - accuracy: 0.9285 - val_loss: 4.2098e-04 - val_accuracy: 0.9997\n",
      "Epoch 100/100\n",
      "2799/2799 [==============================] - 13s 5ms/step - loss: 0.0036 - accuracy: 0.9288 - val_loss: 4.2342e-04 - val_accuracy: 0.9997\n"
     ]
    }
   ],
   "source": [
    "# Train model for 100 epochs, batch size of 1000: \n",
    "NUM_EPOCHS=100\n",
    "BATCH_SIZE=1000\n",
    "\n",
    "history=model.fit(train,train, \n",
    "                  batch_size=BATCH_SIZE, \n",
    "                  epochs=NUM_EPOCHS,\n",
    "                  validation_split=0.1,\n",
    "                  shuffle=True)"
   ]
  },
  {
   "cell_type": "code",
   "execution_count": 40,
   "metadata": {},
   "outputs": [
    {
     "data": {
      "image/png": "[encoded data removed]",
      "text/plain": [
       "<Figure size 432x288 with 1 Axes>"
      ]
     },
     "metadata": {
      "needs_background": "light"
     },
     "output_type": "display_data"
    }
   ],
   "source": [
    "import matplotlib.pyplot as plt\n",
    "\n",
    "plt.plot(history.history['loss'], label='Training loss')\n",
    "plt.plot(history.history['val_loss'], label='Validation loss')\n",
    "plt.legend(loc='upper right')\n",
    "plt.xlabel('Epochs')\n",
    "plt.ylabel('Loss [mse]')\n",
    "plt.show()"
   ]
  },
  {
   "cell_type": "code",
   "execution_count": 41,
   "metadata": {},
   "outputs": [],
   "source": [
    "pred_train = model.predict(train)"
   ]
  },
  {
   "cell_type": "code",
   "execution_count": 42,
   "metadata": {},
   "outputs": [],
   "source": [
    "pred_train = pred_train.reshape(pred_train.shape[0],pred_train.shape[2])\n",
    "train = train.reshape(train.shape[0],train.shape[2])"
   ]
  },
  {
   "cell_type": "code",
   "execution_count": 43,
   "metadata": {},
   "outputs": [
    {
     "name": "stderr",
     "output_type": "stream",
     "text": [
      "C:\\Users\\bahma\\.conda\\envs\\svm\\lib\\site-packages\\seaborn\\distributions.py:2557: FutureWarning: `distplot` is a deprecated function and will be removed in a future version. Please adapt your code to use either `displot` (a figure-level function with similar flexibility) or `histplot` (an axes-level function for histograms).\n",
      "  warnings.warn(msg, FutureWarning)\n"
     ]
    },
    {
     "data": {
      "image/png": "[encoded data removed]",
      "text/plain": [
       "<Figure size 432x288 with 1 Axes>"
      ]
     },
     "metadata": {
      "needs_background": "light"
     },
     "output_type": "display_data"
    }
   ],
   "source": [
    "import seaborn as sns\n",
    "\n",
    "scored = np.mean(np.abs(pred_train-train), axis = 1)\n",
    "plt.figure()\n",
    "g = sns.distplot(scored, bins = 50, kde= True, color = 'blue');\n",
    "plt.title('Loss Distribution')\n",
    "plt.xlabel('Loss (MAE)')\n",
    "plt.show()"
   ]
  },
  {
   "cell_type": "code",
   "execution_count": 47,
   "metadata": {},
   "outputs": [],
   "source": [
    "TH = 0.1\n",
    "pred_train = pd.DataFrame(pred_train)\n",
    "scored_train = pd.DataFrame()\n",
    "scored_train['Loss_mae'] = np.mean(np.abs(pred_train-train), axis = 1)\n",
    "scored_train['Threshold'] = TH\n",
    "scored_train['Anomaly'] = scored_train['Loss_mae'] > scored_train['Threshold']"
   ]
  },
  {
   "cell_type": "code",
   "execution_count": 48,
   "metadata": {},
   "outputs": [
    {
     "data": {
      "text/plain": [
       "0.01365534676062818"
      ]
     },
     "execution_count": 48,
     "metadata": {},
     "output_type": "execute_result"
    }
   ],
   "source": [
    "scored_train['Loss_mae'].mean()"
   ]
  },
  {
   "cell_type": "code",
   "execution_count": 49,
   "metadata": {},
   "outputs": [
    {
     "data": {
      "text/plain": [
       "Text(0, 0.5, 'Loss (MAE)')"
      ]
     },
     "execution_count": 49,
     "metadata": {},
     "output_type": "execute_result"
    },
    {
     "data": {
      "image/png": "[encoded data removed]",
      "text/plain": [
       "<Figure size 1152x288 with 1 Axes>"
      ]
     },
     "metadata": {
      "needs_background": "light"
     },
     "output_type": "display_data"
    }
   ],
   "source": [
    "scored_train.plot(logy=True,  figsize = (16,4), xlim =[0,len(scored_train)])\n",
    "plt.xlabel('Data points')\n",
    "plt.ylabel('Loss (MAE)')"
   ]
  },
  {
   "cell_type": "code",
   "execution_count": 50,
   "metadata": {},
   "outputs": [
    {
     "data": {
      "text/html": [
       "<div>\n",
       "<style scoped>\n",
       "    .dataframe tbody tr th:only-of-type {\n",
       "        vertical-align: middle;\n",
       "    }\n",
       "\n",
       "    .dataframe tbody tr th {\n",
       "        vertical-align: top;\n",
       "    }\n",
       "\n",
       "    .dataframe thead th {\n",
       "        text-align: right;\n",
       "    }\n",
       "</style>\n",
       "<table border=\"1\" class=\"dataframe\">\n",
       "  <thead>\n",
       "    <tr style=\"text-align: right;\">\n",
       "      <th></th>\n",
       "      <th>Loss_mae</th>\n",
       "      <th>Threshold</th>\n",
       "      <th>Anomaly</th>\n",
       "    </tr>\n",
       "  </thead>\n",
       "  <tbody>\n",
       "    <tr>\n",
       "      <th>0</th>\n",
       "      <td>0.015016</td>\n",
       "      <td>0.1</td>\n",
       "      <td>False</td>\n",
       "    </tr>\n",
       "    <tr>\n",
       "      <th>1</th>\n",
       "      <td>0.006583</td>\n",
       "      <td>0.1</td>\n",
       "      <td>False</td>\n",
       "    </tr>\n",
       "    <tr>\n",
       "      <th>2</th>\n",
       "      <td>0.006477</td>\n",
       "      <td>0.1</td>\n",
       "      <td>False</td>\n",
       "    </tr>\n",
       "    <tr>\n",
       "      <th>3</th>\n",
       "      <td>0.009519</td>\n",
       "      <td>0.1</td>\n",
       "      <td>False</td>\n",
       "    </tr>\n",
       "    <tr>\n",
       "      <th>4</th>\n",
       "      <td>0.007044</td>\n",
       "      <td>0.1</td>\n",
       "      <td>False</td>\n",
       "    </tr>\n",
       "    <tr>\n",
       "      <th>...</th>\n",
       "      <td>...</td>\n",
       "      <td>...</td>\n",
       "      <td>...</td>\n",
       "    </tr>\n",
       "    <tr>\n",
       "      <th>3109464</th>\n",
       "      <td>0.029366</td>\n",
       "      <td>0.1</td>\n",
       "      <td>False</td>\n",
       "    </tr>\n",
       "    <tr>\n",
       "      <th>3109465</th>\n",
       "      <td>0.006314</td>\n",
       "      <td>0.1</td>\n",
       "      <td>False</td>\n",
       "    </tr>\n",
       "    <tr>\n",
       "      <th>3109466</th>\n",
       "      <td>0.025654</td>\n",
       "      <td>0.1</td>\n",
       "      <td>False</td>\n",
       "    </tr>\n",
       "    <tr>\n",
       "      <th>3109467</th>\n",
       "      <td>0.006541</td>\n",
       "      <td>0.1</td>\n",
       "      <td>False</td>\n",
       "    </tr>\n",
       "    <tr>\n",
       "      <th>3109468</th>\n",
       "      <td>0.025221</td>\n",
       "      <td>0.1</td>\n",
       "      <td>False</td>\n",
       "    </tr>\n",
       "  </tbody>\n",
       "</table>\n",
       "<p>3109469 rows × 3 columns</p>\n",
       "</div>"
      ],
      "text/plain": [
       "         Loss_mae  Threshold  Anomaly\n",
       "0        0.015016        0.1    False\n",
       "1        0.006583        0.1    False\n",
       "2        0.006477        0.1    False\n",
       "3        0.009519        0.1    False\n",
       "4        0.007044        0.1    False\n",
       "...           ...        ...      ...\n",
       "3109464  0.029366        0.1    False\n",
       "3109465  0.006314        0.1    False\n",
       "3109466  0.025654        0.1    False\n",
       "3109467  0.006541        0.1    False\n",
       "3109468  0.025221        0.1    False\n",
       "\n",
       "[3109469 rows x 3 columns]"
      ]
     },
     "execution_count": 50,
     "metadata": {},
     "output_type": "execute_result"
    }
   ],
   "source": [
    "scored_train"
   ]
  },
  {
   "cell_type": "code",
   "execution_count": 51,
   "metadata": {},
   "outputs": [
    {
     "name": "stdout",
     "output_type": "stream",
     "text": [
      "         Loss_mae  Threshold  Anomaly\n",
      "1212     0.141392        0.1     True\n",
      "1624     0.159931        0.1     True\n",
      "1898     0.100572        0.1     True\n",
      "2493     0.156053        0.1     True\n",
      "5535     0.114584        0.1     True\n",
      "...           ...        ...      ...\n",
      "3100762  0.102915        0.1     True\n",
      "3103558  0.100890        0.1     True\n",
      "3104841  0.120915        0.1     True\n",
      "3108039  0.148330        0.1     True\n",
      "3108520  0.121549        0.1     True\n",
      "\n",
      "[2283 rows x 3 columns]\n",
      "(2283, 3)\n"
     ]
    }
   ],
   "source": [
    "anomalies = scored_train[scored_train['Anomaly'] == True]\n",
    "print(anomalies)\n",
    "print(anomalies.shape)"
   ]
  },
  {
   "cell_type": "code",
   "execution_count": 52,
   "metadata": {},
   "outputs": [
    {
     "name": "stderr",
     "output_type": "stream",
     "text": [
      "C:\\Users\\bahma\\.conda\\envs\\svm\\lib\\site-packages\\IPython\\core\\pylabtools.py:132: UserWarning: Creating legend with loc=\"best\" can be slow with large amounts of data.\n",
      "  fig.canvas.print_figure(bytes_io, **kw)\n"
     ]
    },
    {
     "data": {
      "image/png": "[encoded data removed]",
      "text/plain": [
       "<Figure size 1152x288 with 1 Axes>"
      ]
     },
     "metadata": {
      "needs_background": "light"
     },
     "output_type": "display_data"
    }
   ],
   "source": [
    "f, (ax1) = plt.subplots(figsize=(16, 4))\n",
    "ax1.plot(scored_train.index, scored_train.Loss_mae, label='Loss(MAE)');\n",
    "ax1.plot(scored_train.index, scored_train.Threshold, label='Threshold')\n",
    "g = sns.scatterplot(x=anomalies.index , y=anomalies.Loss_mae, label='anomaly', color='red')\n",
    "g.set(xlim = (0, len(scored_train.index)))\n",
    "plt.title('Anomalies')\n",
    "plt.xlabel('Data points')\n",
    "plt.ylabel('Loss (MAE)')\n",
    "plt.legend();"
   ]
  },
  {
   "cell_type": "code",
   "execution_count": 53,
   "metadata": {},
   "outputs": [],
   "source": [
    "pred_test = model.predict(test)"
   ]
  },
  {
   "cell_type": "code",
   "execution_count": 54,
   "metadata": {},
   "outputs": [
    {
     "name": "stdout",
     "output_type": "stream",
     "text": [
      "24293/24293 [==============================] - 20s 825us/step - loss: 4.2371e-04 - accuracy: 0.9998\n"
     ]
    },
    {
     "data": {
      "text/plain": [
       "[0.00042370992014184594, 0.9997555613517761]"
      ]
     },
     "execution_count": 54,
     "metadata": {},
     "output_type": "execute_result"
    }
   ],
   "source": [
    "score = model.evaluate(test,test)\n",
    "score"
   ]
  },
  {
   "cell_type": "code",
   "execution_count": 55,
   "metadata": {},
   "outputs": [],
   "source": [
    "pred_test = pred_test.reshape(pred_test.shape[0],pred_test.shape[2])\n",
    "test = test.reshape(test.shape[0],test.shape[2])"
   ]
  },
  {
   "cell_type": "code",
   "execution_count": 56,
   "metadata": {},
   "outputs": [
    {
     "name": "stderr",
     "output_type": "stream",
     "text": [
      "C:\\Users\\bahma\\.conda\\envs\\svm\\lib\\site-packages\\seaborn\\distributions.py:2557: FutureWarning: `distplot` is a deprecated function and will be removed in a future version. Please adapt your code to use either `displot` (a figure-level function with similar flexibility) or `histplot` (an axes-level function for histograms).\n",
      "  warnings.warn(msg, FutureWarning)\n"
     ]
    },
    {
     "data": {
      "image/png": "[encoded data removed]",
      "text/plain": [
       "<Figure size 432x288 with 1 Axes>"
      ]
     },
     "metadata": {
      "needs_background": "light"
     },
     "output_type": "display_data"
    }
   ],
   "source": [
    "import seaborn as sns\n",
    "\n",
    "scored_test = np.mean(np.abs(pred_test-test), axis = 1)\n",
    "plt.figure()\n",
    "g = sns.distplot(scored_test, bins = 10, kde= True);\n",
    "plt.title('Loss Distribution')\n",
    "plt.xlabel('Loss (MAE)')\n",
    "plt.show()"
   ]
  },
  {
   "cell_type": "code",
   "execution_count": 57,
   "metadata": {},
   "outputs": [
    {
     "data": {
      "text/html": [
       "<div>\n",
       "<style scoped>\n",
       "    .dataframe tbody tr th:only-of-type {\n",
       "        vertical-align: middle;\n",
       "    }\n",
       "\n",
       "    .dataframe tbody tr th {\n",
       "        vertical-align: top;\n",
       "    }\n",
       "\n",
       "    .dataframe thead th {\n",
       "        text-align: right;\n",
       "    }\n",
       "</style>\n",
       "<table border=\"1\" class=\"dataframe\">\n",
       "  <thead>\n",
       "    <tr style=\"text-align: right;\">\n",
       "      <th></th>\n",
       "      <th>Loss_mae</th>\n",
       "      <th>Threshold</th>\n",
       "      <th>Anomaly</th>\n",
       "    </tr>\n",
       "  </thead>\n",
       "  <tbody>\n",
       "    <tr>\n",
       "      <th>0</th>\n",
       "      <td>0.007794</td>\n",
       "      <td>0.1</td>\n",
       "      <td>False</td>\n",
       "    </tr>\n",
       "    <tr>\n",
       "      <th>1</th>\n",
       "      <td>0.006400</td>\n",
       "      <td>0.1</td>\n",
       "      <td>False</td>\n",
       "    </tr>\n",
       "    <tr>\n",
       "      <th>2</th>\n",
       "      <td>0.006637</td>\n",
       "      <td>0.1</td>\n",
       "      <td>False</td>\n",
       "    </tr>\n",
       "    <tr>\n",
       "      <th>3</th>\n",
       "      <td>0.006327</td>\n",
       "      <td>0.1</td>\n",
       "      <td>False</td>\n",
       "    </tr>\n",
       "    <tr>\n",
       "      <th>4</th>\n",
       "      <td>0.029186</td>\n",
       "      <td>0.1</td>\n",
       "      <td>False</td>\n",
       "    </tr>\n",
       "    <tr>\n",
       "      <th>...</th>\n",
       "      <td>...</td>\n",
       "      <td>...</td>\n",
       "      <td>...</td>\n",
       "    </tr>\n",
       "    <tr>\n",
       "      <th>777363</th>\n",
       "      <td>0.008468</td>\n",
       "      <td>0.1</td>\n",
       "      <td>False</td>\n",
       "    </tr>\n",
       "    <tr>\n",
       "      <th>777364</th>\n",
       "      <td>0.026118</td>\n",
       "      <td>0.1</td>\n",
       "      <td>False</td>\n",
       "    </tr>\n",
       "    <tr>\n",
       "      <th>777365</th>\n",
       "      <td>0.006721</td>\n",
       "      <td>0.1</td>\n",
       "      <td>False</td>\n",
       "    </tr>\n",
       "    <tr>\n",
       "      <th>777366</th>\n",
       "      <td>0.048948</td>\n",
       "      <td>0.1</td>\n",
       "      <td>False</td>\n",
       "    </tr>\n",
       "    <tr>\n",
       "      <th>777367</th>\n",
       "      <td>0.006949</td>\n",
       "      <td>0.1</td>\n",
       "      <td>False</td>\n",
       "    </tr>\n",
       "  </tbody>\n",
       "</table>\n",
       "<p>777368 rows × 3 columns</p>\n",
       "</div>"
      ],
      "text/plain": [
       "        Loss_mae  Threshold  Anomaly\n",
       "0       0.007794        0.1    False\n",
       "1       0.006400        0.1    False\n",
       "2       0.006637        0.1    False\n",
       "3       0.006327        0.1    False\n",
       "4       0.029186        0.1    False\n",
       "...          ...        ...      ...\n",
       "777363  0.008468        0.1    False\n",
       "777364  0.026118        0.1    False\n",
       "777365  0.006721        0.1    False\n",
       "777366  0.048948        0.1    False\n",
       "777367  0.006949        0.1    False\n",
       "\n",
       "[777368 rows x 3 columns]"
      ]
     },
     "execution_count": 57,
     "metadata": {},
     "output_type": "execute_result"
    }
   ],
   "source": [
    "scored_test = pd.DataFrame()\n",
    "scored_test['Loss_mae'] = np.mean(np.abs(pred_test-test), axis = 1)\n",
    "scored_test['Threshold'] = TH\n",
    "scored_test['Anomaly'] = scored_test['Loss_mae'] > scored_test['Threshold']\n",
    "\n",
    "scored_test"
   ]
  },
  {
   "cell_type": "code",
   "execution_count": 58,
   "metadata": {},
   "outputs": [
    {
     "data": {
      "text/plain": [
       "0.013650448771261977"
      ]
     },
     "execution_count": 58,
     "metadata": {},
     "output_type": "execute_result"
    }
   ],
   "source": [
    "scored_test['Loss_mae'].mean()"
   ]
  },
  {
   "cell_type": "code",
   "execution_count": 59,
   "metadata": {},
   "outputs": [
    {
     "data": {
      "text/plain": [
       "Text(0, 0.5, 'Loss (MAE)')"
      ]
     },
     "execution_count": 59,
     "metadata": {},
     "output_type": "execute_result"
    },
    {
     "data": {
      "image/png": "[encoded data removed]",
      "text/plain": [
       "<Figure size 1152x288 with 1 Axes>"
      ]
     },
     "metadata": {
      "needs_background": "light"
     },
     "output_type": "display_data"
    }
   ],
   "source": [
    "scored_test.plot(logy=True,  figsize = (16,4), xlim =[0,len(scored_test)])\n",
    "plt.xlabel('Data points')\n",
    "plt.ylabel('Loss (MAE)')"
   ]
  },
  {
   "cell_type": "code",
   "execution_count": 60,
   "metadata": {},
   "outputs": [
    {
     "name": "stdout",
     "output_type": "stream",
     "text": [
      "        Loss_mae  Threshold  Anomaly\n",
      "524     0.103372        0.1     True\n",
      "530     0.107806        0.1     True\n",
      "2389    0.111426        0.1     True\n",
      "6869    0.164179        0.1     True\n",
      "6884    0.117680        0.1     True\n",
      "...          ...        ...      ...\n",
      "771797  0.104279        0.1     True\n",
      "772967  0.157855        0.1     True\n",
      "775808  0.140259        0.1     True\n",
      "776344  0.164570        0.1     True\n",
      "776559  0.114300        0.1     True\n",
      "\n",
      "[553 rows x 3 columns]\n",
      "(553, 3)\n"
     ]
    }
   ],
   "source": [
    "IR_anomalies = scored_test[scored_test['Anomaly'] == True]\n",
    "print(IR_anomalies)\n",
    "print(IR_anomalies.shape)"
   ]
  },
  {
   "cell_type": "code",
   "execution_count": 61,
   "metadata": {},
   "outputs": [
    {
     "data": {
      "image/png": "[encoded data removed]",
      "text/plain": [
       "<Figure size 1296x432 with 1 Axes>"
      ]
     },
     "metadata": {
      "needs_background": "light"
     },
     "output_type": "display_data"
    }
   ],
   "source": [
    "f, (ax2) = plt.subplots(figsize=(18, 6))\n",
    "ax2.plot(scored_test.index, scored_test.Loss_mae, label='Loss(MAE)');\n",
    "ax2.plot(scored_test.index, scored_test.Threshold, label='Threshold')\n",
    "g = sns.scatterplot(x=IR_anomalies.index , y=IR_anomalies.Loss_mae, label='anomaly', color='red')\n",
    "g.set(xlim = (0, len(scored_test.index)))\n",
    "plt.title('Anomalies')\n",
    "plt.xlabel('Data points')\n",
    "plt.ylabel('Loss (MAE)')\n",
    "plt.legend();"
   ]
  },
  {
   "cell_type": "code",
   "execution_count": 62,
   "metadata": {},
   "outputs": [
    {
     "name": "stdout",
     "output_type": "stream",
     "text": [
      "0.9997555613517761\n"
     ]
    }
   ],
   "source": [
    "print(score[1])"
   ]
  },
  {
   "cell_type": "code",
   "execution_count": 63,
   "metadata": {},
   "outputs": [
    {
     "name": "stdout",
     "output_type": "stream",
     "text": [
      "Accuracy: 99.98%\n"
     ]
    }
   ],
   "source": [
    "print(\"Accuracy: {:.2f}%\".format(score[1]*100))"
   ]
  },
  {
   "cell_type": "code",
   "execution_count": 64,
   "metadata": {},
   "outputs": [
    {
     "name": "stdout",
     "output_type": "stream",
     "text": [
      "Anomalies: 553\n"
     ]
    }
   ],
   "source": [
    "print(\"Anomalies: {}\".format(IR_anomalies['Anomaly'].count()))"
   ]
  },
  {
   "cell_type": "code",
   "execution_count": 65,
   "metadata": {},
   "outputs": [],
   "source": [
    "# Seperating Normal and Faulty dataset\n",
    "x = scored_test['Anomaly'].count() / 2"
   ]
  },
  {
   "cell_type": "code",
   "execution_count": 66,
   "metadata": {},
   "outputs": [
    {
     "data": {
      "text/html": [
       "<div>\n",
       "<style scoped>\n",
       "    .dataframe tbody tr th:only-of-type {\n",
       "        vertical-align: middle;\n",
       "    }\n",
       "\n",
       "    .dataframe tbody tr th {\n",
       "        vertical-align: top;\n",
       "    }\n",
       "\n",
       "    .dataframe thead th {\n",
       "        text-align: right;\n",
       "    }\n",
       "</style>\n",
       "<table border=\"1\" class=\"dataframe\">\n",
       "  <thead>\n",
       "    <tr style=\"text-align: right;\">\n",
       "      <th></th>\n",
       "      <th>Loss_mae</th>\n",
       "      <th>Threshold</th>\n",
       "      <th>Anomaly</th>\n",
       "    </tr>\n",
       "  </thead>\n",
       "  <tbody>\n",
       "    <tr>\n",
       "      <th>0</th>\n",
       "      <td>0.007794</td>\n",
       "      <td>0.1</td>\n",
       "      <td>False</td>\n",
       "    </tr>\n",
       "    <tr>\n",
       "      <th>1</th>\n",
       "      <td>0.006400</td>\n",
       "      <td>0.1</td>\n",
       "      <td>False</td>\n",
       "    </tr>\n",
       "    <tr>\n",
       "      <th>2</th>\n",
       "      <td>0.006637</td>\n",
       "      <td>0.1</td>\n",
       "      <td>False</td>\n",
       "    </tr>\n",
       "    <tr>\n",
       "      <th>3</th>\n",
       "      <td>0.006327</td>\n",
       "      <td>0.1</td>\n",
       "      <td>False</td>\n",
       "    </tr>\n",
       "    <tr>\n",
       "      <th>4</th>\n",
       "      <td>0.029186</td>\n",
       "      <td>0.1</td>\n",
       "      <td>False</td>\n",
       "    </tr>\n",
       "    <tr>\n",
       "      <th>...</th>\n",
       "      <td>...</td>\n",
       "      <td>...</td>\n",
       "      <td>...</td>\n",
       "    </tr>\n",
       "    <tr>\n",
       "      <th>388679</th>\n",
       "      <td>0.006574</td>\n",
       "      <td>0.1</td>\n",
       "      <td>False</td>\n",
       "    </tr>\n",
       "    <tr>\n",
       "      <th>388680</th>\n",
       "      <td>0.008606</td>\n",
       "      <td>0.1</td>\n",
       "      <td>False</td>\n",
       "    </tr>\n",
       "    <tr>\n",
       "      <th>388681</th>\n",
       "      <td>0.006397</td>\n",
       "      <td>0.1</td>\n",
       "      <td>False</td>\n",
       "    </tr>\n",
       "    <tr>\n",
       "      <th>388682</th>\n",
       "      <td>0.026848</td>\n",
       "      <td>0.1</td>\n",
       "      <td>False</td>\n",
       "    </tr>\n",
       "    <tr>\n",
       "      <th>388683</th>\n",
       "      <td>0.006304</td>\n",
       "      <td>0.1</td>\n",
       "      <td>False</td>\n",
       "    </tr>\n",
       "  </tbody>\n",
       "</table>\n",
       "<p>388684 rows × 3 columns</p>\n",
       "</div>"
      ],
      "text/plain": [
       "        Loss_mae  Threshold  Anomaly\n",
       "0       0.007794        0.1    False\n",
       "1       0.006400        0.1    False\n",
       "2       0.006637        0.1    False\n",
       "3       0.006327        0.1    False\n",
       "4       0.029186        0.1    False\n",
       "...          ...        ...      ...\n",
       "388679  0.006574        0.1    False\n",
       "388680  0.008606        0.1    False\n",
       "388681  0.006397        0.1    False\n",
       "388682  0.026848        0.1    False\n",
       "388683  0.006304        0.1    False\n",
       "\n",
       "[388684 rows x 3 columns]"
      ]
     },
     "execution_count": 66,
     "metadata": {},
     "output_type": "execute_result"
    }
   ],
   "source": [
    "normal_test = scored_test[scored_test.index < x]\n",
    "normal_test"
   ]
  },
  {
   "cell_type": "code",
   "execution_count": 67,
   "metadata": {},
   "outputs": [
    {
     "data": {
      "text/html": [
       "<div>\n",
       "<style scoped>\n",
       "    .dataframe tbody tr th:only-of-type {\n",
       "        vertical-align: middle;\n",
       "    }\n",
       "\n",
       "    .dataframe tbody tr th {\n",
       "        vertical-align: top;\n",
       "    }\n",
       "\n",
       "    .dataframe thead th {\n",
       "        text-align: right;\n",
       "    }\n",
       "</style>\n",
       "<table border=\"1\" class=\"dataframe\">\n",
       "  <thead>\n",
       "    <tr style=\"text-align: right;\">\n",
       "      <th></th>\n",
       "      <th>Loss_mae</th>\n",
       "      <th>Threshold</th>\n",
       "      <th>Anomaly</th>\n",
       "    </tr>\n",
       "  </thead>\n",
       "  <tbody>\n",
       "    <tr>\n",
       "      <th>388684</th>\n",
       "      <td>0.006567</td>\n",
       "      <td>0.1</td>\n",
       "      <td>False</td>\n",
       "    </tr>\n",
       "    <tr>\n",
       "      <th>388685</th>\n",
       "      <td>0.029558</td>\n",
       "      <td>0.1</td>\n",
       "      <td>False</td>\n",
       "    </tr>\n",
       "    <tr>\n",
       "      <th>388686</th>\n",
       "      <td>0.006511</td>\n",
       "      <td>0.1</td>\n",
       "      <td>False</td>\n",
       "    </tr>\n",
       "    <tr>\n",
       "      <th>388687</th>\n",
       "      <td>0.006550</td>\n",
       "      <td>0.1</td>\n",
       "      <td>False</td>\n",
       "    </tr>\n",
       "    <tr>\n",
       "      <th>388688</th>\n",
       "      <td>0.008439</td>\n",
       "      <td>0.1</td>\n",
       "      <td>False</td>\n",
       "    </tr>\n",
       "    <tr>\n",
       "      <th>...</th>\n",
       "      <td>...</td>\n",
       "      <td>...</td>\n",
       "      <td>...</td>\n",
       "    </tr>\n",
       "    <tr>\n",
       "      <th>777363</th>\n",
       "      <td>0.008468</td>\n",
       "      <td>0.1</td>\n",
       "      <td>False</td>\n",
       "    </tr>\n",
       "    <tr>\n",
       "      <th>777364</th>\n",
       "      <td>0.026118</td>\n",
       "      <td>0.1</td>\n",
       "      <td>False</td>\n",
       "    </tr>\n",
       "    <tr>\n",
       "      <th>777365</th>\n",
       "      <td>0.006721</td>\n",
       "      <td>0.1</td>\n",
       "      <td>False</td>\n",
       "    </tr>\n",
       "    <tr>\n",
       "      <th>777366</th>\n",
       "      <td>0.048948</td>\n",
       "      <td>0.1</td>\n",
       "      <td>False</td>\n",
       "    </tr>\n",
       "    <tr>\n",
       "      <th>777367</th>\n",
       "      <td>0.006949</td>\n",
       "      <td>0.1</td>\n",
       "      <td>False</td>\n",
       "    </tr>\n",
       "  </tbody>\n",
       "</table>\n",
       "<p>388684 rows × 3 columns</p>\n",
       "</div>"
      ],
      "text/plain": [
       "        Loss_mae  Threshold  Anomaly\n",
       "388684  0.006567        0.1    False\n",
       "388685  0.029558        0.1    False\n",
       "388686  0.006511        0.1    False\n",
       "388687  0.006550        0.1    False\n",
       "388688  0.008439        0.1    False\n",
       "...          ...        ...      ...\n",
       "777363  0.008468        0.1    False\n",
       "777364  0.026118        0.1    False\n",
       "777365  0.006721        0.1    False\n",
       "777366  0.048948        0.1    False\n",
       "777367  0.006949        0.1    False\n",
       "\n",
       "[388684 rows x 3 columns]"
      ]
     },
     "execution_count": 67,
     "metadata": {},
     "output_type": "execute_result"
    }
   ],
   "source": [
    "IR_test = scored_test[scored_test.index >= x]\n",
    "IR_test"
   ]
  },
  {
   "cell_type": "code",
   "execution_count": 68,
   "metadata": {},
   "outputs": [
    {
     "name": "stdout",
     "output_type": "stream",
     "text": [
      "True Positives: 388410\n",
      "False Positives: 274\n",
      "True Negatives: 279\n",
      "False Negatives: 388405\n"
     ]
    }
   ],
   "source": [
    "TP = normal_test[normal_test['Anomaly'] == False]\n",
    "TP = TP['Anomaly'].count()\n",
    "print(\"True Positives: {}\".format(TP))\n",
    "\n",
    "FP = normal_test[normal_test['Anomaly'] == True]\n",
    "FP = FP['Anomaly'].count()\n",
    "print(\"False Positives: {}\".format(FP))\n",
    "\n",
    "TN = IR_test[IR_test['Anomaly'] == True]\n",
    "TN = TN['Anomaly'].count()\n",
    "print(\"True Negatives: {}\".format(TN))\n",
    "\n",
    "FN = IR_test[IR_test['Anomaly'] == False]\n",
    "FN = FN['Anomaly'].count()\n",
    "print(\"False Negatives: {}\".format(FN))"
   ]
  },
  {
   "cell_type": "code",
   "execution_count": 69,
   "metadata": {},
   "outputs": [
    {
     "name": "stdout",
     "output_type": "stream",
     "text": [
      "Precision: 99.93%\n",
      "Recall: 50.000%\n",
      "F1 Score: 66.65%\n",
      "Accuracy: 50.00%\n"
     ]
    }
   ],
   "source": [
    "Precision = TP / (TP + FP)\n",
    "print(\"Precision: {:.2f}%\".format(Precision*100))\n",
    "\n",
    "Recall = TP / (TP + FN)\n",
    "print(\"Recall: {:.3f}%\".format(Recall*100))\n",
    "\n",
    "F1Score = (2*Precision*Recall)/(Precision+Recall)\n",
    "print(\"F1 Score: {:.2f}%\".format(F1Score*100))\n",
    "\n",
    "Accuracy = ( TP + TN ) / ( TP + TN + FN + FP )\n",
    "print(\"Accuracy: {:.2f}%\".format(Accuracy*100))"
   ]
  },
  {
   "cell_type": "code",
   "execution_count": null,
   "metadata": {},
   "outputs": [],
   "source": []
  }
 ],
 "metadata": {
  "kernelspec": {
   "display_name": "Python 3",
   "language": "python",
   "name": "python3"
  },
  "language_info": {
   "codemirror_mode": {
    "name": "ipython",
    "version": 3
   },
   "file_extension": ".py",
   "mimetype": "text/x-python",
   "name": "python",
   "nbconvert_exporter": "python",
   "pygments_lexer": "ipython3",
   "version": "3.8.5"
  }
 },
 "nbformat": 4,
 "nbformat_minor": 4
}
