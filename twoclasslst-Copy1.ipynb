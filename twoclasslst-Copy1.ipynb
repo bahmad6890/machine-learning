{
 "cells": [
  {
   "cell_type": "raw",
   "metadata": {},
   "source": [
    "# By increasing the test data to 30% and reduce dense layer to 10 from 32 also add two more parameters (use_bias = True , bias_initializer = 'zero') in model test accuracy improved to 72 %"
   ]
  },
  {
   "cell_type": "code",
   "execution_count": 1,
   "metadata": {},
   "outputs": [],
   "source": [
    "#importing packages\n",
    "import pandas as pd\n",
    "import numpy as np"
   ]
  },
  {
   "cell_type": "code",
   "execution_count": 2,
   "metadata": {},
   "outputs": [],
   "source": [
    "X = pd.read_csv('HealtyNormalized.csv')\n",
    "# Importing the dataset\n",
    "X['Fault'] = 0\n",
    "\n",
    "y = pd.read_csv('combinedFault.csv')\n",
    "y['Fault'] = 1\n"
   ]
  },
  {
   "cell_type": "code",
   "execution_count": 3,
   "metadata": {},
   "outputs": [
    {
     "data": {
      "text/plain": [
       "(        vsH       vbH  Fault\n",
       " 0  0.000998 -0.000217      0\n",
       " 1  0.001001 -0.000185      0\n",
       " 2  0.001002 -0.000152      0\n",
       " 3  0.001007 -0.000185      0\n",
       " 4  0.001010 -0.000217      0,\n",
       "         vsC       vbC  Fault\n",
       " 0  0.039634  0.018847      1\n",
       " 1  0.039634  0.018847      1\n",
       " 2  0.039634  0.018518      1\n",
       " 3  3.632150  0.015887      1\n",
       " 4  4.148328  0.018518      1)"
      ]
     },
     "execution_count": 3,
     "metadata": {},
     "output_type": "execute_result"
    }
   ],
   "source": [
    "X.head(), y.head()"
   ]
  },
  {
   "cell_type": "code",
   "execution_count": 4,
   "metadata": {},
   "outputs": [],
   "source": [
    "X = X.rename(columns={\"vsH\": \"speed\", \"vbH\": \"vibration\"})\n",
    "y = y.rename(columns={\"vsC\": \"speed\", \"vbC\": \"vibration\"})"
   ]
  },
  {
   "cell_type": "code",
   "execution_count": 5,
   "metadata": {},
   "outputs": [
    {
     "data": {
      "text/plain": [
       "(      speed  vibration  Fault\n",
       " 0  0.000998  -0.000217      0\n",
       " 1  0.001001  -0.000185      0\n",
       " 2  0.001002  -0.000152      0\n",
       " 3  0.001007  -0.000185      0\n",
       " 4  0.001010  -0.000217      0,\n",
       "       speed  vibration  Fault\n",
       " 0  0.039634   0.018847      1\n",
       " 1  0.039634   0.018847      1\n",
       " 2  0.039634   0.018518      1\n",
       " 3  3.632150   0.015887      1\n",
       " 4  4.148328   0.018518      1)"
      ]
     },
     "execution_count": 5,
     "metadata": {},
     "output_type": "execute_result"
    }
   ],
   "source": [
    "X.head(), y.head()"
   ]
  },
  {
   "cell_type": "code",
   "execution_count": 6,
   "metadata": {},
   "outputs": [],
   "source": [
    "import seaborn as sb \n",
    "from pylab import rcParams"
   ]
  },
  {
   "cell_type": "code",
   "execution_count": 7,
   "metadata": {},
   "outputs": [
    {
     "data": {
      "text/plain": [
       "\"\\n\\n%matplotlib inline\\nrcParams['figure.figsize'] = 5,4\\nsb.set_style('whitegrid')\\nplt.rcParams['agg.path.chunksize'] = 20000000\\n\""
      ]
     },
     "execution_count": 7,
     "metadata": {},
     "output_type": "execute_result"
    }
   ],
   "source": [
    "\"\"\"\n",
    "\n",
    "%matplotlib inline\n",
    "rcParams['figure.figsize'] = 5,4\n",
    "sb.set_style('whitegrid')\n",
    "plt.rcParams['agg.path.chunksize'] = 20000000\n",
    "\"\"\""
   ]
  },
  {
   "cell_type": "code",
   "execution_count": 8,
   "metadata": {},
   "outputs": [
    {
     "name": "stderr",
     "output_type": "stream",
     "text": [
      "C:\\Users\\bahma\\.conda\\envs\\svm\\lib\\site-packages\\seaborn\\_decorators.py:36: FutureWarning: Pass the following variable as a keyword arg: x. From version 0.12, the only valid positional argument will be `data`, and passing other arguments without an explicit keyword will result in an error or misinterpretation.\n",
      "  warnings.warn(\n"
     ]
    },
    {
     "data": {
      "text/plain": [
       "<AxesSubplot:xlabel='vibration'>"
      ]
     },
     "execution_count": 8,
     "metadata": {},
     "output_type": "execute_result"
    },
    {
     "data": {
      "image/png": "[encoded data removed]",
      "text/plain": [
       "<Figure size 432x288 with 1 Axes>"
      ]
     },
     "metadata": {
      "needs_background": "light"
     },
     "output_type": "display_data"
    }
   ],
   "source": [
    "sb.boxplot(X['vibration'])"
   ]
  },
  {
   "cell_type": "code",
   "execution_count": 9,
   "metadata": {},
   "outputs": [],
   "source": [
    "def find_normal_boundaries(df, variable):    \n",
    "    # calculate the boundaries outside which lie the outliers for a Gaussian distribution    \n",
    "    upper_boundary = df[variable].mean() + 10 * df[variable].std()\n",
    "    lower_boundary = df[variable].mean() - 10 * df[variable].std()    \n",
    "    return upper_boundary, lower_boundary\n"
   ]
  },
  {
   "cell_type": "code",
   "execution_count": 10,
   "metadata": {},
   "outputs": [
    {
     "name": "stdout",
     "output_type": "stream",
     "text": [
      "0.0071039730976409105 -0.0070003626852839\n"
     ]
    }
   ],
   "source": [
    "upper_boundary, lower_boundary = find_normal_boundaries(X, 'vibration')\n",
    "print(upper_boundary, lower_boundary)"
   ]
  },
  {
   "cell_type": "code",
   "execution_count": 11,
   "metadata": {},
   "outputs": [
    {
     "name": "stderr",
     "output_type": "stream",
     "text": [
      "C:\\Users\\bahma\\.conda\\envs\\svm\\lib\\site-packages\\seaborn\\_decorators.py:36: FutureWarning: Pass the following variable as a keyword arg: x. From version 0.12, the only valid positional argument will be `data`, and passing other arguments without an explicit keyword will result in an error or misinterpretation.\n",
      "  warnings.warn(\n"
     ]
    },
    {
     "data": {
      "text/plain": [
       "<AxesSubplot:xlabel='vibration'>"
      ]
     },
     "execution_count": 11,
     "metadata": {},
     "output_type": "execute_result"
    },
    {
     "data": {
      "image/png": "[encoded data removed]",
      "text/plain": [
       "<Figure size 432x288 with 1 Axes>"
      ]
     },
     "metadata": {
      "needs_background": "light"
     },
     "output_type": "display_data"
    }
   ],
   "source": [
    "upper_boundary = 0.007\n",
    "lower_boundary = -0.003\n",
    "\n",
    "data2 = X[(X['vibration']<upper_boundary) & (X['vibration']>lower_boundary)]\n",
    "\n",
    "X = data2\n",
    "X.describe()\n",
    "\n",
    "sb.boxplot(X['vibration'])"
   ]
  },
  {
   "cell_type": "code",
   "execution_count": 12,
   "metadata": {},
   "outputs": [
    {
     "name": "stderr",
     "output_type": "stream",
     "text": [
      "C:\\Users\\bahma\\.conda\\envs\\svm\\lib\\site-packages\\seaborn\\_decorators.py:36: FutureWarning: Pass the following variable as a keyword arg: x. From version 0.12, the only valid positional argument will be `data`, and passing other arguments without an explicit keyword will result in an error or misinterpretation.\n",
      "  warnings.warn(\n"
     ]
    },
    {
     "data": {
      "text/plain": [
       "<AxesSubplot:xlabel='vibration'>"
      ]
     },
     "execution_count": 12,
     "metadata": {},
     "output_type": "execute_result"
    },
    {
     "data": {
      "image/png": "[encoded data removed]",
      "text/plain": [
       "<Figure size 432x288 with 1 Axes>"
      ]
     },
     "metadata": {
      "needs_background": "light"
     },
     "output_type": "display_data"
    }
   ],
   "source": [
    "upper_boundary = 0.003\n",
    "lower_boundary = -0.003\n",
    "\n",
    "data2 = X[(X['vibration']<upper_boundary) & (X['vibration']>lower_boundary)]\n",
    "\n",
    "X = data2\n",
    "X.describe()\n",
    "\n",
    "sb.boxplot(X['vibration'])"
   ]
  },
  {
   "cell_type": "code",
   "execution_count": 13,
   "metadata": {},
   "outputs": [
    {
     "name": "stderr",
     "output_type": "stream",
     "text": [
      "C:\\Users\\bahma\\.conda\\envs\\svm\\lib\\site-packages\\seaborn\\_decorators.py:36: FutureWarning: Pass the following variable as a keyword arg: x. From version 0.12, the only valid positional argument will be `data`, and passing other arguments without an explicit keyword will result in an error or misinterpretation.\n",
      "  warnings.warn(\n"
     ]
    },
    {
     "data": {
      "text/plain": [
       "<AxesSubplot:xlabel='vibration'>"
      ]
     },
     "execution_count": 13,
     "metadata": {},
     "output_type": "execute_result"
    },
    {
     "data": {
      "image/png": "[encoded data removed]",
      "text/plain": [
       "<Figure size 432x288 with 1 Axes>"
      ]
     },
     "metadata": {
      "needs_background": "light"
     },
     "output_type": "display_data"
    }
   ],
   "source": [
    "sb.boxplot(y['vibration'])"
   ]
  },
  {
   "cell_type": "code",
   "execution_count": 14,
   "metadata": {},
   "outputs": [
    {
     "name": "stdout",
     "output_type": "stream",
     "text": [
      "0.3326969678558227 -0.3299069979161344\n"
     ]
    }
   ],
   "source": [
    "upper_boundary, lower_boundary = find_normal_boundaries(y, 'vibration')\n",
    "print(upper_boundary, lower_boundary)"
   ]
  },
  {
   "cell_type": "code",
   "execution_count": 15,
   "metadata": {},
   "outputs": [
    {
     "name": "stderr",
     "output_type": "stream",
     "text": [
      "C:\\Users\\bahma\\.conda\\envs\\svm\\lib\\site-packages\\seaborn\\_decorators.py:36: FutureWarning: Pass the following variable as a keyword arg: x. From version 0.12, the only valid positional argument will be `data`, and passing other arguments without an explicit keyword will result in an error or misinterpretation.\n",
      "  warnings.warn(\n"
     ]
    },
    {
     "data": {
      "text/plain": [
       "<AxesSubplot:xlabel='vibration'>"
      ]
     },
     "execution_count": 15,
     "metadata": {},
     "output_type": "execute_result"
    },
    {
     "data": {
      "image/png": "[encoded data removed]",
      "text/plain": [
       "<Figure size 432x288 with 1 Axes>"
      ]
     },
     "metadata": {
      "needs_background": "light"
     },
     "output_type": "display_data"
    }
   ],
   "source": [
    "upper_boundary = 0.6\n",
    "lower_boundary = -0.6\n",
    "\n",
    "data2 = y[(y['vibration']<upper_boundary) & (y['vibration']>lower_boundary)]\n",
    "\n",
    "y = data2\n",
    "y.describe()\n",
    "\n",
    "sb.boxplot(y['vibration'])"
   ]
  },
  {
   "cell_type": "code",
   "execution_count": 16,
   "metadata": {},
   "outputs": [],
   "source": [
    "from sklearn.model_selection import train_test_split\n",
    "X_train, X_test = train_test_split(X, test_size = 0.3, random_state = 0)\n",
    "\n",
    "y_train, y_test = train_test_split(y, test_size = 0.3, random_state = 0)"
   ]
  },
  {
   "cell_type": "code",
   "execution_count": 17,
   "metadata": {},
   "outputs": [
    {
     "data": {
      "text/html": [
       "<div>\n",
       "<style scoped>\n",
       "    .dataframe tbody tr th:only-of-type {\n",
       "        vertical-align: middle;\n",
       "    }\n",
       "\n",
       "    .dataframe tbody tr th {\n",
       "        vertical-align: top;\n",
       "    }\n",
       "\n",
       "    .dataframe thead th {\n",
       "        text-align: right;\n",
       "    }\n",
       "</style>\n",
       "<table border=\"1\" class=\"dataframe\">\n",
       "  <thead>\n",
       "    <tr style=\"text-align: right;\">\n",
       "      <th></th>\n",
       "      <th>speed</th>\n",
       "      <th>vibration</th>\n",
       "      <th>Fault</th>\n",
       "    </tr>\n",
       "  </thead>\n",
       "  <tbody>\n",
       "    <tr>\n",
       "      <th>1249031</th>\n",
       "      <td>0.000029</td>\n",
       "      <td>0.000921</td>\n",
       "      <td>0</td>\n",
       "    </tr>\n",
       "    <tr>\n",
       "      <th>87884</th>\n",
       "      <td>0.000009</td>\n",
       "      <td>0.000433</td>\n",
       "      <td>0</td>\n",
       "    </tr>\n",
       "    <tr>\n",
       "      <th>1199870</th>\n",
       "      <td>0.000009</td>\n",
       "      <td>0.000530</td>\n",
       "      <td>0</td>\n",
       "    </tr>\n",
       "    <tr>\n",
       "      <th>588670</th>\n",
       "      <td>0.000943</td>\n",
       "      <td>0.000823</td>\n",
       "      <td>0</td>\n",
       "    </tr>\n",
       "    <tr>\n",
       "      <th>813455</th>\n",
       "      <td>0.000012</td>\n",
       "      <td>-0.000087</td>\n",
       "      <td>0</td>\n",
       "    </tr>\n",
       "    <tr>\n",
       "      <th>...</th>\n",
       "      <td>...</td>\n",
       "      <td>...</td>\n",
       "      <td>...</td>\n",
       "    </tr>\n",
       "    <tr>\n",
       "      <th>152315</th>\n",
       "      <td>4.231508</td>\n",
       "      <td>0.008324</td>\n",
       "      <td>1</td>\n",
       "    </tr>\n",
       "    <tr>\n",
       "      <th>963398</th>\n",
       "      <td>0.039634</td>\n",
       "      <td>0.023451</td>\n",
       "      <td>1</td>\n",
       "    </tr>\n",
       "    <tr>\n",
       "      <th>117952</th>\n",
       "      <td>0.041935</td>\n",
       "      <td>-0.019957</td>\n",
       "      <td>1</td>\n",
       "    </tr>\n",
       "    <tr>\n",
       "      <th>1484420</th>\n",
       "      <td>0.039305</td>\n",
       "      <td>0.007666</td>\n",
       "      <td>1</td>\n",
       "    </tr>\n",
       "    <tr>\n",
       "      <th>305711</th>\n",
       "      <td>0.039634</td>\n",
       "      <td>-0.008776</td>\n",
       "      <td>1</td>\n",
       "    </tr>\n",
       "  </tbody>\n",
       "</table>\n",
       "<p>2720785 rows × 3 columns</p>\n",
       "</div>"
      ],
      "text/plain": [
       "            speed  vibration  Fault\n",
       "1249031  0.000029   0.000921      0\n",
       "87884    0.000009   0.000433      0\n",
       "1199870  0.000009   0.000530      0\n",
       "588670   0.000943   0.000823      0\n",
       "813455   0.000012  -0.000087      0\n",
       "...           ...        ...    ...\n",
       "152315   4.231508   0.008324      1\n",
       "963398   0.039634   0.023451      1\n",
       "117952   0.041935  -0.019957      1\n",
       "1484420  0.039305   0.007666      1\n",
       "305711   0.039634  -0.008776      1\n",
       "\n",
       "[2720785 rows x 3 columns]"
      ]
     },
     "execution_count": 17,
     "metadata": {},
     "output_type": "execute_result"
    }
   ],
   "source": [
    "train = X_train.append(y_train)\n",
    "train"
   ]
  },
  {
   "cell_type": "code",
   "execution_count": 18,
   "metadata": {},
   "outputs": [
    {
     "data": {
      "text/html": [
       "<div>\n",
       "<style scoped>\n",
       "    .dataframe tbody tr th:only-of-type {\n",
       "        vertical-align: middle;\n",
       "    }\n",
       "\n",
       "    .dataframe tbody tr th {\n",
       "        vertical-align: top;\n",
       "    }\n",
       "\n",
       "    .dataframe thead th {\n",
       "        text-align: right;\n",
       "    }\n",
       "</style>\n",
       "<table border=\"1\" class=\"dataframe\">\n",
       "  <thead>\n",
       "    <tr style=\"text-align: right;\">\n",
       "      <th></th>\n",
       "      <th>speed</th>\n",
       "      <th>vibration</th>\n",
       "      <th>Fault</th>\n",
       "    </tr>\n",
       "  </thead>\n",
       "  <tbody>\n",
       "    <tr>\n",
       "      <th>1456698</th>\n",
       "      <td>0.000009</td>\n",
       "      <td>-0.000575</td>\n",
       "      <td>0</td>\n",
       "    </tr>\n",
       "    <tr>\n",
       "      <th>1704724</th>\n",
       "      <td>0.000009</td>\n",
       "      <td>-0.000022</td>\n",
       "      <td>0</td>\n",
       "    </tr>\n",
       "    <tr>\n",
       "      <th>850351</th>\n",
       "      <td>0.000990</td>\n",
       "      <td>0.000465</td>\n",
       "      <td>0</td>\n",
       "    </tr>\n",
       "    <tr>\n",
       "      <th>1821345</th>\n",
       "      <td>0.001003</td>\n",
       "      <td>0.001083</td>\n",
       "      <td>0</td>\n",
       "    </tr>\n",
       "    <tr>\n",
       "      <th>892141</th>\n",
       "      <td>0.000009</td>\n",
       "      <td>-0.000055</td>\n",
       "      <td>0</td>\n",
       "    </tr>\n",
       "    <tr>\n",
       "      <th>...</th>\n",
       "      <td>...</td>\n",
       "      <td>...</td>\n",
       "      <td>...</td>\n",
       "    </tr>\n",
       "    <tr>\n",
       "      <th>119428</th>\n",
       "      <td>4.209480</td>\n",
       "      <td>-0.002199</td>\n",
       "      <td>1</td>\n",
       "    </tr>\n",
       "    <tr>\n",
       "      <th>272203</th>\n",
       "      <td>0.039305</td>\n",
       "      <td>-0.007461</td>\n",
       "      <td>1</td>\n",
       "    </tr>\n",
       "    <tr>\n",
       "      <th>1425706</th>\n",
       "      <td>0.039305</td>\n",
       "      <td>-0.000884</td>\n",
       "      <td>1</td>\n",
       "    </tr>\n",
       "    <tr>\n",
       "      <th>32487</th>\n",
       "      <td>0.039305</td>\n",
       "      <td>0.015229</td>\n",
       "      <td>1</td>\n",
       "    </tr>\n",
       "    <tr>\n",
       "      <th>1054488</th>\n",
       "      <td>4.212439</td>\n",
       "      <td>-0.023246</td>\n",
       "      <td>1</td>\n",
       "    </tr>\n",
       "  </tbody>\n",
       "</table>\n",
       "<p>1166052 rows × 3 columns</p>\n",
       "</div>"
      ],
      "text/plain": [
       "            speed  vibration  Fault\n",
       "1456698  0.000009  -0.000575      0\n",
       "1704724  0.000009  -0.000022      0\n",
       "850351   0.000990   0.000465      0\n",
       "1821345  0.001003   0.001083      0\n",
       "892141   0.000009  -0.000055      0\n",
       "...           ...        ...    ...\n",
       "119428   4.209480  -0.002199      1\n",
       "272203   0.039305  -0.007461      1\n",
       "1425706  0.039305  -0.000884      1\n",
       "32487    0.039305   0.015229      1\n",
       "1054488  4.212439  -0.023246      1\n",
       "\n",
       "[1166052 rows x 3 columns]"
      ]
     },
     "execution_count": 18,
     "metadata": {},
     "output_type": "execute_result"
    }
   ],
   "source": [
    "test = X_test.append(y_test)\n",
    "test"
   ]
  },
  {
   "cell_type": "code",
   "execution_count": 19,
   "metadata": {},
   "outputs": [],
   "source": [
    "from sklearn.preprocessing import MinMaxScaler\n",
    "scaler = MinMaxScaler()\n",
    "train = pd.DataFrame(scaler.fit_transform(train))\n",
    "train.sample(frac=1)\n",
    "\n",
    "test = pd.DataFrame(scaler.transform(test))"
   ]
  },
  {
   "cell_type": "code",
   "execution_count": 20,
   "metadata": {},
   "outputs": [
    {
     "data": {
      "text/plain": [
       "(2720785, 3)"
      ]
     },
     "execution_count": 20,
     "metadata": {},
     "output_type": "execute_result"
    }
   ],
   "source": [
    "train.shape"
   ]
  },
  {
   "cell_type": "code",
   "execution_count": 21,
   "metadata": {},
   "outputs": [
    {
     "data": {
      "text/plain": [
       "(1166052, 3)"
      ]
     },
     "execution_count": 21,
     "metadata": {},
     "output_type": "execute_result"
    }
   ],
   "source": [
    "test.shape"
   ]
  },
  {
   "cell_type": "code",
   "execution_count": 22,
   "metadata": {},
   "outputs": [],
   "source": [
    "train = train.values.reshape(-1, 1, 3)"
   ]
  },
  {
   "cell_type": "code",
   "execution_count": 23,
   "metadata": {},
   "outputs": [],
   "source": [
    "test  = test.values.reshape(-1, 1, 3)"
   ]
  },
  {
   "cell_type": "code",
   "execution_count": 24,
   "metadata": {},
   "outputs": [
    {
     "data": {
      "text/plain": [
       "(2720785, 1, 3)"
      ]
     },
     "execution_count": 24,
     "metadata": {},
     "output_type": "execute_result"
    }
   ],
   "source": [
    "#pip install keras\n",
    "train.shape"
   ]
  },
  {
   "cell_type": "code",
   "execution_count": 25,
   "metadata": {},
   "outputs": [
    {
     "data": {
      "text/plain": [
       "(1166052, 1, 3)"
      ]
     },
     "execution_count": 25,
     "metadata": {},
     "output_type": "execute_result"
    }
   ],
   "source": [
    "test.shape"
   ]
  },
  {
   "cell_type": "code",
   "execution_count": 26,
   "metadata": {},
   "outputs": [],
   "source": [
    "from keras.layers import Input, Dropout, Dense, LSTM, RepeatVector, TimeDistributed\n",
    "from keras.models import Model, Sequential, load_model\n",
    "from keras import regularizers"
   ]
  },
  {
   "cell_type": "code",
   "execution_count": 27,
   "metadata": {},
   "outputs": [
    {
     "data": {
      "text/plain": [
       "\" # Input layer:\\nmodel=Sequential([\\n    LSTM(32, activation='relu', input_shape=(train.shape[1],train.shape[2])),\\n    Dropout(0.2),\\n    RepeatVector(train.shape[1]),\\n    LSTM(32, activation='relu', return_sequences=True),\\n    Dropout(0.2),\\n    TimeDistributed(Dense(train.shape[2]))\\n])\\n\\nmodel.compile(loss='mse',optimizer='adam', metrics=['accuracy'])\\nmodel.summary()\""
      ]
     },
     "execution_count": 27,
     "metadata": {},
     "output_type": "execute_result"
    }
   ],
   "source": [
    "\"\"\" # Input layer:\n",
    "model=Sequential([\n",
    "    LSTM(32, activation='relu', input_shape=(train.shape[1],train.shape[2])),\n",
    "    Dropout(0.2),\n",
    "    RepeatVector(train.shape[1]),\n",
    "    LSTM(32, activation='relu', return_sequences=True),\n",
    "    Dropout(0.2),\n",
    "    TimeDistributed(Dense(train.shape[2]))\n",
    "])\n",
    "\n",
    "model.compile(loss='mse',optimizer='adam', metrics=['accuracy'])\n",
    "model.summary()\"\"\""
   ]
  },
  {
   "cell_type": "code",
   "execution_count": 28,
   "metadata": {},
   "outputs": [
    {
     "name": "stdout",
     "output_type": "stream",
     "text": [
      "Model: \"sequential\"\n",
      "_________________________________________________________________\n",
      "Layer (type)                 Output Shape              Param #   \n",
      "=================================================================\n",
      "lstm (LSTM)                  (None, 10)                560       \n",
      "_________________________________________________________________\n",
      "dropout (Dropout)            (None, 10)                0         \n",
      "_________________________________________________________________\n",
      "repeat_vector (RepeatVector) (None, 1, 10)             0         \n",
      "_________________________________________________________________\n",
      "lstm_1 (LSTM)                (None, 1, 10)             840       \n",
      "_________________________________________________________________\n",
      "dropout_1 (Dropout)          (None, 1, 10)             0         \n",
      "_________________________________________________________________\n",
      "time_distributed (TimeDistri (None, 1, 3)              33        \n",
      "=================================================================\n",
      "Total params: 1,433\n",
      "Trainable params: 1,433\n",
      "Non-trainable params: 0\n",
      "_________________________________________________________________\n"
     ]
    }
   ],
   "source": [
    "# Input layer:\n",
    "model=Sequential([\n",
    "    LSTM(10, activation='relu', input_shape=(train.shape[1],train.shape[2]),use_bias = True , bias_initializer = 'zeros'),\n",
    "    Dropout(0.2),\n",
    "    RepeatVector(train.shape[1]),\n",
    "    LSTM(10, activation='relu', return_sequences=True),\n",
    "    Dropout(0.2),\n",
    "    TimeDistributed(Dense(train.shape[2]))\n",
    "])\n",
    "\n",
    "model.compile(loss='mse',optimizer='adam', metrics=['accuracy'])\n",
    "model.summary()"
   ]
  },
  {
   "cell_type": "code",
   "execution_count": 29,
   "metadata": {
    "scrolled": true
   },
   "outputs": [
    {
     "name": "stdout",
     "output_type": "stream",
     "text": [
      "Epoch 1/100\n",
      "2449/2449 [==============================] - 6s 2ms/step - loss: 0.0313 - accuracy: 0.9051 - val_loss: 0.0085 - val_accuracy: 0.9995\n",
      "Epoch 2/100\n",
      "2449/2449 [==============================] - 5s 2ms/step - loss: 0.0108 - accuracy: 0.9246 - val_loss: 0.0024 - val_accuracy: 0.9995\n",
      "Epoch 3/100\n",
      "2449/2449 [==============================] - 5s 2ms/step - loss: 0.0095 - accuracy: 0.9291 - val_loss: 0.0014 - val_accuracy: 0.9995\n",
      "Epoch 4/100\n",
      "2449/2449 [==============================] - 5s 2ms/step - loss: 0.0093 - accuracy: 0.9292 - val_loss: 0.0012 - val_accuracy: 0.9995\n",
      "Epoch 5/100\n",
      "2449/2449 [==============================] - 5s 2ms/step - loss: 0.0093 - accuracy: 0.9304 - val_loss: 0.0013 - val_accuracy: 0.9995\n",
      "Epoch 6/100\n",
      "2449/2449 [==============================] - 6s 2ms/step - loss: 0.0092 - accuracy: 0.9312 - val_loss: 0.0013 - val_accuracy: 0.9995\n",
      "Epoch 7/100\n",
      "2449/2449 [==============================] - 6s 2ms/step - loss: 0.0091 - accuracy: 0.9318 - val_loss: 0.0013 - val_accuracy: 0.9995\n",
      "Epoch 8/100\n",
      "2449/2449 [==============================] - 6s 2ms/step - loss: 0.0091 - accuracy: 0.9319 - val_loss: 0.0022 - val_accuracy: 0.9995\n",
      "Epoch 9/100\n",
      "2449/2449 [==============================] - 6s 2ms/step - loss: 0.0090 - accuracy: 0.9306 - val_loss: 0.0030 - val_accuracy: 0.9995\n",
      "Epoch 10/100\n",
      "2449/2449 [==============================] - 5s 2ms/step - loss: 0.0090 - accuracy: 0.9307 - val_loss: 0.0042 - val_accuracy: 0.9995\n",
      "Epoch 11/100\n",
      "2449/2449 [==============================] - 6s 2ms/step - loss: 0.0089 - accuracy: 0.9306 - val_loss: 0.0047 - val_accuracy: 0.9995\n",
      "Epoch 12/100\n",
      "2449/2449 [==============================] - 6s 2ms/step - loss: 0.0089 - accuracy: 0.9306 - val_loss: 0.0065 - val_accuracy: 0.9995\n",
      "Epoch 13/100\n",
      "2449/2449 [==============================] - 6s 2ms/step - loss: 0.0089 - accuracy: 0.9303 - val_loss: 0.0059 - val_accuracy: 0.9995\n",
      "Epoch 14/100\n",
      "2449/2449 [==============================] - 6s 2ms/step - loss: 0.0089 - accuracy: 0.9298 - val_loss: 0.0060 - val_accuracy: 0.9995\n",
      "Epoch 15/100\n",
      "2449/2449 [==============================] - 5s 2ms/step - loss: 0.0088 - accuracy: 0.9300 - val_loss: 0.0053 - val_accuracy: 0.9995\n",
      "Epoch 16/100\n",
      "2449/2449 [==============================] - 5s 2ms/step - loss: 0.0088 - accuracy: 0.9308 - val_loss: 0.0065 - val_accuracy: 0.9995\n",
      "Epoch 17/100\n",
      "2449/2449 [==============================] - 6s 2ms/step - loss: 0.0088 - accuracy: 0.9311 - val_loss: 0.0053 - val_accuracy: 0.9995\n",
      "Epoch 18/100\n",
      "2449/2449 [==============================] - 6s 2ms/step - loss: 0.0088 - accuracy: 0.9313 - val_loss: 0.0083 - val_accuracy: 0.9995\n",
      "Epoch 19/100\n",
      "2449/2449 [==============================] - 5s 2ms/step - loss: 0.0088 - accuracy: 0.9313 - val_loss: 0.0080 - val_accuracy: 0.9995\n",
      "Epoch 20/100\n",
      "2449/2449 [==============================] - 5s 2ms/step - loss: 0.0088 - accuracy: 0.9318 - val_loss: 0.0079 - val_accuracy: 0.9995\n",
      "Epoch 21/100\n",
      "2449/2449 [==============================] - 6s 2ms/step - loss: 0.0088 - accuracy: 0.9317 - val_loss: 0.0087 - val_accuracy: 0.9995\n",
      "Epoch 22/100\n",
      "2449/2449 [==============================] - 5s 2ms/step - loss: 0.0088 - accuracy: 0.9320 - val_loss: 0.0074 - val_accuracy: 0.9995\n",
      "Epoch 23/100\n",
      "2449/2449 [==============================] - 5s 2ms/step - loss: 0.0087 - accuracy: 0.9323 - val_loss: 0.0081 - val_accuracy: 0.9995\n",
      "Epoch 24/100\n",
      "2449/2449 [==============================] - 5s 2ms/step - loss: 0.0088 - accuracy: 0.9323 - val_loss: 0.0082 - val_accuracy: 0.9995\n",
      "Epoch 25/100\n",
      "2449/2449 [==============================] - 6s 2ms/step - loss: 0.0087 - accuracy: 0.9328 - val_loss: 0.0080 - val_accuracy: 0.9995\n",
      "Epoch 26/100\n",
      "2449/2449 [==============================] - 6s 2ms/step - loss: 0.0087 - accuracy: 0.9328 - val_loss: 0.0092 - val_accuracy: 0.9995\n",
      "Epoch 27/100\n",
      "2449/2449 [==============================] - 5s 2ms/step - loss: 0.0087 - accuracy: 0.9331 - val_loss: 0.0113 - val_accuracy: 0.9995\n",
      "Epoch 28/100\n",
      "2449/2449 [==============================] - 5s 2ms/step - loss: 0.0087 - accuracy: 0.9328 - val_loss: 0.0079 - val_accuracy: 0.9995\n",
      "Epoch 29/100\n",
      "2449/2449 [==============================] - 5s 2ms/step - loss: 0.0087 - accuracy: 0.9330 - val_loss: 0.0108 - val_accuracy: 0.9995\n",
      "Epoch 30/100\n",
      "2449/2449 [==============================] - 5s 2ms/step - loss: 0.0087 - accuracy: 0.9330 - val_loss: 0.0088 - val_accuracy: 0.9995\n",
      "Epoch 31/100\n",
      "2449/2449 [==============================] - 5s 2ms/step - loss: 0.0087 - accuracy: 0.9326 - val_loss: 0.0085 - val_accuracy: 0.9995\n",
      "Epoch 32/100\n",
      "2449/2449 [==============================] - 5s 2ms/step - loss: 0.0087 - accuracy: 0.9327 - val_loss: 0.0101 - val_accuracy: 0.9995\n",
      "Epoch 33/100\n",
      "2449/2449 [==============================] - 5s 2ms/step - loss: 0.0087 - accuracy: 0.9328 - val_loss: 0.0107 - val_accuracy: 0.9995\n",
      "Epoch 34/100\n",
      "2449/2449 [==============================] - 5s 2ms/step - loss: 0.0087 - accuracy: 0.9332 - val_loss: 0.0122 - val_accuracy: 0.9995\n",
      "Epoch 35/100\n",
      "2449/2449 [==============================] - 5s 2ms/step - loss: 0.0087 - accuracy: 0.9330 - val_loss: 0.0099 - val_accuracy: 0.9995\n",
      "Epoch 36/100\n",
      "2449/2449 [==============================] - 5s 2ms/step - loss: 0.0087 - accuracy: 0.9333 - val_loss: 0.0115 - val_accuracy: 0.9995\n",
      "Epoch 37/100\n",
      "2449/2449 [==============================] - 5s 2ms/step - loss: 0.0087 - accuracy: 0.9332 - val_loss: 0.0106 - val_accuracy: 0.9995\n",
      "Epoch 38/100\n",
      "2449/2449 [==============================] - 5s 2ms/step - loss: 0.0087 - accuracy: 0.9329 - val_loss: 0.0104 - val_accuracy: 0.9995\n",
      "Epoch 39/100\n",
      "2449/2449 [==============================] - 5s 2ms/step - loss: 0.0087 - accuracy: 0.9333 - val_loss: 0.0107 - val_accuracy: 0.9995\n",
      "Epoch 40/100\n",
      "2449/2449 [==============================] - 7s 3ms/step - loss: 0.0087 - accuracy: 0.9333 - val_loss: 0.0109 - val_accuracy: 0.9995\n",
      "Epoch 41/100\n",
      "2449/2449 [==============================] - 7s 3ms/step - loss: 0.0087 - accuracy: 0.9332 - val_loss: 0.0123 - val_accuracy: 0.9995\n",
      "Epoch 42/100\n",
      "2449/2449 [==============================] - 5s 2ms/step - loss: 0.0087 - accuracy: 0.9332 - val_loss: 0.0120 - val_accuracy: 0.9995\n",
      "Epoch 43/100\n",
      "2449/2449 [==============================] - 5s 2ms/step - loss: 0.0087 - accuracy: 0.9332 - val_loss: 0.0095 - val_accuracy: 0.9995\n",
      "Epoch 44/100\n",
      "2449/2449 [==============================] - 5s 2ms/step - loss: 0.0087 - accuracy: 0.9334 - val_loss: 0.0127 - val_accuracy: 0.9995\n",
      "Epoch 45/100\n",
      "2449/2449 [==============================] - 5s 2ms/step - loss: 0.0087 - accuracy: 0.9333 - val_loss: 0.0102 - val_accuracy: 0.9995\n",
      "Epoch 46/100\n",
      "2449/2449 [==============================] - 5s 2ms/step - loss: 0.0086 - accuracy: 0.9333 - val_loss: 0.0108 - val_accuracy: 0.9995\n",
      "Epoch 47/100\n",
      "2449/2449 [==============================] - 5s 2ms/step - loss: 0.0086 - accuracy: 0.9334 - val_loss: 0.0123 - val_accuracy: 0.9995\n",
      "Epoch 48/100\n",
      "2449/2449 [==============================] - 5s 2ms/step - loss: 0.0087 - accuracy: 0.9334 - val_loss: 0.0094 - val_accuracy: 0.9995\n",
      "Epoch 49/100\n",
      "2449/2449 [==============================] - 5s 2ms/step - loss: 0.0087 - accuracy: 0.9334 - val_loss: 0.0126 - val_accuracy: 0.9995\n",
      "Epoch 50/100\n",
      "2449/2449 [==============================] - 5s 2ms/step - loss: 0.0086 - accuracy: 0.9335 - val_loss: 0.0124 - val_accuracy: 0.9995\n",
      "Epoch 51/100\n",
      "2449/2449 [==============================] - 5s 2ms/step - loss: 0.0086 - accuracy: 0.9335 - val_loss: 0.0114 - val_accuracy: 0.9995\n",
      "Epoch 52/100\n",
      "2449/2449 [==============================] - 5s 2ms/step - loss: 0.0086 - accuracy: 0.9335 - val_loss: 0.0114 - val_accuracy: 0.9995\n",
      "Epoch 53/100\n",
      "2449/2449 [==============================] - 5s 2ms/step - loss: 0.0086 - accuracy: 0.9336 - val_loss: 0.0125 - val_accuracy: 0.9995\n",
      "Epoch 54/100\n",
      "2449/2449 [==============================] - 5s 2ms/step - loss: 0.0086 - accuracy: 0.9337 - val_loss: 0.0122 - val_accuracy: 0.9995\n",
      "Epoch 55/100\n",
      "2449/2449 [==============================] - 5s 2ms/step - loss: 0.0087 - accuracy: 0.9337 - val_loss: 0.0135 - val_accuracy: 0.9995\n",
      "Epoch 56/100\n",
      "2449/2449 [==============================] - 5s 2ms/step - loss: 0.0086 - accuracy: 0.9337 - val_loss: 0.0112 - val_accuracy: 0.9995\n",
      "Epoch 57/100\n",
      "2449/2449 [==============================] - 5s 2ms/step - loss: 0.0086 - accuracy: 0.9337 - val_loss: 0.0121 - val_accuracy: 0.9995\n",
      "Epoch 58/100\n",
      "2449/2449 [==============================] - 5s 2ms/step - loss: 0.0086 - accuracy: 0.9335 - val_loss: 0.0121 - val_accuracy: 0.9995\n",
      "Epoch 59/100\n",
      "2449/2449 [==============================] - 5s 2ms/step - loss: 0.0086 - accuracy: 0.9337 - val_loss: 0.0112 - val_accuracy: 0.9995\n",
      "Epoch 60/100\n",
      "2449/2449 [==============================] - 5s 2ms/step - loss: 0.0086 - accuracy: 0.9336 - val_loss: 0.0124 - val_accuracy: 0.9995\n",
      "Epoch 61/100\n",
      "2449/2449 [==============================] - 5s 2ms/step - loss: 0.0087 - accuracy: 0.9338 - val_loss: 0.0108 - val_accuracy: 0.9995\n",
      "Epoch 62/100\n",
      "2449/2449 [==============================] - 5s 2ms/step - loss: 0.0086 - accuracy: 0.9337 - val_loss: 0.0109 - val_accuracy: 0.9995\n",
      "Epoch 63/100\n",
      "2449/2449 [==============================] - 5s 2ms/step - loss: 0.0086 - accuracy: 0.9337 - val_loss: 0.0127 - val_accuracy: 0.9995\n",
      "Epoch 64/100\n",
      "2449/2449 [==============================] - 5s 2ms/step - loss: 0.0086 - accuracy: 0.9338 - val_loss: 0.0115 - val_accuracy: 0.9995\n",
      "Epoch 65/100\n",
      "2449/2449 [==============================] - 5s 2ms/step - loss: 0.0087 - accuracy: 0.9342 - val_loss: 0.0130 - val_accuracy: 0.9995\n",
      "Epoch 66/100\n",
      "2449/2449 [==============================] - 5s 2ms/step - loss: 0.0086 - accuracy: 0.9344 - val_loss: 0.0130 - val_accuracy: 0.9995\n",
      "Epoch 67/100\n",
      "2449/2449 [==============================] - 5s 2ms/step - loss: 0.0087 - accuracy: 0.9342 - val_loss: 0.0114 - val_accuracy: 0.9995\n",
      "Epoch 68/100\n",
      "2449/2449 [==============================] - 5s 2ms/step - loss: 0.0086 - accuracy: 0.9342 - val_loss: 0.0121 - val_accuracy: 0.9995\n",
      "Epoch 69/100\n",
      "2449/2449 [==============================] - 5s 2ms/step - loss: 0.0086 - accuracy: 0.9342 - val_loss: 0.0135 - val_accuracy: 0.9995\n",
      "Epoch 70/100\n",
      "2449/2449 [==============================] - 5s 2ms/step - loss: 0.0086 - accuracy: 0.9341 - val_loss: 0.0130 - val_accuracy: 0.9995\n",
      "Epoch 71/100\n",
      "2449/2449 [==============================] - 5s 2ms/step - loss: 0.0086 - accuracy: 0.9344 - val_loss: 0.0135 - val_accuracy: 0.9995\n",
      "Epoch 72/100\n",
      "2449/2449 [==============================] - 5s 2ms/step - loss: 0.0086 - accuracy: 0.9343 - val_loss: 0.0124 - val_accuracy: 0.9995\n",
      "Epoch 73/100\n",
      "2449/2449 [==============================] - 5s 2ms/step - loss: 0.0086 - accuracy: 0.9341 - val_loss: 0.0116 - val_accuracy: 0.9995\n",
      "Epoch 74/100\n",
      "2449/2449 [==============================] - 5s 2ms/step - loss: 0.0086 - accuracy: 0.9341 - val_loss: 0.0135 - val_accuracy: 0.9995\n",
      "Epoch 75/100\n",
      "2449/2449 [==============================] - 5s 2ms/step - loss: 0.0086 - accuracy: 0.9342 - val_loss: 0.0132 - val_accuracy: 0.9995\n",
      "Epoch 76/100\n",
      "2449/2449 [==============================] - 5s 2ms/step - loss: 0.0086 - accuracy: 0.9342 - val_loss: 0.0122 - val_accuracy: 0.9995\n",
      "Epoch 77/100\n",
      "2449/2449 [==============================] - 5s 2ms/step - loss: 0.0086 - accuracy: 0.9342 - val_loss: 0.0126 - val_accuracy: 0.9995\n",
      "Epoch 78/100\n",
      "2449/2449 [==============================] - 5s 2ms/step - loss: 0.0086 - accuracy: 0.9338 - val_loss: 0.0121 - val_accuracy: 0.9995\n",
      "Epoch 79/100\n",
      "2449/2449 [==============================] - 5s 2ms/step - loss: 0.0086 - accuracy: 0.9336 - val_loss: 0.0133 - val_accuracy: 0.9995\n",
      "Epoch 80/100\n",
      "2449/2449 [==============================] - 6s 2ms/step - loss: 0.0086 - accuracy: 0.9339 - val_loss: 0.0134 - val_accuracy: 0.9995\n",
      "Epoch 81/100\n",
      "2449/2449 [==============================] - 5s 2ms/step - loss: 0.0086 - accuracy: 0.9336 - val_loss: 0.0134 - val_accuracy: 0.9995\n",
      "Epoch 82/100\n",
      "2449/2449 [==============================] - 5s 2ms/step - loss: 0.0086 - accuracy: 0.9337 - val_loss: 0.0146 - val_accuracy: 0.9995\n",
      "Epoch 83/100\n",
      "2449/2449 [==============================] - 5s 2ms/step - loss: 0.0086 - accuracy: 0.9341 - val_loss: 0.0146 - val_accuracy: 0.9995\n",
      "Epoch 84/100\n",
      "2449/2449 [==============================] - 5s 2ms/step - loss: 0.0086 - accuracy: 0.9343 - val_loss: 0.0124 - val_accuracy: 0.9995\n",
      "Epoch 85/100\n",
      "2449/2449 [==============================] - 6s 2ms/step - loss: 0.0086 - accuracy: 0.9342 - val_loss: 0.0150 - val_accuracy: 0.9995\n",
      "Epoch 86/100\n",
      "2449/2449 [==============================] - 6s 2ms/step - loss: 0.0086 - accuracy: 0.9341 - val_loss: 0.0132 - val_accuracy: 0.9995\n",
      "Epoch 87/100\n",
      "2449/2449 [==============================] - 5s 2ms/step - loss: 0.0086 - accuracy: 0.9341 - val_loss: 0.0127 - val_accuracy: 0.9995\n",
      "Epoch 88/100\n",
      "2449/2449 [==============================] - 5s 2ms/step - loss: 0.0086 - accuracy: 0.9338 - val_loss: 0.0136 - val_accuracy: 0.9995\n",
      "Epoch 89/100\n",
      "2449/2449 [==============================] - 5s 2ms/step - loss: 0.0086 - accuracy: 0.9342 - val_loss: 0.0145 - val_accuracy: 0.9995\n",
      "Epoch 90/100\n",
      "2449/2449 [==============================] - 5s 2ms/step - loss: 0.0086 - accuracy: 0.9341 - val_loss: 0.0133 - val_accuracy: 0.9995\n",
      "Epoch 91/100\n",
      "2449/2449 [==============================] - 6s 2ms/step - loss: 0.0086 - accuracy: 0.9343 - val_loss: 0.0136 - val_accuracy: 0.9995\n",
      "Epoch 92/100\n",
      "2449/2449 [==============================] - 5s 2ms/step - loss: 0.0086 - accuracy: 0.9342 - val_loss: 0.0158 - val_accuracy: 0.9995\n",
      "Epoch 93/100\n",
      "2449/2449 [==============================] - 5s 2ms/step - loss: 0.0086 - accuracy: 0.9342 - val_loss: 0.0143 - val_accuracy: 0.9995\n",
      "Epoch 94/100\n",
      "2449/2449 [==============================] - 5s 2ms/step - loss: 0.0086 - accuracy: 0.9341 - val_loss: 0.0138 - val_accuracy: 0.9995\n",
      "Epoch 95/100\n",
      "2449/2449 [==============================] - 5s 2ms/step - loss: 0.0086 - accuracy: 0.9345 - val_loss: 0.0139 - val_accuracy: 0.9995\n",
      "Epoch 96/100\n",
      "2449/2449 [==============================] - 5s 2ms/step - loss: 0.0086 - accuracy: 0.9344 - val_loss: 0.0163 - val_accuracy: 0.9995\n",
      "Epoch 97/100\n",
      "2449/2449 [==============================] - 6s 2ms/step - loss: 0.0086 - accuracy: 0.9344 - val_loss: 0.0151 - val_accuracy: 0.9995\n",
      "Epoch 98/100\n",
      "2449/2449 [==============================] - 6s 2ms/step - loss: 0.0086 - accuracy: 0.9347 - val_loss: 0.0157 - val_accuracy: 0.9995\n",
      "Epoch 99/100\n",
      "2449/2449 [==============================] - 6s 2ms/step - loss: 0.0086 - accuracy: 0.9347 - val_loss: 0.0154 - val_accuracy: 0.9995\n",
      "Epoch 100/100\n",
      "2449/2449 [==============================] - 5s 2ms/step - loss: 0.0086 - accuracy: 0.9348 - val_loss: 0.0135 - val_accuracy: 0.9995\n"
     ]
    }
   ],
   "source": [
    "# Train model for 100 epochs, batch size of 1000: \n",
    "NUM_EPOCHS=50\n",
    "BATCH_SIZE=1000\n",
    "\n",
    "history=model.fit(train,train, \n",
    "                  batch_size=BATCH_SIZE, \n",
    "                  epochs=NUM_EPOCHS,\n",
    "                  validation_split=0.1,\n",
    "                  shuffle=True)"
   ]
  },
  {
   "cell_type": "code",
   "execution_count": 30,
   "metadata": {},
   "outputs": [
    {
     "data": {
      "image/png": "[encoded data removed]",
      "text/plain": [
       "<Figure size 432x288 with 1 Axes>"
      ]
     },
     "metadata": {
      "needs_background": "light"
     },
     "output_type": "display_data"
    }
   ],
   "source": [
    "import matplotlib.pyplot as plt\n",
    "\n",
    "plt.plot(history.history['loss'], label='Training loss')\n",
    "plt.plot(history.history['val_loss'], label='Validation loss')\n",
    "plt.legend(loc='upper right')\n",
    "plt.xlabel('Epochs')\n",
    "plt.ylabel('Loss [mse]')\n",
    "plt.show()"
   ]
  },
  {
   "cell_type": "code",
   "execution_count": 31,
   "metadata": {},
   "outputs": [],
   "source": [
    "pred_train = model.predict(train)"
   ]
  },
  {
   "cell_type": "code",
   "execution_count": 32,
   "metadata": {},
   "outputs": [],
   "source": [
    "pred_train = pred_train.reshape(pred_train.shape[0],pred_train.shape[2])\n",
    "train = train.reshape(train.shape[0],train.shape[2])"
   ]
  },
  {
   "cell_type": "code",
   "execution_count": 33,
   "metadata": {},
   "outputs": [
    {
     "name": "stderr",
     "output_type": "stream",
     "text": [
      "C:\\Users\\bahma\\.conda\\envs\\svm\\lib\\site-packages\\seaborn\\distributions.py:2557: FutureWarning: `distplot` is a deprecated function and will be removed in a future version. Please adapt your code to use either `displot` (a figure-level function with similar flexibility) or `histplot` (an axes-level function for histograms).\n",
      "  warnings.warn(msg, FutureWarning)\n"
     ]
    },
    {
     "data": {
      "image/png": "[encoded data removed]",
      "text/plain": [
       "<Figure size 432x288 with 1 Axes>"
      ]
     },
     "metadata": {
      "needs_background": "light"
     },
     "output_type": "display_data"
    }
   ],
   "source": [
    "import seaborn as sns\n",
    "\n",
    "scored = np.mean(np.abs(pred_train-train), axis = 1)\n",
    "plt.figure()\n",
    "g = sns.distplot(scored, bins = 50, kde= True, color = 'blue');\n",
    "plt.title('Loss Distribution')\n",
    "plt.xlabel('Loss (MAE)')\n",
    "plt.show()"
   ]
  },
  {
   "cell_type": "code",
   "execution_count": 34,
   "metadata": {},
   "outputs": [],
   "source": [
    "TH = 0.1\n",
    "pred_train = pd.DataFrame(pred_train)\n",
    "scored_train = pd.DataFrame()\n",
    "scored_train['Loss_mae'] = np.mean(np.abs(pred_train-train), axis = 1)\n",
    "scored_train['Threshold'] = TH\n",
    "scored_train['Anomaly'] = scored_train['Loss_mae'] > scored_train['Threshold']"
   ]
  },
  {
   "cell_type": "code",
   "execution_count": 35,
   "metadata": {},
   "outputs": [
    {
     "data": {
      "text/plain": [
       "0.04783799553798772"
      ]
     },
     "execution_count": 35,
     "metadata": {},
     "output_type": "execute_result"
    }
   ],
   "source": [
    "scored_train['Loss_mae'].mean()"
   ]
  },
  {
   "cell_type": "code",
   "execution_count": 36,
   "metadata": {},
   "outputs": [
    {
     "data": {
      "text/plain": [
       "Text(0, 0.5, 'Loss (MAE)')"
      ]
     },
     "execution_count": 36,
     "metadata": {},
     "output_type": "execute_result"
    },
    {
     "data": {
      "image/png": "[encoded data removed]",
      "text/plain": [
       "<Figure size 1152x288 with 1 Axes>"
      ]
     },
     "metadata": {
      "needs_background": "light"
     },
     "output_type": "display_data"
    }
   ],
   "source": [
    "scored_train.plot(logy=True,  figsize = (16,4), xlim =[0,len(scored_train)])\n",
    "plt.xlabel('Data points')\n",
    "plt.ylabel('Loss (MAE)')"
   ]
  },
  {
   "cell_type": "code",
   "execution_count": 37,
   "metadata": {},
   "outputs": [
    {
     "data": {
      "text/html": [
       "<div>\n",
       "<style scoped>\n",
       "    .dataframe tbody tr th:only-of-type {\n",
       "        vertical-align: middle;\n",
       "    }\n",
       "\n",
       "    .dataframe tbody tr th {\n",
       "        vertical-align: top;\n",
       "    }\n",
       "\n",
       "    .dataframe thead th {\n",
       "        text-align: right;\n",
       "    }\n",
       "</style>\n",
       "<table border=\"1\" class=\"dataframe\">\n",
       "  <thead>\n",
       "    <tr style=\"text-align: right;\">\n",
       "      <th></th>\n",
       "      <th>Loss_mae</th>\n",
       "      <th>Threshold</th>\n",
       "      <th>Anomaly</th>\n",
       "    </tr>\n",
       "  </thead>\n",
       "  <tbody>\n",
       "    <tr>\n",
       "      <th>0</th>\n",
       "      <td>0.011978</td>\n",
       "      <td>0.1</td>\n",
       "      <td>False</td>\n",
       "    </tr>\n",
       "    <tr>\n",
       "      <th>1</th>\n",
       "      <td>0.011844</td>\n",
       "      <td>0.1</td>\n",
       "      <td>False</td>\n",
       "    </tr>\n",
       "    <tr>\n",
       "      <th>2</th>\n",
       "      <td>0.011871</td>\n",
       "      <td>0.1</td>\n",
       "      <td>False</td>\n",
       "    </tr>\n",
       "    <tr>\n",
       "      <th>3</th>\n",
       "      <td>0.011879</td>\n",
       "      <td>0.1</td>\n",
       "      <td>False</td>\n",
       "    </tr>\n",
       "    <tr>\n",
       "      <th>4</th>\n",
       "      <td>0.011894</td>\n",
       "      <td>0.1</td>\n",
       "      <td>False</td>\n",
       "    </tr>\n",
       "    <tr>\n",
       "      <th>...</th>\n",
       "      <td>...</td>\n",
       "      <td>...</td>\n",
       "      <td>...</td>\n",
       "    </tr>\n",
       "    <tr>\n",
       "      <th>2720780</th>\n",
       "      <td>0.103734</td>\n",
       "      <td>0.1</td>\n",
       "      <td>True</td>\n",
       "    </tr>\n",
       "    <tr>\n",
       "      <th>2720781</th>\n",
       "      <td>0.067269</td>\n",
       "      <td>0.1</td>\n",
       "      <td>False</td>\n",
       "    </tr>\n",
       "    <tr>\n",
       "      <th>2720782</th>\n",
       "      <td>0.067820</td>\n",
       "      <td>0.1</td>\n",
       "      <td>False</td>\n",
       "    </tr>\n",
       "    <tr>\n",
       "      <th>2720783</th>\n",
       "      <td>0.062876</td>\n",
       "      <td>0.1</td>\n",
       "      <td>False</td>\n",
       "    </tr>\n",
       "    <tr>\n",
       "      <th>2720784</th>\n",
       "      <td>0.064703</td>\n",
       "      <td>0.1</td>\n",
       "      <td>False</td>\n",
       "    </tr>\n",
       "  </tbody>\n",
       "</table>\n",
       "<p>2720785 rows × 3 columns</p>\n",
       "</div>"
      ],
      "text/plain": [
       "         Loss_mae  Threshold  Anomaly\n",
       "0        0.011978        0.1    False\n",
       "1        0.011844        0.1    False\n",
       "2        0.011871        0.1    False\n",
       "3        0.011879        0.1    False\n",
       "4        0.011894        0.1    False\n",
       "...           ...        ...      ...\n",
       "2720780  0.103734        0.1     True\n",
       "2720781  0.067269        0.1    False\n",
       "2720782  0.067820        0.1    False\n",
       "2720783  0.062876        0.1    False\n",
       "2720784  0.064703        0.1    False\n",
       "\n",
       "[2720785 rows x 3 columns]"
      ]
     },
     "execution_count": 37,
     "metadata": {},
     "output_type": "execute_result"
    }
   ],
   "source": [
    "scored_train"
   ]
  },
  {
   "cell_type": "code",
   "execution_count": 38,
   "metadata": {},
   "outputs": [
    {
     "name": "stdout",
     "output_type": "stream",
     "text": [
      "         Loss_mae  Threshold  Anomaly\n",
      "1398362  0.104312        0.1     True\n",
      "1398367  0.104816        0.1     True\n",
      "1398368  0.110320        0.1     True\n",
      "1398372  0.103298        0.1     True\n",
      "1398373  0.105793        0.1     True\n",
      "...           ...        ...      ...\n",
      "2720765  0.117288        0.1     True\n",
      "2720767  0.103666        0.1     True\n",
      "2720770  0.101955        0.1     True\n",
      "2720773  0.103496        0.1     True\n",
      "2720780  0.103734        0.1     True\n",
      "\n",
      "[605320 rows x 3 columns]\n",
      "(605320, 3)\n"
     ]
    }
   ],
   "source": [
    "anomalies = scored_train[scored_train['Anomaly'] == True]\n",
    "print(anomalies)\n",
    "print(anomalies.shape)"
   ]
  },
  {
   "cell_type": "code",
   "execution_count": 39,
   "metadata": {},
   "outputs": [
    {
     "data": {
      "image/png": "[encoded data removed]",
      "text/plain": [
       "<Figure size 1152x288 with 1 Axes>"
      ]
     },
     "metadata": {
      "needs_background": "light"
     },
     "output_type": "display_data"
    }
   ],
   "source": [
    "f, (ax1) = plt.subplots(figsize=(16, 4))\n",
    "ax1.plot(scored_train.index, scored_train.Loss_mae, label='Loss(MAE)');\n",
    "ax1.plot(scored_train.index, scored_train.Threshold, label='Threshold')\n",
    "g = sns.scatterplot(x=anomalies.index , y=anomalies.Loss_mae, label='anomaly', color='red')\n",
    "g.set(xlim = (0, len(scored_train.index)))\n",
    "plt.title('Anomalies')\n",
    "plt.xlabel('Data points')\n",
    "plt.ylabel('Loss (MAE)')\n",
    "plt.legend();"
   ]
  },
  {
   "cell_type": "code",
   "execution_count": 40,
   "metadata": {},
   "outputs": [],
   "source": [
    "pred_test = model.predict(test)"
   ]
  },
  {
   "cell_type": "code",
   "execution_count": 41,
   "metadata": {},
   "outputs": [
    {
     "name": "stdout",
     "output_type": "stream",
     "text": [
      "36440/36440 [==============================] - 19s 514us/step - loss: 0.0067 - accuracy: 0.9998\n"
     ]
    },
    {
     "data": {
      "text/plain": [
       "[0.006703349761664867, 0.9997598528862]"
      ]
     },
     "execution_count": 41,
     "metadata": {},
     "output_type": "execute_result"
    }
   ],
   "source": [
    "score = model.evaluate(test,test)\n",
    "score"
   ]
  },
  {
   "cell_type": "code",
   "execution_count": 42,
   "metadata": {},
   "outputs": [],
   "source": [
    "pred_test = pred_test.reshape(pred_test.shape[0],pred_test.shape[2])\n",
    "test = test.reshape(test.shape[0],test.shape[2])"
   ]
  },
  {
   "cell_type": "code",
   "execution_count": 43,
   "metadata": {},
   "outputs": [
    {
     "name": "stderr",
     "output_type": "stream",
     "text": [
      "C:\\Users\\bahma\\.conda\\envs\\svm\\lib\\site-packages\\seaborn\\distributions.py:2557: FutureWarning: `distplot` is a deprecated function and will be removed in a future version. Please adapt your code to use either `displot` (a figure-level function with similar flexibility) or `histplot` (an axes-level function for histograms).\n",
      "  warnings.warn(msg, FutureWarning)\n"
     ]
    },
    {
     "data": {
      "image/png": "[encoded data removed]",
      "text/plain": [
       "<Figure size 432x288 with 1 Axes>"
      ]
     },
     "metadata": {
      "needs_background": "light"
     },
     "output_type": "display_data"
    }
   ],
   "source": [
    "import seaborn as sns\n",
    "\n",
    "scored_test = np.mean(np.abs(pred_test-test), axis = 1)\n",
    "plt.figure()\n",
    "g = sns.distplot(scored_test, bins = 10, kde= True);\n",
    "plt.title('Loss Distribution')\n",
    "plt.xlabel('Loss (MAE)')\n",
    "plt.show()"
   ]
  },
  {
   "cell_type": "code",
   "execution_count": 44,
   "metadata": {},
   "outputs": [
    {
     "data": {
      "text/html": [
       "<div>\n",
       "<style scoped>\n",
       "    .dataframe tbody tr th:only-of-type {\n",
       "        vertical-align: middle;\n",
       "    }\n",
       "\n",
       "    .dataframe tbody tr th {\n",
       "        vertical-align: top;\n",
       "    }\n",
       "\n",
       "    .dataframe thead th {\n",
       "        text-align: right;\n",
       "    }\n",
       "</style>\n",
       "<table border=\"1\" class=\"dataframe\">\n",
       "  <thead>\n",
       "    <tr style=\"text-align: right;\">\n",
       "      <th></th>\n",
       "      <th>Loss_mae</th>\n",
       "      <th>Threshold</th>\n",
       "      <th>Anomaly</th>\n",
       "    </tr>\n",
       "  </thead>\n",
       "  <tbody>\n",
       "    <tr>\n",
       "      <th>0</th>\n",
       "      <td>0.012030</td>\n",
       "      <td>0.1</td>\n",
       "      <td>False</td>\n",
       "    </tr>\n",
       "    <tr>\n",
       "      <th>1</th>\n",
       "      <td>0.011876</td>\n",
       "      <td>0.1</td>\n",
       "      <td>False</td>\n",
       "    </tr>\n",
       "    <tr>\n",
       "      <th>2</th>\n",
       "      <td>0.011776</td>\n",
       "      <td>0.1</td>\n",
       "      <td>False</td>\n",
       "    </tr>\n",
       "    <tr>\n",
       "      <th>3</th>\n",
       "      <td>0.011947</td>\n",
       "      <td>0.1</td>\n",
       "      <td>False</td>\n",
       "    </tr>\n",
       "    <tr>\n",
       "      <th>4</th>\n",
       "      <td>0.011885</td>\n",
       "      <td>0.1</td>\n",
       "      <td>False</td>\n",
       "    </tr>\n",
       "    <tr>\n",
       "      <th>...</th>\n",
       "      <td>...</td>\n",
       "      <td>...</td>\n",
       "      <td>...</td>\n",
       "    </tr>\n",
       "    <tr>\n",
       "      <th>1166047</th>\n",
       "      <td>0.104620</td>\n",
       "      <td>0.1</td>\n",
       "      <td>True</td>\n",
       "    </tr>\n",
       "    <tr>\n",
       "      <th>1166048</th>\n",
       "      <td>0.064336</td>\n",
       "      <td>0.1</td>\n",
       "      <td>False</td>\n",
       "    </tr>\n",
       "    <tr>\n",
       "      <th>1166049</th>\n",
       "      <td>0.062511</td>\n",
       "      <td>0.1</td>\n",
       "      <td>False</td>\n",
       "    </tr>\n",
       "    <tr>\n",
       "      <th>1166050</th>\n",
       "      <td>0.064980</td>\n",
       "      <td>0.1</td>\n",
       "      <td>False</td>\n",
       "    </tr>\n",
       "    <tr>\n",
       "      <th>1166051</th>\n",
       "      <td>0.110341</td>\n",
       "      <td>0.1</td>\n",
       "      <td>True</td>\n",
       "    </tr>\n",
       "  </tbody>\n",
       "</table>\n",
       "<p>1166052 rows × 3 columns</p>\n",
       "</div>"
      ],
      "text/plain": [
       "         Loss_mae  Threshold  Anomaly\n",
       "0        0.012030        0.1    False\n",
       "1        0.011876        0.1    False\n",
       "2        0.011776        0.1    False\n",
       "3        0.011947        0.1    False\n",
       "4        0.011885        0.1    False\n",
       "...           ...        ...      ...\n",
       "1166047  0.104620        0.1     True\n",
       "1166048  0.064336        0.1    False\n",
       "1166049  0.062511        0.1    False\n",
       "1166050  0.064980        0.1    False\n",
       "1166051  0.110341        0.1     True\n",
       "\n",
       "[1166052 rows x 3 columns]"
      ]
     },
     "execution_count": 44,
     "metadata": {},
     "output_type": "execute_result"
    }
   ],
   "source": [
    "scored_test = pd.DataFrame()\n",
    "scored_test['Loss_mae'] = np.mean(np.abs(pred_test-test), axis = 1)\n",
    "scored_test['Threshold'] = TH\n",
    "scored_test['Anomaly'] = scored_test['Loss_mae'] > scored_test['Threshold']\n",
    "\n",
    "scored_test"
   ]
  },
  {
   "cell_type": "code",
   "execution_count": 45,
   "metadata": {},
   "outputs": [
    {
     "data": {
      "text/plain": [
       "0.047839588440621736"
      ]
     },
     "execution_count": 45,
     "metadata": {},
     "output_type": "execute_result"
    }
   ],
   "source": [
    "scored_test['Loss_mae'].mean()"
   ]
  },
  {
   "cell_type": "code",
   "execution_count": 46,
   "metadata": {},
   "outputs": [
    {
     "data": {
      "text/plain": [
       "Text(0, 0.5, 'Loss (MAE)')"
      ]
     },
     "execution_count": 46,
     "metadata": {},
     "output_type": "execute_result"
    },
    {
     "data": {
      "image/png": "[encoded data removed]",
      "text/plain": [
       "<Figure size 1152x288 with 1 Axes>"
      ]
     },
     "metadata": {
      "needs_background": "light"
     },
     "output_type": "display_data"
    }
   ],
   "source": [
    "scored_test.plot(logy=True,  figsize = (16,4), xlim =[0,len(scored_test)])\n",
    "plt.xlabel('Data points')\n",
    "plt.ylabel('Loss (MAE)')"
   ]
  },
  {
   "cell_type": "code",
   "execution_count": 47,
   "metadata": {},
   "outputs": [
    {
     "name": "stdout",
     "output_type": "stream",
     "text": [
      "         Loss_mae  Threshold  Anomaly\n",
      "599297   0.105243        0.1     True\n",
      "599301   0.106186        0.1     True\n",
      "599304   0.165941        0.1     True\n",
      "599305   0.103633        0.1     True\n",
      "599306   0.112429        0.1     True\n",
      "...           ...        ...      ...\n",
      "1166034  0.103492        0.1     True\n",
      "1166039  0.103224        0.1     True\n",
      "1166045  0.120197        0.1     True\n",
      "1166047  0.104620        0.1     True\n",
      "1166051  0.110341        0.1     True\n",
      "\n",
      "[259548 rows x 3 columns]\n",
      "(259548, 3)\n"
     ]
    }
   ],
   "source": [
    "IR_anomalies = scored_test[scored_test['Anomaly'] == True]\n",
    "print(IR_anomalies)\n",
    "print(IR_anomalies.shape)"
   ]
  },
  {
   "cell_type": "code",
   "execution_count": 48,
   "metadata": {},
   "outputs": [
    {
     "data": {
      "image/png": "[encoded data removed]",
      "text/plain": [
       "<Figure size 1296x432 with 1 Axes>"
      ]
     },
     "metadata": {
      "needs_background": "light"
     },
     "output_type": "display_data"
    }
   ],
   "source": [
    "f, (ax2) = plt.subplots(figsize=(18, 6))\n",
    "ax2.plot(scored_test.index, scored_test.Loss_mae, label='Loss(MAE)');\n",
    "ax2.plot(scored_test.index, scored_test.Threshold, label='Threshold')\n",
    "g = sns.scatterplot(x=IR_anomalies.index , y=IR_anomalies.Loss_mae, label='anomaly', color='red')\n",
    "g.set(xlim = (0, len(scored_test.index)))\n",
    "plt.title('Anomalies')\n",
    "plt.xlabel('Data points')\n",
    "plt.ylabel('Loss (MAE)')\n",
    "plt.legend();"
   ]
  },
  {
   "cell_type": "code",
   "execution_count": 49,
   "metadata": {},
   "outputs": [
    {
     "name": "stdout",
     "output_type": "stream",
     "text": [
      "0.9997598528862\n"
     ]
    }
   ],
   "source": [
    "print(score[1])"
   ]
  },
  {
   "cell_type": "code",
   "execution_count": 50,
   "metadata": {},
   "outputs": [
    {
     "name": "stdout",
     "output_type": "stream",
     "text": [
      "Accuracy: 99.98%\n"
     ]
    }
   ],
   "source": [
    "print(\"Accuracy: {:.2f}%\".format(score[1]*100))"
   ]
  },
  {
   "cell_type": "code",
   "execution_count": 51,
   "metadata": {},
   "outputs": [
    {
     "name": "stdout",
     "output_type": "stream",
     "text": [
      "Anomalies: 259548\n"
     ]
    }
   ],
   "source": [
    "print(\"Anomalies: {}\".format(IR_anomalies['Anomaly'].count()))"
   ]
  },
  {
   "cell_type": "code",
   "execution_count": 52,
   "metadata": {},
   "outputs": [],
   "source": [
    "# Seperating Normal and Faulty dataset\n",
    "x = scored_test['Anomaly'].count() / 2"
   ]
  },
  {
   "cell_type": "code",
   "execution_count": 53,
   "metadata": {},
   "outputs": [
    {
     "data": {
      "text/html": [
       "<div>\n",
       "<style scoped>\n",
       "    .dataframe tbody tr th:only-of-type {\n",
       "        vertical-align: middle;\n",
       "    }\n",
       "\n",
       "    .dataframe tbody tr th {\n",
       "        vertical-align: top;\n",
       "    }\n",
       "\n",
       "    .dataframe thead th {\n",
       "        text-align: right;\n",
       "    }\n",
       "</style>\n",
       "<table border=\"1\" class=\"dataframe\">\n",
       "  <thead>\n",
       "    <tr style=\"text-align: right;\">\n",
       "      <th></th>\n",
       "      <th>Loss_mae</th>\n",
       "      <th>Threshold</th>\n",
       "      <th>Anomaly</th>\n",
       "    </tr>\n",
       "  </thead>\n",
       "  <tbody>\n",
       "    <tr>\n",
       "      <th>0</th>\n",
       "      <td>0.012030</td>\n",
       "      <td>0.1</td>\n",
       "      <td>False</td>\n",
       "    </tr>\n",
       "    <tr>\n",
       "      <th>1</th>\n",
       "      <td>0.011876</td>\n",
       "      <td>0.1</td>\n",
       "      <td>False</td>\n",
       "    </tr>\n",
       "    <tr>\n",
       "      <th>2</th>\n",
       "      <td>0.011776</td>\n",
       "      <td>0.1</td>\n",
       "      <td>False</td>\n",
       "    </tr>\n",
       "    <tr>\n",
       "      <th>3</th>\n",
       "      <td>0.011947</td>\n",
       "      <td>0.1</td>\n",
       "      <td>False</td>\n",
       "    </tr>\n",
       "    <tr>\n",
       "      <th>4</th>\n",
       "      <td>0.011885</td>\n",
       "      <td>0.1</td>\n",
       "      <td>False</td>\n",
       "    </tr>\n",
       "    <tr>\n",
       "      <th>...</th>\n",
       "      <td>...</td>\n",
       "      <td>...</td>\n",
       "      <td>...</td>\n",
       "    </tr>\n",
       "    <tr>\n",
       "      <th>583021</th>\n",
       "      <td>0.011912</td>\n",
       "      <td>0.1</td>\n",
       "      <td>False</td>\n",
       "    </tr>\n",
       "    <tr>\n",
       "      <th>583022</th>\n",
       "      <td>0.011979</td>\n",
       "      <td>0.1</td>\n",
       "      <td>False</td>\n",
       "    </tr>\n",
       "    <tr>\n",
       "      <th>583023</th>\n",
       "      <td>0.012093</td>\n",
       "      <td>0.1</td>\n",
       "      <td>False</td>\n",
       "    </tr>\n",
       "    <tr>\n",
       "      <th>583024</th>\n",
       "      <td>0.011871</td>\n",
       "      <td>0.1</td>\n",
       "      <td>False</td>\n",
       "    </tr>\n",
       "    <tr>\n",
       "      <th>583025</th>\n",
       "      <td>0.012151</td>\n",
       "      <td>0.1</td>\n",
       "      <td>False</td>\n",
       "    </tr>\n",
       "  </tbody>\n",
       "</table>\n",
       "<p>583026 rows × 3 columns</p>\n",
       "</div>"
      ],
      "text/plain": [
       "        Loss_mae  Threshold  Anomaly\n",
       "0       0.012030        0.1    False\n",
       "1       0.011876        0.1    False\n",
       "2       0.011776        0.1    False\n",
       "3       0.011947        0.1    False\n",
       "4       0.011885        0.1    False\n",
       "...          ...        ...      ...\n",
       "583021  0.011912        0.1    False\n",
       "583022  0.011979        0.1    False\n",
       "583023  0.012093        0.1    False\n",
       "583024  0.011871        0.1    False\n",
       "583025  0.012151        0.1    False\n",
       "\n",
       "[583026 rows x 3 columns]"
      ]
     },
     "execution_count": 53,
     "metadata": {},
     "output_type": "execute_result"
    }
   ],
   "source": [
    "normal_test = scored_test[scored_test.index < x]\n",
    "normal_test"
   ]
  },
  {
   "cell_type": "code",
   "execution_count": 54,
   "metadata": {},
   "outputs": [
    {
     "data": {
      "text/html": [
       "<div>\n",
       "<style scoped>\n",
       "    .dataframe tbody tr th:only-of-type {\n",
       "        vertical-align: middle;\n",
       "    }\n",
       "\n",
       "    .dataframe tbody tr th {\n",
       "        vertical-align: top;\n",
       "    }\n",
       "\n",
       "    .dataframe thead th {\n",
       "        text-align: right;\n",
       "    }\n",
       "</style>\n",
       "<table border=\"1\" class=\"dataframe\">\n",
       "  <thead>\n",
       "    <tr style=\"text-align: right;\">\n",
       "      <th></th>\n",
       "      <th>Loss_mae</th>\n",
       "      <th>Threshold</th>\n",
       "      <th>Anomaly</th>\n",
       "    </tr>\n",
       "  </thead>\n",
       "  <tbody>\n",
       "    <tr>\n",
       "      <th>583026</th>\n",
       "      <td>0.011799</td>\n",
       "      <td>0.1</td>\n",
       "      <td>False</td>\n",
       "    </tr>\n",
       "    <tr>\n",
       "      <th>583027</th>\n",
       "      <td>0.011907</td>\n",
       "      <td>0.1</td>\n",
       "      <td>False</td>\n",
       "    </tr>\n",
       "    <tr>\n",
       "      <th>583028</th>\n",
       "      <td>0.012075</td>\n",
       "      <td>0.1</td>\n",
       "      <td>False</td>\n",
       "    </tr>\n",
       "    <tr>\n",
       "      <th>583029</th>\n",
       "      <td>0.012193</td>\n",
       "      <td>0.1</td>\n",
       "      <td>False</td>\n",
       "    </tr>\n",
       "    <tr>\n",
       "      <th>583030</th>\n",
       "      <td>0.011891</td>\n",
       "      <td>0.1</td>\n",
       "      <td>False</td>\n",
       "    </tr>\n",
       "    <tr>\n",
       "      <th>...</th>\n",
       "      <td>...</td>\n",
       "      <td>...</td>\n",
       "      <td>...</td>\n",
       "    </tr>\n",
       "    <tr>\n",
       "      <th>1166047</th>\n",
       "      <td>0.104620</td>\n",
       "      <td>0.1</td>\n",
       "      <td>True</td>\n",
       "    </tr>\n",
       "    <tr>\n",
       "      <th>1166048</th>\n",
       "      <td>0.064336</td>\n",
       "      <td>0.1</td>\n",
       "      <td>False</td>\n",
       "    </tr>\n",
       "    <tr>\n",
       "      <th>1166049</th>\n",
       "      <td>0.062511</td>\n",
       "      <td>0.1</td>\n",
       "      <td>False</td>\n",
       "    </tr>\n",
       "    <tr>\n",
       "      <th>1166050</th>\n",
       "      <td>0.064980</td>\n",
       "      <td>0.1</td>\n",
       "      <td>False</td>\n",
       "    </tr>\n",
       "    <tr>\n",
       "      <th>1166051</th>\n",
       "      <td>0.110341</td>\n",
       "      <td>0.1</td>\n",
       "      <td>True</td>\n",
       "    </tr>\n",
       "  </tbody>\n",
       "</table>\n",
       "<p>583026 rows × 3 columns</p>\n",
       "</div>"
      ],
      "text/plain": [
       "         Loss_mae  Threshold  Anomaly\n",
       "583026   0.011799        0.1    False\n",
       "583027   0.011907        0.1    False\n",
       "583028   0.012075        0.1    False\n",
       "583029   0.012193        0.1    False\n",
       "583030   0.011891        0.1    False\n",
       "...           ...        ...      ...\n",
       "1166047  0.104620        0.1     True\n",
       "1166048  0.064336        0.1    False\n",
       "1166049  0.062511        0.1    False\n",
       "1166050  0.064980        0.1    False\n",
       "1166051  0.110341        0.1     True\n",
       "\n",
       "[583026 rows x 3 columns]"
      ]
     },
     "execution_count": 54,
     "metadata": {},
     "output_type": "execute_result"
    }
   ],
   "source": [
    "IR_test = scored_test[scored_test.index >= x]\n",
    "IR_test"
   ]
  },
  {
   "cell_type": "code",
   "execution_count": 55,
   "metadata": {},
   "outputs": [
    {
     "name": "stdout",
     "output_type": "stream",
     "text": [
      "True Positives: 583026\n",
      "False Positives: 0\n",
      "True Negatives: 259548\n",
      "False Negatives: 323478\n"
     ]
    }
   ],
   "source": [
    "TP = normal_test[normal_test['Anomaly'] == False]\n",
    "TP = TP['Anomaly'].count()\n",
    "print(\"True Positives: {}\".format(TP))\n",
    "\n",
    "FP = normal_test[normal_test['Anomaly'] == True]\n",
    "FP = FP['Anomaly'].count()\n",
    "print(\"False Positives: {}\".format(FP))\n",
    "\n",
    "TN = IR_test[IR_test['Anomaly'] == True]\n",
    "TN = TN['Anomaly'].count()\n",
    "print(\"True Negatives: {}\".format(TN))\n",
    "\n",
    "FN = IR_test[IR_test['Anomaly'] == False]\n",
    "FN = FN['Anomaly'].count()\n",
    "print(\"False Negatives: {}\".format(FN))"
   ]
  },
  {
   "cell_type": "code",
   "execution_count": 56,
   "metadata": {},
   "outputs": [
    {
     "name": "stdout",
     "output_type": "stream",
     "text": [
      "Precision: 100.00%\n",
      "Recall: 64.316%\n",
      "F1 Score: 78.28%\n",
      "Accuracy: 72.26%\n"
     ]
    }
   ],
   "source": [
    "Precision = TP / (TP + FP)\n",
    "print(\"Precision: {:.2f}%\".format(Precision*100))\n",
    "\n",
    "Recall = TP / (TP + FN)\n",
    "print(\"Recall: {:.3f}%\".format(Recall*100))\n",
    "\n",
    "F1Score = (2*Precision*Recall)/(Precision+Recall)\n",
    "print(\"F1 Score: {:.2f}%\".format(F1Score*100))\n",
    "\n",
    "Accuracy = ( TP + TN ) / ( TP + TN + FN + FP )\n",
    "print(\"Accuracy: {:.2f}%\".format(Accuracy*100))"
   ]
  },
  {
   "cell_type": "code",
   "execution_count": null,
   "metadata": {},
   "outputs": [],
   "source": []
  }
 ],
 "metadata": {
  "kernelspec": {
   "display_name": "Python 3",
   "language": "python",
   "name": "python3"
  },
  "language_info": {
   "codemirror_mode": {
    "name": "ipython",
    "version": 3
   },
   "file_extension": ".py",
   "mimetype": "text/x-python",
   "name": "python",
   "nbconvert_exporter": "python",
   "pygments_lexer": "ipython3",
   "version": "3.8.5"
  }
 },
 "nbformat": 4,
 "nbformat_minor": 4
}
