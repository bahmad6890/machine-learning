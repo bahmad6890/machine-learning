{
 "cells": [
  {
   "cell_type": "markdown",
   "id": "illegal-houston",
   "metadata": {},
   "source": [
    "two classes and ['InnerFault', 'outerFault'] and two features speed , and vibration"
   ]
  },
  {
   "cell_type": "code",
   "execution_count": 1,
   "id": "b9c510cc",
   "metadata": {},
   "outputs": [
    {
     "name": "stdout",
     "output_type": "stream",
     "text": [
      "../figures/svmv2/ folder already exists.\n"
     ]
    }
   ],
   "source": [
    "\n",
    "#moving avg window\n",
    "#datasetdir = \"../datasets/allfaultdatasetfiltered13.csv\"\n",
    "figuredir = \"../figures/svmv2/\"\n",
    "\n",
    "import os\n",
    "\n",
    "# You should change 'test' to your preferred folder.\n",
    "#CHECK_FOLDER = os.path.isdir(datasetdir)\n",
    "\n",
    "# You should change 'test' to your preferred folder.\n",
    "CHECK_FOLDER = os.path.isdir(figuredir)\n",
    "\n",
    "# If folder doesn't exist, then create it.\n",
    "if not CHECK_FOLDER:\n",
    "    os.makedirs(figuredir)\n",
    "    print(\"created folder : \", figuredir)\n",
    "\n",
    "else:\n",
    "    print(figuredir, \"folder already exists.\")\n"
   ]
  },
  {
   "cell_type": "code",
   "execution_count": 2,
   "id": "nearby-allowance",
   "metadata": {},
   "outputs": [],
   "source": [
    "import numpy as np\n",
    "import pandas as pd\n",
    "import seaborn as sns\n",
    "from tqdm.notebook import tqdm\n",
    "import matplotlib.pyplot as plt\n",
    "\n",
    "import torch\n",
    "import torch.nn as nn\n",
    "import torch.optim as optim\n",
    "from torch.utils.data import Dataset, DataLoader, WeightedRandomSampler\n",
    "\n",
    "from sklearn.preprocessing import MinMaxScaler    \n",
    "from sklearn.model_selection import train_test_split\n",
    "from sklearn.metrics import confusion_matrix, classification_report\n",
    "plt.rcParams[\"figure.figsize\"] = (15,8)"
   ]
  },
  {
   "cell_type": "code",
   "execution_count": 3,
   "id": "66f954a5",
   "metadata": {},
   "outputs": [
    {
     "data": {
      "text/plain": [
       "(      speed  vibration Faults\n",
       " 0  4.217042   0.003062   Ball\n",
       " 1  4.219672   0.004049   Ball\n",
       " 2  4.221645   0.001418   Ball\n",
       " 3  0.036346  -0.002199   Ball\n",
       " 4  0.036017  -0.003515   Ball,\n",
       " array(['Ball', 'Innerrace', 'Outerrace'], dtype=object))"
      ]
     },
     "execution_count": 3,
     "metadata": {},
     "output_type": "execute_result"
    }
   ],
   "source": [
    "#df = pd.read_csv(\"../datasets/allfaultdatasetfiltered13.csv\")\n",
    "## to rename outerfault \n",
    "df = pd.read_csv(\"../datasets/allfaultdatasetfiltered13.csv\", index_col =\"class\" )\n",
    "\"\"\"Droping Series Column which is no longer required \n",
    "https://pandas.pydata.org/pandas-docs/stable/reference/api/pandas.DataFrame.drop.html\n",
    "\n",
    "df.drop(['B', 'C'], axis=1)\n",
    "\n",
    "also rearrange columns order\n",
    "df = df[['speed','vibration','Faults']]\n",
    "\n",
    "#https://pandas.pydata.org/pandas-docs/stable/reference/api/pandas.DataFrame.rename.html\n",
    "#df.rename(columns={\"A\": \"a\", \"B\": \"c\"})\n",
    "\"\"\"\n",
    "df = df.drop(['series'], axis=1)\n",
    "df = df.rename(index={'BallFault':'Ball'})\n",
    "df = df.rename(index={'InnerFault':'Innerrace'})\n",
    "df = df.rename(index={'outerFault':'Outerrace'})\n",
    "df = df.reset_index()\n",
    "df = df.rename(columns  ={'class':'Faults'})\n",
    "df = df[['speed','vibration','Faults']]\n",
    "df.head() , df['Faults'].unique()"
   ]
  },
  {
   "cell_type": "code",
   "execution_count": 4,
   "id": "d1dbc14e",
   "metadata": {},
   "outputs": [
    {
     "data": {
      "text/html": [
       "<div>\n",
       "<style scoped>\n",
       "    .dataframe tbody tr th:only-of-type {\n",
       "        vertical-align: middle;\n",
       "    }\n",
       "\n",
       "    .dataframe tbody tr th {\n",
       "        vertical-align: top;\n",
       "    }\n",
       "\n",
       "    .dataframe thead th {\n",
       "        text-align: right;\n",
       "    }\n",
       "</style>\n",
       "<table border=\"1\" class=\"dataframe\">\n",
       "  <thead>\n",
       "    <tr style=\"text-align: right;\">\n",
       "      <th></th>\n",
       "      <th>speed</th>\n",
       "      <th>vibration</th>\n",
       "      <th>Faults</th>\n",
       "    </tr>\n",
       "  </thead>\n",
       "  <tbody>\n",
       "    <tr>\n",
       "      <th>0</th>\n",
       "      <td>4.217042</td>\n",
       "      <td>0.003062</td>\n",
       "      <td>Ball</td>\n",
       "    </tr>\n",
       "    <tr>\n",
       "      <th>1</th>\n",
       "      <td>4.219672</td>\n",
       "      <td>0.004049</td>\n",
       "      <td>Ball</td>\n",
       "    </tr>\n",
       "    <tr>\n",
       "      <th>2</th>\n",
       "      <td>4.221645</td>\n",
       "      <td>0.001418</td>\n",
       "      <td>Ball</td>\n",
       "    </tr>\n",
       "    <tr>\n",
       "      <th>3</th>\n",
       "      <td>0.036346</td>\n",
       "      <td>-0.002199</td>\n",
       "      <td>Ball</td>\n",
       "    </tr>\n",
       "    <tr>\n",
       "      <th>4</th>\n",
       "      <td>0.036017</td>\n",
       "      <td>-0.003515</td>\n",
       "      <td>Ball</td>\n",
       "    </tr>\n",
       "  </tbody>\n",
       "</table>\n",
       "</div>"
      ],
      "text/plain": [
       "      speed  vibration Faults\n",
       "0  4.217042   0.003062   Ball\n",
       "1  4.219672   0.004049   Ball\n",
       "2  4.221645   0.001418   Ball\n",
       "3  0.036346  -0.002199   Ball\n",
       "4  0.036017  -0.003515   Ball"
      ]
     },
     "execution_count": 4,
     "metadata": {},
     "output_type": "execute_result"
    }
   ],
   "source": [
    "df.head()"
   ]
  },
  {
   "cell_type": "code",
   "execution_count": 5,
   "id": "needed-council",
   "metadata": {},
   "outputs": [
    {
     "data": {
      "text/plain": [
       "<bound method DataFrame.info of             speed  vibration     Faults\n",
       "0        4.217042   0.003062       Ball\n",
       "1        4.219672   0.004049       Ball\n",
       "2        4.221645   0.001418       Ball\n",
       "3        0.036346  -0.002199       Ball\n",
       "4        0.036017  -0.003515       Ball\n",
       "...           ...        ...        ...\n",
       "5667608  4.202576  -0.004830  Outerrace\n",
       "5667609  4.198959  -0.003515  Outerrace\n",
       "5667610  4.279838  -0.002857  Outerrace\n",
       "5667611  0.037332  -0.006146  Outerrace\n",
       "5667612  0.037661  -0.009105  Outerrace\n",
       "\n",
       "[5667613 rows x 3 columns]>"
      ]
     },
     "execution_count": 5,
     "metadata": {},
     "output_type": "execute_result"
    }
   ],
   "source": [
    "df.info"
   ]
  },
  {
   "cell_type": "code",
   "execution_count": 6,
   "id": "minus-mileage",
   "metadata": {},
   "outputs": [],
   "source": [
    "# it change style and colour for graph \n",
    "#from yellowbrick.classifier import ClassificationReport\n",
    "## OverflowError: Exceeded cell block limit (set 'agg.path.chunksize' rcparam)\n",
    "plt.rcParams['agg.path.chunksize'] = 100000"
   ]
  },
  {
   "cell_type": "markdown",
   "id": "a9dd0b33",
   "metadata": {},
   "source": [
    "sns.countplot(x = 'Faults', data=df )\n",
    "\n",
    "# to save plots in high ddefinition \n",
    "#plt.savefig(\"../figures/class_distribution_beforedropouts.png\")\n",
    "plt.ylabel(\"Records\")\n",
    "plt.savefig(figuredir + \"class_distribution_beforedropouts.png\", bbox_inches='tight', dpi=600)\n",
    "plt.show()"
   ]
  },
  {
   "cell_type": "markdown",
   "id": "527fc1d2",
   "metadata": {},
   "source": [
    "#df['Faults'].unique()"
   ]
  },
  {
   "cell_type": "markdown",
   "id": "66af92f3",
   "metadata": {},
   "source": [
    "#df['vibration'].plot(color='b',figsize = (8,8))\n",
    "\"\"\", alpha = 0.2\"\"\"\n",
    "g = sns.lineplot(x=\"speed\", y=\"vibration\",hue= 'Faults',\n",
    "                data=df.reset_index(), palette=\"tab10\" )\n",
    "\n",
    "plt.legend(loc=2)\n",
    "plt.ylabel(\"Vibration\")\n",
    "plt.xlabel(\"Speed\")\n",
    "plt.tick_params(axis='both',labelsize=14)\n",
    "\n",
    "g.legend(loc= 'upper right')\n",
    "g.legend_.set_title('Faults')\n",
    "\n",
    "plt.savefig(figuredir +\"vibration vs speed.png\", bbox_inches='tight', dpi=600)"
   ]
  },
  {
   "cell_type": "code",
   "execution_count": 7,
   "id": "5366c11e",
   "metadata": {},
   "outputs": [
    {
     "data": {
      "text/plain": [
       "(      speed  vibration Faults\n",
       " 0  4.217042   0.003062   Ball\n",
       " 1  4.219672   0.004049   Ball\n",
       " 2  4.221645   0.001418   Ball\n",
       " 3  0.036346  -0.002199   Ball\n",
       " 4  0.036017  -0.003515   Ball,\n",
       "             speed  vibration     Faults\n",
       " 1889180  0.037990   0.248711  Innerrace\n",
       " 1889181  0.037661   0.249040  Innerrace\n",
       " 1889182  0.037990   0.248382  Innerrace\n",
       " 1889183  0.037661   0.250355  Innerrace\n",
       " 1889184  0.037332   0.251013  Innerrace,\n",
       "             speed  vibration     Faults\n",
       " 3778490  4.198302  -0.007461  Outerrace\n",
       " 3778491  4.214083  -0.006474  Outerrace\n",
       " 3778492  4.210795  -0.006474  Outerrace\n",
       " 3778493  4.248933  -0.005817  Outerrace\n",
       " 3778494  4.272934  -0.005159  Outerrace)"
      ]
     },
     "execution_count": 7,
     "metadata": {},
     "output_type": "execute_result"
    }
   ],
   "source": [
    "Ball = df[df['Faults']=='Ball']\n",
    "Innerrace = df[df['Faults']=='Innerrace']\n",
    "Outerrace = df[df['Faults']=='Outerrace']\n",
    "\n",
    "\n",
    "Ball.head(5), Innerrace.head(5) , Outerrace.head(5)"
   ]
  },
  {
   "cell_type": "markdown",
   "id": "341f2d3f",
   "metadata": {},
   "source": [
    "#df['vibration'].plot(color='b',figsize = (8,8))\n",
    "\"\"\", alpha = 0.2\"\"\"\n",
    "g = sns.lineplot(x=\"speed\", y=\"vibration\",\n",
    "                data=Ball.reset_index(), color = 'blue' )\n",
    "\n",
    "#plt.legend(loc=2)\n",
    "plt.ylabel(\"Vibration\")\n",
    "plt.xlabel(\"Speed\")\n",
    "plt.tick_params(axis='both',labelsize=14)\n",
    "\n",
    "#g.legend(loc= 'upper right')\n",
    "#g.legend_.set_title('Faults')\n",
    "\n",
    "plt.savefig(figuredir +\"Ball vibration vs speed.png\", bbox_inches='tight', dpi=600)"
   ]
  },
  {
   "cell_type": "markdown",
   "id": "a70e8e7a",
   "metadata": {},
   "source": [
    "#df['vibration'].plot(color='b',figsize = (8,8))\n",
    "\"\"\", alpha = 0.2\"\"\"\n",
    "h = sns.lineplot(x=\"speed\", y=\"vibration\",\n",
    "                data=Innerrace.reset_index(), color = 'orange' )\n",
    "\n",
    "#plt.legend(loc=2)\n",
    "plt.ylabel(\"Vibration\")\n",
    "plt.xlabel(\"Speed\")\n",
    "plt.tick_params(axis='both',labelsize=14)\n",
    "\n",
    "#g.legend(loc= 'upper right')\n",
    "#g.legend_.set_title('Faults')\n",
    "\n",
    "plt.savefig(figuredir +\"Innerrace vibration vs speed.png\", bbox_inches='tight', dpi=600)"
   ]
  },
  {
   "cell_type": "markdown",
   "id": "1320894f",
   "metadata": {},
   "source": [
    "#df['vibration'].plot(color='b',figsize = (8,8))\n",
    "\"\"\", alpha = 0.2\"\"\"\n",
    "i = sns.lineplot(x=\"speed\", y=\"vibration\",\n",
    "                data=Outerrace.reset_index(), color = 'green' )\n",
    "\n",
    "\n",
    "#plt.legend(loc=2)\n",
    "plt.ylabel(\"Vibration\")\n",
    "plt.xlabel(\"Speed\")\n",
    "plt.tick_params(axis='both',labelsize=14)\n",
    "\n",
    "#g.legend(loc= 'upper right')\n",
    "#g.legend_.set_title('Faults')\n",
    "\n",
    "plt.savefig(figuredir +\"Outerrace vibration vs speed.png\", bbox_inches='tight', dpi=600)"
   ]
  },
  {
   "cell_type": "markdown",
   "id": "89c10070",
   "metadata": {},
   "source": [
    "fig, axes = plt.subplots(1, 3, figsize=(15, 5), sharey=True, sharex=True)\n",
    "fig.suptitle('Vibration vs Speed')\n",
    "\n",
    "# Ball\n",
    "sns.lineplot(ax=axes[0],x=\"speed\", y=\"vibration\",data=Ball.reset_index(), color = 'blue' )\n",
    "axes[0].set_title('Ball')\n",
    "\n",
    "# Outerrace\n",
    "sns.lineplot(ax=axes[1],x=\"speed\", y=\"vibration\",data=Outerrace.reset_index(), color = 'green' )\n",
    "axes[1].set_title('Outerrace')\n",
    "\n",
    "# Innerrace\n",
    "sns.lineplot(ax=axes[2],x=\"speed\", y=\"vibration\",data=Innerrace.reset_index(), color = 'orange' )\n",
    "axes[2].set_title('Innerrace')\n",
    "\n",
    "plt.ylabel(\"Vibration\")\n",
    "plt.xlabel(\"Speed\")\n",
    "plt.tick_params(axis='both',labelsize=14)\n",
    "\n",
    "#g.legend(loc= 'upper right')\n",
    "#g.legend_.set_title('Faults')\n",
    "\n",
    "plt.savefig(figuredir +\"Vibration vs Speed.png\", bbox_inches='tight', dpi=600)"
   ]
  },
  {
   "cell_type": "raw",
   "id": "aade5530",
   "metadata": {},
   "source": [
    "sns.boxplot(x = 'Faults',y = 'vibration', data=df.reset_index())"
   ]
  },
  {
   "cell_type": "raw",
   "id": "c4f71068",
   "metadata": {},
   "source": [
    "#df['vibration'].plot(color='b',figsize = (8,8))\n",
    "\n",
    "g = sns.lineplot(x=\"index\", y=\"vibration\",hue= 'Faults',\n",
    "                data=df.reset_index(), palette=\"tab10\")\n",
    "\n",
    "plt.legend(loc=2)\n",
    "plt.ylabel(\"Vibration\")\n",
    "plt.xlabel(\"Timestamp\")\n",
    "plt.tick_params(axis='both',labelsize=14)\n",
    "\n",
    "g.legend(loc= 'upper right')\n",
    "g.legend_.set_title('Faults')\n",
    "\n",
    "plt.savefig(figuredir +\"vibration_beforedropouts.png\", bbox_inches='tight', dpi=600)"
   ]
  },
  {
   "cell_type": "code",
   "execution_count": 9,
   "id": "coastal-village",
   "metadata": {},
   "outputs": [
    {
     "name": "stdout",
     "output_type": "stream",
     "text": [
      "            speed  vibration     Faults\n",
      "0        4.217042   0.003062       Ball\n",
      "1        4.219672   0.004049       Ball\n",
      "2        4.221645   0.001418       Ball\n",
      "3        0.036346  -0.002199       Ball\n",
      "4        0.036017  -0.003515       Ball\n",
      "...           ...        ...        ...\n",
      "5667456  4.151615  -0.016340  Outerrace\n",
      "5667459  2.739196  -0.009105  Outerrace\n",
      "5667542  3.131096  -0.001213  Outerrace\n",
      "5667560  1.329083  -0.000555  Outerrace\n",
      "5667578  0.155362   0.001747  Outerrace\n",
      "\n",
      "[757558 rows x 3 columns]\n"
     ]
    }
   ],
   "source": [
    "df = df.drop_duplicates(subset = [\"speed\", 'vibration'])\n",
    "\n",
    "print(df)"
   ]
  },
  {
   "cell_type": "code",
   "execution_count": 10,
   "id": "norwegian-coral",
   "metadata": {},
   "outputs": [
    {
     "data": {
      "image/png": "[encoded data removed]",
      "text/plain": [
       "<Figure size 1080x576 with 1 Axes>"
      ]
     },
     "metadata": {
      "needs_background": "light"
     },
     "output_type": "display_data"
    }
   ],
   "source": [
    "sns.countplot(x = 'Faults', data=df)\n",
    "\n",
    "# to save plots in high ddefinition \n",
    "#plt.savefig(\"../figures/class_distribution_beforedropouts.png\")\n",
    "plt.ylabel(\"Records\")\n",
    "plt.savefig(figuredir +\"class_distribution_afterdropouts.png\", bbox_inches='tight', dpi=600)\n",
    "plt.show()"
   ]
  },
  {
   "cell_type": "code",
   "execution_count": 11,
   "id": "twenty-attack",
   "metadata": {},
   "outputs": [
    {
     "name": "stdout",
     "output_type": "stream",
     "text": [
      "203913\n",
      "451728\n",
      "101917\n"
     ]
    }
   ],
   "source": [
    "#['BallFault', 'InnerFault', 'outerFault']\n",
    "\n",
    "BallFaultlenght = len(df[df['Faults']=='Ball'])\n",
    "InnerFaultlenght = len(df[df['Faults']=='Innerrace'])\n",
    "outerFaultlenght = len(df[df['Faults']=='Outerrace'])\n",
    "\n",
    "\n",
    "#BallFaultlenght = 20000\n",
    "#InnerFaultlenght = 20000 \n",
    "#outerFaultlenght = 20000\n",
    "\n",
    "print(BallFaultlenght)\n",
    "print(InnerFaultlenght)\n",
    "print(outerFaultlenght)"
   ]
  },
  {
   "cell_type": "code",
   "execution_count": 12,
   "id": "african-jewelry",
   "metadata": {},
   "outputs": [
    {
     "data": {
      "text/plain": [
       "(           speed  vibration Faults\n",
       " 0       4.217042   0.003062   Ball\n",
       " 1       4.219672   0.004049   Ball\n",
       " 2       4.221645   0.001418   Ball\n",
       " 3       0.036346  -0.002199   Ball\n",
       " 4       0.036017  -0.003515   Ball\n",
       " ...          ...        ...    ...\n",
       " 722641  4.187452  -0.021273   Ball\n",
       " 722642  4.264386  -0.022588   Ball\n",
       " 722651  4.092436  -0.007790   Ball\n",
       " 722681  4.127286  -0.019957   Ball\n",
       " 722682  4.229864  -0.020944   Ball\n",
       " \n",
       " [101917 rows x 3 columns],\n",
       "             speed  vibration     Faults\n",
       " 1889180  0.037990   0.248711  Innerrace\n",
       " 1889181  0.037661   0.249040  Innerrace\n",
       " 1889182  0.037990   0.248382  Innerrace\n",
       " 1889183  0.037661   0.250355  Innerrace\n",
       " 1889184  0.037332   0.251013  Innerrace\n",
       " ...           ...        ...        ...\n",
       " 2223245  4.086847   0.223390  Innerrace\n",
       " 2223248  4.106573   0.223719  Innerrace\n",
       " 2223250  1.064749   0.230624  Innerrace\n",
       " 2223257  4.159177   0.201357  Innerrace\n",
       " 2223259  4.242358   0.189847  Innerrace\n",
       " \n",
       " [101917 rows x 3 columns],\n",
       "             speed  vibration     Faults\n",
       " 3778494  4.272934  -0.005159  Outerrace\n",
       " 3778506  4.283126  -0.002528  Outerrace\n",
       " 3778507  4.287729  -0.002857  Outerrace\n",
       " 3778518  4.271947   0.003720  Outerrace\n",
       " 3778529  4.287071   0.001747  Outerrace\n",
       " ...           ...        ...        ...\n",
       " 5667456  4.151615  -0.016340  Outerrace\n",
       " 5667459  2.739196  -0.009105  Outerrace\n",
       " 5667542  3.131096  -0.001213  Outerrace\n",
       " 5667560  1.329083  -0.000555  Outerrace\n",
       " 5667578  0.155362   0.001747  Outerrace\n",
       " \n",
       " [101917 rows x 3 columns])"
      ]
     },
     "execution_count": 12,
     "metadata": {},
     "output_type": "execute_result"
    }
   ],
   "source": [
    "\n",
    "newBallFault = df[df['Faults']=='Ball'].iloc[0:outerFaultlenght]\n",
    "newInnerFault = df[df['Faults']=='Innerrace'].iloc[0:outerFaultlenght]\n",
    "newouterFault = df[df['Faults']=='Outerrace'].iloc[0:outerFaultlenght]\n",
    "\n",
    "newBallFault , newInnerFault , newouterFault"
   ]
  },
  {
   "cell_type": "code",
   "execution_count": 13,
   "id": "configured-domain",
   "metadata": {},
   "outputs": [
    {
     "data": {
      "text/html": [
       "<div>\n",
       "<style scoped>\n",
       "    .dataframe tbody tr th:only-of-type {\n",
       "        vertical-align: middle;\n",
       "    }\n",
       "\n",
       "    .dataframe tbody tr th {\n",
       "        vertical-align: top;\n",
       "    }\n",
       "\n",
       "    .dataframe thead th {\n",
       "        text-align: right;\n",
       "    }\n",
       "</style>\n",
       "<table border=\"1\" class=\"dataframe\">\n",
       "  <thead>\n",
       "    <tr style=\"text-align: right;\">\n",
       "      <th></th>\n",
       "      <th>speed</th>\n",
       "      <th>vibration</th>\n",
       "      <th>Faults</th>\n",
       "    </tr>\n",
       "  </thead>\n",
       "  <tbody>\n",
       "    <tr>\n",
       "      <th>0</th>\n",
       "      <td>4.217042</td>\n",
       "      <td>0.003062</td>\n",
       "      <td>Ball</td>\n",
       "    </tr>\n",
       "    <tr>\n",
       "      <th>1</th>\n",
       "      <td>4.219672</td>\n",
       "      <td>0.004049</td>\n",
       "      <td>Ball</td>\n",
       "    </tr>\n",
       "    <tr>\n",
       "      <th>2</th>\n",
       "      <td>4.221645</td>\n",
       "      <td>0.001418</td>\n",
       "      <td>Ball</td>\n",
       "    </tr>\n",
       "    <tr>\n",
       "      <th>3</th>\n",
       "      <td>0.036346</td>\n",
       "      <td>-0.002199</td>\n",
       "      <td>Ball</td>\n",
       "    </tr>\n",
       "    <tr>\n",
       "      <th>4</th>\n",
       "      <td>0.036017</td>\n",
       "      <td>-0.003515</td>\n",
       "      <td>Ball</td>\n",
       "    </tr>\n",
       "    <tr>\n",
       "      <th>...</th>\n",
       "      <td>...</td>\n",
       "      <td>...</td>\n",
       "      <td>...</td>\n",
       "    </tr>\n",
       "    <tr>\n",
       "      <th>5667456</th>\n",
       "      <td>4.151615</td>\n",
       "      <td>-0.016340</td>\n",
       "      <td>Outerrace</td>\n",
       "    </tr>\n",
       "    <tr>\n",
       "      <th>5667459</th>\n",
       "      <td>2.739196</td>\n",
       "      <td>-0.009105</td>\n",
       "      <td>Outerrace</td>\n",
       "    </tr>\n",
       "    <tr>\n",
       "      <th>5667542</th>\n",
       "      <td>3.131096</td>\n",
       "      <td>-0.001213</td>\n",
       "      <td>Outerrace</td>\n",
       "    </tr>\n",
       "    <tr>\n",
       "      <th>5667560</th>\n",
       "      <td>1.329083</td>\n",
       "      <td>-0.000555</td>\n",
       "      <td>Outerrace</td>\n",
       "    </tr>\n",
       "    <tr>\n",
       "      <th>5667578</th>\n",
       "      <td>0.155362</td>\n",
       "      <td>0.001747</td>\n",
       "      <td>Outerrace</td>\n",
       "    </tr>\n",
       "  </tbody>\n",
       "</table>\n",
       "<p>305751 rows × 3 columns</p>\n",
       "</div>"
      ],
      "text/plain": [
       "            speed  vibration     Faults\n",
       "0        4.217042   0.003062       Ball\n",
       "1        4.219672   0.004049       Ball\n",
       "2        4.221645   0.001418       Ball\n",
       "3        0.036346  -0.002199       Ball\n",
       "4        0.036017  -0.003515       Ball\n",
       "...           ...        ...        ...\n",
       "5667456  4.151615  -0.016340  Outerrace\n",
       "5667459  2.739196  -0.009105  Outerrace\n",
       "5667542  3.131096  -0.001213  Outerrace\n",
       "5667560  1.329083  -0.000555  Outerrace\n",
       "5667578  0.155362   0.001747  Outerrace\n",
       "\n",
       "[305751 rows x 3 columns]"
      ]
     },
     "execution_count": 13,
     "metadata": {},
     "output_type": "execute_result"
    }
   ],
   "source": [
    "new_df = (newBallFault)\n",
    "new_df = new_df.append(newInnerFault)\n",
    "new_df = new_df.append(newouterFault)\n",
    "\n",
    "\n",
    "new_df"
   ]
  },
  {
   "cell_type": "code",
   "execution_count": 14,
   "id": "complimentary-shuttle",
   "metadata": {},
   "outputs": [],
   "source": [
    "df = new_df"
   ]
  },
  {
   "cell_type": "raw",
   "id": "22f949af",
   "metadata": {},
   "source": [
    "#df['vibration'].plot(color='b',figsize = (8,8))\n",
    "\n",
    "g = sns.lineplot(x=\"speed\", y=\"vibration\",hue= 'Faults',\n",
    "                data=df.reset_index(), palette=\"tab10\")\n",
    "\n",
    "plt.legend(loc=2)\n",
    "plt.ylabel(\"Vibration\")\n",
    "plt.xlabel(\"Speed\")\n",
    "plt.tick_params(axis='both',labelsize=14)\n",
    "\n",
    "g.legend(loc= 'upper right')\n",
    "g.legend_.set_title('Faults')\n",
    "\n",
    "plt.savefig(figuredir +\"vibration vs speed afterdropouts.png\", bbox_inches='tight', dpi=600)"
   ]
  },
  {
   "cell_type": "raw",
   "id": "23f5ad75",
   "metadata": {},
   "source": [
    "#df['vibration'].plot(color='b',figsize = (8,8))\n",
    "\n",
    "g = sns.lineplot(x=\"index\", y=\"vibration\",hue= 'Faults',\n",
    "                data=df.reset_index(), palette=\"tab10\")\n",
    "\n",
    "plt.legend(loc=2)\n",
    "plt.ylabel(\"Vibration\")\n",
    "plt.xlabel(\"Timestamp\")\n",
    "plt.tick_params(axis='both',labelsize=14)\n",
    "\n",
    "g.legend(loc= 'upper right')\n",
    "g.legend_.set_title('Faults')\n",
    "\n",
    "plt.savefig(figuredir +\"vibration_afterdropouts.png\", bbox_inches='tight', dpi=600)"
   ]
  },
  {
   "cell_type": "markdown",
   "id": "d67cf404",
   "metadata": {},
   "source": [
    "#df['vibration'].plot(color='b',figsize = (8,8))\n",
    "\"\"\", alpha = 0.2\"\"\"\n",
    "g = sns.lineplot(x=\"speed\", y=\"vibration\",\n",
    "                data=newBallFault.reset_index(), color = 'blue' )\n",
    "\n",
    "#plt.legend(loc=2)\n",
    "plt.ylabel(\"Vibration\")\n",
    "plt.xlabel(\"Speed\")\n",
    "plt.tick_params(axis='both',labelsize=14)\n",
    "\n",
    "#g.legend(loc= 'upper right')\n",
    "#g.legend_.set_title('Faults')\n",
    "\n",
    "plt.savefig(figuredir +\"Ball vibration vs speed afterdropouts.png\", bbox_inches='tight', dpi=600)"
   ]
  },
  {
   "cell_type": "markdown",
   "id": "4caa4ea7",
   "metadata": {},
   "source": [
    "#df['vibration'].plot(color='b',figsize = (8,8))\n",
    "\"\"\", alpha = 0.2\"\"\"\n",
    "h = sns.lineplot(x=\"speed\", y=\"vibration\",\n",
    "                data=newInnerFault.reset_index(), color = 'orange' )\n",
    "\n",
    "#plt.legend(loc=2)\n",
    "plt.ylabel(\"Vibration\")\n",
    "plt.xlabel(\"Speed\")\n",
    "plt.tick_params(axis='both',labelsize=14)\n",
    "\n",
    "#g.legend(loc= 'upper right')\n",
    "#g.legend_.set_title('Faults')\n",
    "\n",
    "plt.savefig(figuredir +\"Innerrace vibration vs speed afterdropouts.png\", bbox_inches='tight', dpi=600)"
   ]
  },
  {
   "cell_type": "markdown",
   "id": "24cc2d5b",
   "metadata": {},
   "source": [
    "#df['vibration'].plot(color='b',figsize = (8,8))\n",
    "\"\"\", alpha = 0.2\"\"\"\n",
    "i = sns.lineplot(x=\"speed\", y=\"vibration\",\n",
    "                data=newouterFault.reset_index(), color = 'green' )\n",
    "\n",
    "\n",
    "#plt.legend(loc=2)\n",
    "plt.ylabel(\"Vibration\")\n",
    "plt.xlabel(\"Speed\")\n",
    "plt.tick_params(axis='both',labelsize=14)\n",
    "\n",
    "#g.legend(loc= 'upper right')\n",
    "#g.legend_.set_title('Faults')\n",
    "\n",
    "plt.savefig(figuredir +\"Outerrace vibration vs speed afterdropouts.png\", bbox_inches='tight', dpi=600)"
   ]
  },
  {
   "cell_type": "markdown",
   "id": "1358edf3",
   "metadata": {},
   "source": [
    "fig, axes = plt.subplots(1, 3, figsize=(15, 5), sharey=True, sharex=True)\n",
    "fig.suptitle('Vibration vs Speed')\n",
    "\n",
    "# Ball\n",
    "sns.lineplot(ax=axes[0],x=\"speed\", y=\"vibration\",data=newBallFault.reset_index(), color = 'blue' )\n",
    "axes[0].set_title('Ball')\n",
    "\n",
    "# Outerrace\n",
    "sns.lineplot(ax=axes[1],x=\"speed\", y=\"vibration\",data=newouterFault.reset_index(), color = 'green' )\n",
    "axes[1].set_title('Outerrace')\n",
    "\n",
    "# Innerrace\n",
    "sns.lineplot(ax=axes[2],x=\"speed\", y=\"vibration\",data=newInnerFault.reset_index(), color = 'orange' )\n",
    "axes[2].set_title('Innerrace')\n",
    "\n",
    "plt.ylabel(\"Vibration\")\n",
    "plt.xlabel(\"Speed\")\n",
    "plt.tick_params(axis='both',labelsize=14)\n",
    "\n",
    "#g.legend(loc= 'upper right')\n",
    "#g.legend_.set_title('Faults')\n",
    "\n",
    "plt.savefig(figuredir +\"Vibration vs Speed afterdropouts.png\", bbox_inches='tight', dpi=600)"
   ]
  },
  {
   "cell_type": "markdown",
   "id": "e73ab262",
   "metadata": {},
   "source": [
    "sns.countplot(x = 'Faults', data=df)\n",
    "\n",
    "# to save plots in high ddefinition \n",
    "#plt.savefig(\"../figures/class_distribution_beforedropouts.png\")\n",
    "plt.ylabel('Records')\n",
    "plt.savefig(figuredir +\"class_distribution_after_equal_distribution.png\", bbox_inches='tight', dpi=600)\n",
    "plt.show()"
   ]
  },
  {
   "cell_type": "code",
   "execution_count": 15,
   "id": "rotary-outline",
   "metadata": {},
   "outputs": [],
   "source": [
    "class2idx = {\n",
    "    \"Ball\": 0,\n",
    "    \"Innerrace\":1,\n",
    "    \"Outerrace\":2\n",
    "\n",
    "}\n",
    "\n",
    "idx2class = {v: k for k, v in class2idx.items()}\n",
    "\n",
    "#df['Faults'].replace(class2idx, inplace=True)\n",
    "#df['Faults'].unique()"
   ]
  },
  {
   "cell_type": "code",
   "execution_count": 18,
   "id": "unable-range",
   "metadata": {},
   "outputs": [
    {
     "data": {
      "text/plain": [
       "(      speed  vibration\n",
       " 0  4.217042   0.003062\n",
       " 1  4.219672   0.004049\n",
       " 2  4.221645   0.001418\n",
       " 3  0.036346  -0.002199\n",
       " 4  0.036017  -0.003515,\n",
       " 0    Ball\n",
       " 1    Ball\n",
       " 2    Ball\n",
       " 3    Ball\n",
       " 4    Ball\n",
       " Name: Faults, dtype: object)"
      ]
     },
     "execution_count": 18,
     "metadata": {},
     "output_type": "execute_result"
    }
   ],
   "source": [
    "# droping series\n",
    "X = df.iloc[:, 0:-1]\n",
    "y = df.iloc[:, -1]\n",
    "X.head() , y.head()"
   ]
  },
  {
   "cell_type": "code",
   "execution_count": 19,
   "id": "restricted-garage",
   "metadata": {},
   "outputs": [
    {
     "data": {
      "text/plain": [
       "(array(['Ball', 'Innerrace', 'Outerrace'], dtype=object), 3)"
      ]
     },
     "execution_count": 19,
     "metadata": {},
     "output_type": "execute_result"
    }
   ],
   "source": [
    "y.unique() , len(y.unique())"
   ]
  },
  {
   "cell_type": "code",
   "execution_count": 20,
   "id": "1eae1da7",
   "metadata": {},
   "outputs": [],
   "source": [
    "# Splitting the dataset into the Training set and Test set\n",
    "from sklearn.model_selection import train_test_split\n",
    "X_train, X_test, y_train, y_test = train_test_split(X, y, test_size = 0.2, random_state = 5)"
   ]
  },
  {
   "cell_type": "code",
   "execution_count": 21,
   "id": "7957d61c",
   "metadata": {},
   "outputs": [],
   "source": [
    "# Feature Scaling\n",
    "from sklearn.preprocessing import StandardScaler\n",
    "sc = StandardScaler()\n",
    "X_train = sc.fit_transform(X_train)\n",
    "X_test = sc.transform(X_test)"
   ]
  },
  {
   "cell_type": "code",
   "execution_count": 22,
   "id": "c023cbfe",
   "metadata": {},
   "outputs": [],
   "source": [
    "# Fitting Kernel SVM to the Training set\n",
    "from sklearn.svm import SVC\n",
    "classifier = SVC(kernel = 'linear', random_state = 0)"
   ]
  },
  {
   "cell_type": "code",
   "execution_count": null,
   "id": "9a104cb9",
   "metadata": {},
   "outputs": [],
   "source": [
    "# Applying Grid Search to find the best model and the best parameters\n",
    "from sklearn.model_selection import GridSearchCV\n",
    "parameters = [{'C': [1, 10, 100, 1000], 'kernel': ['linear']},\n",
    "              {'C': [1, 10, 100, 1000], 'kernel': ['rbf'], 'gamma': [0.1,0.4, 0.9,0.01]}]\n",
    "grid_search = GridSearchCV(estimator = classifier,\n",
    "                           param_grid = parameters,\n",
    "                           scoring = 'accuracy',\n",
    "                           cv = 10,\n",
    "                           n_jobs = -1,\n",
    "                           refit = True, \n",
    "                           verbose = 3)\n",
    "\n",
    "grid_search = grid_search.fit(X_train, y_train)\n"
   ]
  },
  {
   "cell_type": "code",
   "execution_count": null,
   "id": "a1645415",
   "metadata": {},
   "outputs": [],
   "source": [
    "accuracy = grid_search.best_score_\n",
    "accuracy"
   ]
  },
  {
   "cell_type": "code",
   "execution_count": null,
   "id": "93509550",
   "metadata": {},
   "outputs": [],
   "source": [
    "grid_search.best_params_"
   ]
  },
  {
   "cell_type": "markdown",
   "id": "18c5bb63",
   "metadata": {},
   "source": [
    "# Fitting Kernel SVM to the Training set according to grid serach parameters \n",
    "from sklearn.svm import SVC\n",
    "classifier = SVC(kernel = 'linear', random_state = 0)"
   ]
  },
  {
   "cell_type": "code",
   "execution_count": null,
   "id": "f4ba0f8e",
   "metadata": {},
   "outputs": [
    {
     "name": "stdout",
     "output_type": "stream",
     "text": [
      "Fitting 10 folds for each of 1 candidates, totalling 10 fits\n"
     ]
    }
   ],
   "source": [
    "# Applying Grid Search to find the best model and the best parameters\n",
    "from sklearn.model_selection import GridSearchCV\n",
    "parameters = [{'C': [1000], 'kernel': ['rbf'], 'gamma': [0.9]}]\n",
    "grid_search = GridSearchCV(estimator = classifier,\n",
    "                           param_grid = parameters,\n",
    "                           scoring = 'accuracy',\n",
    "                           cv = 10,\n",
    "                           n_jobs = -1,\n",
    "                           refit = True, \n",
    "                           verbose = 3)\n",
    "\n",
    "grid_search = grid_search.fit(X_train, y_train)\n"
   ]
  },
  {
   "cell_type": "code",
   "execution_count": null,
   "id": "ccf36806",
   "metadata": {},
   "outputs": [],
   "source": [
    "accuracy = grid_search.best_score_\n",
    "accuracy"
   ]
  },
  {
   "cell_type": "code",
   "execution_count": null,
   "id": "bd331229",
   "metadata": {},
   "outputs": [],
   "source": [
    "grid_search.best_params_"
   ]
  },
  {
   "cell_type": "code",
   "execution_count": null,
   "id": "f7adc251",
   "metadata": {},
   "outputs": [],
   "source": [
    "# Predicting the Test set results\n",
    "y_pred = grid_search.best_estimator_.predict(X_test)"
   ]
  },
  {
   "cell_type": "code",
   "execution_count": null,
   "id": "84776b55",
   "metadata": {},
   "outputs": [],
   "source": [
    "# Making the Confusion Matrix\n",
    "from sklearn.metrics import confusion_matrix\n",
    "cm = confusion_matrix(y_test, y_pred)\n",
    "cm"
   ]
  },
  {
   "cell_type": "code",
   "execution_count": null,
   "id": "e573f770",
   "metadata": {},
   "outputs": [],
   "source": [
    "confusion_matrix_df = pd.DataFrame(confusion_matrix(y_test, y_pred)).rename(columns=idx2class, index=idx2class)\n"
   ]
  },
  {
   "cell_type": "code",
   "execution_count": null,
   "id": "d851199f",
   "metadata": {},
   "outputs": [],
   "source": [
    "sns.heatmap(confusion_matrix_df, annot=True)"
   ]
  },
  {
   "cell_type": "code",
   "execution_count": null,
   "id": "4c660215",
   "metadata": {},
   "outputs": [],
   "source": [
    "target_names = { k for k, v in class2idx.items()}\n",
    "f1score = classification_report(y_test, y_pred, target_names=target_names)\n",
    "print(f1score)"
   ]
  },
  {
   "cell_type": "code",
   "execution_count": null,
   "id": "a4841041",
   "metadata": {},
   "outputs": [],
   "source": [
    "sns.heatmap(confusion_matrix_df/np.sum(confusion_matrix_df), annot=True, \n",
    "            fmt='.2%', cmap='Blues')\n",
    "plt.title('Confusion Matrix')\n",
    "\n",
    "#,  ax=axes[0]).set_title('Train-Val Accuracy/Epoch'\n",
    "\n",
    "\n",
    "plt.savefig(figuredir +\"confusion_matrix1.png\", bbox_inches='tight', dpi=600)\n",
    "plt.show()"
   ]
  },
  {
   "cell_type": "code",
   "execution_count": 32,
   "id": "b23f1470",
   "metadata": {},
   "outputs": [],
   "source": [
    "from sklearn.svm import SVC\n",
    "from sklearn.multiclass import OneVsRestClassifier"
   ]
  },
  {
   "cell_type": "code",
   "execution_count": 33,
   "id": "3498bcf3",
   "metadata": {},
   "outputs": [],
   "source": [
    "#{'C': [1000], 'kernel': ['rbf'], 'gamma': [0.9]}\n",
    "clf = OneVsRestClassifier(SVC(kernel='rbf', probability=True, class_weight='balanced', gamma= 0.9, C=1000 ), n_jobs=-1)"
   ]
  },
  {
   "cell_type": "code",
   "execution_count": 34,
   "id": "48ef949d",
   "metadata": {},
   "outputs": [
    {
     "data": {
      "text/plain": [
       "OneVsRestClassifier(estimator=SVC(C=1000, class_weight='balanced', gamma=0.9,\n",
       "                                  probability=True),\n",
       "                    n_jobs=-1)"
      ]
     },
     "execution_count": 34,
     "metadata": {},
     "output_type": "execute_result"
    }
   ],
   "source": [
    "clf.fit(X_train, y_train)"
   ]
  },
  {
   "cell_type": "code",
   "execution_count": 35,
   "id": "59953c49",
   "metadata": {},
   "outputs": [],
   "source": [
    "# Predicting the Test set results\n",
    "y_pred = clf.predict(X_test)"
   ]
  },
  {
   "cell_type": "code",
   "execution_count": 36,
   "id": "f5a70326",
   "metadata": {},
   "outputs": [
    {
     "data": {
      "text/plain": [
       "array([[25971,     0,  7616],\n",
       "       [    0, 33492,    19],\n",
       "       [ 7389,     0, 26411]], dtype=int64)"
      ]
     },
     "execution_count": 36,
     "metadata": {},
     "output_type": "execute_result"
    }
   ],
   "source": [
    "# Making the Confusion Matrix\n",
    "from sklearn.metrics import confusion_matrix\n",
    "cm = confusion_matrix(y_test, y_pred)\n",
    "cm"
   ]
  },
  {
   "cell_type": "code",
   "execution_count": 37,
   "id": "b54ed15a",
   "metadata": {},
   "outputs": [
    {
     "name": "stdout",
     "output_type": "stream",
     "text": [
      "              precision    recall  f1-score   support\n",
      "\n",
      "   Innerrace       0.78      0.77      0.78     33587\n",
      "   Outerrace       1.00      1.00      1.00     33511\n",
      "        Ball       0.78      0.78      0.78     33800\n",
      "\n",
      "    accuracy                           0.85    100898\n",
      "   macro avg       0.85      0.85      0.85    100898\n",
      "weighted avg       0.85      0.85      0.85    100898\n",
      "\n"
     ]
    }
   ],
   "source": [
    "target_names = { k for k, v in class2idx.items()}\n",
    "f1score = classification_report(y_test, y_pred, target_names=target_names)\n",
    "print(f1score)"
   ]
  },
  {
   "cell_type": "code",
   "execution_count": 38,
   "id": "cc347f40",
   "metadata": {},
   "outputs": [],
   "source": [
    "confusion_matrix_df = pd.DataFrame(confusion_matrix(y_test, y_pred)).rename(columns=idx2class, index=idx2class)\n"
   ]
  },
  {
   "cell_type": "code",
   "execution_count": 39,
   "id": "d479b09d",
   "metadata": {},
   "outputs": [
    {
     "data": {
      "image/png": "[encoded data removed]",
      "text/plain": [
       "<Figure size 432x288 with 2 Axes>"
      ]
     },
     "metadata": {
      "needs_background": "light"
     },
     "output_type": "display_data"
    }
   ],
   "source": [
    "sns.heatmap(confusion_matrix_df/np.sum(confusion_matrix_df), annot=True, \n",
    "            fmt='.2%', cmap='Blues')\n",
    "plt.title('Confusion Matrix')\n",
    "\n",
    "#,  ax=axes[0]).set_title('Train-Val Accuracy/Epoch'\n",
    "\n",
    "\n",
    "plt.savefig(figuredir +\"confusion_matrix2.png\", bbox_inches='tight', dpi=600)\n",
    "plt.show()"
   ]
  }
 ],
 "metadata": {
  "kernelspec": {
   "display_name": "Python 3",
   "language": "python",
   "name": "python3"
  },
  "language_info": {
   "codemirror_mode": {
    "name": "ipython",
    "version": 3
   },
   "file_extension": ".py",
   "mimetype": "text/x-python",
   "name": "python",
   "nbconvert_exporter": "python",
   "pygments_lexer": "ipython3",
   "version": "3.8.10"
  },
  "toc": {
   "base_numbering": 1,
   "nav_menu": {},
   "number_sections": true,
   "sideBar": true,
   "skip_h1_title": false,
   "title_cell": "Table of Contents",
   "title_sidebar": "Contents",
   "toc_cell": false,
   "toc_position": {},
   "toc_section_display": true,
   "toc_window_display": false
  }
 },
 "nbformat": 4,
 "nbformat_minor": 5
}
