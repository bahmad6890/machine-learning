{
 "cells": [
  {
   "cell_type": "markdown",
   "id": "illegal-houston",
   "metadata": {},
   "source": [
    "try with series column and three classes and ['BallFault', 'InnerFault', 'outerFault'] and two features speed , and vibration with accuracy of 86% with dropouts rows of same records in speed and vibration. now i make take equal distribution of classes with diffrent batch_size \n",
    "#https://michael-fuchs-python.netlify.app/2021/02/03/nn-multi-layer-perceptron-classifier-mlpclassifier/\n"
   ]
  },
  {
   "cell_type": "code",
   "execution_count": 27,
   "id": "e61b063a",
   "metadata": {},
   "outputs": [
    {
     "name": "stdout",
     "output_type": "stream",
     "text": [
      "../figures/MLPv13gr/ folder already exists.\n"
     ]
    }
   ],
   "source": [
    "\n",
    "#moving avg window\n",
    "#datasetdir = \"../datasets/allfaultdatasetfiltered13.csv\"\n",
    "figuredir = \"../figures/MLPv13gr/\"\n",
    "\n",
    "import os\n",
    "\n",
    "# You should change 'test' to your preferred folder.\n",
    "#CHECK_FOLDER = os.path.isdir(datasetdir)\n",
    "\n",
    "# You should change 'test' to your preferred folder.\n",
    "CHECK_FOLDER = os.path.isdir(figuredir)\n",
    "\n",
    "# If folder doesn't exist, then create it.\n",
    "if not CHECK_FOLDER:\n",
    "    os.makedirs(figuredir)\n",
    "    print(\"created folder : \", figuredir)\n",
    "\n",
    "else:\n",
    "    print(figuredir, \"folder already exists.\")\n"
   ]
  },
  {
   "cell_type": "code",
   "execution_count": 28,
   "id": "nearby-allowance",
   "metadata": {},
   "outputs": [],
   "source": [
    "import numpy as np\n",
    "import pandas as pd\n",
    "import seaborn as sns\n",
    "from tqdm.notebook import tqdm\n",
    "import matplotlib.pyplot as plt\n",
    "\n",
    "import torch\n",
    "import torch.nn as nn\n",
    "import torch.optim as optim\n",
    "from torch.utils.data import Dataset, DataLoader, WeightedRandomSampler\n",
    "\n",
    "from sklearn.preprocessing import MinMaxScaler    \n",
    "from sklearn.model_selection import train_test_split\n",
    "from sklearn.metrics import confusion_matrix, classification_report\n",
    "plt.rcParams[\"figure.figsize\"] = (15,8)"
   ]
  },
  {
   "cell_type": "code",
   "execution_count": 29,
   "id": "martial-insider",
   "metadata": {},
   "outputs": [
    {
     "data": {
      "text/plain": [
       "(      speed  vibration Faults\n",
       " 0  4.217042   0.003062   Ball\n",
       " 1  4.219672   0.004049   Ball\n",
       " 2  4.221645   0.001418   Ball\n",
       " 3  0.036346  -0.002199   Ball\n",
       " 4  0.036017  -0.003515   Ball,\n",
       " array(['Ball', 'Innerrace', 'Outerrace'], dtype=object))"
      ]
     },
     "execution_count": 29,
     "metadata": {},
     "output_type": "execute_result"
    }
   ],
   "source": [
    "#df = pd.read_csv(\"../datasets/allfaultdatasetfiltered13.csv\")\n",
    "## to rename outerfault \n",
    "df = pd.read_csv(\"../datasets/allfaultdatasetfiltered13.csv\", index_col =\"class\" )\n",
    "\"\"\"Droping Series Column which is no longer required \n",
    "https://pandas.pydata.org/pandas-docs/stable/reference/api/pandas.DataFrame.drop.html\n",
    "\n",
    "df.drop(['B', 'C'], axis=1)\n",
    "\n",
    "also rearrange columns order\n",
    "df = df[['speed','vibration','Faults']]\n",
    "\n",
    "#https://pandas.pydata.org/pandas-docs/stable/reference/api/pandas.DataFrame.rename.html\n",
    "#df.rename(columns={\"A\": \"a\", \"B\": \"c\"})\n",
    "\"\"\"\n",
    "df = df.drop(['series'], axis=1)\n",
    "df = df.rename(index={'BallFault':'Ball'})\n",
    "df = df.rename(index={'InnerFault':'Innerrace'})\n",
    "df = df.rename(index={'outerFault':'Outerrace'})\n",
    "df = df.reset_index()\n",
    "df = df.rename(columns  ={'class':'Faults'})\n",
    "df = df[['speed','vibration','Faults']]\n",
    "df.head() , df['Faults'].unique()\n"
   ]
  },
  {
   "cell_type": "code",
   "execution_count": 30,
   "id": "orange-grocery",
   "metadata": {},
   "outputs": [],
   "source": [
    "#Re ordering column\n",
    "\n",
    "#df = df[[\"speed\", \"vibration\", \"series\", \"class\"]]"
   ]
  },
  {
   "cell_type": "code",
   "execution_count": 31,
   "id": "needed-council",
   "metadata": {},
   "outputs": [
    {
     "data": {
      "text/plain": [
       "<bound method DataFrame.info of             speed  vibration     Faults\n",
       "0        4.217042   0.003062       Ball\n",
       "1        4.219672   0.004049       Ball\n",
       "2        4.221645   0.001418       Ball\n",
       "3        0.036346  -0.002199       Ball\n",
       "4        0.036017  -0.003515       Ball\n",
       "...           ...        ...        ...\n",
       "5667608  4.202576  -0.004830  Outerrace\n",
       "5667609  4.198959  -0.003515  Outerrace\n",
       "5667610  4.279838  -0.002857  Outerrace\n",
       "5667611  0.037332  -0.006146  Outerrace\n",
       "5667612  0.037661  -0.009105  Outerrace\n",
       "\n",
       "[5667613 rows x 3 columns]>"
      ]
     },
     "execution_count": 31,
     "metadata": {},
     "output_type": "execute_result"
    }
   ],
   "source": [
    "df.info"
   ]
  },
  {
   "cell_type": "code",
   "execution_count": 32,
   "id": "incorporate-plenty",
   "metadata": {},
   "outputs": [],
   "source": [
    "#healthy = healthy.rename(columns={\"vsH\": \"speed\", \"vbH\": \"vibration\"})"
   ]
  },
  {
   "cell_type": "code",
   "execution_count": 33,
   "id": "minus-mileage",
   "metadata": {},
   "outputs": [],
   "source": [
    "# it change style and colour for graph \n",
    "#from yellowbrick.classifier import ClassificationReport\n",
    "## OverflowError: Exceeded cell block limit (set 'agg.path.chunksize' rcparam)\n",
    "plt.rcParams['agg.path.chunksize'] = 100000"
   ]
  },
  {
   "cell_type": "markdown",
   "id": "1e8b97ae",
   "metadata": {},
   "source": [
    "sns.countplot(x = 'Faults', data=df )\n",
    "\n",
    "# to save plots in high ddefinition \n",
    "#plt.savefig(\"../figures/class_distribution_beforedropouts.png\")\n",
    "plt.ylabel(\"Records\")\n",
    "plt.savefig(\"../figures/class_distribution_beforedropouts.png\", bbox_inches='tight', dpi=1200)\n",
    "plt.show()"
   ]
  },
  {
   "cell_type": "code",
   "execution_count": 34,
   "id": "emotional-wisconsin",
   "metadata": {},
   "outputs": [],
   "source": [
    "#df['Faults'].unique()"
   ]
  },
  {
   "cell_type": "markdown",
   "id": "92d47353",
   "metadata": {},
   "source": [
    "#df['vibration'].plot(color='b',figsize = (8,8))\n",
    "\n",
    "g = sns.lineplot(x=\"speed\", y=\"vibration\",hue= 'Faults',\n",
    "                data=df.reset_index(), palette=\"tab10\" , alpha = 0.2)\n",
    "\n",
    "plt.legend(loc=2)\n",
    "plt.ylabel(\"Vibration\")\n",
    "plt.xlabel(\"Speed\")\n",
    "plt.tick_params(axis='both',labelsize=14)\n",
    "\n",
    "g.legend(loc= 'upper right')\n",
    "g.legend_.set_title('Faults')\n",
    "\n",
    "plt.savefig(\"../figures/vibration vs speed.png\", bbox_inches='tight', dpi=600)"
   ]
  },
  {
   "cell_type": "markdown",
   "id": "2d7238f2",
   "metadata": {},
   "source": [
    "sns.boxplot(x = 'Faults',y = 'vibration', data=df.reset_index())"
   ]
  },
  {
   "cell_type": "markdown",
   "id": "b599acfc",
   "metadata": {},
   "source": [
    "#df['vibration'].plot(color='b',figsize = (8,8))\n",
    "\n",
    "g = sns.lineplot(x=\"index\", y=\"vibration\",hue= 'Faults',\n",
    "                data=df.reset_index(), palette=\"tab10\")\n",
    "\n",
    "plt.legend(loc=2)\n",
    "plt.ylabel(\"Vibration\")\n",
    "plt.xlabel(\"Timestamp\")\n",
    "plt.tick_params(axis='both',labelsize=14)\n",
    "\n",
    "g.legend(loc= 'upper right')\n",
    "g.legend_.set_title('Faults')\n",
    "\n",
    "plt.savefig(\"../figures/vibration_beforedropouts.png\", bbox_inches='tight', dpi=1200)"
   ]
  },
  {
   "cell_type": "code",
   "execution_count": 35,
   "id": "coastal-village",
   "metadata": {},
   "outputs": [
    {
     "name": "stdout",
     "output_type": "stream",
     "text": [
      "            speed  vibration     Faults\n",
      "0        4.217042   0.003062       Ball\n",
      "1        4.219672   0.004049       Ball\n",
      "2        4.221645   0.001418       Ball\n",
      "3        0.036346  -0.002199       Ball\n",
      "4        0.036017  -0.003515       Ball\n",
      "...           ...        ...        ...\n",
      "5667456  4.151615  -0.016340  Outerrace\n",
      "5667459  2.739196  -0.009105  Outerrace\n",
      "5667542  3.131096  -0.001213  Outerrace\n",
      "5667560  1.329083  -0.000555  Outerrace\n",
      "5667578  0.155362   0.001747  Outerrace\n",
      "\n",
      "[757558 rows x 3 columns]\n"
     ]
    }
   ],
   "source": [
    "df = df.drop_duplicates(subset = [\"speed\", 'vibration'])\n",
    "\n",
    "print(df)"
   ]
  },
  {
   "cell_type": "markdown",
   "id": "8b58c352",
   "metadata": {},
   "source": [
    "sns.countplot(x = 'Faults', data=df)\n",
    "\n",
    "# to save plots in high ddefinition \n",
    "#plt.savefig(\"../figures/class_distribution_beforedropouts.png\")\n",
    "plt.ylabel(\"Records\")\n",
    "plt.savefig(figuredir + \"class_distribution_afterdropouts.png\", bbox_inches='tight', dpi=600)\n",
    "plt.show()"
   ]
  },
  {
   "cell_type": "code",
   "execution_count": 36,
   "id": "twenty-attack",
   "metadata": {},
   "outputs": [
    {
     "name": "stdout",
     "output_type": "stream",
     "text": [
      "203913\n",
      "451728\n",
      "101917\n"
     ]
    }
   ],
   "source": [
    "#['BallFault', 'InnerFault', 'outerFault']\n",
    "\n",
    "BallFaultlenght = len(df[df['Faults']=='Ball'])\n",
    "InnerFaultlenght = len(df[df['Faults']=='Innerrace'])\n",
    "outerFaultlenght = len(df[df['Faults']=='Outerrace'])\n",
    "\n",
    "\n",
    "#BallFaultlenght = 20000\n",
    "#InnerFaultlenght = 20000 \n",
    "#outerFaultlenght = 20000\n",
    "\n",
    "print(BallFaultlenght)\n",
    "print(InnerFaultlenght)\n",
    "print(outerFaultlenght)"
   ]
  },
  {
   "cell_type": "code",
   "execution_count": 37,
   "id": "african-jewelry",
   "metadata": {},
   "outputs": [
    {
     "data": {
      "text/plain": [
       "(           speed  vibration Faults\n",
       " 0       4.217042   0.003062   Ball\n",
       " 1       4.219672   0.004049   Ball\n",
       " 2       4.221645   0.001418   Ball\n",
       " 3       0.036346  -0.002199   Ball\n",
       " 4       0.036017  -0.003515   Ball\n",
       " ...          ...        ...    ...\n",
       " 722641  4.187452  -0.021273   Ball\n",
       " 722642  4.264386  -0.022588   Ball\n",
       " 722651  4.092436  -0.007790   Ball\n",
       " 722681  4.127286  -0.019957   Ball\n",
       " 722682  4.229864  -0.020944   Ball\n",
       " \n",
       " [101917 rows x 3 columns],\n",
       "             speed  vibration     Faults\n",
       " 1889180  0.037990   0.248711  Innerrace\n",
       " 1889181  0.037661   0.249040  Innerrace\n",
       " 1889182  0.037990   0.248382  Innerrace\n",
       " 1889183  0.037661   0.250355  Innerrace\n",
       " 1889184  0.037332   0.251013  Innerrace\n",
       " ...           ...        ...        ...\n",
       " 2223245  4.086847   0.223390  Innerrace\n",
       " 2223248  4.106573   0.223719  Innerrace\n",
       " 2223250  1.064749   0.230624  Innerrace\n",
       " 2223257  4.159177   0.201357  Innerrace\n",
       " 2223259  4.242358   0.189847  Innerrace\n",
       " \n",
       " [101917 rows x 3 columns],\n",
       "             speed  vibration     Faults\n",
       " 3778494  4.272934  -0.005159  Outerrace\n",
       " 3778506  4.283126  -0.002528  Outerrace\n",
       " 3778507  4.287729  -0.002857  Outerrace\n",
       " 3778518  4.271947   0.003720  Outerrace\n",
       " 3778529  4.287071   0.001747  Outerrace\n",
       " ...           ...        ...        ...\n",
       " 5667456  4.151615  -0.016340  Outerrace\n",
       " 5667459  2.739196  -0.009105  Outerrace\n",
       " 5667542  3.131096  -0.001213  Outerrace\n",
       " 5667560  1.329083  -0.000555  Outerrace\n",
       " 5667578  0.155362   0.001747  Outerrace\n",
       " \n",
       " [101917 rows x 3 columns])"
      ]
     },
     "execution_count": 37,
     "metadata": {},
     "output_type": "execute_result"
    }
   ],
   "source": [
    "\n",
    "newBallFault = df[df['Faults']=='Ball'].iloc[0:outerFaultlenght]\n",
    "newInnerFault = df[df['Faults']=='Innerrace'].iloc[0:outerFaultlenght]\n",
    "newouterFault = df[df['Faults']=='Outerrace'].iloc[0:outerFaultlenght]\n",
    "\n",
    "\n",
    "newBallFault , newInnerFault , newouterFault"
   ]
  },
  {
   "cell_type": "code",
   "execution_count": 38,
   "id": "configured-domain",
   "metadata": {},
   "outputs": [
    {
     "data": {
      "text/plain": [
       "<bound method NDFrame.tail of             speed  vibration     Faults\n",
       "0        4.217042   0.003062       Ball\n",
       "1        4.219672   0.004049       Ball\n",
       "2        4.221645   0.001418       Ball\n",
       "3        0.036346  -0.002199       Ball\n",
       "4        0.036017  -0.003515       Ball\n",
       "...           ...        ...        ...\n",
       "5667456  4.151615  -0.016340  Outerrace\n",
       "5667459  2.739196  -0.009105  Outerrace\n",
       "5667542  3.131096  -0.001213  Outerrace\n",
       "5667560  1.329083  -0.000555  Outerrace\n",
       "5667578  0.155362   0.001747  Outerrace\n",
       "\n",
       "[305751 rows x 3 columns]>"
      ]
     },
     "execution_count": 38,
     "metadata": {},
     "output_type": "execute_result"
    }
   ],
   "source": [
    "new_df = newBallFault\n",
    "new_df = new_df.append(newInnerFault)\n",
    "new_df = new_df.append(newouterFault)\n",
    "\n",
    "\n",
    "new_df.tail"
   ]
  },
  {
   "cell_type": "code",
   "execution_count": 39,
   "id": "complimentary-shuttle",
   "metadata": {},
   "outputs": [],
   "source": [
    "df = new_df"
   ]
  },
  {
   "cell_type": "markdown",
   "id": "817c7a00",
   "metadata": {},
   "source": [
    "#df['vibration'].plot(color='b',figsize = (8,8))\n",
    "\n",
    "g = sns.lineplot(x=\"speed\", y=\"vibration\",hue= 'Faults',\n",
    "                data=df.reset_index(), palette=\"tab10\")\n",
    "\n",
    "plt.legend(loc=2)\n",
    "plt.ylabel(\"Vibration\")\n",
    "plt.xlabel(\"Speed\")\n",
    "plt.tick_params(axis='both',labelsize=14)\n",
    "\n",
    "g.legend(loc= 'upper right')\n",
    "g.legend_.set_title('Faults')\n",
    "\n",
    "plt.savefig(\"../figures/vibration vs speed afterdropouts.png\", bbox_inches='tight', dpi=1200)"
   ]
  },
  {
   "cell_type": "markdown",
   "id": "52718651",
   "metadata": {},
   "source": [
    "#df['vibration'].plot(color='b',figsize = (8,8))\n",
    "\n",
    "g = sns.lineplot(x=\"index\", y=\"vibration\",hue= 'Faults',\n",
    "                data=df.reset_index(), palette=\"tab10\")\n",
    "\n",
    "plt.legend(loc=2)\n",
    "plt.ylabel(\"Vibration\")\n",
    "plt.xlabel(\"Timestamp\")\n",
    "plt.tick_params(axis='both',labelsize=14)\n",
    "\n",
    "g.legend(loc= 'upper right')\n",
    "g.legend_.set_title('Faults')\n",
    "\n",
    "plt.savefig(\"../figures/vibration_afterdropouts.png\", bbox_inches='tight', dpi=1200)"
   ]
  },
  {
   "cell_type": "markdown",
   "id": "1e234222",
   "metadata": {},
   "source": [
    "sns.countplot(x = 'Faults', data=df)\n",
    "\n",
    "# to save plots in high ddefinition \n",
    "#plt.savefig(\"../figures/class_distribution_beforedropouts.png\")\n",
    "plt.ylabel('Records')\n",
    "plt.savefig(figuredir + \"class_distribution_after_equal_distribution.png\", bbox_inches='tight', dpi=600)\n",
    "plt.show()"
   ]
  },
  {
   "cell_type": "code",
   "execution_count": null,
   "id": "d295ab5a",
   "metadata": {},
   "outputs": [],
   "source": [
    "class2idx = {\n",
    "    \"Ball\":0,\n",
    "    \"Innerrace\":1,\n",
    "    \"Outerrace\":2\n",
    "\n",
    "}\n",
    "\n",
    "idx2class = {v: k for k, v in class2idx.items()}\n",
    "\n",
    "#df['Faults'].replace(class2idx, inplace=True)\n",
    "#df['Faults'].unique()"
   ]
  },
  {
   "cell_type": "code",
   "execution_count": 40,
   "id": "unable-range",
   "metadata": {},
   "outputs": [
    {
     "data": {
      "text/plain": [
       "(      speed  vibration\n",
       " 0  4.217042   0.003062\n",
       " 1  4.219672   0.004049\n",
       " 2  4.221645   0.001418\n",
       " 3  0.036346  -0.002199\n",
       " 4  0.036017  -0.003515,\n",
       " 0    Ball\n",
       " 1    Ball\n",
       " 2    Ball\n",
       " 3    Ball\n",
       " 4    Ball\n",
       " Name: Faults, dtype: object)"
      ]
     },
     "execution_count": 40,
     "metadata": {},
     "output_type": "execute_result"
    }
   ],
   "source": [
    "# droping series\n",
    "X = df.iloc[:, 0:-1]\n",
    "y = df.iloc[:, -1]\n",
    "X.head() , y.head()"
   ]
  },
  {
   "cell_type": "code",
   "execution_count": 41,
   "id": "restricted-garage",
   "metadata": {},
   "outputs": [
    {
     "data": {
      "text/plain": [
       "(array(['Ball', 'Innerrace', 'Outerrace'], dtype=object), 3)"
      ]
     },
     "execution_count": 41,
     "metadata": {},
     "output_type": "execute_result"
    }
   ],
   "source": [
    "y.unique() , len(y.unique())"
   ]
  },
  {
   "cell_type": "code",
   "execution_count": 42,
   "id": "792be930",
   "metadata": {},
   "outputs": [],
   "source": [
    "import pandas as pd\n",
    "\n",
    "import matplotlib.pyplot as plt\n",
    "\n",
    "from sklearn.model_selection import train_test_split\n",
    "from sklearn.preprocessing import StandardScaler\n",
    "\n",
    "\n",
    "from sklearn.neural_network import MLPClassifier\n",
    "\n",
    "from sklearn.metrics import accuracy_score\n",
    "from sklearn.metrics import plot_confusion_matrix\n",
    "from sklearn.metrics import classification_report\n",
    "\n",
    "from sklearn.model_selection import GridSearchCV"
   ]
  },
  {
   "cell_type": "code",
   "execution_count": 50,
   "id": "b4d03f33",
   "metadata": {},
   "outputs": [],
   "source": [
    "trainX, testX, trainY, testY = train_test_split(X, y, test_size = 0.33)"
   ]
  },
  {
   "cell_type": "code",
   "execution_count": 51,
   "id": "63c24c69",
   "metadata": {},
   "outputs": [],
   "source": [
    "sc=StandardScaler()\n",
    "\n",
    "scaler = sc.fit(trainX)\n",
    "trainX_scaled = scaler.transform(trainX)\n",
    "testX_scaled = scaler.transform(testX)"
   ]
  },
  {
   "cell_type": "code",
   "execution_count": 52,
   "id": "77589bd5",
   "metadata": {},
   "outputs": [
    {
     "data": {
      "text/plain": [
       "MLPClassifier(hidden_layer_sizes=(150, 100, 50), max_iter=300)"
      ]
     },
     "execution_count": 52,
     "metadata": {},
     "output_type": "execute_result"
    }
   ],
   "source": [
    "mlp_clf = MLPClassifier(hidden_layer_sizes=(150,100,50),\n",
    "                        max_iter = 300,activation = 'relu',\n",
    "                        solver = 'adam')\n",
    "\n",
    "mlp_clf.fit(trainX_scaled, trainY)"
   ]
  },
  {
   "cell_type": "code",
   "execution_count": 53,
   "id": "c39e25c2",
   "metadata": {},
   "outputs": [
    {
     "name": "stdout",
     "output_type": "stream",
     "text": [
      "Accuracy: 0.87\n"
     ]
    }
   ],
   "source": [
    "y_pred = mlp_clf.predict(testX_scaled)\n",
    "\n",
    "print('Accuracy: {:.2f}'.format(accuracy_score(testY, y_pred)))"
   ]
  },
  {
   "cell_type": "markdown",
   "id": "fb2833e1",
   "metadata": {},
   "source": [
    "confusion_matrix_df = pd.DataFrame(confusion_matrix(mlp_clf, testX_scaled, testY)).rename(columns=idx2class, index=idx2class)\n",
    "sns.heatmap(confusion_matrix_df, annot=True)\n",
    "\n",
    "target_names = { k for k, v in class2idx.items()}\n",
    "f1score = classification_report(testY, y_pred, target_names=target_names)\n",
    "print(f1score)"
   ]
  },
  {
   "cell_type": "code",
   "execution_count": 54,
   "id": "ca9d1130",
   "metadata": {},
   "outputs": [
    {
     "data": {
      "image/png": "[encoded data removed]",
      "text/plain": [
       "<Figure size 1080x576 with 2 Axes>"
      ]
     },
     "metadata": {
      "needs_background": "light"
     },
     "output_type": "display_data"
    }
   ],
   "source": [
    "fig = plot_confusion_matrix(mlp_clf, testX_scaled, testY, display_labels=mlp_clf.classes_)\n",
    "fig.figure_.suptitle(\"Confusion Matrix for Iris Dataset\")\n",
    "plt.show()"
   ]
  },
  {
   "cell_type": "code",
   "execution_count": 55,
   "id": "29459423",
   "metadata": {},
   "outputs": [
    {
     "name": "stdout",
     "output_type": "stream",
     "text": [
      "              precision    recall  f1-score   support\n",
      "\n",
      "        Ball       0.86      0.73      0.79     33370\n",
      "   Innerrace       1.00      1.00      1.00     33900\n",
      "   Outerrace       0.76      0.88      0.82     33628\n",
      "\n",
      "    accuracy                           0.87    100898\n",
      "   macro avg       0.87      0.87      0.87    100898\n",
      "weighted avg       0.87      0.87      0.87    100898\n",
      "\n"
     ]
    }
   ],
   "source": [
    "print(classification_report(testY, y_pred))"
   ]
  },
  {
   "cell_type": "code",
   "execution_count": 56,
   "id": "c9fe4744",
   "metadata": {},
   "outputs": [
    {
     "data": {
      "image/png": "[encoded data removed]",
      "text/plain": [
       "<Figure size 1080x576 with 1 Axes>"
      ]
     },
     "metadata": {
      "needs_background": "light"
     },
     "output_type": "display_data"
    }
   ],
   "source": [
    "plt.plot(mlp_clf.loss_curve_)\n",
    "plt.title(\"Loss Curve\", fontsize=14)\n",
    "plt.xlabel('Iterations')\n",
    "plt.ylabel('Cost')\n",
    "plt.show()"
   ]
  },
  {
   "cell_type": "code",
   "execution_count": 57,
   "id": "3b27d40f",
   "metadata": {},
   "outputs": [],
   "source": [
    "param_grid = {\n",
    "    'hidden_layer_sizes': [(512,128,64),(150,100,50), (120,80,40), (100,50,30)],\n",
    "    'max_iter': [50, 100, 150],\n",
    "    'activation': ['tanh', 'relu'],\n",
    "    'solver': ['sgd', 'adam'],\n",
    "    'alpha': [0.0001, 0.0007, 0.05],\n",
    "    'learning_rate': ['constant','adaptive'],\n",
    "}"
   ]
  },
  {
   "cell_type": "code",
   "execution_count": 58,
   "id": "340d4032",
   "metadata": {},
   "outputs": [
    {
     "name": "stdout",
     "output_type": "stream",
     "text": [
      "{'activation': 'relu', 'alpha': 0.0001, 'hidden_layer_sizes': (100, 50, 30), 'learning_rate': 'adaptive', 'max_iter': 100, 'solver': 'adam'}\n"
     ]
    }
   ],
   "source": [
    "grid = GridSearchCV(mlp_clf, param_grid, n_jobs= -1, cv=5)\n",
    "grid.fit(trainX_scaled, trainY)\n",
    "\n",
    "print(grid.best_params_) "
   ]
  },
  {
   "cell_type": "code",
   "execution_count": 59,
   "id": "0999a26e",
   "metadata": {},
   "outputs": [
    {
     "name": "stdout",
     "output_type": "stream",
     "text": [
      "Accuracy: 0.86\n"
     ]
    }
   ],
   "source": [
    "grid_predictions = grid.predict(testX_scaled) \n",
    "\n",
    "print('Accuracy: {:.2f}'.format(accuracy_score(testY, grid_predictions)))"
   ]
  },
  {
   "cell_type": "markdown",
   "id": "78ea6bbf",
   "metadata": {},
   "source": [
    "## new test "
   ]
  },
  {
   "cell_type": "code",
   "execution_count": null,
   "id": "6390f35a",
   "metadata": {},
   "outputs": [],
   "source": [
    "trainX, testX, trainY, testY = train_test_split(X, y, test_size = 0.33)"
   ]
  },
  {
   "cell_type": "code",
   "execution_count": 60,
   "id": "3dbb07c1",
   "metadata": {},
   "outputs": [],
   "source": [
    "sc=StandardScaler()\n",
    "\n",
    "scaler = sc.fit(trainX)\n",
    "trainX_scaled = scaler.transform(trainX)\n",
    "testX_scaled = scaler.transform(testX)"
   ]
  },
  {
   "cell_type": "code",
   "execution_count": 61,
   "id": "692d3018",
   "metadata": {},
   "outputs": [
    {
     "data": {
      "text/plain": [
       "MLPClassifier(hidden_layer_sizes=(100, 50, 30), learning_rate='adaptive',\n",
       "              max_iter=100)"
      ]
     },
     "execution_count": 61,
     "metadata": {},
     "output_type": "execute_result"
    }
   ],
   "source": [
    "mlp_clf = MLPClassifier(hidden_layer_sizes=(100,50,30),\n",
    "                        max_iter = 100,activation = 'relu',\n",
    "                        solver = 'adam',alpha= 0.0001 , learning_rate= 'adaptive'\n",
    "                       )\n",
    "\n",
    "mlp_clf.fit(trainX_scaled, trainY)"
   ]
  },
  {
   "cell_type": "code",
   "execution_count": 62,
   "id": "0b4a640f",
   "metadata": {},
   "outputs": [
    {
     "name": "stdout",
     "output_type": "stream",
     "text": [
      "Accuracy: 0.87\n"
     ]
    }
   ],
   "source": [
    "y_pred = mlp_clf.predict(testX_scaled)\n",
    "\n",
    "print('Accuracy: {:.2f}'.format(accuracy_score(testY, y_pred)))"
   ]
  },
  {
   "cell_type": "code",
   "execution_count": 65,
   "id": "881fa745",
   "metadata": {},
   "outputs": [
    {
     "data": {
      "image/png": "[encoded data removed]",
      "text/plain": [
       "<Figure size 1080x576 with 1 Axes>"
      ]
     },
     "metadata": {
      "needs_background": "light"
     },
     "output_type": "display_data"
    }
   ],
   "source": [
    "plt.plot(mlp_clf.loss_curve_)\n",
    "plt.title(\"Loss Curve\", fontsize=14)\n",
    "plt.xlabel('Iterations')\n",
    "plt.ylabel('Cost')\n",
    "plt.show()\n"
   ]
  },
  {
   "cell_type": "code",
   "execution_count": 76,
   "id": "a58fc708",
   "metadata": {},
   "outputs": [],
   "source": [
    "class2idx = {\n",
    "    \"Ball\":0,\n",
    "    \"Innerrace\":1,\n",
    "    \"Outerrace\":2\n",
    "\n",
    "}\n",
    "\n",
    "idx2class = {v: k for k, v in class2idx.items()}\n",
    "\n",
    "#df['Faults'].replace(class2idx, inplace=True)\n",
    "#df['Faults'].unique()"
   ]
  },
  {
   "cell_type": "code",
   "execution_count": 79,
   "id": "79184938",
   "metadata": {},
   "outputs": [
    {
     "name": "stdout",
     "output_type": "stream",
     "text": [
      "              precision    recall  f1-score   support\n",
      "\n",
      "   Innerrace       0.85      0.74      0.79     33370\n",
      "        Ball       1.00      1.00      1.00     33900\n",
      "   Outerrace       0.77      0.87      0.82     33628\n",
      "\n",
      "    accuracy                           0.87    100898\n",
      "   macro avg       0.87      0.87      0.87    100898\n",
      "weighted avg       0.87      0.87      0.87    100898\n",
      "\n"
     ]
    }
   ],
   "source": [
    "confusion_matrix_df = pd.DataFrame(confusion_matrix(testY, y_pred)).rename(columns=idx2class, index=idx2class)\n",
    "target_names = { k for k, v in class2idx.items()}\n",
    "f1score = classification_report(testY, y_pred, target_names=target_names)\n",
    "print(f1score)"
   ]
  },
  {
   "cell_type": "code",
   "execution_count": 81,
   "id": "35007c2c",
   "metadata": {},
   "outputs": [
    {
     "data": {
      "image/png": "[encoded data removed]",
      "text/plain": [
       "<Figure size 1080x576 with 2 Axes>"
      ]
     },
     "metadata": {
      "needs_background": "light"
     },
     "output_type": "display_data"
    }
   ],
   "source": [
    "sns.heatmap(confusion_matrix_df/np.sum(confusion_matrix_df), annot=True, \n",
    "            fmt='.2%', cmap='Blues')\n",
    "#plt.title('Confusion Matrix')\n",
    "\n",
    "#,  ax=axes[0]).set_title('Train-Val Accuracy/Epoch'\n",
    "\n",
    "\n",
    "plt.savefig(figuredir + \"confusion_matrix1.png\", bbox_inches='tight', dpi=600)\n",
    "plt.show()\n"
   ]
  },
  {
   "cell_type": "markdown",
   "id": "b9f70a6f",
   "metadata": {},
   "source": [
    "## new test "
   ]
  },
  {
   "cell_type": "code",
   "execution_count": 83,
   "id": "b759a952",
   "metadata": {},
   "outputs": [],
   "source": [
    "trainX, testX, trainY, testY = train_test_split(X, y, test_size = 0.2)"
   ]
  },
  {
   "cell_type": "code",
   "execution_count": 84,
   "id": "d8ce958a",
   "metadata": {},
   "outputs": [],
   "source": [
    "sc=StandardScaler()\n",
    "\n",
    "scaler = sc.fit(trainX)\n",
    "trainX_scaled = scaler.transform(trainX)\n",
    "testX_scaled = scaler.transform(testX)"
   ]
  },
  {
   "cell_type": "code",
   "execution_count": 85,
   "id": "f68910a8",
   "metadata": {},
   "outputs": [
    {
     "data": {
      "text/plain": [
       "MLPClassifier(hidden_layer_sizes=(100, 50, 30), learning_rate='adaptive',\n",
       "              max_iter=100)"
      ]
     },
     "execution_count": 85,
     "metadata": {},
     "output_type": "execute_result"
    }
   ],
   "source": [
    "mlp_clf = MLPClassifier(hidden_layer_sizes=(100,50,30),\n",
    "                        max_iter = 100,activation = 'relu',\n",
    "                        solver = 'adam',alpha= 0.0001 , learning_rate= 'adaptive'\n",
    "                       )\n",
    "\n",
    "mlp_clf.fit(trainX_scaled, trainY)"
   ]
  },
  {
   "cell_type": "code",
   "execution_count": 86,
   "id": "4cde20fe",
   "metadata": {},
   "outputs": [
    {
     "name": "stdout",
     "output_type": "stream",
     "text": [
      "Accuracy: 0.87\n"
     ]
    }
   ],
   "source": [
    "y_pred = mlp_clf.predict(testX_scaled)\n",
    "\n",
    "print('Accuracy: {:.2f}'.format(accuracy_score(testY, y_pred)))"
   ]
  },
  {
   "cell_type": "code",
   "execution_count": 87,
   "id": "2c0903d1",
   "metadata": {},
   "outputs": [
    {
     "data": {
      "image/png": "[encoded data removed]",
      "text/plain": [
       "<Figure size 1080x576 with 1 Axes>"
      ]
     },
     "metadata": {
      "needs_background": "light"
     },
     "output_type": "display_data"
    }
   ],
   "source": [
    "plt.plot(mlp_clf.loss_curve_)\n",
    "plt.title(\"Loss Curve\", fontsize=14)\n",
    "plt.xlabel('Iterations')\n",
    "plt.ylabel('Cost')\n",
    "plt.show()\n"
   ]
  },
  {
   "cell_type": "code",
   "execution_count": 88,
   "id": "c70f4d64",
   "metadata": {},
   "outputs": [],
   "source": [
    "class2idx = {\n",
    "    \"Ball\":0,\n",
    "    \"Innerrace\":1,\n",
    "    \"Outerrace\":2\n",
    "\n",
    "}\n",
    "\n",
    "idx2class = {v: k for k, v in class2idx.items()}\n",
    "\n",
    "#df['Faults'].replace(class2idx, inplace=True)\n",
    "#df['Faults'].unique()"
   ]
  },
  {
   "cell_type": "code",
   "execution_count": 89,
   "id": "b76cd7a3",
   "metadata": {},
   "outputs": [
    {
     "name": "stdout",
     "output_type": "stream",
     "text": [
      "              precision    recall  f1-score   support\n",
      "\n",
      "   Innerrace       0.85      0.73      0.79     20452\n",
      "        Ball       1.00      1.00      1.00     20522\n",
      "   Outerrace       0.76      0.87      0.81     20177\n",
      "\n",
      "    accuracy                           0.87     61151\n",
      "   macro avg       0.87      0.87      0.87     61151\n",
      "weighted avg       0.87      0.87      0.87     61151\n",
      "\n"
     ]
    }
   ],
   "source": [
    "confusion_matrix_df = pd.DataFrame(confusion_matrix(testY, y_pred)).rename(columns=idx2class, index=idx2class)\n",
    "target_names = { k for k, v in class2idx.items()}\n",
    "f1score = classification_report(testY, y_pred, target_names=target_names)\n",
    "print(f1score)"
   ]
  },
  {
   "cell_type": "code",
   "execution_count": 90,
   "id": "f4b34041",
   "metadata": {
    "scrolled": true
   },
   "outputs": [
    {
     "data": {
      "image/png": "[encoded data removed]",
      "text/plain": [
       "<Figure size 1080x576 with 2 Axes>"
      ]
     },
     "metadata": {
      "needs_background": "light"
     },
     "output_type": "display_data"
    }
   ],
   "source": [
    "sns.heatmap(confusion_matrix_df/np.sum(confusion_matrix_df), annot=True, \n",
    "            fmt='.2%', cmap='Blues')\n",
    "#plt.title('Confusion Matrix')\n",
    "\n",
    "#,  ax=axes[0]).set_title('Train-Val Accuracy/Epoch'\n",
    "\n",
    "\n",
    "plt.savefig(figuredir + \"confusion_matrix1.png\", bbox_inches='tight', dpi=600)\n",
    "plt.show()\n"
   ]
  },
  {
   "cell_type": "markdown",
   "id": "12f1a095",
   "metadata": {},
   "source": [
    "## new test "
   ]
  },
  {
   "cell_type": "code",
   "execution_count": 91,
   "id": "6224b26e",
   "metadata": {},
   "outputs": [],
   "source": [
    "trainX, testX, trainY, testY = train_test_split(X, y, test_size = 0.36)"
   ]
  },
  {
   "cell_type": "code",
   "execution_count": 92,
   "id": "baed8a9a",
   "metadata": {},
   "outputs": [],
   "source": [
    "sc=StandardScaler()\n",
    "\n",
    "scaler = sc.fit(trainX)\n",
    "trainX_scaled = scaler.transform(trainX)\n",
    "testX_scaled = scaler.transform(testX)"
   ]
  },
  {
   "cell_type": "code",
   "execution_count": 93,
   "id": "ff1c0eaa",
   "metadata": {},
   "outputs": [
    {
     "data": {
      "text/plain": [
       "MLPClassifier(hidden_layer_sizes=(100, 50, 30), learning_rate='adaptive',\n",
       "              max_iter=100)"
      ]
     },
     "execution_count": 93,
     "metadata": {},
     "output_type": "execute_result"
    }
   ],
   "source": [
    "mlp_clf = MLPClassifier(hidden_layer_sizes=(100,50,30),\n",
    "                        max_iter = 100,activation = 'relu',\n",
    "                        solver = 'adam',alpha= 0.0001 , learning_rate= 'adaptive'\n",
    "                       )\n",
    "\n",
    "mlp_clf.fit(trainX_scaled, trainY)"
   ]
  },
  {
   "cell_type": "code",
   "execution_count": 94,
   "id": "e601ff0d",
   "metadata": {},
   "outputs": [
    {
     "name": "stdout",
     "output_type": "stream",
     "text": [
      "Accuracy: 0.87\n"
     ]
    }
   ],
   "source": [
    "y_pred = mlp_clf.predict(testX_scaled)\n",
    "\n",
    "print('Accuracy: {:.2f}'.format(accuracy_score(testY, y_pred)))"
   ]
  },
  {
   "cell_type": "code",
   "execution_count": 95,
   "id": "a1a72373",
   "metadata": {},
   "outputs": [
    {
     "data": {
      "image/png": "[encoded data removed]",
      "text/plain": [
       "<Figure size 1080x576 with 1 Axes>"
      ]
     },
     "metadata": {
      "needs_background": "light"
     },
     "output_type": "display_data"
    }
   ],
   "source": [
    "plt.plot(mlp_clf.loss_curve_)\n",
    "plt.title(\"Loss Curve\", fontsize=14)\n",
    "plt.xlabel('Iterations')\n",
    "plt.ylabel('Cost')\n",
    "plt.show()\n"
   ]
  },
  {
   "cell_type": "code",
   "execution_count": 96,
   "id": "14e255cf",
   "metadata": {},
   "outputs": [],
   "source": [
    "class2idx = {\n",
    "    \"Ball\":0,\n",
    "    \"Innerrace\":1,\n",
    "    \"Outerrace\":2\n",
    "\n",
    "}\n",
    "\n",
    "idx2class = {v: k for k, v in class2idx.items()}\n",
    "\n",
    "#df['Faults'].replace(class2idx, inplace=True)\n",
    "#df['Faults'].unique()"
   ]
  },
  {
   "cell_type": "code",
   "execution_count": 97,
   "id": "d54fd1ed",
   "metadata": {},
   "outputs": [
    {
     "name": "stdout",
     "output_type": "stream",
     "text": [
      "              precision    recall  f1-score   support\n",
      "\n",
      "   Innerrace       0.87      0.70      0.78     36815\n",
      "        Ball       1.00      1.00      1.00     36564\n",
      "   Outerrace       0.75      0.90      0.82     36692\n",
      "\n",
      "    accuracy                           0.87    110071\n",
      "   macro avg       0.87      0.87      0.86    110071\n",
      "weighted avg       0.87      0.87      0.86    110071\n",
      "\n"
     ]
    }
   ],
   "source": [
    "confusion_matrix_df = pd.DataFrame(confusion_matrix(testY, y_pred)).rename(columns=idx2class, index=idx2class)\n",
    "target_names = { k for k, v in class2idx.items()}\n",
    "f1score = classification_report(testY, y_pred, target_names=target_names)\n",
    "print(f1score)"
   ]
  },
  {
   "cell_type": "code",
   "execution_count": 98,
   "id": "181c60bd",
   "metadata": {},
   "outputs": [
    {
     "data": {
      "image/png": "[encoded data removed]",
      "text/plain": [
       "<Figure size 1080x576 with 2 Axes>"
      ]
     },
     "metadata": {
      "needs_background": "light"
     },
     "output_type": "display_data"
    }
   ],
   "source": [
    "sns.heatmap(confusion_matrix_df/np.sum(confusion_matrix_df), annot=True, \n",
    "            fmt='.2%', cmap='Blues')\n",
    "#plt.title('Confusion Matrix')\n",
    "\n",
    "#,  ax=axes[0]).set_title('Train-Val Accuracy/Epoch'\n",
    "\n",
    "\n",
    "plt.savefig(figuredir + \"confusion_matrix1.png\", bbox_inches='tight', dpi=600)\n",
    "plt.show()\n"
   ]
  }
 ],
 "metadata": {
  "kernelspec": {
   "display_name": "Python 3",
   "language": "python",
   "name": "python3"
  },
  "language_info": {
   "codemirror_mode": {
    "name": "ipython",
    "version": 3
   },
   "file_extension": ".py",
   "mimetype": "text/x-python",
   "name": "python",
   "nbconvert_exporter": "python",
   "pygments_lexer": "ipython3",
   "version": "3.8.10"
  },
  "toc": {
   "base_numbering": 1,
   "nav_menu": {},
   "number_sections": true,
   "sideBar": true,
   "skip_h1_title": false,
   "title_cell": "Table of Contents",
   "title_sidebar": "Contents",
   "toc_cell": false,
   "toc_position": {},
   "toc_section_display": true,
   "toc_window_display": false
  }
 },
 "nbformat": 4,
 "nbformat_minor": 5
}
