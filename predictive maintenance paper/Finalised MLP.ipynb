{
 "cells": [
  {
   "cell_type": "markdown",
   "id": "illegal-houston",
   "metadata": {},
   "source": [
    "try with series column and three classes and ['BallFault', 'InnerFault', 'outerFault'] and two features speed , and vibration with accuracy of 86% with dropouts rows of same records in speed and vibration. now i make take equal distribution of classes with diffrent batch_size \n"
   ]
  },
  {
   "cell_type": "code",
   "execution_count": 1,
   "id": "e61b063a",
   "metadata": {},
   "outputs": [
    {
     "name": "stdout",
     "output_type": "stream",
     "text": [
      "../figures/MLPv13/ folder already exists.\n"
     ]
    }
   ],
   "source": [
    "\n",
    "#moving avg window\n",
    "#datasetdir = \"../datasets/allfaultdatasetfiltered13.csv\"\n",
    "figuredir = \"../figures/MLPv13/\"\n",
    "\n",
    "import os\n",
    "\n",
    "# You should change 'test' to your preferred folder.\n",
    "#CHECK_FOLDER = os.path.isdir(datasetdir)\n",
    "\n",
    "# You should change 'test' to your preferred folder.\n",
    "CHECK_FOLDER = os.path.isdir(figuredir)\n",
    "\n",
    "# If folder doesn't exist, then create it.\n",
    "if not CHECK_FOLDER:\n",
    "    os.makedirs(figuredir)\n",
    "    print(\"created folder : \", figuredir)\n",
    "\n",
    "else:\n",
    "    print(figuredir, \"folder already exists.\")\n"
   ]
  },
  {
   "cell_type": "code",
   "execution_count": 2,
   "id": "nearby-allowance",
   "metadata": {},
   "outputs": [],
   "source": [
    "import numpy as np\n",
    "import pandas as pd\n",
    "import seaborn as sns\n",
    "from tqdm.notebook import tqdm\n",
    "import matplotlib.pyplot as plt\n",
    "\n",
    "import torch\n",
    "import torch.nn as nn\n",
    "import torch.optim as optim\n",
    "from torch.utils.data import Dataset, DataLoader, WeightedRandomSampler\n",
    "\n",
    "from sklearn.preprocessing import MinMaxScaler    \n",
    "from sklearn.model_selection import train_test_split\n",
    "from sklearn.metrics import confusion_matrix, classification_report\n",
    "plt.rcParams[\"figure.figsize\"] = (15,8)"
   ]
  },
  {
   "cell_type": "code",
   "execution_count": 3,
   "id": "martial-insider",
   "metadata": {},
   "outputs": [
    {
     "data": {
      "text/plain": [
       "(      speed  vibration Faults\n",
       " 0  4.217042   0.003062   Ball\n",
       " 1  4.219672   0.004049   Ball\n",
       " 2  4.221645   0.001418   Ball\n",
       " 3  0.036346  -0.002199   Ball\n",
       " 4  0.036017  -0.003515   Ball,\n",
       " array(['Ball', 'Innerrace', 'Outerrace'], dtype=object))"
      ]
     },
     "execution_count": 3,
     "metadata": {},
     "output_type": "execute_result"
    }
   ],
   "source": [
    "#df = pd.read_csv(\"../datasets/allfaultdatasetfiltered13.csv\")\n",
    "## to rename outerfault \n",
    "df = pd.read_csv(\"../datasets/allfaultdatasetfiltered13.csv\", index_col =\"class\" )\n",
    "\"\"\"Droping Series Column which is no longer required \n",
    "https://pandas.pydata.org/pandas-docs/stable/reference/api/pandas.DataFrame.drop.html\n",
    "\n",
    "df.drop(['B', 'C'], axis=1)\n",
    "\n",
    "also rearrange columns order\n",
    "df = df[['speed','vibration','Faults']]\n",
    "\n",
    "#https://pandas.pydata.org/pandas-docs/stable/reference/api/pandas.DataFrame.rename.html\n",
    "#df.rename(columns={\"A\": \"a\", \"B\": \"c\"})\n",
    "\"\"\"\n",
    "df = df.drop(['series'], axis=1)\n",
    "df = df.rename(index={'BallFault':'Ball'})\n",
    "df = df.rename(index={'InnerFault':'Innerrace'})\n",
    "df = df.rename(index={'outerFault':'Outerrace'})\n",
    "df = df.reset_index()\n",
    "df = df.rename(columns  ={'class':'Faults'})\n",
    "df = df[['speed','vibration','Faults']]\n",
    "df.head() , df['Faults'].unique()\n"
   ]
  },
  {
   "cell_type": "code",
   "execution_count": 4,
   "id": "orange-grocery",
   "metadata": {},
   "outputs": [],
   "source": [
    "#Re ordering column\n",
    "\n",
    "#df = df[[\"speed\", \"vibration\", \"series\", \"class\"]]"
   ]
  },
  {
   "cell_type": "code",
   "execution_count": 5,
   "id": "needed-council",
   "metadata": {},
   "outputs": [
    {
     "data": {
      "text/plain": [
       "<bound method DataFrame.info of             speed  vibration     Faults\n",
       "0        4.217042   0.003062       Ball\n",
       "1        4.219672   0.004049       Ball\n",
       "2        4.221645   0.001418       Ball\n",
       "3        0.036346  -0.002199       Ball\n",
       "4        0.036017  -0.003515       Ball\n",
       "...           ...        ...        ...\n",
       "5667608  4.202576  -0.004830  Outerrace\n",
       "5667609  4.198959  -0.003515  Outerrace\n",
       "5667610  4.279838  -0.002857  Outerrace\n",
       "5667611  0.037332  -0.006146  Outerrace\n",
       "5667612  0.037661  -0.009105  Outerrace\n",
       "\n",
       "[5667613 rows x 3 columns]>"
      ]
     },
     "execution_count": 5,
     "metadata": {},
     "output_type": "execute_result"
    }
   ],
   "source": [
    "df.info"
   ]
  },
  {
   "cell_type": "code",
   "execution_count": 6,
   "id": "incorporate-plenty",
   "metadata": {},
   "outputs": [],
   "source": [
    "#healthy = healthy.rename(columns={\"vsH\": \"speed\", \"vbH\": \"vibration\"})"
   ]
  },
  {
   "cell_type": "code",
   "execution_count": 7,
   "id": "minus-mileage",
   "metadata": {},
   "outputs": [],
   "source": [
    "# it change style and colour for graph \n",
    "#from yellowbrick.classifier import ClassificationReport\n",
    "## OverflowError: Exceeded cell block limit (set 'agg.path.chunksize' rcparam)\n",
    "plt.rcParams['agg.path.chunksize'] = 100000"
   ]
  },
  {
   "cell_type": "markdown",
   "id": "1e8b97ae",
   "metadata": {},
   "source": [
    "sns.countplot(x = 'Faults', data=df )\n",
    "\n",
    "# to save plots in high ddefinition \n",
    "#plt.savefig(\"../figures/class_distribution_beforedropouts.png\")\n",
    "plt.ylabel(\"Records\")\n",
    "plt.savefig(\"../figures/class_distribution_beforedropouts.png\", bbox_inches='tight', dpi=1200)\n",
    "plt.show()"
   ]
  },
  {
   "cell_type": "code",
   "execution_count": 8,
   "id": "emotional-wisconsin",
   "metadata": {},
   "outputs": [],
   "source": [
    "#df['Faults'].unique()"
   ]
  },
  {
   "cell_type": "code",
   "execution_count": 9,
   "id": "89c06c54",
   "metadata": {},
   "outputs": [
    {
     "data": {
      "image/png": "[encoded data removed]",
      "text/plain": [
       "<Figure size 1080x576 with 1 Axes>"
      ]
     },
     "metadata": {
      "needs_background": "light"
     },
     "output_type": "display_data"
    }
   ],
   "source": [
    "#df['vibration'].plot(color='b',figsize = (8,8))\n",
    "\n",
    "g = sns.lineplot(x=\"speed\", y=\"vibration\",hue= 'Faults',\n",
    "                data=df.reset_index(), palette=\"tab10\" , alpha = 0.2)\n",
    "\n",
    "plt.legend(loc=2)\n",
    "plt.ylabel(\"Vibration\")\n",
    "plt.xlabel(\"Speed\")\n",
    "plt.tick_params(axis='both',labelsize=14)\n",
    "\n",
    "g.legend(loc= 'upper right')\n",
    "g.legend_.set_title('Faults')\n",
    "\n",
    "plt.savefig(\"../figures/vibration vs speed.png\", bbox_inches='tight', dpi=600)"
   ]
  },
  {
   "cell_type": "markdown",
   "id": "2d7238f2",
   "metadata": {},
   "source": [
    "sns.boxplot(x = 'Faults',y = 'vibration', data=df.reset_index())"
   ]
  },
  {
   "cell_type": "markdown",
   "id": "b599acfc",
   "metadata": {},
   "source": [
    "#df['vibration'].plot(color='b',figsize = (8,8))\n",
    "\n",
    "g = sns.lineplot(x=\"index\", y=\"vibration\",hue= 'Faults',\n",
    "                data=df.reset_index(), palette=\"tab10\")\n",
    "\n",
    "plt.legend(loc=2)\n",
    "plt.ylabel(\"Vibration\")\n",
    "plt.xlabel(\"Timestamp\")\n",
    "plt.tick_params(axis='both',labelsize=14)\n",
    "\n",
    "g.legend(loc= 'upper right')\n",
    "g.legend_.set_title('Faults')\n",
    "\n",
    "plt.savefig(\"../figures/vibration_beforedropouts.png\", bbox_inches='tight', dpi=1200)"
   ]
  },
  {
   "cell_type": "code",
   "execution_count": 10,
   "id": "coastal-village",
   "metadata": {},
   "outputs": [
    {
     "name": "stdout",
     "output_type": "stream",
     "text": [
      "            speed  vibration     Faults\n",
      "0        4.217042   0.003062       Ball\n",
      "1        4.219672   0.004049       Ball\n",
      "2        4.221645   0.001418       Ball\n",
      "3        0.036346  -0.002199       Ball\n",
      "4        0.036017  -0.003515       Ball\n",
      "...           ...        ...        ...\n",
      "5667456  4.151615  -0.016340  Outerrace\n",
      "5667459  2.739196  -0.009105  Outerrace\n",
      "5667542  3.131096  -0.001213  Outerrace\n",
      "5667560  1.329083  -0.000555  Outerrace\n",
      "5667578  0.155362   0.001747  Outerrace\n",
      "\n",
      "[757558 rows x 3 columns]\n"
     ]
    }
   ],
   "source": [
    "df = df.drop_duplicates(subset = [\"speed\", 'vibration'])\n",
    "\n",
    "print(df)"
   ]
  },
  {
   "cell_type": "markdown",
   "id": "8b58c352",
   "metadata": {},
   "source": [
    "sns.countplot(x = 'Faults', data=df)\n",
    "\n",
    "# to save plots in high ddefinition \n",
    "#plt.savefig(\"../figures/class_distribution_beforedropouts.png\")\n",
    "plt.ylabel(\"Records\")\n",
    "plt.savefig(figuredir + \"class_distribution_afterdropouts.png\", bbox_inches='tight', dpi=600)\n",
    "plt.show()"
   ]
  },
  {
   "cell_type": "code",
   "execution_count": 12,
   "id": "twenty-attack",
   "metadata": {},
   "outputs": [
    {
     "name": "stdout",
     "output_type": "stream",
     "text": [
      "203913\n",
      "451728\n",
      "101917\n"
     ]
    }
   ],
   "source": [
    "#['BallFault', 'InnerFault', 'outerFault']\n",
    "\n",
    "BallFaultlenght = len(df[df['Faults']=='Ball'])\n",
    "InnerFaultlenght = len(df[df['Faults']=='Innerrace'])\n",
    "outerFaultlenght = len(df[df['Faults']=='Outerrace'])\n",
    "\n",
    "\n",
    "#BallFaultlenght = 20000\n",
    "#InnerFaultlenght = 20000 \n",
    "#outerFaultlenght = 20000\n",
    "\n",
    "print(BallFaultlenght)\n",
    "print(InnerFaultlenght)\n",
    "print(outerFaultlenght)"
   ]
  },
  {
   "cell_type": "code",
   "execution_count": 13,
   "id": "african-jewelry",
   "metadata": {},
   "outputs": [
    {
     "data": {
      "text/plain": [
       "(           speed  vibration Faults\n",
       " 0       4.217042   0.003062   Ball\n",
       " 1       4.219672   0.004049   Ball\n",
       " 2       4.221645   0.001418   Ball\n",
       " 3       0.036346  -0.002199   Ball\n",
       " 4       0.036017  -0.003515   Ball\n",
       " ...          ...        ...    ...\n",
       " 722641  4.187452  -0.021273   Ball\n",
       " 722642  4.264386  -0.022588   Ball\n",
       " 722651  4.092436  -0.007790   Ball\n",
       " 722681  4.127286  -0.019957   Ball\n",
       " 722682  4.229864  -0.020944   Ball\n",
       " \n",
       " [101917 rows x 3 columns],\n",
       "             speed  vibration     Faults\n",
       " 1889180  0.037990   0.248711  Innerrace\n",
       " 1889181  0.037661   0.249040  Innerrace\n",
       " 1889182  0.037990   0.248382  Innerrace\n",
       " 1889183  0.037661   0.250355  Innerrace\n",
       " 1889184  0.037332   0.251013  Innerrace\n",
       " ...           ...        ...        ...\n",
       " 2223245  4.086847   0.223390  Innerrace\n",
       " 2223248  4.106573   0.223719  Innerrace\n",
       " 2223250  1.064749   0.230624  Innerrace\n",
       " 2223257  4.159177   0.201357  Innerrace\n",
       " 2223259  4.242358   0.189847  Innerrace\n",
       " \n",
       " [101917 rows x 3 columns],\n",
       "             speed  vibration     Faults\n",
       " 3778494  4.272934  -0.005159  Outerrace\n",
       " 3778506  4.283126  -0.002528  Outerrace\n",
       " 3778507  4.287729  -0.002857  Outerrace\n",
       " 3778518  4.271947   0.003720  Outerrace\n",
       " 3778529  4.287071   0.001747  Outerrace\n",
       " ...           ...        ...        ...\n",
       " 5667456  4.151615  -0.016340  Outerrace\n",
       " 5667459  2.739196  -0.009105  Outerrace\n",
       " 5667542  3.131096  -0.001213  Outerrace\n",
       " 5667560  1.329083  -0.000555  Outerrace\n",
       " 5667578  0.155362   0.001747  Outerrace\n",
       " \n",
       " [101917 rows x 3 columns])"
      ]
     },
     "execution_count": 13,
     "metadata": {},
     "output_type": "execute_result"
    }
   ],
   "source": [
    "\n",
    "newBallFault = df[df['Faults']=='Ball'].iloc[0:outerFaultlenght]\n",
    "newInnerFault = df[df['Faults']=='Innerrace'].iloc[0:outerFaultlenght]\n",
    "newouterFault = df[df['Faults']=='Outerrace'].iloc[0:outerFaultlenght]\n",
    "\n",
    "\n",
    "newBallFault , newInnerFault , newouterFault"
   ]
  },
  {
   "cell_type": "code",
   "execution_count": 14,
   "id": "configured-domain",
   "metadata": {},
   "outputs": [
    {
     "data": {
      "text/plain": [
       "<bound method NDFrame.tail of             speed  vibration     Faults\n",
       "0        4.217042   0.003062       Ball\n",
       "1        4.219672   0.004049       Ball\n",
       "2        4.221645   0.001418       Ball\n",
       "3        0.036346  -0.002199       Ball\n",
       "4        0.036017  -0.003515       Ball\n",
       "...           ...        ...        ...\n",
       "5667456  4.151615  -0.016340  Outerrace\n",
       "5667459  2.739196  -0.009105  Outerrace\n",
       "5667542  3.131096  -0.001213  Outerrace\n",
       "5667560  1.329083  -0.000555  Outerrace\n",
       "5667578  0.155362   0.001747  Outerrace\n",
       "\n",
       "[305751 rows x 3 columns]>"
      ]
     },
     "execution_count": 14,
     "metadata": {},
     "output_type": "execute_result"
    }
   ],
   "source": [
    "new_df = newBallFault\n",
    "new_df = new_df.append(newInnerFault)\n",
    "new_df = new_df.append(newouterFault)\n",
    "\n",
    "\n",
    "new_df.tail"
   ]
  },
  {
   "cell_type": "code",
   "execution_count": 15,
   "id": "complimentary-shuttle",
   "metadata": {},
   "outputs": [],
   "source": [
    "df = new_df"
   ]
  },
  {
   "cell_type": "markdown",
   "id": "817c7a00",
   "metadata": {},
   "source": [
    "#df['vibration'].plot(color='b',figsize = (8,8))\n",
    "\n",
    "g = sns.lineplot(x=\"speed\", y=\"vibration\",hue= 'Faults',\n",
    "                data=df.reset_index(), palette=\"tab10\")\n",
    "\n",
    "plt.legend(loc=2)\n",
    "plt.ylabel(\"Vibration\")\n",
    "plt.xlabel(\"Speed\")\n",
    "plt.tick_params(axis='both',labelsize=14)\n",
    "\n",
    "g.legend(loc= 'upper right')\n",
    "g.legend_.set_title('Faults')\n",
    "\n",
    "plt.savefig(\"../figures/vibration vs speed afterdropouts.png\", bbox_inches='tight', dpi=1200)"
   ]
  },
  {
   "cell_type": "markdown",
   "id": "52718651",
   "metadata": {},
   "source": [
    "#df['vibration'].plot(color='b',figsize = (8,8))\n",
    "\n",
    "g = sns.lineplot(x=\"index\", y=\"vibration\",hue= 'Faults',\n",
    "                data=df.reset_index(), palette=\"tab10\")\n",
    "\n",
    "plt.legend(loc=2)\n",
    "plt.ylabel(\"Vibration\")\n",
    "plt.xlabel(\"Timestamp\")\n",
    "plt.tick_params(axis='both',labelsize=14)\n",
    "\n",
    "g.legend(loc= 'upper right')\n",
    "g.legend_.set_title('Faults')\n",
    "\n",
    "plt.savefig(\"../figures/vibration_afterdropouts.png\", bbox_inches='tight', dpi=1200)"
   ]
  },
  {
   "cell_type": "code",
   "execution_count": 16,
   "id": "greek-relaxation",
   "metadata": {},
   "outputs": [
    {
     "data": {
      "image/png": "[encoded data removed]",
      "text/plain": [
       "<Figure size 1080x576 with 1 Axes>"
      ]
     },
     "metadata": {
      "needs_background": "light"
     },
     "output_type": "display_data"
    }
   ],
   "source": [
    "sns.countplot(x = 'Faults', data=df)\n",
    "\n",
    "# to save plots in high ddefinition \n",
    "#plt.savefig(\"../figures/class_distribution_beforedropouts.png\")\n",
    "plt.ylabel('Records')\n",
    "plt.savefig(figuredir + \"class_distribution_after_equal_distribution.png\", bbox_inches='tight', dpi=600)\n",
    "plt.show()"
   ]
  },
  {
   "cell_type": "code",
   "execution_count": 15,
   "id": "rotary-outline",
   "metadata": {},
   "outputs": [
    {
     "data": {
      "text/plain": [
       "array([0, 1, 2], dtype=int64)"
      ]
     },
     "execution_count": 15,
     "metadata": {},
     "output_type": "execute_result"
    }
   ],
   "source": [
    "class2idx = {\n",
    "    \"Ball\":0,\n",
    "    \"Innerrace\":1,\n",
    "    \"Outerrace\":2\n",
    "\n",
    "}\n",
    "\n",
    "idx2class = {v: k for k, v in class2idx.items()}\n",
    "\n",
    "df['Faults'].replace(class2idx, inplace=True)\n",
    "df['Faults'].unique()"
   ]
  },
  {
   "cell_type": "code",
   "execution_count": 16,
   "id": "unable-range",
   "metadata": {},
   "outputs": [
    {
     "data": {
      "text/plain": [
       "(      speed  vibration\n",
       " 0  4.217042   0.003062\n",
       " 1  4.219672   0.004049\n",
       " 2  4.221645   0.001418\n",
       " 3  0.036346  -0.002199\n",
       " 4  0.036017  -0.003515,\n",
       " 0    0\n",
       " 1    0\n",
       " 2    0\n",
       " 3    0\n",
       " 4    0\n",
       " Name: Faults, dtype: int64)"
      ]
     },
     "execution_count": 16,
     "metadata": {},
     "output_type": "execute_result"
    }
   ],
   "source": [
    "# droping series\n",
    "X = df.iloc[:, 0:-1]\n",
    "y = df.iloc[:, -1]\n",
    "X.head() , y.head()"
   ]
  },
  {
   "cell_type": "code",
   "execution_count": 17,
   "id": "restricted-garage",
   "metadata": {},
   "outputs": [
    {
     "data": {
      "text/plain": [
       "(array([0, 1, 2], dtype=int64), 3)"
      ]
     },
     "execution_count": 17,
     "metadata": {},
     "output_type": "execute_result"
    }
   ],
   "source": [
    "y.unique() , len(y.unique())"
   ]
  },
  {
   "cell_type": "code",
   "execution_count": 1,
   "id": "comic-litigation",
   "metadata": {},
   "outputs": [
    {
     "ename": "NameError",
     "evalue": "name 'train_test_split' is not defined",
     "output_type": "error",
     "traceback": [
      "\u001b[1;31m---------------------------------------------------------------------------\u001b[0m",
      "\u001b[1;31mNameError\u001b[0m                                 Traceback (most recent call last)",
      "\u001b[1;32m<ipython-input-1-c96559f30356>\u001b[0m in \u001b[0;36m<module>\u001b[1;34m\u001b[0m\n\u001b[0;32m      1\u001b[0m \u001b[1;31m# Split into train+val and test\u001b[0m\u001b[1;33m\u001b[0m\u001b[1;33m\u001b[0m\u001b[1;33m\u001b[0m\u001b[0m\n\u001b[1;32m----> 2\u001b[1;33m \u001b[0mX_trainval\u001b[0m\u001b[1;33m,\u001b[0m \u001b[0mX_test\u001b[0m\u001b[1;33m,\u001b[0m \u001b[0my_trainval\u001b[0m\u001b[1;33m,\u001b[0m \u001b[0my_test\u001b[0m \u001b[1;33m=\u001b[0m \u001b[0mtrain_test_split\u001b[0m\u001b[1;33m(\u001b[0m\u001b[0mX\u001b[0m\u001b[1;33m,\u001b[0m \u001b[0my\u001b[0m\u001b[1;33m,\u001b[0m \u001b[0mtest_size\u001b[0m\u001b[1;33m=\u001b[0m\u001b[1;36m0.2\u001b[0m\u001b[1;33m,\u001b[0m \u001b[0mstratify\u001b[0m\u001b[1;33m=\u001b[0m\u001b[0my\u001b[0m\u001b[1;33m,\u001b[0m \u001b[0mrandom_state\u001b[0m\u001b[1;33m=\u001b[0m\u001b[1;36m69\u001b[0m\u001b[1;33m)\u001b[0m\u001b[1;33m\u001b[0m\u001b[1;33m\u001b[0m\u001b[0m\n\u001b[0m\u001b[0;32m      3\u001b[0m \u001b[1;33m\u001b[0m\u001b[0m\n\u001b[0;32m      4\u001b[0m \u001b[1;31m# Split train into train-val\u001b[0m\u001b[1;33m\u001b[0m\u001b[1;33m\u001b[0m\u001b[1;33m\u001b[0m\u001b[0m\n\u001b[0;32m      5\u001b[0m \u001b[0mX_train\u001b[0m\u001b[1;33m,\u001b[0m \u001b[0mX_val\u001b[0m\u001b[1;33m,\u001b[0m \u001b[0my_train\u001b[0m\u001b[1;33m,\u001b[0m \u001b[0my_val\u001b[0m \u001b[1;33m=\u001b[0m \u001b[0mtrain_test_split\u001b[0m\u001b[1;33m(\u001b[0m\u001b[0mX_trainval\u001b[0m\u001b[1;33m,\u001b[0m \u001b[0my_trainval\u001b[0m\u001b[1;33m,\u001b[0m \u001b[0mtest_size\u001b[0m\u001b[1;33m=\u001b[0m\u001b[1;36m0.1\u001b[0m\u001b[1;33m,\u001b[0m \u001b[0mstratify\u001b[0m\u001b[1;33m=\u001b[0m\u001b[0my_trainval\u001b[0m\u001b[1;33m,\u001b[0m \u001b[0mrandom_state\u001b[0m\u001b[1;33m=\u001b[0m\u001b[1;36m21\u001b[0m\u001b[1;33m)\u001b[0m\u001b[1;33m\u001b[0m\u001b[1;33m\u001b[0m\u001b[0m\n",
      "\u001b[1;31mNameError\u001b[0m: name 'train_test_split' is not defined"
     ]
    }
   ],
   "source": [
    "# Split into train+val and test\n",
    "X_trainval, X_test, y_trainval, y_test = train_test_split(X, y, test_size=0.2, stratify=y, random_state=69)\n",
    "\n",
    "# Split train into train-val\n",
    "X_train, X_val, y_train, y_val = train_test_split(X_trainval, y_trainval, test_size=0.1, stratify=y_trainval, random_state=21)"
   ]
  },
  {
   "cell_type": "code",
   "execution_count": 19,
   "id": "centered-replication",
   "metadata": {},
   "outputs": [],
   "source": [
    "scaler = MinMaxScaler()\n",
    "X_train = scaler.fit_transform(X_train)\n",
    "X_val = scaler.transform(X_val)\n",
    "X_test = scaler.transform(X_test)\n",
    "X_train, y_train = np.array(X_train), np.array(y_train)\n",
    "X_val, y_val = np.array(X_val), np.array(y_val)\n",
    "X_test, y_test = np.array(X_test), np.array(y_test)"
   ]
  },
  {
   "cell_type": "code",
   "execution_count": 20,
   "id": "neutral-cycling",
   "metadata": {},
   "outputs": [],
   "source": [
    "def get_class_distribution(obj):\n",
    "    count_dict = {\n",
    "        \n",
    "        \"Ball\" : 0,\n",
    "        \"Innerrace\": 0,\n",
    "        \"Outerrace\": 0,\n",
    "    }\n",
    "    \n",
    "    for i in obj:\n",
    "        if i == 0: \n",
    "            count_dict['Ball'] += 1\n",
    "        elif i == 1: \n",
    "            count_dict['Innerrace'] += 1\n",
    "        elif i == 2: \n",
    "            count_dict['Outerrace'] += 1  \n",
    "        else:\n",
    "            print(\"Check classes.\")\n",
    "            \n",
    "    return count_dict"
   ]
  },
  {
   "cell_type": "code",
   "execution_count": 21,
   "id": "foster-magazine",
   "metadata": {},
   "outputs": [
    {
     "data": {
      "text/plain": [
       "Text(0.5, 1.0, 'Class Distribution in Test Set')"
      ]
     },
     "execution_count": 21,
     "metadata": {},
     "output_type": "execute_result"
    },
    {
     "data": {
      "image/png": "[encoded data removed]",
      "text/plain": [
       "<Figure size 1800x504 with 3 Axes>"
      ]
     },
     "metadata": {
      "needs_background": "light"
     },
     "output_type": "display_data"
    }
   ],
   "source": [
    "fig, axes = plt.subplots(nrows=1, ncols=3, figsize=(25,7))# Train\n",
    "sns.barplot(data = pd.DataFrame.from_dict([get_class_distribution(y_train)]).melt(), x = \"variable\", y=\"value\", hue=\"variable\",  ax=axes[0]).set_title('Class Distribution in Train Set')# Validation\n",
    "sns.barplot(data = pd.DataFrame.from_dict([get_class_distribution(y_val)]).melt(), x = \"variable\", y=\"value\", hue=\"variable\",  ax=axes[1]).set_title('Class Distribution in Val Set')# Test\n",
    "sns.barplot(data = pd.DataFrame.from_dict([get_class_distribution(y_test)]).melt(), x = \"variable\", y=\"value\", hue=\"variable\",  ax=axes[2]).set_title('Class Distribution in Test Set')"
   ]
  },
  {
   "cell_type": "code",
   "execution_count": 22,
   "id": "exceptional-senator",
   "metadata": {},
   "outputs": [],
   "source": [
    "class ClassifierDataset(Dataset):\n",
    "    \n",
    "    def __init__(self, X_data, y_data):\n",
    "        self.X_data = X_data\n",
    "        self.y_data = y_data\n",
    "        \n",
    "    def __getitem__(self, index):\n",
    "        return self.X_data[index], self.y_data[index]\n",
    "        \n",
    "    def __len__ (self):\n",
    "        return len(self.X_data)\n",
    "\n",
    "\n",
    "train_dataset = ClassifierDataset(torch.from_numpy(X_train).float(), torch.from_numpy(y_train).long())\n",
    "val_dataset = ClassifierDataset(torch.from_numpy(X_val).float(), torch.from_numpy(y_val).long())\n",
    "test_dataset = ClassifierDataset(torch.from_numpy(X_test).float(), torch.from_numpy(y_test).long())"
   ]
  },
  {
   "cell_type": "code",
   "execution_count": 23,
   "id": "indirect-profit",
   "metadata": {},
   "outputs": [],
   "source": [
    "target_list = []\n",
    "for _, t in train_dataset:\n",
    "    target_list.append(t)\n",
    "    \n",
    "target_list = torch.tensor(target_list)\n",
    "target_list = target_list[torch.randperm(len(target_list))]"
   ]
  },
  {
   "cell_type": "code",
   "execution_count": 24,
   "id": "unique-tragedy",
   "metadata": {},
   "outputs": [
    {
     "name": "stdout",
     "output_type": "stream",
     "text": [
      "tensor([1.3628e-05, 1.3628e-05, 1.3628e-05])\n"
     ]
    }
   ],
   "source": [
    "class_count = [i for i in get_class_distribution(y_train).values()]\n",
    "class_weights = 1./torch.tensor(class_count, dtype=torch.float) \n",
    "print(class_weights)\n"
   ]
  },
  {
   "cell_type": "code",
   "execution_count": 25,
   "id": "blond-romantic",
   "metadata": {},
   "outputs": [],
   "source": [
    "# https://towardsdatascience.com/pytorch-tabular-multiclass-classification-9f8211a123ab\n",
    "class_weights_all = class_weights[target_list]"
   ]
  },
  {
   "cell_type": "code",
   "execution_count": 26,
   "id": "inappropriate-lodging",
   "metadata": {},
   "outputs": [],
   "source": [
    "weighted_sampler = WeightedRandomSampler(\n",
    "    weights=class_weights_all,\n",
    "    num_samples=len(class_weights_all),\n",
    "    replacement=True\n",
    ")"
   ]
  },
  {
   "cell_type": "code",
   "execution_count": 27,
   "id": "stunning-ghost",
   "metadata": {},
   "outputs": [
    {
     "data": {
      "text/plain": [
       "(2, 3)"
      ]
     },
     "execution_count": 27,
     "metadata": {},
     "output_type": "execute_result"
    }
   ],
   "source": [
    "#100 = 87% , 512/1024 batch\n",
    "\n",
    "EPOCHS = 200\n",
    "BATCH_SIZE = 1024\n",
    "LEARNING_RATE = 0.0007\n",
    "NUM_FEATURES = len(X.columns)\n",
    "NUM_CLASSES = len(y.unique())\n",
    "NUM_FEATURES , NUM_CLASSES"
   ]
  },
  {
   "cell_type": "code",
   "execution_count": 28,
   "id": "attended-barcelona",
   "metadata": {},
   "outputs": [],
   "source": [
    "\"\"\"\n",
    "\n",
    "ValueError: Expected more than 1 value per channel when training, got input size torch.Size([1, 512])\n",
    "\n",
    "https://discuss.pytorch.org/t/error-expected-more-than-1-value-per-channel-when-training/26274/4\n",
    "\n",
    "You could set drop_last=True in your DataLoader and run your code again.\n",
    "\"\"\"\n",
    "\n",
    "\n",
    "train_loader = DataLoader(dataset=train_dataset, batch_size=BATCH_SIZE,sampler=weighted_sampler , drop_last=True)\n",
    "val_loader = DataLoader(dataset=val_dataset, batch_size=1, drop_last=True)\n",
    "test_loader = DataLoader(dataset=test_dataset, batch_size=1, drop_last=True)"
   ]
  },
  {
   "cell_type": "code",
   "execution_count": 29,
   "id": "placed-limitation",
   "metadata": {},
   "outputs": [],
   "source": [
    "class MulticlassClassification(nn.Module):\n",
    "    def __init__(self, num_feature, num_class):\n",
    "        super(MulticlassClassification, self).__init__()\n",
    "        \n",
    "        self.layer_1 = nn.Linear(num_feature, 512)\n",
    "        self.layer_2 = nn.Linear(512, 128)\n",
    "        self.layer_3 = nn.Linear(128, 64)\n",
    "        self.layer_out = nn.Linear(64, num_class) \n",
    "        \n",
    "        self.relu = nn.ReLU()\n",
    "        self.dropout = nn.Dropout(p=0.2)\n",
    "        self.batchnorm1 = nn.BatchNorm1d(512)\n",
    "        self.batchnorm2 = nn.BatchNorm1d(128)\n",
    "        self.batchnorm3 = nn.BatchNorm1d(64)\n",
    "        \n",
    "    def forward(self, x):\n",
    "        x = self.layer_1(x)\n",
    "        x = self.batchnorm1(x)\n",
    "        x = self.relu(x)\n",
    "        \n",
    "        x = self.layer_2(x)\n",
    "        x = self.batchnorm2(x)\n",
    "        x = self.relu(x)\n",
    "        x = self.dropout(x)\n",
    "        \n",
    "        x = self.layer_3(x)\n",
    "        x = self.batchnorm3(x)\n",
    "        x = self.relu(x)\n",
    "        x = self.dropout(x)\n",
    "        \n",
    "        x = self.layer_out(x)\n",
    "        \n",
    "        return x"
   ]
  },
  {
   "cell_type": "code",
   "execution_count": 30,
   "id": "closing-overall",
   "metadata": {},
   "outputs": [
    {
     "name": "stdout",
     "output_type": "stream",
     "text": [
      "cuda:0\n"
     ]
    }
   ],
   "source": [
    "device = torch.device(\"cuda:0\" if torch.cuda.is_available() else \"cpu\")\n",
    "print(device)"
   ]
  },
  {
   "cell_type": "code",
   "execution_count": 31,
   "id": "hydraulic-september",
   "metadata": {},
   "outputs": [
    {
     "name": "stdout",
     "output_type": "stream",
     "text": [
      "MulticlassClassification(\n",
      "  (layer_1): Linear(in_features=2, out_features=512, bias=True)\n",
      "  (layer_2): Linear(in_features=512, out_features=128, bias=True)\n",
      "  (layer_3): Linear(in_features=128, out_features=64, bias=True)\n",
      "  (layer_out): Linear(in_features=64, out_features=3, bias=True)\n",
      "  (relu): ReLU()\n",
      "  (dropout): Dropout(p=0.2, inplace=False)\n",
      "  (batchnorm1): BatchNorm1d(512, eps=1e-05, momentum=0.1, affine=True, track_running_stats=True)\n",
      "  (batchnorm2): BatchNorm1d(128, eps=1e-05, momentum=0.1, affine=True, track_running_stats=True)\n",
      "  (batchnorm3): BatchNorm1d(64, eps=1e-05, momentum=0.1, affine=True, track_running_stats=True)\n",
      ")\n"
     ]
    }
   ],
   "source": [
    "model = MulticlassClassification(num_feature = NUM_FEATURES, num_class=NUM_CLASSES)\n",
    "model.to(device)\n",
    "\n",
    "criterion = nn.CrossEntropyLoss(weight=class_weights.to(device))\n",
    "optimizer = optim.Adam(model.parameters(), lr=LEARNING_RATE)\n",
    "print(model)\n"
   ]
  },
  {
   "cell_type": "code",
   "execution_count": 32,
   "id": "earned-clear",
   "metadata": {},
   "outputs": [],
   "source": [
    "def multi_acc(y_pred, y_test):\n",
    "    y_pred_softmax = torch.log_softmax(y_pred, dim = 1)\n",
    "    _, y_pred_tags = torch.max(y_pred_softmax, dim = 1)    \n",
    "    \n",
    "    correct_pred = (y_pred_tags == y_test).float()\n",
    "    acc = correct_pred.sum() / len(correct_pred)\n",
    "    \n",
    "    acc = torch.round(acc * 100)\n",
    "    \n",
    "    return acc"
   ]
  },
  {
   "cell_type": "code",
   "execution_count": 33,
   "id": "patent-jewelry",
   "metadata": {},
   "outputs": [],
   "source": [
    "accuracy_stats = {\n",
    "    'train': [],\n",
    "    \"val\": []\n",
    "}\n",
    "loss_stats = {\n",
    "    'train': [],\n",
    "    \"val\": []\n",
    "}"
   ]
  },
  {
   "cell_type": "code",
   "execution_count": 34,
   "id": "authentic-monday",
   "metadata": {},
   "outputs": [
    {
     "name": "stdout",
     "output_type": "stream",
     "text": [
      "max_barlenght = 24674 | Train loader: 214 | Val loader: 24460\n"
     ]
    }
   ],
   "source": [
    "import progressbar\n",
    "import time\n",
    "\n",
    "from progressbar import AnimatedMarker, Bar, BouncingBar, Counter, ETA, \\\n",
    "    AdaptiveETA, FileTransferSpeed, FormatLabel, Percentage, \\\n",
    "    ProgressBar, ReverseBar, RotatingMarker, \\\n",
    "    SimpleProgress, Timer\n",
    "max_barlenght = len(train_loader) + len(val_loader)\n",
    "#bar = progressbar.ProgressBar(max_value= max_barlenght)\n",
    "print(f'max_barlenght = {max_barlenght} | Train loader: {len(train_loader)} | Val loader: {len(val_loader)}')\n",
    "\n",
    "#print(\"Begin training.\")"
   ]
  },
  {
   "cell_type": "code",
   "execution_count": 35,
   "id": "going-surfing",
   "metadata": {},
   "outputs": [
    {
     "name": "stdout",
     "output_type": "stream",
     "text": [
      "Begin training.\n"
     ]
    },
    {
     "name": "stderr",
     "output_type": "stream",
     "text": [
      "Epoch 1 |>>>>>>>>>>>>| 100% Elapsed Time: 0:00:37 Time:  0:00:37 Training  0.5%\n"
     ]
    },
    {
     "name": "stdout",
     "output_type": "stream",
     "text": [
      "Epoch 1: | Train Loss: 0.45244 | Val Loss: 0.39755 | Train Acc: 77.664| Val Acc: 82.052\n"
     ]
    },
    {
     "name": "stderr",
     "output_type": "stream",
     "text": [
      "Epoch 2 |>>>>>>>>>>>>| 100% Elapsed Time: 0:00:35 Time:  0:00:35 Training  1.0%\n"
     ]
    },
    {
     "name": "stdout",
     "output_type": "stream",
     "text": [
      "Epoch 2: | Train Loss: 0.38170 | Val Loss: 0.34817 | Train Acc: 80.523| Val Acc: 84.575\n"
     ]
    },
    {
     "name": "stderr",
     "output_type": "stream",
     "text": [
      "Epoch 3 |>>>>>>>>>>>>| 100% Elapsed Time: 0:00:36 Time:  0:00:36 Training  1.5%\n"
     ]
    },
    {
     "name": "stdout",
     "output_type": "stream",
     "text": [
      "Epoch 3: | Train Loss: 0.36278 | Val Loss: 0.32915 | Train Acc: 81.514| Val Acc: 84.358\n"
     ]
    },
    {
     "name": "stderr",
     "output_type": "stream",
     "text": [
      "Epoch 4 |>>>>>>>>>>>>| 100% Elapsed Time: 0:00:36 Time:  0:00:36 Training  2.0%\n"
     ]
    },
    {
     "name": "stdout",
     "output_type": "stream",
     "text": [
      "Epoch 4: | Train Loss: 0.35209 | Val Loss: 0.34175 | Train Acc: 82.093| Val Acc: 81.500\n"
     ]
    },
    {
     "name": "stderr",
     "output_type": "stream",
     "text": [
      "Epoch 5 |>>>>>>>>>>>>| 100% Elapsed Time: 0:00:38 Time:  0:00:38 Training  2.5%\n"
     ]
    },
    {
     "name": "stdout",
     "output_type": "stream",
     "text": [
      "Epoch 5: | Train Loss: 0.34537 | Val Loss: 0.31595 | Train Acc: 82.360| Val Acc: 84.894\n"
     ]
    },
    {
     "name": "stderr",
     "output_type": "stream",
     "text": [
      "Epoch 6 |>>>>>>>>>>>>| 100% Elapsed Time: 0:00:38 Time:  0:00:38 Training  3.0%\n"
     ]
    },
    {
     "name": "stdout",
     "output_type": "stream",
     "text": [
      "Epoch 6: | Train Loss: 0.34037 | Val Loss: 0.31101 | Train Acc: 82.701| Val Acc: 85.478\n"
     ]
    },
    {
     "name": "stderr",
     "output_type": "stream",
     "text": [
      "Epoch 7 |>>>>>>>>>>>>| 100% Elapsed Time: 0:00:38 Time:  0:00:38 Training  3.5%\n"
     ]
    },
    {
     "name": "stdout",
     "output_type": "stream",
     "text": [
      "Epoch 7: | Train Loss: 0.33314 | Val Loss: 0.30683 | Train Acc: 83.136| Val Acc: 85.425\n"
     ]
    },
    {
     "name": "stderr",
     "output_type": "stream",
     "text": [
      "Epoch 8 |>>>>>>>>>>>>| 100% Elapsed Time: 0:00:39 Time:  0:00:39 Training  4.0%\n"
     ]
    },
    {
     "name": "stdout",
     "output_type": "stream",
     "text": [
      "Epoch 8: | Train Loss: 0.32984 | Val Loss: 0.30858 | Train Acc: 83.280| Val Acc: 85.102\n"
     ]
    },
    {
     "name": "stderr",
     "output_type": "stream",
     "text": [
      "Epoch 9 |>>>>>>>>>>>>| 100% Elapsed Time: 0:00:38 Time:  0:00:38 Training  4.5%\n"
     ]
    },
    {
     "name": "stdout",
     "output_type": "stream",
     "text": [
      "Epoch 9: | Train Loss: 0.33186 | Val Loss: 0.30590 | Train Acc: 83.084| Val Acc: 85.253\n"
     ]
    },
    {
     "name": "stderr",
     "output_type": "stream",
     "text": [
      "Epoch 10 |>>>>>>>>>>>| 100% Elapsed Time: 0:00:39 Time:  0:00:39 Training  5.0%\n"
     ]
    },
    {
     "name": "stdout",
     "output_type": "stream",
     "text": [
      "Epoch 10: | Train Loss: 0.32755 | Val Loss: 0.30286 | Train Acc: 83.346| Val Acc: 84.804\n"
     ]
    },
    {
     "name": "stderr",
     "output_type": "stream",
     "text": [
      "Epoch 11 |>>>>>>>>>>>| 100% Elapsed Time: 0:00:32 Time:  0:00:32 Training  5.5%\n"
     ]
    },
    {
     "name": "stdout",
     "output_type": "stream",
     "text": [
      "Epoch 11: | Train Loss: 0.32675 | Val Loss: 0.30676 | Train Acc: 83.416| Val Acc: 85.180\n"
     ]
    },
    {
     "name": "stderr",
     "output_type": "stream",
     "text": [
      "Epoch 12 |>>>>>>>>>>>| 100% Elapsed Time: 0:00:30 Time:  0:00:30 Training  6.0%\n"
     ]
    },
    {
     "name": "stdout",
     "output_type": "stream",
     "text": [
      "Epoch 12: | Train Loss: 0.32528 | Val Loss: 0.29961 | Train Acc: 83.430| Val Acc: 85.311\n"
     ]
    },
    {
     "name": "stderr",
     "output_type": "stream",
     "text": [
      "Epoch 13 |>>>>>>>>>>>| 100% Elapsed Time: 0:00:30 Time:  0:00:30 Training  6.5%\n"
     ]
    },
    {
     "name": "stdout",
     "output_type": "stream",
     "text": [
      "Epoch 13: | Train Loss: 0.31892 | Val Loss: 0.29704 | Train Acc: 83.893| Val Acc: 85.237\n"
     ]
    },
    {
     "name": "stderr",
     "output_type": "stream",
     "text": [
      "Epoch 14 |>>>>>>>>>>>| 100% Elapsed Time: 0:00:33 Time:  0:00:33 Training  7.0%\n"
     ]
    },
    {
     "name": "stdout",
     "output_type": "stream",
     "text": [
      "Epoch 14: | Train Loss: 0.31875 | Val Loss: 0.29840 | Train Acc: 83.893| Val Acc: 85.487\n"
     ]
    },
    {
     "name": "stderr",
     "output_type": "stream",
     "text": [
      "Epoch 15 |>>>>>>>>>>>| 100% Elapsed Time: 0:00:38 Time:  0:00:38 Training  7.5%\n"
     ]
    },
    {
     "name": "stdout",
     "output_type": "stream",
     "text": [
      "Epoch 15: | Train Loss: 0.31487 | Val Loss: 0.29546 | Train Acc: 84.042| Val Acc: 85.364\n"
     ]
    },
    {
     "name": "stderr",
     "output_type": "stream",
     "text": [
      "Epoch 16 |>>>>>>>>>>>| 100% Elapsed Time: 0:00:35 Time:  0:00:35 Training  8.0%\n"
     ]
    },
    {
     "name": "stdout",
     "output_type": "stream",
     "text": [
      "Epoch 16: | Train Loss: 0.31802 | Val Loss: 0.29386 | Train Acc: 83.855| Val Acc: 85.699\n"
     ]
    },
    {
     "name": "stderr",
     "output_type": "stream",
     "text": [
      "Epoch 17 |>>>>>>>>>>>| 100% Elapsed Time: 0:00:32 Time:  0:00:32 Training  8.5%\n"
     ]
    },
    {
     "name": "stdout",
     "output_type": "stream",
     "text": [
      "Epoch 17: | Train Loss: 0.31550 | Val Loss: 0.29540 | Train Acc: 84.140| Val Acc: 85.482\n"
     ]
    },
    {
     "name": "stderr",
     "output_type": "stream",
     "text": [
      "Epoch 18 |>>>>>>>>>>>| 100% Elapsed Time: 0:00:35 Time:  0:00:35 Training  9.0%\n"
     ]
    },
    {
     "name": "stdout",
     "output_type": "stream",
     "text": [
      "Epoch 18: | Train Loss: 0.31280 | Val Loss: 0.29464 | Train Acc: 84.262| Val Acc: 85.229\n"
     ]
    },
    {
     "name": "stderr",
     "output_type": "stream",
     "text": [
      "Epoch 19 |>>>>>>>>>>>| 100% Elapsed Time: 0:00:34 Time:  0:00:34 Training  9.5%\n"
     ]
    },
    {
     "name": "stdout",
     "output_type": "stream",
     "text": [
      "Epoch 19: | Train Loss: 0.31428 | Val Loss: 0.29550 | Train Acc: 84.019| Val Acc: 85.392\n"
     ]
    },
    {
     "name": "stderr",
     "output_type": "stream",
     "text": [
      "Epoch 20 |>>>>>>>>>>| 100% Elapsed Time: 0:00:33 Time:  0:00:33 Training  10.0%\n"
     ]
    },
    {
     "name": "stdout",
     "output_type": "stream",
     "text": [
      "Epoch 20: | Train Loss: 0.30849 | Val Loss: 0.29325 | Train Acc: 84.453| Val Acc: 85.495\n"
     ]
    },
    {
     "name": "stderr",
     "output_type": "stream",
     "text": [
      "Epoch 21 |>>>>>>>>>>| 100% Elapsed Time: 0:00:30 Time:  0:00:30 Training  10.5%\n"
     ]
    },
    {
     "name": "stdout",
     "output_type": "stream",
     "text": [
      "Epoch 21: | Train Loss: 0.30731 | Val Loss: 0.29100 | Train Acc: 84.505| Val Acc: 85.867\n"
     ]
    },
    {
     "name": "stderr",
     "output_type": "stream",
     "text": [
      "Epoch 22 |>>>>>>>>>>| 100% Elapsed Time: 0:00:32 Time:  0:00:32 Training  11.0%\n"
     ]
    },
    {
     "name": "stdout",
     "output_type": "stream",
     "text": [
      "Epoch 22: | Train Loss: 0.30980 | Val Loss: 0.29413 | Train Acc: 84.346| Val Acc: 85.405\n"
     ]
    },
    {
     "name": "stderr",
     "output_type": "stream",
     "text": [
      "Epoch 23 |>>>>>>>>>>| 100% Elapsed Time: 0:00:33 Time:  0:00:33 Training  11.5%\n"
     ]
    },
    {
     "name": "stdout",
     "output_type": "stream",
     "text": [
      "Epoch 23: | Train Loss: 0.30946 | Val Loss: 0.29158 | Train Acc: 84.355| Val Acc: 85.552\n"
     ]
    },
    {
     "name": "stderr",
     "output_type": "stream",
     "text": [
      "Epoch 24 |>>>>>>>>>>| 100% Elapsed Time: 0:00:32 Time:  0:00:32 Training  12.0%\n"
     ]
    },
    {
     "name": "stdout",
     "output_type": "stream",
     "text": [
      "Epoch 24: | Train Loss: 0.30627 | Val Loss: 0.28930 | Train Acc: 84.514| Val Acc: 85.687\n"
     ]
    },
    {
     "name": "stderr",
     "output_type": "stream",
     "text": [
      "Epoch 25 |>>>>>>>>>>| 100% Elapsed Time: 0:00:32 Time:  0:00:32 Training  12.5%\n"
     ]
    },
    {
     "name": "stdout",
     "output_type": "stream",
     "text": [
      "Epoch 25: | Train Loss: 0.30659 | Val Loss: 0.29080 | Train Acc: 84.551| Val Acc: 85.630\n"
     ]
    },
    {
     "name": "stderr",
     "output_type": "stream",
     "text": [
      "Epoch 26 |>>>>>>>>>>| 100% Elapsed Time: 0:00:31 Time:  0:00:31 Training  13.0%\n"
     ]
    },
    {
     "name": "stdout",
     "output_type": "stream",
     "text": [
      "Epoch 26: | Train Loss: 0.30366 | Val Loss: 0.28999 | Train Acc: 84.533| Val Acc: 86.047\n"
     ]
    },
    {
     "name": "stderr",
     "output_type": "stream",
     "text": [
      "Epoch 27 |>>>>>>>>>>| 100% Elapsed Time: 0:00:31 Time:  0:00:31 Training  13.5%\n"
     ]
    },
    {
     "name": "stdout",
     "output_type": "stream",
     "text": [
      "Epoch 27: | Train Loss: 0.30533 | Val Loss: 0.28984 | Train Acc: 84.556| Val Acc: 85.867\n"
     ]
    },
    {
     "name": "stderr",
     "output_type": "stream",
     "text": [
      "Epoch 28 |>>>>>>>>>>| 100% Elapsed Time: 0:00:32 Time:  0:00:32 Training  14.0%\n"
     ]
    },
    {
     "name": "stdout",
     "output_type": "stream",
     "text": [
      "Epoch 28: | Train Loss: 0.30305 | Val Loss: 0.28771 | Train Acc: 84.748| Val Acc: 86.169\n"
     ]
    },
    {
     "name": "stderr",
     "output_type": "stream",
     "text": [
      "Epoch 29 |>>>>>>>>>>| 100% Elapsed Time: 0:00:33 Time:  0:00:33 Training  14.5%\n"
     ]
    },
    {
     "name": "stdout",
     "output_type": "stream",
     "text": [
      "Epoch 29: | Train Loss: 0.30448 | Val Loss: 0.28798 | Train Acc: 84.626| Val Acc: 85.887\n"
     ]
    },
    {
     "name": "stderr",
     "output_type": "stream",
     "text": [
      "Epoch 30 |>>>>>>>>>>| 100% Elapsed Time: 0:00:32 Time:  0:00:32 Training  15.0%\n"
     ]
    },
    {
     "name": "stdout",
     "output_type": "stream",
     "text": [
      "Epoch 30: | Train Loss: 0.30056 | Val Loss: 0.28723 | Train Acc: 84.794| Val Acc: 85.842\n"
     ]
    },
    {
     "name": "stderr",
     "output_type": "stream",
     "text": [
      "Epoch 31 |>>>>>>>>>>| 100% Elapsed Time: 0:00:31 Time:  0:00:31 Training  15.5%\n"
     ]
    },
    {
     "name": "stdout",
     "output_type": "stream",
     "text": [
      "Epoch 31: | Train Loss: 0.30007 | Val Loss: 0.28909 | Train Acc: 84.897| Val Acc: 85.556\n"
     ]
    },
    {
     "name": "stderr",
     "output_type": "stream",
     "text": [
      "Epoch 32 |>>>>>>>>>>| 100% Elapsed Time: 0:00:31 Time:  0:00:31 Training  16.0%\n"
     ]
    },
    {
     "name": "stdout",
     "output_type": "stream",
     "text": [
      "Epoch 32: | Train Loss: 0.29832 | Val Loss: 0.28830 | Train Acc: 85.014| Val Acc: 85.785\n"
     ]
    },
    {
     "name": "stderr",
     "output_type": "stream",
     "text": [
      "Epoch 33 |>>>>>>>>>>| 100% Elapsed Time: 0:00:30 Time:  0:00:30 Training  16.5%\n"
     ]
    },
    {
     "name": "stdout",
     "output_type": "stream",
     "text": [
      "Epoch 33: | Train Loss: 0.30133 | Val Loss: 0.28660 | Train Acc: 84.907| Val Acc: 85.687\n"
     ]
    },
    {
     "name": "stderr",
     "output_type": "stream",
     "text": [
      "Epoch 34 |>>>>>>>>>>| 100% Elapsed Time: 0:00:32 Time:  0:00:32 Training  17.0%\n"
     ]
    },
    {
     "name": "stdout",
     "output_type": "stream",
     "text": [
      "Epoch 34: | Train Loss: 0.29952 | Val Loss: 0.28483 | Train Acc: 84.967| Val Acc: 86.161\n"
     ]
    },
    {
     "name": "stderr",
     "output_type": "stream",
     "text": [
      "Epoch 35 |>>>>>>>>>>| 100% Elapsed Time: 0:00:32 Time:  0:00:32 Training  17.5%\n"
     ]
    },
    {
     "name": "stdout",
     "output_type": "stream",
     "text": [
      "Epoch 35: | Train Loss: 0.29802 | Val Loss: 0.28805 | Train Acc: 85.061| Val Acc: 85.679\n"
     ]
    },
    {
     "name": "stderr",
     "output_type": "stream",
     "text": [
      "Epoch 36 |>>>>>>>>>>| 100% Elapsed Time: 0:00:30 Time:  0:00:30 Training  18.0%\n"
     ]
    },
    {
     "name": "stdout",
     "output_type": "stream",
     "text": [
      "Epoch 36: | Train Loss: 0.29972 | Val Loss: 0.28609 | Train Acc: 84.785| Val Acc: 85.781\n"
     ]
    },
    {
     "name": "stderr",
     "output_type": "stream",
     "text": [
      "Epoch 37 |>>>>>>>>>>| 100% Elapsed Time: 0:00:31 Time:  0:00:31 Training  18.5%\n"
     ]
    },
    {
     "name": "stdout",
     "output_type": "stream",
     "text": [
      "Epoch 37: | Train Loss: 0.29792 | Val Loss: 0.28822 | Train Acc: 84.935| Val Acc: 86.226\n"
     ]
    },
    {
     "name": "stderr",
     "output_type": "stream",
     "text": [
      "Epoch 38 |>>>>>>>>>>| 100% Elapsed Time: 0:00:32 Time:  0:00:32 Training  19.0%\n"
     ]
    },
    {
     "name": "stdout",
     "output_type": "stream",
     "text": [
      "Epoch 38: | Train Loss: 0.29743 | Val Loss: 0.28502 | Train Acc: 85.051| Val Acc: 86.243\n"
     ]
    },
    {
     "name": "stderr",
     "output_type": "stream",
     "text": [
      "Epoch 39 |>>>>>>>>>>| 100% Elapsed Time: 0:00:31 Time:  0:00:31 Training  19.5%\n"
     ]
    },
    {
     "name": "stdout",
     "output_type": "stream",
     "text": [
      "Epoch 39: | Train Loss: 0.29582 | Val Loss: 0.28759 | Train Acc: 85.224| Val Acc: 85.973\n"
     ]
    },
    {
     "name": "stderr",
     "output_type": "stream",
     "text": [
      "Epoch 40 |>>>>>>>>>>| 100% Elapsed Time: 0:00:30 Time:  0:00:30 Training  20.0%\n"
     ]
    },
    {
     "name": "stdout",
     "output_type": "stream",
     "text": [
      "Epoch 40: | Train Loss: 0.29814 | Val Loss: 0.28397 | Train Acc: 85.000| Val Acc: 86.128\n"
     ]
    },
    {
     "name": "stderr",
     "output_type": "stream",
     "text": [
      "Epoch 41 |>>>>>>>>>>| 100% Elapsed Time: 0:00:31 Time:  0:00:31 Training  20.5%\n"
     ]
    },
    {
     "name": "stdout",
     "output_type": "stream",
     "text": [
      "Epoch 41: | Train Loss: 0.29775 | Val Loss: 0.28542 | Train Acc: 85.103| Val Acc: 86.378\n"
     ]
    },
    {
     "name": "stderr",
     "output_type": "stream",
     "text": [
      "Epoch 42 |>>>>>>>>>>| 100% Elapsed Time: 0:00:31 Time:  0:00:31 Training  21.0%\n"
     ]
    },
    {
     "name": "stdout",
     "output_type": "stream",
     "text": [
      "Epoch 42: | Train Loss: 0.29693 | Val Loss: 0.28609 | Train Acc: 85.028| Val Acc: 85.969\n"
     ]
    },
    {
     "name": "stderr",
     "output_type": "stream",
     "text": [
      "Epoch 43 |>>>>>>>>>>| 100% Elapsed Time: 0:00:33 Time:  0:00:33 Training  21.5%\n"
     ]
    },
    {
     "name": "stdout",
     "output_type": "stream",
     "text": [
      "Epoch 43: | Train Loss: 0.29429 | Val Loss: 0.28446 | Train Acc: 85.252| Val Acc: 85.940\n"
     ]
    },
    {
     "name": "stderr",
     "output_type": "stream",
     "text": [
      "Epoch 44 |>>>>>>>>>>| 100% Elapsed Time: 0:00:32 Time:  0:00:32 Training  22.0%\n"
     ]
    },
    {
     "name": "stdout",
     "output_type": "stream",
     "text": [
      "Epoch 44: | Train Loss: 0.29660 | Val Loss: 0.28584 | Train Acc: 85.196| Val Acc: 85.695\n"
     ]
    },
    {
     "name": "stderr",
     "output_type": "stream",
     "text": [
      "Epoch 45 |>>>>>>>>>>| 100% Elapsed Time: 0:00:32 Time:  0:00:32 Training  22.5%\n"
     ]
    },
    {
     "name": "stdout",
     "output_type": "stream",
     "text": [
      "Epoch 45: | Train Loss: 0.29391 | Val Loss: 0.28443 | Train Acc: 85.262| Val Acc: 85.879\n"
     ]
    },
    {
     "name": "stderr",
     "output_type": "stream",
     "text": [
      "Epoch 46 |>>>>>>>>>>| 100% Elapsed Time: 0:00:31 Time:  0:00:31 Training  23.0%\n"
     ]
    },
    {
     "name": "stdout",
     "output_type": "stream",
     "text": [
      "Epoch 46: | Train Loss: 0.29631 | Val Loss: 0.28435 | Train Acc: 85.210| Val Acc: 86.251\n"
     ]
    },
    {
     "name": "stderr",
     "output_type": "stream",
     "text": [
      "Epoch 47 |>>>>>>>>>>| 100% Elapsed Time: 0:00:31 Time:  0:00:31 Training  23.5%\n"
     ]
    },
    {
     "name": "stdout",
     "output_type": "stream",
     "text": [
      "Epoch 47: | Train Loss: 0.29604 | Val Loss: 0.28671 | Train Acc: 85.196| Val Acc: 85.650\n"
     ]
    },
    {
     "name": "stderr",
     "output_type": "stream",
     "text": [
      "Epoch 48 |>>>>>>>>>>| 100% Elapsed Time: 0:00:30 Time:  0:00:30 Training  24.0%\n"
     ]
    },
    {
     "name": "stdout",
     "output_type": "stream",
     "text": [
      "Epoch 48: | Train Loss: 0.29554 | Val Loss: 0.28455 | Train Acc: 85.136| Val Acc: 86.251\n"
     ]
    },
    {
     "name": "stderr",
     "output_type": "stream",
     "text": [
      "Epoch 49 |>>>>>>>>>>| 100% Elapsed Time: 0:00:32 Time:  0:00:32 Training  24.5%\n"
     ]
    },
    {
     "name": "stdout",
     "output_type": "stream",
     "text": [
      "Epoch 49: | Train Loss: 0.29288 | Val Loss: 0.28651 | Train Acc: 85.379| Val Acc: 85.662\n"
     ]
    },
    {
     "name": "stderr",
     "output_type": "stream",
     "text": [
      "Epoch 50 |>>>>>>>>>>| 100% Elapsed Time: 0:00:31 Time:  0:00:31 Training  25.0%\n"
     ]
    },
    {
     "name": "stdout",
     "output_type": "stream",
     "text": [
      "Epoch 50: | Train Loss: 0.29380 | Val Loss: 0.28500 | Train Acc: 85.318| Val Acc: 86.071\n"
     ]
    },
    {
     "name": "stderr",
     "output_type": "stream",
     "text": [
      "Epoch 51 |>>>>>>>>>>| 100% Elapsed Time: 0:00:29 Time:  0:00:29 Training  25.5%\n"
     ]
    },
    {
     "name": "stdout",
     "output_type": "stream",
     "text": [
      "Epoch 51: | Train Loss: 0.29013 | Val Loss: 0.28368 | Train Acc: 85.523| Val Acc: 86.435\n"
     ]
    },
    {
     "name": "stderr",
     "output_type": "stream",
     "text": [
      "Epoch 52 |>>>>>>>>>>| 100% Elapsed Time: 0:00:33 Time:  0:00:33 Training  26.0%\n"
     ]
    },
    {
     "name": "stdout",
     "output_type": "stream",
     "text": [
      "Epoch 52: | Train Loss: 0.29174 | Val Loss: 0.28311 | Train Acc: 85.477| Val Acc: 86.214\n"
     ]
    },
    {
     "name": "stderr",
     "output_type": "stream",
     "text": [
      "Epoch 53 |>>>>>>>>>>| 100% Elapsed Time: 0:00:35 Time:  0:00:35 Training  26.5%\n"
     ]
    },
    {
     "name": "stdout",
     "output_type": "stream",
     "text": [
      "Epoch 53: | Train Loss: 0.29403 | Val Loss: 0.28307 | Train Acc: 85.285| Val Acc: 86.165\n"
     ]
    },
    {
     "name": "stderr",
     "output_type": "stream",
     "text": [
      "Epoch 54 |>>>>>>>>>>| 100% Elapsed Time: 0:00:32 Time:  0:00:32 Training  27.0%\n"
     ]
    },
    {
     "name": "stdout",
     "output_type": "stream",
     "text": [
      "Epoch 54: | Train Loss: 0.29391 | Val Loss: 0.28415 | Train Acc: 85.425| Val Acc: 86.284\n"
     ]
    },
    {
     "name": "stderr",
     "output_type": "stream",
     "text": [
      "Epoch 55 |>>>>>>>>>>| 100% Elapsed Time: 0:00:31 Time:  0:00:31 Training  27.5%\n"
     ]
    },
    {
     "name": "stdout",
     "output_type": "stream",
     "text": [
      "Epoch 55: | Train Loss: 0.28972 | Val Loss: 0.28554 | Train Acc: 85.514| Val Acc: 86.476\n"
     ]
    },
    {
     "name": "stderr",
     "output_type": "stream",
     "text": [
      "Epoch 56 |>>>>>>>>>>| 100% Elapsed Time: 0:00:30 Time:  0:00:30 Training  28.0%\n"
     ]
    },
    {
     "name": "stdout",
     "output_type": "stream",
     "text": [
      "Epoch 56: | Train Loss: 0.29002 | Val Loss: 0.28229 | Train Acc: 85.565| Val Acc: 86.186\n"
     ]
    },
    {
     "name": "stderr",
     "output_type": "stream",
     "text": [
      "Epoch 57 |>>>>>>>>>>| 100% Elapsed Time: 0:00:32 Time:  0:00:32 Training  28.5%\n"
     ]
    },
    {
     "name": "stdout",
     "output_type": "stream",
     "text": [
      "Epoch 57: | Train Loss: 0.29329 | Val Loss: 0.28222 | Train Acc: 85.458| Val Acc: 86.124\n"
     ]
    },
    {
     "name": "stderr",
     "output_type": "stream",
     "text": [
      "Epoch 58 |>>>>>>>>>>| 100% Elapsed Time: 0:00:33 Time:  0:00:33 Training  29.0%\n"
     ]
    },
    {
     "name": "stdout",
     "output_type": "stream",
     "text": [
      "Epoch 58: | Train Loss: 0.29145 | Val Loss: 0.28448 | Train Acc: 85.491| Val Acc: 86.337\n"
     ]
    },
    {
     "name": "stderr",
     "output_type": "stream",
     "text": [
      "Epoch 59 |>>>>>>>>>>| 100% Elapsed Time: 0:00:44 Time:  0:00:44 Training  29.5%\n"
     ]
    },
    {
     "name": "stdout",
     "output_type": "stream",
     "text": [
      "Epoch 59: | Train Loss: 0.29093 | Val Loss: 0.28365 | Train Acc: 85.673| Val Acc: 86.460\n"
     ]
    },
    {
     "name": "stderr",
     "output_type": "stream",
     "text": [
      "Epoch 60 |>>>>>>>>>>| 100% Elapsed Time: 0:00:31 Time:  0:00:31 Training  30.0%\n"
     ]
    },
    {
     "name": "stdout",
     "output_type": "stream",
     "text": [
      "Epoch 60: | Train Loss: 0.29120 | Val Loss: 0.28862 | Train Acc: 85.495| Val Acc: 85.638\n"
     ]
    },
    {
     "name": "stderr",
     "output_type": "stream",
     "text": [
      "Epoch 61 |>>>>>>>>>>| 100% Elapsed Time: 0:00:30 Time:  0:00:30 Training  30.5%\n"
     ]
    },
    {
     "name": "stdout",
     "output_type": "stream",
     "text": [
      "Epoch 61: | Train Loss: 0.29101 | Val Loss: 0.28235 | Train Acc: 85.584| Val Acc: 86.284\n"
     ]
    },
    {
     "name": "stderr",
     "output_type": "stream",
     "text": [
      "Epoch 62 |>>>>>>>>>>| 100% Elapsed Time: 0:00:29 Time:  0:00:29 Training  31.0%\n"
     ]
    },
    {
     "name": "stdout",
     "output_type": "stream",
     "text": [
      "Epoch 62: | Train Loss: 0.29018 | Val Loss: 0.28307 | Train Acc: 85.607| Val Acc: 85.985\n"
     ]
    },
    {
     "name": "stderr",
     "output_type": "stream",
     "text": [
      "Epoch 63 |>>>>>>>>>>| 100% Elapsed Time: 0:00:30 Time:  0:00:30 Training  31.5%\n"
     ]
    },
    {
     "name": "stdout",
     "output_type": "stream",
     "text": [
      "Epoch 63: | Train Loss: 0.29183 | Val Loss: 0.28819 | Train Acc: 85.467| Val Acc: 85.650\n"
     ]
    },
    {
     "name": "stderr",
     "output_type": "stream",
     "text": [
      "Epoch 64 |>>>>>>>>>>| 100% Elapsed Time: 0:00:32 Time:  0:00:32 Training  32.0%\n"
     ]
    },
    {
     "name": "stdout",
     "output_type": "stream",
     "text": [
      "Epoch 64: | Train Loss: 0.29110 | Val Loss: 0.28446 | Train Acc: 85.654| Val Acc: 86.051\n"
     ]
    },
    {
     "name": "stderr",
     "output_type": "stream",
     "text": [
      "Epoch 65 |>>>>>>>>>>| 100% Elapsed Time: 0:00:33 Time:  0:00:33 Training  32.5%\n"
     ]
    },
    {
     "name": "stdout",
     "output_type": "stream",
     "text": [
      "Epoch 65: | Train Loss: 0.29028 | Val Loss: 0.28206 | Train Acc: 85.547| Val Acc: 86.443\n"
     ]
    },
    {
     "name": "stderr",
     "output_type": "stream",
     "text": [
      "Epoch 66 |>>>>>>>>>>| 100% Elapsed Time: 0:00:31 Time:  0:00:31 Training  33.0%\n"
     ]
    },
    {
     "name": "stdout",
     "output_type": "stream",
     "text": [
      "Epoch 66: | Train Loss: 0.29077 | Val Loss: 0.28197 | Train Acc: 85.537| Val Acc: 86.206\n"
     ]
    },
    {
     "name": "stderr",
     "output_type": "stream",
     "text": [
      "Epoch 67 |>>>>>>>>>>| 100% Elapsed Time: 0:00:32 Time:  0:00:32 Training  33.5%\n"
     ]
    },
    {
     "name": "stdout",
     "output_type": "stream",
     "text": [
      "Epoch 67: | Train Loss: 0.28873 | Val Loss: 0.28519 | Train Acc: 85.710| Val Acc: 86.267\n"
     ]
    },
    {
     "name": "stderr",
     "output_type": "stream",
     "text": [
      "Epoch 68 |>>>>>>>>>>| 100% Elapsed Time: 0:00:30 Time:  0:00:30 Training  34.0%\n"
     ]
    },
    {
     "name": "stdout",
     "output_type": "stream",
     "text": [
      "Epoch 68: | Train Loss: 0.29069 | Val Loss: 0.28194 | Train Acc: 85.617| Val Acc: 86.349\n"
     ]
    },
    {
     "name": "stderr",
     "output_type": "stream",
     "text": [
      "Epoch 69 |>>>>>>>>>>| 100% Elapsed Time: 0:00:30 Time:  0:00:30 Training  34.5%\n"
     ]
    },
    {
     "name": "stdout",
     "output_type": "stream",
     "text": [
      "Epoch 69: | Train Loss: 0.28826 | Val Loss: 0.28004 | Train Acc: 85.706| Val Acc: 86.365\n"
     ]
    },
    {
     "name": "stderr",
     "output_type": "stream",
     "text": [
      "Epoch 70 |>>>>>>>>>>| 100% Elapsed Time: 0:00:30 Time:  0:00:30 Training  35.0%\n"
     ]
    },
    {
     "name": "stdout",
     "output_type": "stream",
     "text": [
      "Epoch 70: | Train Loss: 0.28999 | Val Loss: 0.28144 | Train Acc: 85.706| Val Acc: 86.214\n"
     ]
    },
    {
     "name": "stderr",
     "output_type": "stream",
     "text": [
      "Epoch 71 |>>>>>>>>>>| 100% Elapsed Time: 0:00:32 Time:  0:00:32 Training  35.5%\n"
     ]
    },
    {
     "name": "stdout",
     "output_type": "stream",
     "text": [
      "Epoch 71: | Train Loss: 0.28831 | Val Loss: 0.28096 | Train Acc: 85.864| Val Acc: 86.427\n"
     ]
    },
    {
     "name": "stderr",
     "output_type": "stream",
     "text": [
      "Epoch 72 |>>>>>>>>>>| 100% Elapsed Time: 0:00:31 Time:  0:00:31 Training  36.0%\n"
     ]
    },
    {
     "name": "stdout",
     "output_type": "stream",
     "text": [
      "Epoch 72: | Train Loss: 0.28895 | Val Loss: 0.28109 | Train Acc: 85.640| Val Acc: 86.402\n"
     ]
    },
    {
     "name": "stderr",
     "output_type": "stream",
     "text": [
      "Epoch 73 |>>>>>>>>>>| 100% Elapsed Time: 0:00:30 Time:  0:00:30 Training  36.5%\n"
     ]
    },
    {
     "name": "stdout",
     "output_type": "stream",
     "text": [
      "Epoch 73: | Train Loss: 0.28820 | Val Loss: 0.28249 | Train Acc: 85.734| Val Acc: 86.517\n"
     ]
    },
    {
     "name": "stderr",
     "output_type": "stream",
     "text": [
      "Epoch 74 |>>>>>>>>>>| 100% Elapsed Time: 0:00:30 Time:  0:00:30 Training  37.0%\n"
     ]
    },
    {
     "name": "stdout",
     "output_type": "stream",
     "text": [
      "Epoch 74: | Train Loss: 0.28683 | Val Loss: 0.28506 | Train Acc: 85.813| Val Acc: 86.333\n"
     ]
    },
    {
     "name": "stderr",
     "output_type": "stream",
     "text": [
      "Epoch 75 |>>>>>>>>>>| 100% Elapsed Time: 0:00:29 Time:  0:00:29 Training  37.5%\n"
     ]
    },
    {
     "name": "stdout",
     "output_type": "stream",
     "text": [
      "Epoch 75: | Train Loss: 0.28779 | Val Loss: 0.28180 | Train Acc: 85.701| Val Acc: 86.639\n"
     ]
    },
    {
     "name": "stderr",
     "output_type": "stream",
     "text": [
      "Epoch 76 |>>>>>>>>>>| 100% Elapsed Time: 0:00:31 Time:  0:00:31 Training  38.0%\n"
     ]
    },
    {
     "name": "stdout",
     "output_type": "stream",
     "text": [
      "Epoch 76: | Train Loss: 0.28622 | Val Loss: 0.28263 | Train Acc: 85.907| Val Acc: 86.844\n"
     ]
    },
    {
     "name": "stderr",
     "output_type": "stream",
     "text": [
      "Epoch 77 |>>>>>>>>>>| 100% Elapsed Time: 0:00:30 Time:  0:00:30 Training  38.5%\n"
     ]
    },
    {
     "name": "stdout",
     "output_type": "stream",
     "text": [
      "Epoch 77: | Train Loss: 0.28648 | Val Loss: 0.28257 | Train Acc: 85.977| Val Acc: 86.149\n"
     ]
    },
    {
     "name": "stderr",
     "output_type": "stream",
     "text": [
      "Epoch 78 |>>>>>>>>>>| 100% Elapsed Time: 0:00:32 Time:  0:00:32 Training  39.0%\n"
     ]
    },
    {
     "name": "stdout",
     "output_type": "stream",
     "text": [
      "Epoch 78: | Train Loss: 0.28559 | Val Loss: 0.28326 | Train Acc: 86.000| Val Acc: 86.586\n"
     ]
    },
    {
     "name": "stderr",
     "output_type": "stream",
     "text": [
      "Epoch 79 |>>>>>>>>>>| 100% Elapsed Time: 0:00:29 Time:  0:00:29 Training  39.5%\n"
     ]
    },
    {
     "name": "stdout",
     "output_type": "stream",
     "text": [
      "Epoch 79: | Train Loss: 0.28629 | Val Loss: 0.28300 | Train Acc: 85.893| Val Acc: 86.423\n"
     ]
    },
    {
     "name": "stderr",
     "output_type": "stream",
     "text": [
      "Epoch 80 |>>>>>>>>>>| 100% Elapsed Time: 0:00:30 Time:  0:00:30 Training  40.0%\n"
     ]
    },
    {
     "name": "stdout",
     "output_type": "stream",
     "text": [
      "Epoch 80: | Train Loss: 0.28777 | Val Loss: 0.28108 | Train Acc: 85.850| Val Acc: 86.415\n"
     ]
    },
    {
     "name": "stderr",
     "output_type": "stream",
     "text": [
      "Epoch 81 |>>>>>>>>>>| 100% Elapsed Time: 0:00:30 Time:  0:00:30 Training  40.5%\n"
     ]
    },
    {
     "name": "stdout",
     "output_type": "stream",
     "text": [
      "Epoch 81: | Train Loss: 0.28809 | Val Loss: 0.28244 | Train Acc: 85.771| Val Acc: 86.202\n"
     ]
    },
    {
     "name": "stderr",
     "output_type": "stream",
     "text": [
      "Epoch 82 |>>>>>>>>>>| 100% Elapsed Time: 0:00:38 Time:  0:00:38 Training  41.0%\n"
     ]
    },
    {
     "name": "stdout",
     "output_type": "stream",
     "text": [
      "Epoch 82: | Train Loss: 0.28787 | Val Loss: 0.28088 | Train Acc: 85.925| Val Acc: 86.464\n"
     ]
    },
    {
     "name": "stderr",
     "output_type": "stream",
     "text": [
      "Epoch 83 |>>>>>>>>>>| 100% Elapsed Time: 0:00:31 Time:  0:00:31 Training  41.5%\n"
     ]
    },
    {
     "name": "stdout",
     "output_type": "stream",
     "text": [
      "Epoch 83: | Train Loss: 0.28711 | Val Loss: 0.28096 | Train Acc: 85.790| Val Acc: 86.239\n"
     ]
    },
    {
     "name": "stderr",
     "output_type": "stream",
     "text": [
      "Epoch 84 |>>>>>>>>>>| 100% Elapsed Time: 0:00:29 Time:  0:00:29 Training  42.0%\n"
     ]
    },
    {
     "name": "stdout",
     "output_type": "stream",
     "text": [
      "Epoch 84: | Train Loss: 0.28529 | Val Loss: 0.29967 | Train Acc: 85.995| Val Acc: 85.482\n"
     ]
    },
    {
     "name": "stderr",
     "output_type": "stream",
     "text": [
      "Epoch 85 |>>>>>>>>>>| 100% Elapsed Time: 0:00:28 Time:  0:00:28 Training  42.5%\n"
     ]
    },
    {
     "name": "stdout",
     "output_type": "stream",
     "text": [
      "Epoch 85: | Train Loss: 0.28642 | Val Loss: 0.28307 | Train Acc: 85.930| Val Acc: 86.165\n"
     ]
    },
    {
     "name": "stderr",
     "output_type": "stream",
     "text": [
      "Epoch 86 |>>>>>>>>>>| 100% Elapsed Time: 0:00:28 Time:  0:00:28 Training  43.0%\n"
     ]
    },
    {
     "name": "stdout",
     "output_type": "stream",
     "text": [
      "Epoch 86: | Train Loss: 0.28671 | Val Loss: 0.28565 | Train Acc: 85.869| Val Acc: 86.182\n"
     ]
    },
    {
     "name": "stderr",
     "output_type": "stream",
     "text": [
      "Epoch 87 |>>>>>>>>>>| 100% Elapsed Time: 0:00:28 Time:  0:00:28 Training  43.5%\n"
     ]
    },
    {
     "name": "stdout",
     "output_type": "stream",
     "text": [
      "Epoch 87: | Train Loss: 0.28720 | Val Loss: 0.28292 | Train Acc: 85.818| Val Acc: 86.484\n"
     ]
    },
    {
     "name": "stderr",
     "output_type": "stream",
     "text": [
      "Epoch 88 |>>>>>>>>>>| 100% Elapsed Time: 0:00:34 Time:  0:00:34 Training  44.0%\n"
     ]
    },
    {
     "name": "stdout",
     "output_type": "stream",
     "text": [
      "Epoch 88: | Train Loss: 0.28521 | Val Loss: 0.28457 | Train Acc: 86.033| Val Acc: 86.018\n"
     ]
    },
    {
     "name": "stderr",
     "output_type": "stream",
     "text": [
      "Epoch 89 |>>>>>>>>>>| 100% Elapsed Time: 0:00:32 Time:  0:00:32 Training  44.5%\n"
     ]
    },
    {
     "name": "stdout",
     "output_type": "stream",
     "text": [
      "Epoch 89: | Train Loss: 0.28674 | Val Loss: 0.29457 | Train Acc: 85.794| Val Acc: 85.245\n"
     ]
    },
    {
     "name": "stderr",
     "output_type": "stream",
     "text": [
      "Epoch 90 |>>>>>>>>>>| 100% Elapsed Time: 0:00:30 Time:  0:00:30 Training  45.0%\n"
     ]
    },
    {
     "name": "stdout",
     "output_type": "stream",
     "text": [
      "Epoch 90: | Train Loss: 0.28557 | Val Loss: 0.28369 | Train Acc: 85.958| Val Acc: 86.321\n"
     ]
    },
    {
     "name": "stderr",
     "output_type": "stream",
     "text": [
      "Epoch 91 |>>>>>>>>>>| 100% Elapsed Time: 0:00:31 Time:  0:00:31 Training  45.5%\n"
     ]
    },
    {
     "name": "stdout",
     "output_type": "stream",
     "text": [
      "Epoch 91: | Train Loss: 0.28723 | Val Loss: 0.28076 | Train Acc: 85.888| Val Acc: 86.357\n"
     ]
    },
    {
     "name": "stderr",
     "output_type": "stream",
     "text": [
      "Epoch 92 |>>>>>>>>>>| 100% Elapsed Time: 0:00:30 Time:  0:00:30 Training  46.0%\n"
     ]
    },
    {
     "name": "stdout",
     "output_type": "stream",
     "text": [
      "Epoch 92: | Train Loss: 0.28811 | Val Loss: 0.28203 | Train Acc: 85.822| Val Acc: 86.648\n"
     ]
    },
    {
     "name": "stderr",
     "output_type": "stream",
     "text": [
      "Epoch 93 |>>>>>>>>>>| 100% Elapsed Time: 0:00:30 Time:  0:00:30 Training  46.5%\n"
     ]
    },
    {
     "name": "stdout",
     "output_type": "stream",
     "text": [
      "Epoch 93: | Train Loss: 0.28695 | Val Loss: 0.28317 | Train Acc: 85.836| Val Acc: 86.664\n"
     ]
    },
    {
     "name": "stderr",
     "output_type": "stream",
     "text": [
      "Epoch 94 |>>>>>>>>>>| 100% Elapsed Time: 0:00:30 Time:  0:00:30 Training  47.0%\n"
     ]
    },
    {
     "name": "stdout",
     "output_type": "stream",
     "text": [
      "Epoch 94: | Train Loss: 0.28444 | Val Loss: 0.28279 | Train Acc: 86.005| Val Acc: 86.169\n"
     ]
    },
    {
     "name": "stderr",
     "output_type": "stream",
     "text": [
      "Epoch 95 |>>>>>>>>>>| 100% Elapsed Time: 0:00:31 Time:  0:00:31 Training  47.5%\n"
     ]
    },
    {
     "name": "stdout",
     "output_type": "stream",
     "text": [
      "Epoch 95: | Train Loss: 0.28799 | Val Loss: 0.27989 | Train Acc: 85.841| Val Acc: 86.365\n"
     ]
    },
    {
     "name": "stderr",
     "output_type": "stream",
     "text": [
      "Epoch 96 |>>>>>>>>>>| 100% Elapsed Time: 0:00:33 Time:  0:00:33 Training  48.0%\n"
     ]
    },
    {
     "name": "stdout",
     "output_type": "stream",
     "text": [
      "Epoch 96: | Train Loss: 0.28486 | Val Loss: 0.29055 | Train Acc: 85.981| Val Acc: 85.940\n"
     ]
    },
    {
     "name": "stderr",
     "output_type": "stream",
     "text": [
      "Epoch 97 |>>>>>>>>>>| 100% Elapsed Time: 0:00:30 Time:  0:00:30 Training  48.5%\n"
     ]
    },
    {
     "name": "stdout",
     "output_type": "stream",
     "text": [
      "Epoch 97: | Train Loss: 0.28510 | Val Loss: 0.28088 | Train Acc: 85.949| Val Acc: 86.374\n"
     ]
    },
    {
     "name": "stderr",
     "output_type": "stream",
     "text": [
      "Epoch 98 |>>>>>>>>>>| 100% Elapsed Time: 0:00:31 Time:  0:00:31 Training  49.0%\n"
     ]
    },
    {
     "name": "stdout",
     "output_type": "stream",
     "text": [
      "Epoch 98: | Train Loss: 0.28651 | Val Loss: 0.28244 | Train Acc: 85.897| Val Acc: 86.455\n"
     ]
    },
    {
     "name": "stderr",
     "output_type": "stream",
     "text": [
      "Epoch 99 |>>>>>>>>>>| 100% Elapsed Time: 0:00:30 Time:  0:00:30 Training  49.5%\n"
     ]
    },
    {
     "name": "stdout",
     "output_type": "stream",
     "text": [
      "Epoch 99: | Train Loss: 0.28720 | Val Loss: 0.27941 | Train Acc: 85.864| Val Acc: 86.558\n"
     ]
    },
    {
     "name": "stderr",
     "output_type": "stream",
     "text": [
      "Epoch 100 |>>>>>>>>>| 100% Elapsed Time: 0:00:30 Time:  0:00:30 Training  50.0%\n"
     ]
    },
    {
     "name": "stdout",
     "output_type": "stream",
     "text": [
      "Epoch 100: | Train Loss: 0.28557 | Val Loss: 0.28152 | Train Acc: 85.963| Val Acc: 86.370\n"
     ]
    },
    {
     "name": "stderr",
     "output_type": "stream",
     "text": [
      "Epoch 101 |>>>>>>>>>| 100% Elapsed Time: 0:00:30 Time:  0:00:30 Training  50.5%\n"
     ]
    },
    {
     "name": "stdout",
     "output_type": "stream",
     "text": [
      "Epoch 101: | Train Loss: 0.28331 | Val Loss: 0.28103 | Train Acc: 86.079| Val Acc: 86.333\n"
     ]
    },
    {
     "name": "stderr",
     "output_type": "stream",
     "text": [
      "Epoch 102 |>>>>>>>>>| 100% Elapsed Time: 0:00:31 Time:  0:00:31 Training  51.0%\n"
     ]
    },
    {
     "name": "stdout",
     "output_type": "stream",
     "text": [
      "Epoch 102: | Train Loss: 0.28650 | Val Loss: 0.28011 | Train Acc: 85.897| Val Acc: 86.656\n"
     ]
    },
    {
     "name": "stderr",
     "output_type": "stream",
     "text": [
      "Epoch 103 |>>>>>>>>>| 100% Elapsed Time: 0:00:31 Time:  0:00:31 Training  51.5%\n"
     ]
    },
    {
     "name": "stdout",
     "output_type": "stream",
     "text": [
      "Epoch 103: | Train Loss: 0.28597 | Val Loss: 0.29635 | Train Acc: 86.023| Val Acc: 85.924\n"
     ]
    },
    {
     "name": "stderr",
     "output_type": "stream",
     "text": [
      "Epoch 104 |>>>>>>>>>| 100% Elapsed Time: 0:00:32 Time:  0:00:32 Training  52.0%\n"
     ]
    },
    {
     "name": "stdout",
     "output_type": "stream",
     "text": [
      "Epoch 104: | Train Loss: 0.28457 | Val Loss: 0.28061 | Train Acc: 85.967| Val Acc: 86.316\n"
     ]
    },
    {
     "name": "stderr",
     "output_type": "stream",
     "text": [
      "Epoch 105 |>>>>>>>>>| 100% Elapsed Time: 0:00:31 Time:  0:00:31 Training  52.5%\n"
     ]
    },
    {
     "name": "stdout",
     "output_type": "stream",
     "text": [
      "Epoch 105: | Train Loss: 0.28527 | Val Loss: 0.27846 | Train Acc: 86.047| Val Acc: 86.611\n"
     ]
    },
    {
     "name": "stderr",
     "output_type": "stream",
     "text": [
      "Epoch 106 |>>>>>>>>>| 100% Elapsed Time: 0:00:30 Time:  0:00:30 Training  53.0%\n"
     ]
    },
    {
     "name": "stdout",
     "output_type": "stream",
     "text": [
      "Epoch 106: | Train Loss: 0.28446 | Val Loss: 0.28029 | Train Acc: 86.084| Val Acc: 86.787\n"
     ]
    },
    {
     "name": "stderr",
     "output_type": "stream",
     "text": [
      "Epoch 107 |>>>>>>>>>| 100% Elapsed Time: 0:00:29 Time:  0:00:29 Training  53.5%\n"
     ]
    },
    {
     "name": "stdout",
     "output_type": "stream",
     "text": [
      "Epoch 107: | Train Loss: 0.28446 | Val Loss: 0.27911 | Train Acc: 86.065| Val Acc: 86.460\n"
     ]
    },
    {
     "name": "stderr",
     "output_type": "stream",
     "text": [
      "Epoch 108 |>>>>>>>>>| 100% Elapsed Time: 0:00:29 Time:  0:00:29 Training  54.0%\n"
     ]
    },
    {
     "name": "stdout",
     "output_type": "stream",
     "text": [
      "Epoch 108: | Train Loss: 0.28296 | Val Loss: 0.28039 | Train Acc: 86.154| Val Acc: 86.447\n"
     ]
    },
    {
     "name": "stderr",
     "output_type": "stream",
     "text": [
      "Epoch 109 |>>>>>>>>>| 100% Elapsed Time: 0:00:29 Time:  0:00:29 Training  54.5%\n"
     ]
    },
    {
     "name": "stdout",
     "output_type": "stream",
     "text": [
      "Epoch 109: | Train Loss: 0.28412 | Val Loss: 0.27887 | Train Acc: 86.121| Val Acc: 86.639\n"
     ]
    },
    {
     "name": "stderr",
     "output_type": "stream",
     "text": [
      "Epoch 110 |>>>>>>>>>| 100% Elapsed Time: 0:00:31 Time:  0:00:31 Training  55.0%\n"
     ]
    },
    {
     "name": "stdout",
     "output_type": "stream",
     "text": [
      "Epoch 110: | Train Loss: 0.28502 | Val Loss: 0.27973 | Train Acc: 85.995| Val Acc: 86.496\n"
     ]
    },
    {
     "name": "stderr",
     "output_type": "stream",
     "text": [
      "Epoch 111 |>>>>>>>>>| 100% Elapsed Time: 0:00:30 Time:  0:00:30 Training  55.5%\n"
     ]
    },
    {
     "name": "stdout",
     "output_type": "stream",
     "text": [
      "Epoch 111: | Train Loss: 0.28488 | Val Loss: 0.28730 | Train Acc: 86.093| Val Acc: 86.271\n"
     ]
    },
    {
     "name": "stderr",
     "output_type": "stream",
     "text": [
      "Epoch 112 |>>>>>>>>>| 100% Elapsed Time: 0:00:29 Time:  0:00:29 Training  56.0%\n"
     ]
    },
    {
     "name": "stdout",
     "output_type": "stream",
     "text": [
      "Epoch 112: | Train Loss: 0.28598 | Val Loss: 0.28996 | Train Acc: 86.009| Val Acc: 85.454\n"
     ]
    },
    {
     "name": "stderr",
     "output_type": "stream",
     "text": [
      "Epoch 113 |>>>>>>>>>| 100% Elapsed Time: 0:00:30 Time:  0:00:30 Training  56.5%\n"
     ]
    },
    {
     "name": "stdout",
     "output_type": "stream",
     "text": [
      "Epoch 113: | Train Loss: 0.28448 | Val Loss: 0.28735 | Train Acc: 86.037| Val Acc: 86.341\n"
     ]
    },
    {
     "name": "stderr",
     "output_type": "stream",
     "text": [
      "Epoch 114 |>>>>>>>>>| 100% Elapsed Time: 0:00:31 Time:  0:00:31 Training  57.0%\n"
     ]
    },
    {
     "name": "stdout",
     "output_type": "stream",
     "text": [
      "Epoch 114: | Train Loss: 0.28423 | Val Loss: 0.27821 | Train Acc: 86.019| Val Acc: 86.693\n"
     ]
    },
    {
     "name": "stderr",
     "output_type": "stream",
     "text": [
      "Epoch 115 |>>>>>>>>>| 100% Elapsed Time: 0:00:31 Time:  0:00:31 Training  57.5%\n"
     ]
    },
    {
     "name": "stdout",
     "output_type": "stream",
     "text": [
      "Epoch 115: | Train Loss: 0.28452 | Val Loss: 0.27960 | Train Acc: 86.009| Val Acc: 86.631\n"
     ]
    },
    {
     "name": "stderr",
     "output_type": "stream",
     "text": [
      "Epoch 116 |>>>>>>>>>| 100% Elapsed Time: 0:00:32 Time:  0:00:32 Training  58.0%\n"
     ]
    },
    {
     "name": "stdout",
     "output_type": "stream",
     "text": [
      "Epoch 116: | Train Loss: 0.28282 | Val Loss: 0.27909 | Train Acc: 86.136| Val Acc: 86.566\n"
     ]
    },
    {
     "name": "stderr",
     "output_type": "stream",
     "text": [
      "Epoch 117 |>>>>>>>>>| 100% Elapsed Time: 0:00:29 Time:  0:00:29 Training  58.5%\n"
     ]
    },
    {
     "name": "stdout",
     "output_type": "stream",
     "text": [
      "Epoch 117: | Train Loss: 0.28274 | Val Loss: 0.28132 | Train Acc: 86.168| Val Acc: 86.321\n"
     ]
    },
    {
     "name": "stderr",
     "output_type": "stream",
     "text": [
      "Epoch 118 |>>>>>>>>>| 100% Elapsed Time: 0:00:31 Time:  0:00:31 Training  59.0%\n"
     ]
    },
    {
     "name": "stdout",
     "output_type": "stream",
     "text": [
      "Epoch 118: | Train Loss: 0.28524 | Val Loss: 0.28172 | Train Acc: 86.000| Val Acc: 86.018\n"
     ]
    },
    {
     "name": "stderr",
     "output_type": "stream",
     "text": [
      "Epoch 119 |>>>>>>>>>| 100% Elapsed Time: 0:00:32 Time:  0:00:32 Training  59.5%\n"
     ]
    },
    {
     "name": "stdout",
     "output_type": "stream",
     "text": [
      "Epoch 119: | Train Loss: 0.28319 | Val Loss: 0.27901 | Train Acc: 86.136| Val Acc: 86.447\n"
     ]
    },
    {
     "name": "stderr",
     "output_type": "stream",
     "text": [
      "Epoch 120 |>>>>>>>>>| 100% Elapsed Time: 0:00:30 Time:  0:00:30 Training  60.0%\n"
     ]
    },
    {
     "name": "stdout",
     "output_type": "stream",
     "text": [
      "Epoch 120: | Train Loss: 0.28330 | Val Loss: 0.28084 | Train Acc: 86.159| Val Acc: 86.361\n"
     ]
    },
    {
     "name": "stderr",
     "output_type": "stream",
     "text": [
      "Epoch 121 |>>>>>>>>>| 100% Elapsed Time: 0:00:30 Time:  0:00:30 Training  60.5%\n"
     ]
    },
    {
     "name": "stdout",
     "output_type": "stream",
     "text": [
      "Epoch 121: | Train Loss: 0.28372 | Val Loss: 0.27972 | Train Acc: 86.089| Val Acc: 86.913\n"
     ]
    },
    {
     "name": "stderr",
     "output_type": "stream",
     "text": [
      "Epoch 122 |>>>>>>>>>| 100% Elapsed Time: 0:00:33 Time:  0:00:33 Training  61.0%\n"
     ]
    },
    {
     "name": "stdout",
     "output_type": "stream",
     "text": [
      "Epoch 122: | Train Loss: 0.28428 | Val Loss: 0.28059 | Train Acc: 86.093| Val Acc: 86.590\n"
     ]
    },
    {
     "name": "stderr",
     "output_type": "stream",
     "text": [
      "Epoch 123 |>>>>>>>>>| 100% Elapsed Time: 0:00:35 Time:  0:00:35 Training  61.5%\n"
     ]
    },
    {
     "name": "stdout",
     "output_type": "stream",
     "text": [
      "Epoch 123: | Train Loss: 0.28379 | Val Loss: 0.27839 | Train Acc: 86.229| Val Acc: 86.447\n"
     ]
    },
    {
     "name": "stderr",
     "output_type": "stream",
     "text": [
      "Epoch 124 |>>>>>>>>>| 100% Elapsed Time: 0:00:29 Time:  0:00:29 Training  62.0%\n"
     ]
    },
    {
     "name": "stdout",
     "output_type": "stream",
     "text": [
      "Epoch 124: | Train Loss: 0.28340 | Val Loss: 0.27812 | Train Acc: 86.136| Val Acc: 86.476\n"
     ]
    },
    {
     "name": "stderr",
     "output_type": "stream",
     "text": [
      "Epoch 125 |>>>>>>>>>| 100% Elapsed Time: 0:00:30 Time:  0:00:30 Training  62.5%\n"
     ]
    },
    {
     "name": "stdout",
     "output_type": "stream",
     "text": [
      "Epoch 125: | Train Loss: 0.28237 | Val Loss: 0.28005 | Train Acc: 86.248| Val Acc: 86.885\n"
     ]
    },
    {
     "name": "stderr",
     "output_type": "stream",
     "text": [
      "Epoch 126 |>>>>>>>>>| 100% Elapsed Time: 0:00:29 Time:  0:00:29 Training  63.0%\n"
     ]
    },
    {
     "name": "stdout",
     "output_type": "stream",
     "text": [
      "Epoch 126: | Train Loss: 0.28654 | Val Loss: 0.28232 | Train Acc: 85.902| Val Acc: 86.570\n"
     ]
    },
    {
     "name": "stderr",
     "output_type": "stream",
     "text": [
      "Epoch 127 |>>>>>>>>>| 100% Elapsed Time: 0:00:29 Time:  0:00:29 Training  63.5%\n"
     ]
    },
    {
     "name": "stdout",
     "output_type": "stream",
     "text": [
      "Epoch 127: | Train Loss: 0.28419 | Val Loss: 0.28068 | Train Acc: 86.023| Val Acc: 86.243\n"
     ]
    },
    {
     "name": "stderr",
     "output_type": "stream",
     "text": [
      "Epoch 128 |>>>>>>>>>| 100% Elapsed Time: 0:00:29 Time:  0:00:29 Training  64.0%\n"
     ]
    },
    {
     "name": "stdout",
     "output_type": "stream",
     "text": [
      "Epoch 128: | Train Loss: 0.28393 | Val Loss: 0.28087 | Train Acc: 86.098| Val Acc: 86.648\n"
     ]
    },
    {
     "name": "stderr",
     "output_type": "stream",
     "text": [
      "Epoch 129 |>>>>>>>>>| 100% Elapsed Time: 0:00:31 Time:  0:00:31 Training  64.5%\n"
     ]
    },
    {
     "name": "stdout",
     "output_type": "stream",
     "text": [
      "Epoch 129: | Train Loss: 0.28145 | Val Loss: 0.27892 | Train Acc: 86.266| Val Acc: 86.832\n"
     ]
    },
    {
     "name": "stderr",
     "output_type": "stream",
     "text": [
      "Epoch 130 |>>>>>>>>>| 100% Elapsed Time: 0:00:30 Time:  0:00:30 Training  65.0%\n"
     ]
    },
    {
     "name": "stdout",
     "output_type": "stream",
     "text": [
      "Epoch 130: | Train Loss: 0.28303 | Val Loss: 0.27917 | Train Acc: 86.173| Val Acc: 86.235\n"
     ]
    },
    {
     "name": "stderr",
     "output_type": "stream",
     "text": [
      "Epoch 131 |>>>>>>>>>| 100% Elapsed Time: 0:00:32 Time:  0:00:32 Training  65.5%\n"
     ]
    },
    {
     "name": "stdout",
     "output_type": "stream",
     "text": [
      "Epoch 131: | Train Loss: 0.28501 | Val Loss: 0.27942 | Train Acc: 85.995| Val Acc: 86.566\n"
     ]
    },
    {
     "name": "stderr",
     "output_type": "stream",
     "text": [
      "Epoch 132 |>>>>>>>>>| 100% Elapsed Time: 0:00:29 Time:  0:00:29 Training  66.0%\n"
     ]
    },
    {
     "name": "stdout",
     "output_type": "stream",
     "text": [
      "Epoch 132: | Train Loss: 0.28186 | Val Loss: 0.28139 | Train Acc: 86.159| Val Acc: 86.239\n"
     ]
    },
    {
     "name": "stderr",
     "output_type": "stream",
     "text": [
      "Epoch 133 |>>>>>>>>>| 100% Elapsed Time: 0:00:30 Time:  0:00:30 Training  66.5%\n"
     ]
    },
    {
     "name": "stdout",
     "output_type": "stream",
     "text": [
      "Epoch 133: | Train Loss: 0.28234 | Val Loss: 0.28007 | Train Acc: 86.107| Val Acc: 86.619\n"
     ]
    },
    {
     "name": "stderr",
     "output_type": "stream",
     "text": [
      "Epoch 134 |>>>>>>>>>| 100% Elapsed Time: 0:00:31 Time:  0:00:31 Training  67.0%\n"
     ]
    },
    {
     "name": "stdout",
     "output_type": "stream",
     "text": [
      "Epoch 134: | Train Loss: 0.28101 | Val Loss: 0.28354 | Train Acc: 86.271| Val Acc: 86.296\n"
     ]
    },
    {
     "name": "stderr",
     "output_type": "stream",
     "text": [
      "Epoch 135 |>>>>>>>>>| 100% Elapsed Time: 0:00:31 Time:  0:00:31 Training  67.5%\n"
     ]
    },
    {
     "name": "stdout",
     "output_type": "stream",
     "text": [
      "Epoch 135: | Train Loss: 0.28189 | Val Loss: 0.28251 | Train Acc: 86.201| Val Acc: 86.554\n"
     ]
    },
    {
     "name": "stderr",
     "output_type": "stream",
     "text": [
      "Epoch 136 |>>>>>>>>>| 100% Elapsed Time: 0:00:29 Time:  0:00:29 Training  68.0%\n"
     ]
    },
    {
     "name": "stdout",
     "output_type": "stream",
     "text": [
      "Epoch 136: | Train Loss: 0.28396 | Val Loss: 0.27866 | Train Acc: 86.192| Val Acc: 86.451\n"
     ]
    },
    {
     "name": "stderr",
     "output_type": "stream",
     "text": [
      "Epoch 137 |>>>>>>>>>| 100% Elapsed Time: 0:00:30 Time:  0:00:30 Training  68.5%\n"
     ]
    },
    {
     "name": "stdout",
     "output_type": "stream",
     "text": [
      "Epoch 137: | Train Loss: 0.28358 | Val Loss: 0.28155 | Train Acc: 86.084| Val Acc: 86.570\n"
     ]
    },
    {
     "name": "stderr",
     "output_type": "stream",
     "text": [
      "Epoch 138 |>>>>>>>>>| 100% Elapsed Time: 0:00:31 Time:  0:00:31 Training  69.0%\n"
     ]
    },
    {
     "name": "stdout",
     "output_type": "stream",
     "text": [
      "Epoch 138: | Train Loss: 0.28020 | Val Loss: 0.27773 | Train Acc: 86.393| Val Acc: 86.386\n"
     ]
    },
    {
     "name": "stderr",
     "output_type": "stream",
     "text": [
      "Epoch 139 |>>>>>>>>>| 100% Elapsed Time: 0:00:32 Time:  0:00:32 Training  69.5%\n"
     ]
    },
    {
     "name": "stdout",
     "output_type": "stream",
     "text": [
      "Epoch 139: | Train Loss: 0.28291 | Val Loss: 0.27971 | Train Acc: 86.196| Val Acc: 86.697\n"
     ]
    },
    {
     "name": "stderr",
     "output_type": "stream",
     "text": [
      "Epoch 140 |>>>>>>>>>| 100% Elapsed Time: 0:00:31 Time:  0:00:31 Training  70.0%\n"
     ]
    },
    {
     "name": "stdout",
     "output_type": "stream",
     "text": [
      "Epoch 140: | Train Loss: 0.28288 | Val Loss: 0.28058 | Train Acc: 86.192| Val Acc: 86.427\n"
     ]
    },
    {
     "name": "stderr",
     "output_type": "stream",
     "text": [
      "Epoch 141 |>>>>>>>>>| 100% Elapsed Time: 0:00:33 Time:  0:00:33 Training  70.5%\n"
     ]
    },
    {
     "name": "stdout",
     "output_type": "stream",
     "text": [
      "Epoch 141: | Train Loss: 0.28193 | Val Loss: 0.27711 | Train Acc: 86.285| Val Acc: 86.672\n"
     ]
    },
    {
     "name": "stderr",
     "output_type": "stream",
     "text": [
      "Epoch 142 |>>>>>>>>>| 100% Elapsed Time: 0:00:30 Time:  0:00:30 Training  71.0%\n"
     ]
    },
    {
     "name": "stdout",
     "output_type": "stream",
     "text": [
      "Epoch 142: | Train Loss: 0.28100 | Val Loss: 0.27852 | Train Acc: 86.294| Val Acc: 86.656\n"
     ]
    },
    {
     "name": "stderr",
     "output_type": "stream",
     "text": [
      "Epoch 143 |>>>>>>>>>| 100% Elapsed Time: 0:00:29 Time:  0:00:29 Training  71.5%\n"
     ]
    },
    {
     "name": "stdout",
     "output_type": "stream",
     "text": [
      "Epoch 143: | Train Loss: 0.28381 | Val Loss: 0.27767 | Train Acc: 86.047| Val Acc: 86.668\n"
     ]
    },
    {
     "name": "stderr",
     "output_type": "stream",
     "text": [
      "Epoch 144 |>>>>>>>>>| 100% Elapsed Time: 0:00:30 Time:  0:00:30 Training  72.0%\n"
     ]
    },
    {
     "name": "stdout",
     "output_type": "stream",
     "text": [
      "Epoch 144: | Train Loss: 0.28130 | Val Loss: 0.27885 | Train Acc: 86.336| Val Acc: 86.709\n"
     ]
    },
    {
     "name": "stderr",
     "output_type": "stream",
     "text": [
      "Epoch 145 |>>>>>>>>>| 100% Elapsed Time: 0:00:31 Time:  0:00:31 Training  72.5%\n"
     ]
    },
    {
     "name": "stdout",
     "output_type": "stream",
     "text": [
      "Epoch 145: | Train Loss: 0.28218 | Val Loss: 0.28148 | Train Acc: 86.243| Val Acc: 86.476\n"
     ]
    },
    {
     "name": "stderr",
     "output_type": "stream",
     "text": [
      "Epoch 146 |>>>>>>>>>| 100% Elapsed Time: 0:00:30 Time:  0:00:30 Training  73.0%\n"
     ]
    },
    {
     "name": "stdout",
     "output_type": "stream",
     "text": [
      "Epoch 146: | Train Loss: 0.28109 | Val Loss: 0.27936 | Train Acc: 86.313| Val Acc: 86.554\n"
     ]
    },
    {
     "name": "stderr",
     "output_type": "stream",
     "text": [
      "Epoch 147 |>>>>>>>>>| 100% Elapsed Time: 0:00:30 Time:  0:00:30 Training  73.5%\n"
     ]
    },
    {
     "name": "stdout",
     "output_type": "stream",
     "text": [
      "Epoch 147: | Train Loss: 0.28127 | Val Loss: 0.27852 | Train Acc: 86.360| Val Acc: 86.333\n"
     ]
    },
    {
     "name": "stderr",
     "output_type": "stream",
     "text": [
      "Epoch 148 |>>>>>>>>>| 100% Elapsed Time: 0:00:30 Time:  0:00:30 Training  74.0%\n"
     ]
    },
    {
     "name": "stdout",
     "output_type": "stream",
     "text": [
      "Epoch 148: | Train Loss: 0.28341 | Val Loss: 0.27738 | Train Acc: 86.187| Val Acc: 86.643\n"
     ]
    },
    {
     "name": "stderr",
     "output_type": "stream",
     "text": [
      "Epoch 149 |>>>>>>>>>| 100% Elapsed Time: 0:00:31 Time:  0:00:31 Training  74.5%\n"
     ]
    },
    {
     "name": "stdout",
     "output_type": "stream",
     "text": [
      "Epoch 149: | Train Loss: 0.28427 | Val Loss: 0.28108 | Train Acc: 86.145| Val Acc: 86.316\n"
     ]
    },
    {
     "name": "stderr",
     "output_type": "stream",
     "text": [
      "Epoch 150 |>>>>>>>>>| 100% Elapsed Time: 0:00:31 Time:  0:00:31 Training  75.0%\n"
     ]
    },
    {
     "name": "stdout",
     "output_type": "stream",
     "text": [
      "Epoch 150: | Train Loss: 0.28232 | Val Loss: 0.27746 | Train Acc: 86.210| Val Acc: 86.623\n"
     ]
    },
    {
     "name": "stderr",
     "output_type": "stream",
     "text": [
      "Epoch 151 |>>>>>>>>>| 100% Elapsed Time: 0:00:29 Time:  0:00:29 Training  75.5%\n"
     ]
    },
    {
     "name": "stdout",
     "output_type": "stream",
     "text": [
      "Epoch 151: | Train Loss: 0.28316 | Val Loss: 0.27909 | Train Acc: 86.173| Val Acc: 86.566\n"
     ]
    },
    {
     "name": "stderr",
     "output_type": "stream",
     "text": [
      "Epoch 152 |>>>>>>>>>| 100% Elapsed Time: 0:00:30 Time:  0:00:30 Training  76.0%\n"
     ]
    },
    {
     "name": "stdout",
     "output_type": "stream",
     "text": [
      "Epoch 152: | Train Loss: 0.28190 | Val Loss: 0.27857 | Train Acc: 86.131| Val Acc: 86.562\n"
     ]
    },
    {
     "name": "stderr",
     "output_type": "stream",
     "text": [
      "Epoch 153 |>>>>>>>>>| 100% Elapsed Time: 0:00:32 Time:  0:00:32 Training  76.5%\n"
     ]
    },
    {
     "name": "stdout",
     "output_type": "stream",
     "text": [
      "Epoch 153: | Train Loss: 0.28168 | Val Loss: 0.28254 | Train Acc: 86.192| Val Acc: 86.141\n"
     ]
    },
    {
     "name": "stderr",
     "output_type": "stream",
     "text": [
      "Epoch 154 |>>>>>>>>>| 100% Elapsed Time: 0:00:31 Time:  0:00:31 Training  77.0%\n"
     ]
    },
    {
     "name": "stdout",
     "output_type": "stream",
     "text": [
      "Epoch 154: | Train Loss: 0.28312 | Val Loss: 0.28077 | Train Acc: 86.117| Val Acc: 86.504\n"
     ]
    },
    {
     "name": "stderr",
     "output_type": "stream",
     "text": [
      "Epoch 155 |>>>>>>>>>| 100% Elapsed Time: 0:00:30 Time:  0:00:30 Training  77.5%\n"
     ]
    },
    {
     "name": "stdout",
     "output_type": "stream",
     "text": [
      "Epoch 155: | Train Loss: 0.28114 | Val Loss: 0.27859 | Train Acc: 86.215| Val Acc: 86.586\n"
     ]
    },
    {
     "name": "stderr",
     "output_type": "stream",
     "text": [
      "Epoch 156 |>>>>>>>>>| 100% Elapsed Time: 0:00:31 Time:  0:00:31 Training  78.0%\n"
     ]
    },
    {
     "name": "stdout",
     "output_type": "stream",
     "text": [
      "Epoch 156: | Train Loss: 0.28261 | Val Loss: 0.27804 | Train Acc: 86.201| Val Acc: 86.558\n"
     ]
    },
    {
     "name": "stderr",
     "output_type": "stream",
     "text": [
      "Epoch 157 |>>>>>>>>>| 100% Elapsed Time: 0:00:31 Time:  0:00:31 Training  78.5%\n"
     ]
    },
    {
     "name": "stdout",
     "output_type": "stream",
     "text": [
      "Epoch 157: | Train Loss: 0.28262 | Val Loss: 0.27857 | Train Acc: 86.220| Val Acc: 86.811\n"
     ]
    },
    {
     "name": "stderr",
     "output_type": "stream",
     "text": [
      "Epoch 158 |>>>>>>>>>| 100% Elapsed Time: 0:00:30 Time:  0:00:30 Training  79.0%\n"
     ]
    },
    {
     "name": "stdout",
     "output_type": "stream",
     "text": [
      "Epoch 158: | Train Loss: 0.28200 | Val Loss: 0.28658 | Train Acc: 86.178| Val Acc: 85.760\n"
     ]
    },
    {
     "name": "stderr",
     "output_type": "stream",
     "text": [
      "Epoch 159 |>>>>>>>>>| 100% Elapsed Time: 0:00:30 Time:  0:00:30 Training  79.5%\n"
     ]
    },
    {
     "name": "stdout",
     "output_type": "stream",
     "text": [
      "Epoch 159: | Train Loss: 0.28262 | Val Loss: 0.27789 | Train Acc: 86.168| Val Acc: 86.766\n"
     ]
    },
    {
     "name": "stderr",
     "output_type": "stream",
     "text": [
      "Epoch 160 |>>>>>>>>>| 100% Elapsed Time: 0:00:31 Time:  0:00:31 Training  80.0%\n"
     ]
    },
    {
     "name": "stdout",
     "output_type": "stream",
     "text": [
      "Epoch 160: | Train Loss: 0.28157 | Val Loss: 0.27993 | Train Acc: 86.290| Val Acc: 86.795\n"
     ]
    },
    {
     "name": "stderr",
     "output_type": "stream",
     "text": [
      "Epoch 161 |>>>>>>>>>| 100% Elapsed Time: 0:00:30 Time:  0:00:30 Training  80.5%\n"
     ]
    },
    {
     "name": "stdout",
     "output_type": "stream",
     "text": [
      "Epoch 161: | Train Loss: 0.28077 | Val Loss: 0.27920 | Train Acc: 86.383| Val Acc: 86.742\n"
     ]
    },
    {
     "name": "stderr",
     "output_type": "stream",
     "text": [
      "Epoch 162 |>>>>>>>>>| 100% Elapsed Time: 0:00:29 Time:  0:00:29 Training  81.0%\n"
     ]
    },
    {
     "name": "stdout",
     "output_type": "stream",
     "text": [
      "Epoch 162: | Train Loss: 0.28101 | Val Loss: 0.27851 | Train Acc: 86.336| Val Acc: 86.713\n"
     ]
    },
    {
     "name": "stderr",
     "output_type": "stream",
     "text": [
      "Epoch 163 |>>>>>>>>>| 100% Elapsed Time: 0:00:29 Time:  0:00:29 Training  81.5%\n"
     ]
    },
    {
     "name": "stdout",
     "output_type": "stream",
     "text": [
      "Epoch 163: | Train Loss: 0.28161 | Val Loss: 0.27883 | Train Acc: 86.280| Val Acc: 86.574\n"
     ]
    },
    {
     "name": "stderr",
     "output_type": "stream",
     "text": [
      "Epoch 164 |>>>>>>>>>| 100% Elapsed Time: 0:00:29 Time:  0:00:29 Training  82.0%\n"
     ]
    },
    {
     "name": "stdout",
     "output_type": "stream",
     "text": [
      "Epoch 164: | Train Loss: 0.28069 | Val Loss: 0.27697 | Train Acc: 86.262| Val Acc: 86.742\n"
     ]
    },
    {
     "name": "stderr",
     "output_type": "stream",
     "text": [
      "Epoch 165 |>>>>>>>>>| 100% Elapsed Time: 0:00:31 Time:  0:00:31 Training  82.5%\n"
     ]
    },
    {
     "name": "stdout",
     "output_type": "stream",
     "text": [
      "Epoch 165: | Train Loss: 0.28265 | Val Loss: 0.27938 | Train Acc: 86.243| Val Acc: 86.370\n"
     ]
    },
    {
     "name": "stderr",
     "output_type": "stream",
     "text": [
      "Epoch 166 |>>>>>>>>>| 100% Elapsed Time: 0:00:31 Time:  0:00:31 Training  83.0%\n"
     ]
    },
    {
     "name": "stdout",
     "output_type": "stream",
     "text": [
      "Epoch 166: | Train Loss: 0.28057 | Val Loss: 0.28704 | Train Acc: 86.364| Val Acc: 86.149\n"
     ]
    },
    {
     "name": "stderr",
     "output_type": "stream",
     "text": [
      "Epoch 167 |>>>>>>>>>| 100% Elapsed Time: 0:00:31 Time:  0:00:31 Training  83.5%\n"
     ]
    },
    {
     "name": "stdout",
     "output_type": "stream",
     "text": [
      "Epoch 167: | Train Loss: 0.28089 | Val Loss: 0.28233 | Train Acc: 86.266| Val Acc: 86.365\n"
     ]
    },
    {
     "name": "stderr",
     "output_type": "stream",
     "text": [
      "Epoch 168 |>>>>>>>>>| 100% Elapsed Time: 0:00:30 Time:  0:00:30 Training  84.0%\n"
     ]
    },
    {
     "name": "stdout",
     "output_type": "stream",
     "text": [
      "Epoch 168: | Train Loss: 0.27944 | Val Loss: 0.27782 | Train Acc: 86.299| Val Acc: 86.623\n"
     ]
    },
    {
     "name": "stderr",
     "output_type": "stream",
     "text": [
      "Epoch 169 |>>>>>>>>>| 100% Elapsed Time: 0:00:30 Time:  0:00:30 Training  84.5%\n"
     ]
    },
    {
     "name": "stdout",
     "output_type": "stream",
     "text": [
      "Epoch 169: | Train Loss: 0.28168 | Val Loss: 0.27981 | Train Acc: 86.308| Val Acc: 86.705\n"
     ]
    },
    {
     "name": "stderr",
     "output_type": "stream",
     "text": [
      "Epoch 170 |>>>>>>>>>| 100% Elapsed Time: 0:00:30 Time:  0:00:30 Training  85.0%\n"
     ]
    },
    {
     "name": "stdout",
     "output_type": "stream",
     "text": [
      "Epoch 170: | Train Loss: 0.28022 | Val Loss: 0.27646 | Train Acc: 86.383| Val Acc: 86.930\n"
     ]
    },
    {
     "name": "stderr",
     "output_type": "stream",
     "text": [
      "Epoch 171 |>>>>>>>>>| 100% Elapsed Time: 0:00:30 Time:  0:00:30 Training  85.5%\n"
     ]
    },
    {
     "name": "stdout",
     "output_type": "stream",
     "text": [
      "Epoch 171: | Train Loss: 0.28238 | Val Loss: 0.27975 | Train Acc: 86.304| Val Acc: 86.721\n"
     ]
    },
    {
     "name": "stderr",
     "output_type": "stream",
     "text": [
      "Epoch 172 |>>>>>>>>>| 100% Elapsed Time: 0:00:31 Time:  0:00:31 Training  86.0%\n"
     ]
    },
    {
     "name": "stdout",
     "output_type": "stream",
     "text": [
      "Epoch 172: | Train Loss: 0.28205 | Val Loss: 0.27920 | Train Acc: 86.238| Val Acc: 86.611\n"
     ]
    },
    {
     "name": "stderr",
     "output_type": "stream",
     "text": [
      "Epoch 173 |>>>>>>>>>| 100% Elapsed Time: 0:00:33 Time:  0:00:33 Training  86.5%\n"
     ]
    },
    {
     "name": "stdout",
     "output_type": "stream",
     "text": [
      "Epoch 173: | Train Loss: 0.28102 | Val Loss: 0.28451 | Train Acc: 86.407| Val Acc: 86.161\n"
     ]
    },
    {
     "name": "stderr",
     "output_type": "stream",
     "text": [
      "Epoch 174 |>>>>>>>>>| 100% Elapsed Time: 0:00:34 Time:  0:00:34 Training  87.0%\n"
     ]
    },
    {
     "name": "stdout",
     "output_type": "stream",
     "text": [
      "Epoch 174: | Train Loss: 0.28150 | Val Loss: 0.27674 | Train Acc: 86.266| Val Acc: 86.881\n"
     ]
    },
    {
     "name": "stderr",
     "output_type": "stream",
     "text": [
      "Epoch 175 |>>>>>>>>>| 100% Elapsed Time: 0:00:34 Time:  0:00:34 Training  87.5%\n"
     ]
    },
    {
     "name": "stdout",
     "output_type": "stream",
     "text": [
      "Epoch 175: | Train Loss: 0.28286 | Val Loss: 0.27820 | Train Acc: 86.150| Val Acc: 86.713\n"
     ]
    },
    {
     "name": "stderr",
     "output_type": "stream",
     "text": [
      "Epoch 176 |>>>>>>>>>| 100% Elapsed Time: 0:00:32 Time:  0:00:32 Training  88.0%\n"
     ]
    },
    {
     "name": "stdout",
     "output_type": "stream",
     "text": [
      "Epoch 176: | Train Loss: 0.28031 | Val Loss: 0.27708 | Train Acc: 86.355| Val Acc: 86.496\n"
     ]
    },
    {
     "name": "stderr",
     "output_type": "stream",
     "text": [
      "Epoch 177 |>>>>>>>>>| 100% Elapsed Time: 0:00:30 Time:  0:00:30 Training  88.5%\n"
     ]
    },
    {
     "name": "stdout",
     "output_type": "stream",
     "text": [
      "Epoch 177: | Train Loss: 0.28046 | Val Loss: 0.28025 | Train Acc: 86.364| Val Acc: 86.607\n"
     ]
    },
    {
     "name": "stderr",
     "output_type": "stream",
     "text": [
      "Epoch 178 |>>>>>>>>>| 100% Elapsed Time: 0:00:29 Time:  0:00:29 Training  89.0%\n"
     ]
    },
    {
     "name": "stdout",
     "output_type": "stream",
     "text": [
      "Epoch 178: | Train Loss: 0.28183 | Val Loss: 0.27961 | Train Acc: 86.383| Val Acc: 86.860\n"
     ]
    },
    {
     "name": "stderr",
     "output_type": "stream",
     "text": [
      "Epoch 179 |>>>>>>>>>| 100% Elapsed Time: 0:00:30 Time:  0:00:30 Training  89.5%\n"
     ]
    },
    {
     "name": "stdout",
     "output_type": "stream",
     "text": [
      "Epoch 179: | Train Loss: 0.27963 | Val Loss: 0.27933 | Train Acc: 86.472| Val Acc: 86.545\n"
     ]
    },
    {
     "name": "stderr",
     "output_type": "stream",
     "text": [
      "Epoch 180 |>>>>>>>>>| 100% Elapsed Time: 0:00:30 Time:  0:00:30 Training  90.0%\n"
     ]
    },
    {
     "name": "stdout",
     "output_type": "stream",
     "text": [
      "Epoch 180: | Train Loss: 0.27981 | Val Loss: 0.27919 | Train Acc: 86.425| Val Acc: 86.680\n"
     ]
    },
    {
     "name": "stderr",
     "output_type": "stream",
     "text": [
      "Epoch 181 |>>>>>>>>>| 100% Elapsed Time: 0:00:31 Time:  0:00:31 Training  90.5%\n"
     ]
    },
    {
     "name": "stdout",
     "output_type": "stream",
     "text": [
      "Epoch 181: | Train Loss: 0.27985 | Val Loss: 0.28782 | Train Acc: 86.388| Val Acc: 85.977\n"
     ]
    },
    {
     "name": "stderr",
     "output_type": "stream",
     "text": [
      "Epoch 182 |>>>>>>>>>| 100% Elapsed Time: 0:00:30 Time:  0:00:30 Training  91.0%\n"
     ]
    },
    {
     "name": "stdout",
     "output_type": "stream",
     "text": [
      "Epoch 182: | Train Loss: 0.27970 | Val Loss: 0.27887 | Train Acc: 86.397| Val Acc: 86.308\n"
     ]
    },
    {
     "name": "stderr",
     "output_type": "stream",
     "text": [
      "Epoch 183 |>>>>>>>>>| 100% Elapsed Time: 0:00:31 Time:  0:00:31 Training  91.5%\n"
     ]
    },
    {
     "name": "stdout",
     "output_type": "stream",
     "text": [
      "Epoch 183: | Train Loss: 0.28071 | Val Loss: 0.27641 | Train Acc: 86.364| Val Acc: 86.807\n"
     ]
    },
    {
     "name": "stderr",
     "output_type": "stream",
     "text": [
      "Epoch 184 |>>>>>>>>>| 100% Elapsed Time: 0:00:30 Time:  0:00:30 Training  92.0%\n"
     ]
    },
    {
     "name": "stdout",
     "output_type": "stream",
     "text": [
      "Epoch 184: | Train Loss: 0.28193 | Val Loss: 0.28090 | Train Acc: 86.322| Val Acc: 86.394\n"
     ]
    },
    {
     "name": "stderr",
     "output_type": "stream",
     "text": [
      "Epoch 185 |>>>>>>>>>| 100% Elapsed Time: 0:00:30 Time:  0:00:30 Training  92.5%\n"
     ]
    },
    {
     "name": "stdout",
     "output_type": "stream",
     "text": [
      "Epoch 185: | Train Loss: 0.27823 | Val Loss: 0.27916 | Train Acc: 86.523| Val Acc: 86.648\n"
     ]
    },
    {
     "name": "stderr",
     "output_type": "stream",
     "text": [
      "Epoch 186 |>>>>>>>>>| 100% Elapsed Time: 0:00:31 Time:  0:00:31 Training  93.0%\n"
     ]
    },
    {
     "name": "stdout",
     "output_type": "stream",
     "text": [
      "Epoch 186: | Train Loss: 0.27930 | Val Loss: 0.27684 | Train Acc: 86.374| Val Acc: 86.787\n"
     ]
    },
    {
     "name": "stderr",
     "output_type": "stream",
     "text": [
      "Epoch 187 |>>>>>>>>>| 100% Elapsed Time: 0:00:30 Time:  0:00:30 Training  93.5%\n"
     ]
    },
    {
     "name": "stdout",
     "output_type": "stream",
     "text": [
      "Epoch 187: | Train Loss: 0.27927 | Val Loss: 0.27812 | Train Acc: 86.495| Val Acc: 86.545\n"
     ]
    },
    {
     "name": "stderr",
     "output_type": "stream",
     "text": [
      "Epoch 188 |>>>>>>>>>| 100% Elapsed Time: 0:00:31 Time:  0:00:31 Training  94.0%\n"
     ]
    },
    {
     "name": "stdout",
     "output_type": "stream",
     "text": [
      "Epoch 188: | Train Loss: 0.27730 | Val Loss: 0.27475 | Train Acc: 86.551| Val Acc: 86.852\n"
     ]
    },
    {
     "name": "stderr",
     "output_type": "stream",
     "text": [
      "Epoch 189 |>>>>>>>>>| 100% Elapsed Time: 0:00:31 Time:  0:00:31 Training  94.5%\n"
     ]
    },
    {
     "name": "stdout",
     "output_type": "stream",
     "text": [
      "Epoch 189: | Train Loss: 0.28160 | Val Loss: 0.27801 | Train Acc: 86.397| Val Acc: 86.648\n"
     ]
    },
    {
     "name": "stderr",
     "output_type": "stream",
     "text": [
      "Epoch 190 |>>>>>>>>>| 100% Elapsed Time: 0:00:30 Time:  0:00:30 Training  95.0%\n"
     ]
    },
    {
     "name": "stdout",
     "output_type": "stream",
     "text": [
      "Epoch 190: | Train Loss: 0.27890 | Val Loss: 0.28142 | Train Acc: 86.467| Val Acc: 86.222\n"
     ]
    },
    {
     "name": "stderr",
     "output_type": "stream",
     "text": [
      "Epoch 191 |>>>>>>>>>| 100% Elapsed Time: 0:00:31 Time:  0:00:31 Training  95.5%\n"
     ]
    },
    {
     "name": "stdout",
     "output_type": "stream",
     "text": [
      "Epoch 191: | Train Loss: 0.27866 | Val Loss: 0.28072 | Train Acc: 86.505| Val Acc: 86.570\n"
     ]
    },
    {
     "name": "stderr",
     "output_type": "stream",
     "text": [
      "Epoch 192 |>>>>>>>>>| 100% Elapsed Time: 0:00:31 Time:  0:00:31 Training  96.0%\n"
     ]
    },
    {
     "name": "stdout",
     "output_type": "stream",
     "text": [
      "Epoch 192: | Train Loss: 0.27832 | Val Loss: 0.27922 | Train Acc: 86.463| Val Acc: 86.652\n"
     ]
    },
    {
     "name": "stderr",
     "output_type": "stream",
     "text": [
      "Epoch 193 |>>>>>>>>>| 100% Elapsed Time: 0:00:32 Time:  0:00:32 Training  96.5%\n"
     ]
    },
    {
     "name": "stdout",
     "output_type": "stream",
     "text": [
      "Epoch 193: | Train Loss: 0.27850 | Val Loss: 0.27629 | Train Acc: 86.519| Val Acc: 86.688\n"
     ]
    },
    {
     "name": "stderr",
     "output_type": "stream",
     "text": [
      "Epoch 194 |>>>>>>>>>| 100% Elapsed Time: 0:00:31 Time:  0:00:31 Training  97.0%\n"
     ]
    },
    {
     "name": "stdout",
     "output_type": "stream",
     "text": [
      "Epoch 194: | Train Loss: 0.28076 | Val Loss: 0.27717 | Train Acc: 86.322| Val Acc: 86.872\n"
     ]
    },
    {
     "name": "stderr",
     "output_type": "stream",
     "text": [
      "Epoch 195 |>>>>>>>>>| 100% Elapsed Time: 0:00:30 Time:  0:00:30 Training  97.5%\n"
     ]
    },
    {
     "name": "stdout",
     "output_type": "stream",
     "text": [
      "Epoch 195: | Train Loss: 0.27791 | Val Loss: 0.27551 | Train Acc: 86.589| Val Acc: 86.729\n"
     ]
    },
    {
     "name": "stderr",
     "output_type": "stream",
     "text": [
      "Epoch 196 |>>>>>>>>>| 100% Elapsed Time: 0:00:30 Time:  0:00:30 Training  98.0%\n"
     ]
    },
    {
     "name": "stdout",
     "output_type": "stream",
     "text": [
      "Epoch 196: | Train Loss: 0.27944 | Val Loss: 0.27968 | Train Acc: 86.407| Val Acc: 86.750\n"
     ]
    },
    {
     "name": "stderr",
     "output_type": "stream",
     "text": [
      "Epoch 197 |>>>>>>>>>| 100% Elapsed Time: 0:00:29 Time:  0:00:29 Training  98.5%\n"
     ]
    },
    {
     "name": "stdout",
     "output_type": "stream",
     "text": [
      "Epoch 197: | Train Loss: 0.27997 | Val Loss: 0.27980 | Train Acc: 86.407| Val Acc: 86.447\n"
     ]
    },
    {
     "name": "stderr",
     "output_type": "stream",
     "text": [
      "Epoch 198 |>>>>>>>>>| 100% Elapsed Time: 0:00:30 Time:  0:00:30 Training  99.0%\n"
     ]
    },
    {
     "name": "stdout",
     "output_type": "stream",
     "text": [
      "Epoch 198: | Train Loss: 0.27909 | Val Loss: 0.27649 | Train Acc: 86.421| Val Acc: 86.709\n"
     ]
    },
    {
     "name": "stderr",
     "output_type": "stream",
     "text": [
      "Epoch 199 |>>>>>>>>>| 100% Elapsed Time: 0:00:30 Time:  0:00:30 Training  99.5%\n"
     ]
    },
    {
     "name": "stdout",
     "output_type": "stream",
     "text": [
      "Epoch 199: | Train Loss: 0.27818 | Val Loss: 0.28413 | Train Acc: 86.575| Val Acc: 85.891\n"
     ]
    },
    {
     "name": "stderr",
     "output_type": "stream",
     "text": [
      "Epoch 200 |>>>>>>>>| 100% Elapsed Time: 0:00:30 Time:  0:00:30 Training  100.0%\n"
     ]
    },
    {
     "name": "stdout",
     "output_type": "stream",
     "text": [
      "Epoch 200: | Train Loss: 0.28126 | Val Loss: 0.27947 | Train Acc: 86.369| Val Acc: 86.586\n"
     ]
    }
   ],
   "source": [
    "print(\"Begin training.\", flush=True ) # , flush=True will solve the issues with progress bar\n",
    "#time.sleep(.5)\n",
    "\"\"\"widgets = ['Test: ', Percentage(), ' ', Bar(marker=RotatingMarker()),\n",
    "           ' ', ETA(), ' ', FileTransferSpeed()]\"\"\"\n",
    "#for e in tqdm(range(1, EPOCHS+1)):\n",
    "for e in range(EPOCHS):\n",
    "    \n",
    "    i = 0\n",
    "    pbar = ProgressBar(widgets=[f'Epoch {e+1}',' ' ,\n",
    "                                Bar('>'), ' ', Percentage(),' ',\n",
    "                                Timer(), ' ' , ETA(),' ',\n",
    "                                f'Training  {(e+1)/(EPOCHS)*100:.1f}%' ],\n",
    "                       maxval= max_barlenght).start()\n",
    "    # TRAINING\n",
    "    train_epoch_loss = 0\n",
    "    train_epoch_acc = 0\n",
    "    \n",
    "    model.train()\n",
    "    for X_train_batch, y_train_batch in train_loader:\n",
    "\n",
    "        X_train_batch, y_train_batch = X_train_batch.to(device), y_train_batch.to(device)\n",
    "        optimizer.zero_grad()\n",
    "        \n",
    "        y_train_pred = model(X_train_batch)\n",
    "        \n",
    "        train_loss = criterion(y_train_pred, y_train_batch)\n",
    "        train_acc = multi_acc(y_train_pred, y_train_batch)\n",
    "        \n",
    "        train_loss.backward()\n",
    "        optimizer.step()\n",
    "        \n",
    "        train_epoch_loss += train_loss.item()\n",
    "        train_epoch_acc += train_acc.item()\n",
    "        \n",
    "        i = i+1\n",
    "        pbar.update(i)\n",
    "        #print(f'X_val_batch {len(X_val_batch)}')\n",
    "        \n",
    "    # VALIDATION    \n",
    "    with torch.no_grad():\n",
    "        \n",
    "        val_epoch_loss = 0\n",
    "        val_epoch_acc = 0\n",
    "       \n",
    "        \n",
    "        model.eval()\n",
    "        for X_val_batch, y_val_batch in val_loader:\n",
    "            \n",
    "            X_val_batch, y_val_batch = X_val_batch.to(device), y_val_batch.to(device)\n",
    "            \n",
    "            y_val_pred = model(X_val_batch)\n",
    "                        \n",
    "            val_loss = criterion(y_val_pred, y_val_batch)\n",
    "            val_acc = multi_acc(y_val_pred, y_val_batch)\n",
    "            \n",
    "            val_epoch_loss += val_loss.item()\n",
    "            val_epoch_acc += val_acc.item()\n",
    "            #print(f' X_val_batch {X_val_batch}')\n",
    "            i = i+1\n",
    "            pbar.update(i)\n",
    "            \n",
    "    pbar.finish()\n",
    "    loss_stats['train'].append(train_epoch_loss/len(train_loader))\n",
    "    loss_stats['val'].append(val_epoch_loss/len(val_loader))\n",
    "    accuracy_stats['train'].append(train_epoch_acc/len(train_loader))\n",
    "    accuracy_stats['val'].append(val_epoch_acc/len(val_loader))\n",
    "                             \n",
    "    #print(f'Epoch { %('='*(60*(e+0:03)/10), (100*(e+0:03)/10))}: | Train Loss: {train_epoch_loss/len(train_loader):.5f} | Val Loss: {val_epoch_loss/len(val_loader):.5f} | Train Acc: {train_epoch_acc/len(train_loader):.3f}| Val Acc: {val_epoch_acc/len(val_loader):.3f}')\n",
    "\n",
    "    print(f'Epoch {e+1}: | Train Loss: {train_epoch_loss/len(train_loader):.5f} | Val Loss: {val_epoch_loss/len(val_loader):.5f} | Train Acc: {train_epoch_acc/len(train_loader):.3f}| Val Acc: {val_epoch_acc/len(val_loader):.3f}', flush=True )\n",
    "    #time.sleep(.5)"
   ]
  },
  {
   "cell_type": "code",
   "execution_count": 36,
   "id": "significant-scout",
   "metadata": {},
   "outputs": [
    {
     "data": {
      "text/plain": [
       "Text(0.5, 1.0, 'Train-Val Loss/Epoch')"
      ]
     },
     "execution_count": 36,
     "metadata": {},
     "output_type": "execute_result"
    },
    {
     "data": {
      "image/png": "[encoded data removed]",
      "text/plain": [
       "<Figure size 1440x504 with 2 Axes>"
      ]
     },
     "metadata": {
      "needs_background": "light"
     },
     "output_type": "display_data"
    }
   ],
   "source": [
    "# Create dataframes\n",
    "train_val_acc_df = pd.DataFrame.from_dict(accuracy_stats).reset_index().melt(id_vars=['index']).rename(columns={\"index\":\"epochs\"})\n",
    "\n",
    "train_val_loss_df = pd.DataFrame.from_dict(loss_stats).reset_index().melt(id_vars=['index']).rename(columns={\"index\":\"epochs\"})\n",
    "\n",
    "# Plot the dataframes\n",
    "fig, axes = plt.subplots(nrows=1, ncols=2, figsize=(20,7))\n",
    "\n",
    "sns.lineplot(data=train_val_acc_df, x = \"epochs\", y=\"value\", hue=\"variable\",  ax=axes[0]).set_title('Train-Val Accuracy/Epoch')\n",
    "\n",
    "sns.lineplot(data=train_val_loss_df, x = \"epochs\", y=\"value\", hue=\"variable\", ax=axes[1]).set_title('Train-Val Loss/Epoch')\n"
   ]
  },
  {
   "cell_type": "code",
   "execution_count": 37,
   "id": "automatic-glucose",
   "metadata": {},
   "outputs": [
    {
     "data": {
      "image/png": "[encoded data removed]",
      "text/plain": [
       "<Figure size 1080x576 with 1 Axes>"
      ]
     },
     "metadata": {
      "needs_background": "light"
     },
     "output_type": "display_data"
    }
   ],
   "source": [
    "sns.lineplot(data=train_val_acc_df, x = \"epochs\", y=\"value\", hue=\"variable\")\n",
    "\n",
    "plt.title('Train-Val Accuracy/Epoch')\n",
    "\n",
    "#,  ax=axes[0]).set_title('Train-Val Accuracy/Epoch'\n",
    "\n",
    "\n",
    "plt.savefig(figuredir + \"Train-Val Accuracy_Epoch.png\", bbox_inches='tight', dpi=600)\n",
    "plt.show()"
   ]
  },
  {
   "cell_type": "code",
   "execution_count": 38,
   "id": "declared-jurisdiction",
   "metadata": {},
   "outputs": [
    {
     "data": {
      "image/png": "[encoded data removed]",
      "text/plain": [
       "<Figure size 1080x576 with 1 Axes>"
      ]
     },
     "metadata": {
      "needs_background": "light"
     },
     "output_type": "display_data"
    }
   ],
   "source": [
    "sns.lineplot(data=train_val_loss_df, x = \"epochs\", y=\"value\", hue=\"variable\")\n",
    "\n",
    "plt.title('Train-Val Loss/Epoch')\n",
    "\n",
    "#,  ax=axes[0]).set_title('Train-Val Accuracy/Epoch'\n",
    "\n",
    "\n",
    "plt.savefig(figuredir + \"Train-Val Loss_Epoch.png\", bbox_inches='tight', dpi=600)\n",
    "plt.show()"
   ]
  },
  {
   "cell_type": "code",
   "execution_count": 39,
   "id": "extra-qatar",
   "metadata": {},
   "outputs": [],
   "source": [
    "y_pred_list = []\n",
    "\n",
    "with torch.no_grad():\n",
    "    model.eval()\n",
    "    for X_batch, _ in test_loader:\n",
    "        X_batch = X_batch.to(device)\n",
    "        y_test_pred = model(X_batch)\n",
    "        _, y_pred_tags = torch.max(y_test_pred, dim = 1)\n",
    "        y_pred_list.append(y_pred_tags.cpu().numpy())\n",
    "        \n",
    "y_pred_list = [a.squeeze().tolist() for a in y_pred_list]"
   ]
  },
  {
   "cell_type": "code",
   "execution_count": 40,
   "id": "weighted-republican",
   "metadata": {},
   "outputs": [
    {
     "data": {
      "text/plain": [
       "<AxesSubplot:>"
      ]
     },
     "execution_count": 40,
     "metadata": {},
     "output_type": "execute_result"
    },
    {
     "data": {
      "image/png": "[encoded data removed]",
      "text/plain": [
       "<Figure size 1080x576 with 2 Axes>"
      ]
     },
     "metadata": {
      "needs_background": "light"
     },
     "output_type": "display_data"
    }
   ],
   "source": [
    "confusion_matrix_df = pd.DataFrame(confusion_matrix(y_test, y_pred_list)).rename(columns=idx2class, index=idx2class)\n",
    "sns.heatmap(confusion_matrix_df, annot=True)"
   ]
  },
  {
   "cell_type": "code",
   "execution_count": 41,
   "id": "subsequent-specification",
   "metadata": {},
   "outputs": [
    {
     "name": "stdout",
     "output_type": "stream",
     "text": [
      "            Ball  InnerCage  OuterCage\n",
      "Ball       14333          0       6050\n",
      "InnerCage      0      20378          6\n",
      "OuterCage   1980          0      18404\n"
     ]
    }
   ],
   "source": [
    "print(confusion_matrix_df)"
   ]
  },
  {
   "cell_type": "code",
   "execution_count": 42,
   "id": "conventional-cause",
   "metadata": {},
   "outputs": [
    {
     "data": {
      "image/png": "[encoded data removed]",
      "text/plain": [
       "<Figure size 1080x576 with 2 Axes>"
      ]
     },
     "metadata": {
      "needs_background": "light"
     },
     "output_type": "display_data"
    }
   ],
   "source": [
    "sns.heatmap(confusion_matrix_df/np.sum(confusion_matrix_df), annot=True, \n",
    "            fmt='.2%', cmap='Blues')\n",
    "plt.title('Confusion Matrix')\n",
    "\n",
    "#,  ax=axes[0]).set_title('Train-Val Accuracy/Epoch'\n",
    "\n",
    "\n",
    "plt.savefig(figuredir + \"confusion_matrix1.png\", bbox_inches='tight', dpi=600)\n",
    "plt.show()\n"
   ]
  },
  {
   "cell_type": "code",
   "execution_count": 43,
   "id": "satellite-brooklyn",
   "metadata": {},
   "outputs": [
    {
     "name": "stdout",
     "output_type": "stream",
     "text": [
      "              precision    recall  f1-score   support\n",
      "\n",
      "   OuterCage       0.88      0.70      0.78     20383\n",
      "   InnerCage       1.00      1.00      1.00     20384\n",
      "        Ball       0.75      0.90      0.82     20384\n",
      "\n",
      "    accuracy                           0.87     61151\n",
      "   macro avg       0.88      0.87      0.87     61151\n",
      "weighted avg       0.88      0.87      0.87     61151\n",
      "\n"
     ]
    }
   ],
   "source": [
    "target_names = { k for k, v in class2idx.items()}\n",
    "f1score = classification_report(y_test, y_pred_list, target_names=target_names)\n",
    "print(f1score)"
   ]
  }
 ],
 "metadata": {
  "kernelspec": {
   "display_name": "Python 3",
   "language": "python",
   "name": "python3"
  },
  "language_info": {
   "codemirror_mode": {
    "name": "ipython",
    "version": 3
   },
   "file_extension": ".py",
   "mimetype": "text/x-python",
   "name": "python",
   "nbconvert_exporter": "python",
   "pygments_lexer": "ipython3",
   "version": "3.8.10"
  },
  "toc": {
   "base_numbering": 1,
   "nav_menu": {},
   "number_sections": true,
   "sideBar": true,
   "skip_h1_title": false,
   "title_cell": "Table of Contents",
   "title_sidebar": "Contents",
   "toc_cell": false,
   "toc_position": {},
   "toc_section_display": true,
   "toc_window_display": false
  }
 },
 "nbformat": 4,
 "nbformat_minor": 5
}
